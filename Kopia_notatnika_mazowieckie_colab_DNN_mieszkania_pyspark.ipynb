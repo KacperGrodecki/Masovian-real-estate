{
  "nbformat": 4,
  "nbformat_minor": 0,
  "metadata": {
    "colab": {
      "name": "Kopia notatnika mazowieckie_colab_DNN_mieszkania_pyspark.ipynb",
      "provenance": [],
      "collapsed_sections": [],
      "authorship_tag": "ABX9TyNbT/r8/EgmX/Qm8lhwXG9V",
      "include_colab_link": true
    },
    "kernelspec": {
      "name": "python3",
      "display_name": "Python 3"
    },
    "language_info": {
      "name": "python"
    },
    "accelerator": "GPU"
  },
  "cells": [
    {
      "cell_type": "markdown",
      "metadata": {
        "id": "view-in-github",
        "colab_type": "text"
      },
      "source": [
        "<a href=\"https://colab.research.google.com/github/KacperGrodecki/nieruchomosci-mazowieckie/blob/0.0.4/Kopia_notatnika_mazowieckie_colab_DNN_mieszkania_pyspark.ipynb\" target=\"_parent\"><img src=\"https://colab.research.google.com/assets/colab-badge.svg\" alt=\"Open In Colab\"/></a>"
      ]
    },
    {
      "cell_type": "code",
      "metadata": {
        "id": "DoyxUX4T7Yoj",
        "colab": {
          "base_uri": "https://localhost:8080/"
        },
        "outputId": "781865c7-fffa-4dd5-bea3-4e85121187b5"
      },
      "source": [
        "from sklearn.metrics import confusion_matrix\n",
        "from sklearn import svm\n",
        "import pandas as pd\n",
        "import numpy as np\n",
        "np.random.seed(7)\n",
        "from google.colab import drive\n",
        "import seaborn as sns\n",
        "drive.mount('/content/drive')\n",
        "import matplotlib.pyplot as plt\n",
        "import pandas as pd\n",
        "#from otoDomScraper import daneDomu\n",
        "#from random import randrange\n",
        "import numpy as np\n",
        "from sklearn.ensemble import RandomForestRegressor\n",
        "import matplotlib.pyplot as plt\n",
        "import seaborn as sns\n",
        "import re\n",
        "from sklearn.model_selection import GridSearchCV\n",
        "from sklearn.model_selection import train_test_split\n",
        "import statistics\n",
        "from sklearn.cluster import AffinityPropagation\n",
        "from sklearn.model_selection import cross_val_score, cross_val_predict\n",
        "from sklearn.decomposition import FastICA\n",
        "from sklearn import preprocessing\n",
        "from IPython.display import Javascript\n",
        "import requests\n",
        "from collections import OrderedDict\n",
        "import seaborn as sns\n",
        "import os\n",
        "import ipywidgets as widgets"
      ],
      "execution_count": 29,
      "outputs": [
        {
          "output_type": "stream",
          "name": "stdout",
          "text": [
            "Drive already mounted at /content/drive; to attempt to forcibly remount, call drive.mount(\"/content/drive\", force_remount=True).\n"
          ]
        }
      ]
    },
    {
      "cell_type": "code",
      "metadata": {
        "id": "ltyQbEQQl4Rj"
      },
      "source": [
        "!apt-get install openjdk-8-jdk-headless -qq > /dev/null"
      ],
      "execution_count": 30,
      "outputs": []
    },
    {
      "cell_type": "code",
      "metadata": {
        "id": "yVcTv4v-mBNw"
      },
      "source": [
        "!wget -q https://dlcdn.apache.org/spark/spark-3.1.2/spark-3.1.2-bin-hadoop3.2.tgz"
      ],
      "execution_count": 31,
      "outputs": []
    },
    {
      "cell_type": "code",
      "metadata": {
        "id": "MEu62hMgmfqn"
      },
      "source": [
        "!tar xf spark-3.1.2-bin-hadoop3.2.tgz"
      ],
      "execution_count": 32,
      "outputs": []
    },
    {
      "cell_type": "code",
      "metadata": {
        "id": "F_i26VG-moxJ"
      },
      "source": [
        "!pip install -q findspark"
      ],
      "execution_count": 33,
      "outputs": []
    },
    {
      "cell_type": "code",
      "metadata": {
        "id": "M_jbyzGfmsUx"
      },
      "source": [
        "import os\n",
        "os.environ[\"JAVA_HOME\"] = \"/usr/lib/jvm/java-8-openjdk-amd64\"\n",
        "os.environ[\"SPARK_HOME\"] = \"/content/spark-3.1.2-bin-hadoop3.2\""
      ],
      "execution_count": 34,
      "outputs": []
    },
    {
      "cell_type": "code",
      "metadata": {
        "id": "gyiPvfDvmz5s"
      },
      "source": [
        "import findspark\n",
        "findspark.init()"
      ],
      "execution_count": 35,
      "outputs": []
    },
    {
      "cell_type": "code",
      "metadata": {
        "colab": {
          "base_uri": "https://localhost:8080/",
          "height": 36
        },
        "id": "ieA-xGVnm2vq",
        "outputId": "7a00f130-8f4e-4d6a-ca88-7bb6e8baaba3"
      },
      "source": [
        "findspark.find()"
      ],
      "execution_count": 36,
      "outputs": [
        {
          "output_type": "execute_result",
          "data": {
            "application/vnd.google.colaboratory.intrinsic+json": {
              "type": "string"
            },
            "text/plain": [
              "'/content/spark-3.1.2-bin-hadoop3.2'"
            ]
          },
          "metadata": {},
          "execution_count": 36
        }
      ]
    },
    {
      "cell_type": "code",
      "metadata": {
        "id": "-bmKsvfkm7MC"
      },
      "source": [
        "from pyspark.sql import SparkSession\n",
        "\n",
        "spark = SparkSession.builder\\\n",
        "        .master(\"local\")\\\n",
        "        .appName(\"Colab\")\\\n",
        "        .config('spark.ui.port', '4050')\\\n",
        "        .getOrCreate()"
      ],
      "execution_count": 37,
      "outputs": []
    },
    {
      "cell_type": "code",
      "metadata": {
        "colab": {
          "base_uri": "https://localhost:8080/",
          "height": 222
        },
        "id": "MqY9cWLZm_f6",
        "outputId": "aeaeaad9-68ca-405f-f7b8-f969e5885355"
      },
      "source": [
        "spark"
      ],
      "execution_count": 38,
      "outputs": [
        {
          "output_type": "execute_result",
          "data": {
            "text/html": [
              "\n",
              "            <div>\n",
              "                <p><b>SparkSession - in-memory</b></p>\n",
              "                \n",
              "        <div>\n",
              "            <p><b>SparkContext</b></p>\n",
              "\n",
              "            <p><a href=\"http://aa89b7d873a1:4050\">Spark UI</a></p>\n",
              "\n",
              "            <dl>\n",
              "              <dt>Version</dt>\n",
              "                <dd><code>v3.1.2</code></dd>\n",
              "              <dt>Master</dt>\n",
              "                <dd><code>local</code></dd>\n",
              "              <dt>AppName</dt>\n",
              "                <dd><code>Colab</code></dd>\n",
              "            </dl>\n",
              "        </div>\n",
              "        \n",
              "            </div>\n",
              "        "
            ],
            "text/plain": [
              "<pyspark.sql.session.SparkSession at 0x7f57ddff5dd0>"
            ]
          },
          "metadata": {},
          "execution_count": 38
        }
      ]
    },
    {
      "cell_type": "code",
      "metadata": {
        "colab": {
          "base_uri": "https://localhost:8080/"
        },
        "id": "j-WNPMRQoD9E",
        "outputId": "b27113dc-87ec-4233-fdee-7d38267983c0"
      },
      "source": [
        "!wget https://bin.equinox.io/c/4VmDzA7iaHb/ngrok-stable-linux-amd64.zip\n",
        "!unzip ngrok-stable-linux-amd64.zip\n",
        "get_ipython().system_raw('./ngrok http 4050 &')"
      ],
      "execution_count": 39,
      "outputs": [
        {
          "output_type": "stream",
          "name": "stdout",
          "text": [
            "--2021-10-04 10:14:00--  https://bin.equinox.io/c/4VmDzA7iaHb/ngrok-stable-linux-amd64.zip\n",
            "Resolving bin.equinox.io (bin.equinox.io)... 18.205.222.128, 54.237.133.81, 52.202.168.65, ...\n",
            "Connecting to bin.equinox.io (bin.equinox.io)|18.205.222.128|:443... connected.\n",
            "HTTP request sent, awaiting response... 200 OK\n",
            "Length: 13832437 (13M) [application/octet-stream]\n",
            "Saving to: ‘ngrok-stable-linux-amd64.zip.1’\n",
            "\n",
            "ngrok-stable-linux- 100%[===================>]  13.19M  35.5MB/s    in 0.4s    \n",
            "\n",
            "2021-10-04 10:14:00 (35.5 MB/s) - ‘ngrok-stable-linux-amd64.zip.1’ saved [13832437/13832437]\n",
            "\n",
            "Archive:  ngrok-stable-linux-amd64.zip\n",
            "replace ngrok? [y]es, [n]o, [A]ll, [N]one, [r]ename: y\n",
            "  inflating: ngrok                   \n"
          ]
        }
      ]
    },
    {
      "cell_type": "code",
      "metadata": {
        "colab": {
          "base_uri": "https://localhost:8080/"
        },
        "id": "R2yEYotJoKhT",
        "outputId": "1eb3892b-41a1-4d2b-f4d9-880919a9905a"
      },
      "source": [
        "!curl -s http://localhost:4040/api/tunnels"
      ],
      "execution_count": 40,
      "outputs": [
        {
          "output_type": "stream",
          "name": "stdout",
          "text": [
            "{\"tunnels\":[{\"name\":\"command_line\",\"uri\":\"/api/tunnels/command_line\",\"public_url\":\"https://0017-35-202-42-127.ngrok.io\",\"proto\":\"https\",\"config\":{\"addr\":\"http://localhost:4050\",\"inspect\":true},\"metrics\":{\"conns\":{\"count\":0,\"gauge\":0,\"rate1\":0,\"rate5\":0,\"rate15\":0,\"p50\":0,\"p90\":0,\"p95\":0,\"p99\":0},\"http\":{\"count\":0,\"rate1\":0,\"rate5\":0,\"rate15\":0,\"p50\":0,\"p90\":0,\"p95\":0,\"p99\":0}}},{\"name\":\"command_line (http)\",\"uri\":\"/api/tunnels/command_line%20%28http%29\",\"public_url\":\"http://0017-35-202-42-127.ngrok.io\",\"proto\":\"http\",\"config\":{\"addr\":\"http://localhost:4050\",\"inspect\":true},\"metrics\":{\"conns\":{\"count\":0,\"gauge\":0,\"rate1\":0,\"rate5\":0,\"rate15\":0,\"p50\":0,\"p90\":0,\"p95\":0,\"p99\":0},\"http\":{\"count\":0,\"rate1\":0,\"rate5\":0,\"rate15\":0,\"p50\":0,\"p90\":0,\"p95\":0,\"p99\":0}}}],\"uri\":\"/api/tunnels\"}\n"
          ]
        }
      ]
    },
    {
      "cell_type": "code",
      "metadata": {
        "id": "Wy925Vons1Y8"
      },
      "source": [
        "from pyspark.sql.functions import udf"
      ],
      "execution_count": 41,
      "outputs": []
    },
    {
      "cell_type": "code",
      "metadata": {
        "id": "G0g5Z3J9q9cr"
      },
      "source": [
        "def locCities(cityData):\n",
        "  locationCities=[]\n",
        "  for data in cityData:\n",
        "    locationCities.append(data)\n",
        "  locationCities=pd.DataFrame(np.array(locationCities),columns=['cityX','cityY','cityGeo'])\n",
        "  return locationCities\n",
        "\n",
        "def locDistricts(districtsData):\n",
        "  locationCities=[]\n",
        "  for data in cityData:\n",
        "    locationDistricts.append(data)\n",
        "  locationDistricts=pd.DataFrame(np.array(locationDistricts),columns=['cityX','cityY','cityGeo'])\n",
        "  return locationDistricts\n",
        "\n",
        "def locCounties(countyData):\n",
        "  locationCounty=[]\n",
        "  for data in countyData:\n",
        "    locationCounty.append(data)\n",
        "  locationCounty=pd.DataFrame(np.array(locationCounty),columns=['countyX','countyY','countyGeo'])\n",
        "  return locationCounty"
      ],
      "execution_count": 42,
      "outputs": []
    },
    {
      "cell_type": "code",
      "metadata": {
        "id": "7NB0JTR7rAkB"
      },
      "source": [
        "def selectLocationX(x):\n",
        " # print(x[17],x[20],x[23])\n",
        "  if x[2]<min(x[5],x[8]):\n",
        "    #print('min 17',x[15],x[16])\n",
        "    return x[0]\n",
        "  elif x[5]<min(x[2],x[8]):\n",
        "    #print('min 20 ',x[18],x[19])\n",
        "    return x[3]\n",
        "  elif x[8]<min(x[2],x[5]):\n",
        "    #print('min 23 ',x[21],x[22])\n",
        "    return x[6]\n",
        "\n",
        "def selectLocationY(x):\n",
        " # print(x[17],x[20],x[23])\n",
        "  if x[2]<min(x[5],x[8]):\n",
        "    #print('min 17',x[15],x[16])\n",
        "    return x[1]\n",
        "  elif x[5]<min(x[2],x[8]):\n",
        "    #print('min 20 ',x[18],x[19])\n",
        "    return x[4]\n",
        "  elif x[8]<min(x[2],x[5]):\n",
        "    #print('min 23 ',x[21],x[22])\n",
        "    return x[7]"
      ],
      "execution_count": 43,
      "outputs": []
    },
    {
      "cell_type": "code",
      "metadata": {
        "id": "SN8eAxzVo5Ai"
      },
      "source": [
        "from pyspark.sql.types import StructType, StructField, IntegerType,StringType,FloatType"
      ],
      "execution_count": 44,
      "outputs": []
    },
    {
      "cell_type": "code",
      "metadata": {
        "id": "LSoVW51euuF1"
      },
      "source": [
        "def toNum2(txt):\n",
        "    if type(txt) is int:\n",
        "        return txt\n",
        "    elif (type(txt) is str):\n",
        "        digs = re.findall(r'\\d+', txt)\n",
        "        if len(digs) == 1:\n",
        "            return int(digs[0])\n",
        "        elif len(digs) == 2:\n",
        "            return 1000 * int(digs[0]) + int(digs[1])\n",
        "        elif len(digs) == 3:\n",
        "            return 1000000 * int(digs[0]) + 1000 * int(digs[1]) + int(digs[0])\n",
        "\n",
        "    #   return int(digs)\n",
        "\n",
        "udf_toNum2 = udf(toNum2, IntegerType())\n",
        "\n",
        "\n",
        "def toNum1(txt):\n",
        "    print(txt)\n",
        "    if type(txt) is str:\n",
        "        digs = re.findall(r'\\d+', txt)\n",
        "        if len(digs) == 1:\n",
        "            return int(digs[0])\n",
        "        elif len(digs) == 2 and (txt[1] != ' '):\n",
        "            return int(digs[0]) + 0.01 * int(digs[1])\n",
        "        elif len(digs) == 3:\n",
        "            return 1000 * int(digs[0]) + int(digs[1]) + 0.001 * int(digs[2])\n",
        "        elif (type(txt) is str) and (txt[1] == ' '):\n",
        "            digs = re.findall(r'\\d+', txt)\n",
        "            return 1000 * int(digs[0]) + int(digs[1])\n",
        "    else:\n",
        "        return txt\n",
        "\n",
        "udf_toNum1 = udf(toNum1, IntegerType())\n",
        "\n",
        "\n",
        "def toNum3(txt):\n",
        "    if type(txt) == int:\n",
        "        return txt\n",
        "    elif type(txt) == float:\n",
        "      if np.isnan(txt):\n",
        "        return 0\n",
        "      else:\n",
        "        return int(txt)\n",
        "\n",
        "    return int(re.findall(r'\\d+', txt)[0])\n",
        "\n",
        "udf_toNum3 = udf(toNum3, IntegerType())\n",
        "\n",
        "def pietra(txt):\n",
        "    if type(txt) is str:\n",
        "        if '0' in txt:\n",
        "            return 0\n",
        "        if '1' in txt:\n",
        "            return 1\n",
        "        elif '2' in txt:\n",
        "            return 2\n",
        "        elif '3' in txt:\n",
        "            return 3\n",
        "        elif 'parterowy' in txt:\n",
        "            return 0\n",
        "    elif type(txt)==float:\n",
        "      if np.isnan(txt):\n",
        "        return 0\n",
        "      else:\n",
        "        return int(txt)\n",
        "    elif type(txt)==int:\n",
        "      return txt\n",
        "    else:\n",
        "      return txt\n",
        "\n",
        "udf_pietra = udf(pietra, IntegerType())      \n",
        "\n",
        "def cities(x):\n",
        "    dist=x.split()[4]\n",
        "    #city=x.split()[5]\n",
        "    if dist=='warszawski':\n",
        "        return x.split()[6]\n",
        "    elif dist in ['Warszawa','Radom','Płock','Siedlce']:\n",
        "        return dist\n",
        "    else:\n",
        "        try:\n",
        "            return x.split()[5]\n",
        "        except:\n",
        "            return 'unknown'\n",
        "\n",
        "udf_cities = udf(cities, StringType())      \n",
        "\n",
        "\n",
        "def region(x):\n",
        "    if x.split()[4]=='Warszawa':\n",
        "        try:\n",
        "            return x.split()[5]\n",
        "        except:\n",
        "            return ''\n",
        "    else:\n",
        "        return ''\n",
        "\n",
        "udf_region = udf(region, StringType())    "
      ],
      "execution_count": 75,
      "outputs": []
    },
    {
      "cell_type": "code",
      "metadata": {
        "id": "JdQtbHxQ9a8I"
      },
      "source": [
        "from pyspark.sql.functions import split\n",
        "from pyspark.sql.types import IntegerType\n",
        "from pyspark.sql.functions import when"
      ],
      "execution_count": 46,
      "outputs": []
    },
    {
      "cell_type": "code",
      "metadata": {
        "id": "zVGe89zBKbUJ"
      },
      "source": [
        "dfCities=spark.read.csv('/content/drive/MyDrive/domymazowieckie/dfcities.csv')\n",
        "dfCities1=pd.read_csv('/content/drive/MyDrive/domymazowieckie/dfcities.csv')\n",
        "\n",
        "dfCounties=spark.read.csv('/content/drive/MyDrive/domymazowieckie/dfCounties.csv')\n",
        "dfCounties1=pd.read_csv('/content/drive/MyDrive/domymazowieckie/dfCounties.csv')\n",
        "\n",
        "dfVoivodeships=spark.read.csv('/content/drive/MyDrive/domymazowieckie/dfVoivodeships.csv')\n",
        "\n",
        "dfWarsawDistricts=spark.read.csv('/content/drive/MyDrive/domymazowieckie/dfWarsawDistricts.csv')\n",
        "dfWarsawDistricts1=pd.read_csv('/content/drive/MyDrive/domymazowieckie/dfWarsawDistricts.csv')\n",
        "\n",
        "def funCities(x):\n",
        "  print('function')\n",
        "  rows=dfCities1[dfCities1['cities']==x.lower()]\n",
        "  precision=0\n",
        "  print(x)\n",
        "  if rows.count() == 0:\n",
        "    print('row 0')\n",
        "    return 0 #0,0,100\n",
        "  elif rows.count() == 1:\n",
        "    print('row 1')\n",
        "    longitude=rows.collect()[0][2]\n",
        "    latitude=rows.collect()[0][1]\n",
        "    precision=rows.collect()[0][3]\n",
        "    return longitude[0] #longitude[0],latitude[0],precision[0]\n",
        "  elif rows.count() > 1:\n",
        "    print('row >1')\n",
        "    prec1,prec2=rows.collect()[0][3],rows.collect()[1][3]#rows.iloc[0,3],rows.iloc[1,3]\n",
        "    if prec1<prec2:\n",
        "      precision=prec1\n",
        "      longitude=rows.collect()[0][2]\n",
        "      latitude=rows.collect()[0][1]\n",
        "    else:\n",
        "      precision=prec2\n",
        "      longitude=rows.collect()[1][2]\n",
        "      latitude=rows.collect()[1][1]\n",
        "    return longitude #longitude,latitude,precision\n",
        "  else:\n",
        "    return 0 \n",
        "udf_funCities = udf(funCities, FloatType())  \n",
        "\n",
        "def funCities1(x):\n",
        "  print('function')\n",
        "  rows=dfCities[dfCities['_c0']==x.lower()]\n",
        "  precision=0\n",
        "  print(x)\n",
        "  if rows.count() == 0:\n",
        "    print('row 0')\n",
        "    return 0 #0,0,100\n",
        "  elif rows.count() == 1:\n",
        "    print('row 1')\n",
        "    longitude=rows.collect()[0][2]\n",
        "    latitude=rows.collect()[0][1]\n",
        "    precision=rows.collect()[0][3]\n",
        "    return longitude[0] #longitude[0],latitude[0],precision[0]\n",
        "  elif rows.count() > 1:\n",
        "    print('row >1')\n",
        "    prec1,prec2=rows.collect()[0][3],rows.collect()[1][3]#rows.iloc[0,3],rows.iloc[1,3]\n",
        "    if prec1<prec2:\n",
        "      precision=prec1\n",
        "      longitude=rows.collect()[0][2]\n",
        "      latitude=rows.collect()[0][1]\n",
        "    else:\n",
        "      precision=prec2\n",
        "      longitude=rows.collect()[1][2]\n",
        "      latitude=rows.collect()[1][1]\n",
        "    return longitude #longitude,latitude,precision\n",
        "  else:\n",
        "    return 0 \n",
        "  \n",
        "def funDistricts(x):\n",
        "  rows=dfWarsawDistricts1[dfWarsawDistricts1['warsaw_district']==x.lower()]\n",
        "  #print(x, ' ',rows.shape[0])\n",
        "  if rows.shape[0]==0:\n",
        "    return 0,0,100\n",
        "  elif rows.shape[0]==1:\n",
        "    longitude=rows.longitude.values\n",
        "    latitude=rows.latitude.values\n",
        "    precision=rows.geoPrecision.values\n",
        "    return longitude[0],latitude[0],precision[0]\n",
        "\n",
        "udf_funDistricts = udf(funDistricts, FloatType()) \n",
        "\n",
        "\n",
        "def funCounties(x):\n",
        "  try:\n",
        "    rows=dfCounties1['powiat '+x.lower()== dfCounties1['county']]\n",
        "  except Exception as e:\n",
        "    return e\n",
        "  #print(x, ' ',rows.shape[0])\n",
        "  if rows.shape[0]==0:\n",
        "    return 0,0,100\n",
        "  elif rows.shape[0]==1:\n",
        "    longitude=rows.longitude.values\n",
        "    latitude=rows.latitude.values\n",
        "    precision=rows.geoPrecision.values\n",
        "    return longitude[0],latitude[0],precision[0]\n",
        "udf_funCounties = udf(funCounties, FloatType())   "
      ],
      "execution_count": 87,
      "outputs": []
    },
    {
      "cell_type": "code",
      "metadata": {
        "id": "lyCylFst7j1X"
      },
      "source": [
        "def makeDataFrame(file):\n",
        "\n",
        "    schema = StructType([\n",
        "    StructField(\"dzielnica\", StringType(), True),\n",
        "    StructField(\"powierzchnia\", FloatType(), True),\n",
        "    StructField(\"lPokoi\", IntegerType(), True),\n",
        "    StructField(\"powierzchniaDzialki\", FloatType(), True),\n",
        "    StructField(\"rodzajZabudowy\", StringType(), True),\n",
        "    StructField(\"materialBudynku\", StringType(), True),\n",
        "    StructField(\"rokBudowy\", IntegerType(), True),\n",
        "    StructField(\"stanWykonczenia\", StringType(), True),\n",
        "    StructField(\"okna\", StringType(), True),\n",
        "    StructField(\"rynek\", StringType(), True),\n",
        "    StructField(\"lPieter\", IntegerType(), True),\n",
        "    StructField(\"cena\", FloatType(), True),])\n",
        "    dfMazowieckie=spark.read.csv(file,schema=schema)\n",
        "    concat=dfMazowieckie\n",
        "    #########\n",
        "    #concat['powierzchnia_corr'] = concat['powierzchnia'].apply(lambda x: toNum1(x))\n",
        "    #df = df.withColumn(\"message\", udf_myFunction(\"_3\"))\n",
        "    concat= concat.withColumn('powierzchnia_corr',udf_toNum1('powierzchnia'))\n",
        "    #####\n",
        "    #concat['powierzchniaDzialki_corr'] = concat['powierzchniaDzialki'].apply(lambda x: toNum2(x))\n",
        "    concat= concat.withColumn('powierzchniaDzialki_corr',udf_toNum2('powierzchniaDzialki'))\n",
        "\n",
        "    #concat['cena_corr'] = concat['cena'].apply(lambda x: toNum2(x))\n",
        "    concat= concat.withColumn('cena_corr',udf_toNum2('cena'))\n",
        "\n",
        "    #concat['rokBudowy_corr'] = concat['rokBudowy'].apply(lambda x: toNum3(x))\n",
        "    concat= concat.withColumn('rokBudowy_corr',udf_toNum3('rokBudowy'))\n",
        "\n",
        "    #concat['cena/m'] = concat['cena_corr'] / concat['powierzchnia_corr']####??\n",
        "    concat= concat.withColumn('cena/m',concat['cena_corr']/concat['powierzchnia_corr'])\n",
        "\n",
        "    #concat['lPieter_crr'] = concat['lPieter'].apply(lambda x: pietra(x))\n",
        "    concat= concat.withColumn('lPieter_crr',udf_pietra('lPieter'))\n",
        "\n",
        "    concat = concat[concat['powierzchnia_corr'] > 0]\n",
        "    concat = concat[concat['cena_corr'] > 0]\n",
        "\n",
        "    #concat['lPokoi'] = concat['lPokoi'].apply(lambda x: toNum3(x))\n",
        "    concat= concat.withColumn('lPokoi',udf_toNum3('lPokoi'))\n",
        "\n",
        "    #concat['districts']=concat['dzielnica'].apply(lambda x: x.split()[4])\n",
        "    ##https://stackoverflow.com/questions/39235704/split-spark-dataframe-string-column-into-multiple-columns\n",
        "    dzielnica = split(concat['dzielnica'], ' ')\n",
        "    concat = concat.withColumn('districts', dzielnica.getItem(4))\n",
        "    \n",
        "    concat= concat.withColumn('cities_corr',udf_cities('dzielnica'))##blad\n",
        "    \n",
        "    #concat['cities_corr']=cities_corr\n",
        "\n",
        "    #region_corr=concat['dzielnica'].apply(lambda x: region(x))\n",
        "    concat= concat.withColumn('region_corr',udf_region('dzielnica'))\n",
        "   # concat['region_corr']=region_corr\n",
        "\n",
        "\n",
        "    concat_dropped = concat.drop('dzielnica', 'powierzchnia', 'powierzchniaDzialki', 'lPieter', 'cena', 'cena_corr')\n",
        "\n",
        "    \n",
        "    #data_df = data_df.withColumn(\"Plays\", data_df[\"Plays\"].cast(IntegerType()))\n",
        "    \n",
        "    #concat_dropped['rokBudowy_corr'] = concat_dropped['rokBudowy_corr'].astype('int')\n",
        "    concat_dropped= concat.withColumn('rokBudowy_corr',concat['rokBudowy_corr'].cast(IntegerType()))\n",
        "\n",
        "    concat_dropped = concat_dropped.withColumn(\"rokBudowy_corr\", when(concat_dropped[\"rokBudowy_corr\"] < 0, 1900).otherwise(concat_dropped[\"rokBudowy_corr\"]))\n",
        "    #concat_dropped[concat_dropped['rokBudowy_corr']<1900,'rokBudowy_corr']=1980\n",
        "\n",
        "    #concat_dropped[concat_dropped['rokBudowy_corr']>2030,'rokBudowy_corr']=2020\n",
        "    concat_dropped = concat_dropped.withColumn(\"rokBudowy_corr\", when(concat_dropped[\"rokBudowy_corr\"] > 2030, 2020).otherwise(concat_dropped[\"rokBudowy_corr\"]))\n",
        "    #concat_dropped = concat_dropped[concat_dropped['rokBudowy_corr'] < 2030]\n",
        "    concat_dropped = concat_dropped.fillna(0)\n",
        "\n",
        "    concat_dropped = concat_dropped[concat_dropped['cena/m'] < 20000]\n",
        "\n",
        "    \n",
        "    #cityData=concat_dropped.cities_corr.apply(lambda x: funCities(x))\n",
        "    concat_dropped= concat_dropped.withColumn(\"locationCities\",udf_funCities(\"cities_corr\"))\n",
        "    #locationCities=locCities(cityData)\n",
        "\n",
        "    #districtsData=concat_dropped.region_corr.apply(lambda x: funDistricts(x))\n",
        "    concat_dropped= concat_dropped.withColumn(\"locationDistricts\",udf_funDistricts(\"region_corr\"))\n",
        "    #locationDistricts=locCities(districtsData)\n",
        "\n",
        "    #countyData=concat_dropped.districts.apply(lambda x: funCounties(x))\n",
        "    concat_dropped= concat_dropped.withColumn(\"locationCounty\",udf_funCounties(\"districts\"))\n",
        "    #locationCounty=locCounties(countyData)\n",
        "\n",
        "    concat_dropped_reset=concat_dropped.drop('index')\n",
        "\n",
        "    #locations= pd.concat([locationCities,locationDistricts,locationCounty], axis=1)\n",
        "    #concat_dropped_reset['locationX']=locations.apply(selectLocationX,axis=1)\n",
        "    #concat_dropped_reset['locationY']=locations.apply(selectLocationY,axis=1)\n",
        "    concat_dropped_reset_drop = concat_dropped_reset.drop('rokBudowy', 'districts', 'cities_corr', 'region_corr')\n",
        "    #https://stackoverflow.com/questions/35804755/apply-onehotencoder-for-several-categorical-columns-in-sparkmlib\n",
        "\n",
        "    final = pd.get_dummies(concat_dropped_reset_drop, columns=['rodzajZabudowy', 'materialBudynku', 'stanWykonczenia', 'okna', 'rynek'])\n",
        "\n",
        "    return final"
      ],
      "execution_count": 97,
      "outputs": []
    },
    {
      "cell_type": "code",
      "metadata": {
        "id": "qmOjGx4Z7lbR"
      },
      "source": [
        "filename='/content/drive/MyDrive/domymazowieckie/dfMieszkania1.csv'"
      ],
      "execution_count": 49,
      "outputs": []
    },
    {
      "cell_type": "code",
      "metadata": {
        "id": "hl-GYCGD7mwf"
      },
      "source": [
        "final=makeDataFrame(filename)"
      ],
      "execution_count": 98,
      "outputs": []
    },
    {
      "cell_type": "code",
      "metadata": {
        "colab": {
          "base_uri": "https://localhost:8080/"
        },
        "id": "ArJ_4X1S-67F",
        "outputId": "3c2be517-0f8a-4f9b-aa18-5cea92dca109"
      },
      "source": [
        "type(final)"
      ],
      "execution_count": 103,
      "outputs": [
        {
          "output_type": "execute_result",
          "data": {
            "text/plain": [
              "pandas.core.frame.DataFrame"
            ]
          },
          "metadata": {},
          "execution_count": 103
        }
      ]
    },
    {
      "cell_type": "code",
      "metadata": {
        "colab": {
          "base_uri": "https://localhost:8080/",
          "height": 301
        },
        "id": "DYrQCg4X-LW3",
        "outputId": "72103042-5460-4071-ac56-18b150fea189"
      },
      "source": [
        "final.limit(10).toPandas()"
      ],
      "execution_count": 102,
      "outputs": [
        {
          "output_type": "error",
          "ename": "AttributeError",
          "evalue": "ignored",
          "traceback": [
            "\u001b[0;31m---------------------------------------------------------------------------\u001b[0m",
            "\u001b[0;31mAttributeError\u001b[0m                            Traceback (most recent call last)",
            "\u001b[0;32m<ipython-input-102-743a35ce88da>\u001b[0m in \u001b[0;36m<module>\u001b[0;34m()\u001b[0m\n\u001b[0;32m----> 1\u001b[0;31m \u001b[0mfinal\u001b[0m\u001b[0;34m.\u001b[0m\u001b[0mlimit\u001b[0m\u001b[0;34m(\u001b[0m\u001b[0;36m10\u001b[0m\u001b[0;34m)\u001b[0m\u001b[0;34m.\u001b[0m\u001b[0mtoPandas\u001b[0m\u001b[0;34m(\u001b[0m\u001b[0;34m)\u001b[0m\u001b[0;34m\u001b[0m\u001b[0;34m\u001b[0m\u001b[0m\n\u001b[0m",
            "\u001b[0;32m/usr/local/lib/python3.7/dist-packages/pandas/core/generic.py\u001b[0m in \u001b[0;36m__getattr__\u001b[0;34m(self, name)\u001b[0m\n\u001b[1;32m   5139\u001b[0m             \u001b[0;32mif\u001b[0m \u001b[0mself\u001b[0m\u001b[0;34m.\u001b[0m\u001b[0m_info_axis\u001b[0m\u001b[0;34m.\u001b[0m\u001b[0m_can_hold_identifiers_and_holds_name\u001b[0m\u001b[0;34m(\u001b[0m\u001b[0mname\u001b[0m\u001b[0;34m)\u001b[0m\u001b[0;34m:\u001b[0m\u001b[0;34m\u001b[0m\u001b[0;34m\u001b[0m\u001b[0m\n\u001b[1;32m   5140\u001b[0m                 \u001b[0;32mreturn\u001b[0m \u001b[0mself\u001b[0m\u001b[0;34m[\u001b[0m\u001b[0mname\u001b[0m\u001b[0;34m]\u001b[0m\u001b[0;34m\u001b[0m\u001b[0;34m\u001b[0m\u001b[0m\n\u001b[0;32m-> 5141\u001b[0;31m             \u001b[0;32mreturn\u001b[0m \u001b[0mobject\u001b[0m\u001b[0;34m.\u001b[0m\u001b[0m__getattribute__\u001b[0m\u001b[0;34m(\u001b[0m\u001b[0mself\u001b[0m\u001b[0;34m,\u001b[0m \u001b[0mname\u001b[0m\u001b[0;34m)\u001b[0m\u001b[0;34m\u001b[0m\u001b[0;34m\u001b[0m\u001b[0m\n\u001b[0m\u001b[1;32m   5142\u001b[0m \u001b[0;34m\u001b[0m\u001b[0m\n\u001b[1;32m   5143\u001b[0m     \u001b[0;32mdef\u001b[0m \u001b[0m__setattr__\u001b[0m\u001b[0;34m(\u001b[0m\u001b[0mself\u001b[0m\u001b[0;34m,\u001b[0m \u001b[0mname\u001b[0m\u001b[0;34m:\u001b[0m \u001b[0mstr\u001b[0m\u001b[0;34m,\u001b[0m \u001b[0mvalue\u001b[0m\u001b[0;34m)\u001b[0m \u001b[0;34m->\u001b[0m \u001b[0;32mNone\u001b[0m\u001b[0;34m:\u001b[0m\u001b[0;34m\u001b[0m\u001b[0;34m\u001b[0m\u001b[0m\n",
            "\u001b[0;31mAttributeError\u001b[0m: 'DataFrame' object has no attribute 'limit'"
          ]
        }
      ]
    },
    {
      "cell_type": "code",
      "metadata": {
        "id": "VVY0PJA7Js4T"
      },
      "source": [
        "final.to_csv('/content/drive/My Drive/domymazowieckie/dfMieszkania_final.csv')"
      ],
      "execution_count": null,
      "outputs": []
    },
    {
      "cell_type": "code",
      "metadata": {
        "id": "cwfSbj0CMObA"
      },
      "source": [
        "final.shape"
      ],
      "execution_count": null,
      "outputs": []
    },
    {
      "cell_type": "code",
      "metadata": {
        "id": "pXBZJwUiQ43J"
      },
      "source": [
        "df=final.copy()"
      ],
      "execution_count": null,
      "outputs": []
    },
    {
      "cell_type": "code",
      "metadata": {
        "id": "ffZlHNQaDKfW"
      },
      "source": [
        "plt.hist(final.loc[:,'lPokoi']/10)"
      ],
      "execution_count": null,
      "outputs": []
    },
    {
      "cell_type": "code",
      "metadata": {
        "id": "jS1BFK5NFkCJ"
      },
      "source": [
        "sns.boxplot(x=(np.log(final[\"powierzchnia_corr\"])/10))"
      ],
      "execution_count": null,
      "outputs": []
    },
    {
      "cell_type": "code",
      "metadata": {
        "id": "O6Qi89r8GWTJ"
      },
      "source": [
        "sns.boxplot(x=(np.log(final[\"powierzchniaDzialki_corr\"]+1)/14))"
      ],
      "execution_count": null,
      "outputs": []
    },
    {
      "cell_type": "code",
      "metadata": {
        "id": "TIFvJRm_GlIl"
      },
      "source": [
        "sns.boxplot(x=(np.power(final[\"rokBudowy_corr\"]-1899,4)/3e8))"
      ],
      "execution_count": null,
      "outputs": []
    },
    {
      "cell_type": "code",
      "metadata": {
        "id": "dxoUv1XPKlDA"
      },
      "source": [
        "plt.hist(np.power(final[\"rokBudowy_corr\"]-1899,4)/3e8)"
      ],
      "execution_count": null,
      "outputs": []
    },
    {
      "cell_type": "code",
      "metadata": {
        "id": "2NyrjT8CMiny"
      },
      "source": [
        "sns.boxplot(x=final[\"cena/m\"]/20000)"
      ],
      "execution_count": null,
      "outputs": []
    },
    {
      "cell_type": "code",
      "metadata": {
        "id": "yHQa0jmgM3tO"
      },
      "source": [
        "sns.boxplot(x=final[\"lPieter_crr\"]/10)"
      ],
      "execution_count": null,
      "outputs": []
    },
    {
      "cell_type": "code",
      "metadata": {
        "id": "CpjahNPgNFWG"
      },
      "source": [
        "plt.hist(final[\"lPieter_crr\"]/10)"
      ],
      "execution_count": null,
      "outputs": []
    },
    {
      "cell_type": "code",
      "metadata": {
        "id": "ODb0yUQPKDz4"
      },
      "source": [
        "final.head()"
      ],
      "execution_count": null,
      "outputs": []
    },
    {
      "cell_type": "code",
      "metadata": {
        "id": "fB9L8WI_NL43"
      },
      "source": [
        "plt.hist((final[\"locationX\"]-21)/4)"
      ],
      "execution_count": null,
      "outputs": []
    },
    {
      "cell_type": "code",
      "metadata": {
        "id": "lGiQ-Rv7PUsY"
      },
      "source": [
        "plt.hist((final[\"locationY\"]-52)/2)"
      ],
      "execution_count": null,
      "outputs": []
    },
    {
      "cell_type": "code",
      "metadata": {
        "id": "JeO3l4r6DDRX"
      },
      "source": [
        "final.head()"
      ],
      "execution_count": null,
      "outputs": []
    },
    {
      "cell_type": "code",
      "metadata": {
        "id": "-KEHBeUP0JFb"
      },
      "source": [
        "#min_max_scaler = preprocessing.MinMaxScaler()\n",
        "#data_scaled = min_max_scaler.fit_transform(final.values)\n",
        "#df = pd.DataFrame(data_scaled ,columns=final.columns.values)\n",
        "#df  = df.fillna(0)"
      ],
      "execution_count": null,
      "outputs": []
    },
    {
      "cell_type": "markdown",
      "metadata": {
        "id": "zbQNI8K2OjRc"
      },
      "source": [
        "NORMALIZACJA!!!!!!!!!!!!!!!!"
      ]
    },
    {
      "cell_type": "code",
      "metadata": {
        "id": "z_Rghy5nwEK8"
      },
      "source": [
        "df=final.copy()\n",
        "df['lPokoi']=final.loc[:,'lPokoi']/30\n",
        "df[\"powierzchnia_corr\"]=np.log(final[\"powierzchnia_corr\"])/10\n",
        "df[\"powierzchniaDzialki_corr\"]=np.log(final[\"powierzchniaDzialki_corr\"]+1)/14\n",
        "df[\"rokBudowy_corr\"]=np.power(final[\"rokBudowy_corr\"]-1899,4)/3e8\n",
        "df[\"cena/m\"]=final[\"cena/m\"]/20000\n",
        "df[\"locationX\"]=(final[\"locationX\"]-21)/4\n",
        "df[\"locationY\"]=(final[\"locationY\"]-52)/2\n",
        "df['lPieter_crr']=final.loc[:,'lPieter_crr']/10"
      ],
      "execution_count": null,
      "outputs": []
    },
    {
      "cell_type": "markdown",
      "metadata": {
        "id": "18EcJ-8_OqNJ"
      },
      "source": [
        "NORMALIZACJA!!!!!!!!!!!!!!!!!"
      ]
    },
    {
      "cell_type": "code",
      "metadata": {
        "id": "jYAphnrQSKWb"
      },
      "source": [
        "df  = df.fillna(0)"
      ],
      "execution_count": null,
      "outputs": []
    },
    {
      "cell_type": "code",
      "metadata": {
        "id": "yj8AqhOACRNr"
      },
      "source": [
        "df.head()"
      ],
      "execution_count": null,
      "outputs": []
    },
    {
      "cell_type": "code",
      "metadata": {
        "id": "MBwn93vEK2hR"
      },
      "source": [
        "#filename_json1='/content/drive/My Drive/domymazowieckie/dfMazowieckieClean.json'\n",
        "#df.to_json(filename_json1)"
      ],
      "execution_count": null,
      "outputs": []
    },
    {
      "cell_type": "code",
      "metadata": {
        "id": "Hks9GYwX8Anv"
      },
      "source": [
        "import tensorflow as tf\n",
        "import tensorflow as tfCore\n",
        "import math\n",
        "from IPython.core.magic import register_line_magic\n",
        "from IPython.display import Javascript\n"
      ],
      "execution_count": null,
      "outputs": []
    },
    {
      "cell_type": "code",
      "metadata": {
        "id": "6YO21H98VWUX"
      },
      "source": [
        "train_dataset = df.sample(frac=0.8, random_state=0)\n",
        "test_dataset = df.drop(df.index)"
      ],
      "execution_count": null,
      "outputs": []
    },
    {
      "cell_type": "code",
      "metadata": {
        "id": "AK8A7ILoVYA3"
      },
      "source": [
        "train_features = train_dataset.copy()\n",
        "test_features = test_dataset.copy()\n",
        "\n",
        "train_labels = train_features.pop('cena/m')\n",
        "test_labels = test_features.pop('cena/m')"
      ],
      "execution_count": null,
      "outputs": []
    },
    {
      "cell_type": "code",
      "metadata": {
        "id": "yNbtSfrMFN41"
      },
      "source": [
        "train_features,test_features,train_labels,test_labels=train_features.values,test_features.values,train_labels.values,test_labels.values"
      ],
      "execution_count": null,
      "outputs": []
    },
    {
      "cell_type": "code",
      "metadata": {
        "id": "NXsXSQ5iFzTK"
      },
      "source": [
        "train_features = np.array(train_features, dtype=np.float32)\n",
        "test_features = np.array(test_features, dtype=np.float32)\n",
        "train_labels = np.array(train_labels, dtype=np.float32)\n",
        "test_labels = np.array(test_labels, dtype=np.float32)"
      ],
      "execution_count": null,
      "outputs": []
    },
    {
      "cell_type": "code",
      "metadata": {
        "id": "Sm062oKDUEQb"
      },
      "source": [
        "train_features.shape"
      ],
      "execution_count": null,
      "outputs": []
    },
    {
      "cell_type": "code",
      "metadata": {
        "id": "Tk70_PpYvuPC"
      },
      "source": [
        "device_name = tf.test.gpu_device_name()\n",
        "if device_name != '/device:GPU:0':\n",
        "  raise SystemError('GPU device not found')\n",
        "print('Found GPU at: {}'.format(device_name))"
      ],
      "execution_count": null,
      "outputs": []
    },
    {
      "cell_type": "code",
      "metadata": {
        "id": "ulbrvU9dwVbD"
      },
      "source": [
        "import timeit\n",
        "\n",
        "device_name = tf.test.gpu_device_name()\n",
        "if device_name != '/device:GPU:0':\n",
        "  print(\n",
        "      '\\n\\nThis error most likely means that this notebook is not '\n",
        "      'configured to use a GPU.  Change this in Notebook Settings via the '\n",
        "      'command palette (cmd/ctrl-shift-P) or the Edit menu.\\n\\n')\n",
        "  raise SystemError('GPU device not found')\n",
        "\n",
        "def cpu():\n",
        "  with tf.device('/cpu:0'):\n",
        "    random_image_cpu = tf.random.normal((100, 100, 100, 3))\n",
        "    net_cpu = tf.keras.layers.Conv2D(32, 7)(random_image_cpu)\n",
        "    return tf.math.reduce_sum(net_cpu)\n",
        "\n",
        "def gpu():\n",
        "  with tf.device('/device:GPU:0'):\n",
        "    random_image_gpu = tf.random.normal((100, 100, 100, 3))\n",
        "    net_gpu = tf.keras.layers.Conv2D(32, 7)(random_image_gpu)\n",
        "    return tf.math.reduce_sum(net_gpu)\n",
        "  \n",
        "# We run each op once to warm up; see: https://stackoverflow.com/a/45067900\n",
        "cpu()\n",
        "gpu()\n"
      ],
      "execution_count": null,
      "outputs": []
    },
    {
      "cell_type": "code",
      "metadata": {
        "id": "NGO50N4lFUe-"
      },
      "source": [
        "model= tf.keras.models.Sequential([\n",
        "                               #    normalizer,\n",
        "  tf.keras.layers.Dense(18*36, activation='relu'),\n",
        "  tf.keras.layers.Dropout(0.2),\n",
        "  tf.keras.layers.Dense(8*64, activation='relu'),\n",
        "  tf.keras.layers.Dropout(0.2),\n",
        "  tf.keras.layers.Dense(8*36, activation='relu'),\n",
        "  tf.keras.layers.Dropout(0.2),\n",
        "  tf.keras.layers.Dense(4*36, activation='relu'),\n",
        "  tf.keras.layers.Dense(1, activation='linear'),\n",
        "])"
      ],
      "execution_count": null,
      "outputs": []
    },
    {
      "cell_type": "code",
      "metadata": {
        "id": "KzAtA9nSVfHW"
      },
      "source": [
        "model.compile(loss='mean_absolute_error',\n",
        "              metrics=['mse',\"mae\",'acc'],optimizer=tf.optimizers.Adam(learning_rate=0.01))#learning_rate=0.01"
      ],
      "execution_count": null,
      "outputs": []
    },
    {
      "cell_type": "code",
      "metadata": {
        "id": "qUvtcdihVg_f"
      },
      "source": [
        "with tf.device('/device:GPU:0'):\n",
        "  history = model.fit(\n",
        "    train_features, train_labels,\n",
        "    epochs=100,\n",
        "    # suppress logging\n",
        "    verbose=0,\n",
        "    # Calculate validation results on 20% of the training data\n",
        "    validation_split = 0.2)"
      ],
      "execution_count": null,
      "outputs": []
    },
    {
      "cell_type": "code",
      "metadata": {
        "id": "KLg4iHPBTv7h"
      },
      "source": [
        "plt.plot(history.history['mse'])\n",
        "plt.plot(history.history['val_mse'])\n",
        "plt.ylim(0.01,0.02)"
      ],
      "execution_count": null,
      "outputs": []
    },
    {
      "cell_type": "code",
      "metadata": {
        "id": "z_KszdtnT9lI"
      },
      "source": [
        "plt.plot(history.history['mae'])\n",
        "plt.plot(history.history['val_mae'])\n",
        "plt.ylim(0.080,0.110)"
      ],
      "execution_count": null,
      "outputs": []
    },
    {
      "cell_type": "code",
      "metadata": {
        "id": "Rp13xXZ7kpcw"
      },
      "source": [
        "zabudowa_list = [\"0\", \"dworek/palac\",\"gospodarstwo\",\"kamienica\",\"szeregowiec\",\"wolnostojacy\"]\n",
        "zabudowa = widgets.Dropdown(options=zabudowa_list, value='0')\n",
        "\n",
        "material_list = [\"0\", \"pustak\",\"beton komurkowy\",\"cegla\",\"drewno\",\"inne\",\"karmazyt\",\"pustak\",\"silikat\"]\n",
        "material = widgets.Dropdown(options=material_list, value='0')"
      ],
      "execution_count": null,
      "outputs": []
    },
    {
      "cell_type": "code",
      "metadata": {
        "id": "pkGjMLsDk8ah"
      },
      "source": [
        "zabudowa"
      ],
      "execution_count": null,
      "outputs": []
    },
    {
      "cell_type": "code",
      "metadata": {
        "id": "8uI1hEeymM7-"
      },
      "source": [
        "material"
      ],
      "execution_count": null,
      "outputs": []
    },
    {
      "cell_type": "code",
      "metadata": {
        "id": "OPyByWWvlA6-"
      },
      "source": [
        "zabudowa_ints=[int(zabudowa.value==element) for element in zabudowa_list]\n",
        "material_ints=[int(material.value==element) for element in material_list]"
      ],
      "execution_count": null,
      "outputs": []
    },
    {
      "cell_type": "code",
      "metadata": {
        "id": "yJIYJghwhO9A"
      },
      "source": [
        "lPokoi = \"8\" #@param {type:\"string\"}\n",
        "powierzchnia = \"100\" #@param {type:\"string\"}\n",
        "powierzchniaDzialki = \"100\" #@param {type:\"string\"}\n",
        "rokBudowy = \"100\" #@param {type:\"string\"}\n",
        "lPieter = \"100\" #@param {type:\"string\"}\n",
        "locationX = \"100\" #@param {type:\"string\"}\n",
        "locationY = \"100\" #@param {type:\"string\"}"
      ],
      "execution_count": null,
      "outputs": []
    },
    {
      "cell_type": "code",
      "metadata": {
        "id": "MF4ggZPyUhiC"
      },
      "source": [
        "lPokoi=4\n",
        "powierzchnia=60\n",
        "powierzchniaDzialki=0\n",
        "rokBudowy=2001\n",
        "lPieter=5\n",
        "locationX=21\n",
        "locationY=52\n",
        "\n",
        "params_norm=[lPokoi/10,np.log(powierzchnia)/10,np.log(powierzchniaDzialki+1)/14,\n",
        "             np.power(rokBudowy-1899,4)/3e8,lPieter/30,\n",
        "             (locationX-21)/4,(locationY-52)/2]\n",
        "\n",
        "parametry=np.array(params_norm)\n",
        "zabudowa=np.array([1,0,0,0,0,0,0])\n",
        "material=np.array([1,0,0,0,0,0,0,0,0])\n",
        "wykonczenie=np.array([1,0,0,0,0,0])\n",
        "okna=np.array([1,0,0,0,0])\n",
        "rynek=np.array([1,0])\n",
        "x=np.concatenate([parametry,zabudowa,material,wykonczenie,okna,rynek])\n",
        "x=np.transpose(np.reshape(x,(-1,1)))\n",
        "print(x)"
      ],
      "execution_count": null,
      "outputs": []
    },
    {
      "cell_type": "code",
      "metadata": {
        "id": "wn1q4ARxAVfy"
      },
      "source": [
        "cena_m=20000*model.predict(x)[0]\n",
        "cena=cena_m*powierzchnia\n",
        "print(cena_m,' ',cena)"
      ],
      "execution_count": null,
      "outputs": []
    },
    {
      "cell_type": "code",
      "metadata": {
        "id": "-VUoaMzQV-Zd"
      },
      "source": [
        "cena_m=20000*model.predict(x)[0]\n",
        "cena=cena_m*powierzchnia\n",
        "print(cena_m,' ',cena)"
      ],
      "execution_count": null,
      "outputs": []
    },
    {
      "cell_type": "code",
      "metadata": {
        "id": "WniJVLWTGJ4B"
      },
      "source": [
        "def szybki_podgląd_lokacji(X,Y):\n",
        "  lPokoi=7\n",
        "  powierzchnia=300\n",
        "  powierzchniaDzialki=1000\n",
        "  rokBudowy=2001\n",
        "  lPieter=1\n",
        "  locationX=X\n",
        "  locationY=Y\n",
        "\n",
        "  params_norm=[lPokoi/10,np.log(powierzchnia)/10,np.log(powierzchniaDzialki+1)/14,\n",
        "              np.power(rokBudowy-1899,4)/3e8,lPieter/10,\n",
        "              (locationX-21)/4,(locationY-52)/2]\n",
        "\n",
        "  parametry=np.array(params_norm)\n",
        "  zabudowa=np.array([0,0,0,0,0,0,1])\n",
        "  material=np.array([0,0,1,0,0,0,0,0,0])\n",
        "  wykonczenie=np.array([0,0,0,1,0,0])\n",
        "  okna=np.array([0,0,0,0,1])\n",
        "  rynek=np.array([0,1])\n",
        "  x=np.concatenate([parametry,zabudowa,material,wykonczenie,okna,rynek])\n",
        "  x=np.transpose(np.reshape(x,(-1,1)))\n",
        "  cena_m=20000*model.predict(x)[0]\n",
        "  cena=cena_m*powierzchnia\n",
        "  return cena_m"
      ],
      "execution_count": null,
      "outputs": []
    },
    {
      "cell_type": "code",
      "metadata": {
        "id": "p56JdCEOGi8P"
      },
      "source": [
        "price=[]\n",
        "for i in range(0,25):\n",
        "  for j in range(0,55):\n",
        "   price.append(szybki_podgląd_lokacji(i,j))"
      ],
      "execution_count": null,
      "outputs": []
    },
    {
      "cell_type": "code",
      "metadata": {
        "id": "jxIG-jRRJ6PJ"
      },
      "source": [
        "price_1=np.array(price).reshape(i+1,j+1)\n",
        "price_2=np.transpose(price_1)"
      ],
      "execution_count": null,
      "outputs": []
    },
    {
      "cell_type": "code",
      "metadata": {
        "id": "aya9hV6Lau0S"
      },
      "source": [
        "plt.imshow(price_1, cmap='hot')\n",
        "plt.xlim(40,55)\n",
        "plt.ylim(18,22)\n",
        "plt.show()"
      ],
      "execution_count": null,
      "outputs": []
    },
    {
      "cell_type": "code",
      "metadata": {
        "id": "czbHPKkuN3GT"
      },
      "source": [
        "filename='/content/drive/My Drive/domymazowieckie/dfMazowieckie.h5'\n",
        "model.save(filename,save_format='tf')"
      ],
      "execution_count": null,
      "outputs": []
    },
    {
      "cell_type": "code",
      "metadata": {
        "id": "Sg6thecPRWzm"
      },
      "source": [
        "pip install tensorflowjs"
      ],
      "execution_count": null,
      "outputs": []
    },
    {
      "cell_type": "code",
      "metadata": {
        "id": "7s1XngLtQPUy"
      },
      "source": [
        "!tensorflowjs_converter --input_format=keras /content/drive/MyDrive/domymazowieckie/dfMazowieckie.h5 /content/drive/MyDrive/domymazowieckie/jsmodel"
      ],
      "execution_count": null,
      "outputs": []
    },
    {
      "cell_type": "code",
      "metadata": {
        "id": "8xTZrBtUDQ12"
      },
      "source": [
        ""
      ],
      "execution_count": null,
      "outputs": []
    }
  ]
}