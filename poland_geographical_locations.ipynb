{
  "nbformat": 4,
  "nbformat_minor": 5,
  "metadata": {
    "kernelspec": {
      "display_name": "Python 3 (ipykernel)",
      "language": "python",
      "name": "python3"
    },
    "language_info": {
      "codemirror_mode": {
        "name": "ipython",
        "version": 3
      },
      "file_extension": ".py",
      "mimetype": "text/x-python",
      "name": "python",
      "nbconvert_exporter": "python",
      "pygments_lexer": "ipython3",
      "version": "3.8.2"
    },
    "colab": {
      "name": "poland_geographical_locations.ipynb",
      "provenance": []
    }
  },
  "cells": [
    {
      "cell_type": "markdown",
      "metadata": {
        "id": "168f81b8"
      },
      "source": [
        "* https://www.wikidata.org/wiki/Wikidata:SPARQL_tutorial\n",
        "* https://query.wikidata.org/\n",
        "* https://janakiev.com/blog/wikidata-mayors/"
      ],
      "id": "168f81b8"
    },
    {
      "cell_type": "code",
      "metadata": {
        "id": "53d65771"
      },
      "source": [
        "import requests\n",
        "import pandas as pd\n",
        "from collections import OrderedDict"
      ],
      "id": "53d65771",
      "execution_count": null,
      "outputs": []
    },
    {
      "cell_type": "code",
      "metadata": {
        "scrolled": false,
        "id": "bb328742",
        "outputId": "fe53be35-2b53-4604-8b91-cacba0b079cf"
      },
      "source": [
        "def get_voivodeships_v1():\n",
        "    # problem - only ten voivodeships has the inception date se\n",
        "    # solution - version 2 of this function\n",
        "    \n",
        "    # request voivodeships of poland(wd:Q36)\n",
        "    # https://query.wikidata.org/#%20%20%20%20SELECT%20%3Fvoivodeship%20%3FvoivodeshipLabel%20%3Finception%20%3Flocation%0A%20%20%20%20WHERE%20%7B%0A%20%20%20%20%20%20%3Fvoivodeship%20wdt%3AP31%20wd%3AQ150093%3B%0A%20%20%20%20%20%20%20%20%20%20%20%20%20%20%20%20%20%20%20wdt%3AP571%20%3Finception%3B%0A%20%20%20%20%20%20%20%20%20%20%20%20%20%20%20%20%20%20%20wdt%3AP625%20%3Flocation.%0A%20%20%20%20%20%20FILTER%28%3Finception%20%3E%3D%20%221999-01-01%22%5E%5Exsd%3AdateTime%29.%0A%0A%20%20%20%20%20%20SERVICE%20wikibase%3Alabel%20%7B%20bd%3AserviceParam%20wikibase%3Alanguage%20%22%5BAUTO_LANGUAGE%5D%2Cen%22.%20%7D%0A%20%20%20%20%7D\n",
        "    url = 'https://query.wikidata.org/sparql'\n",
        "    query = '''\n",
        "    SELECT ?voivodeship ?voivodeshipLabel ?inception ?location\n",
        "    WHERE {\n",
        "      ?voivodeship wdt:P31 wd:Q150093;\n",
        "                   wdt:P571 ?inception;\n",
        "                   wdt:P625 ?location.\n",
        "      FILTER(?inception >= \"1999-01-01\"^^xsd:dateTime).\n",
        "\n",
        "      SERVICE wikibase:label { bd:serviceParam wikibase:language \"[AUTO_LANGUAGE],en\". }\n",
        "    }\n",
        "    '''\n",
        "    r = requests.get(url, params = {'format': 'json', 'query': query})\n",
        "    data = r.json()\n",
        "\n",
        "    # convert json to dataframe\n",
        "    voivodeships = []\n",
        "    for item in data['results']['bindings']:\n",
        "        voivodeships.append(OrderedDict(\n",
        "        {\n",
        "            'voivodeship':      item['voivodeshipLabel']['value'],\n",
        "            'location':         item['location']['value'],        \n",
        "            'wikidata_item_id': item['voivodeship']['value'].split('/')[-1]\n",
        "        }))\n",
        "    #     print(item,'\\n')\n",
        "\n",
        "    df = pd.DataFrame(voivodeships)\n",
        "    return df\n",
        "\n",
        "get_voivodeships_v1()"
      ],
      "id": "bb328742",
      "execution_count": null,
      "outputs": [
        {
          "output_type": "execute_result",
          "data": {
            "text/html": [
              "<div>\n",
              "<style scoped>\n",
              "    .dataframe tbody tr th:only-of-type {\n",
              "        vertical-align: middle;\n",
              "    }\n",
              "\n",
              "    .dataframe tbody tr th {\n",
              "        vertical-align: top;\n",
              "    }\n",
              "\n",
              "    .dataframe thead th {\n",
              "        text-align: right;\n",
              "    }\n",
              "</style>\n",
              "<table border=\"1\" class=\"dataframe\">\n",
              "  <thead>\n",
              "    <tr style=\"text-align: right;\">\n",
              "      <th></th>\n",
              "      <th>voivodeship</th>\n",
              "      <th>location</th>\n",
              "      <th>wikidata_item_id</th>\n",
              "    </tr>\n",
              "  </thead>\n",
              "  <tbody>\n",
              "    <tr>\n",
              "      <th>0</th>\n",
              "      <td>Lower Silesian Voivodeship</td>\n",
              "      <td>Point(16.383333333 51.083333333)</td>\n",
              "      <td>Q54150</td>\n",
              "    </tr>\n",
              "    <tr>\n",
              "      <th>1</th>\n",
              "      <td>Kuyavian-Pomeranian Voivodeship</td>\n",
              "      <td>Point(18.483333333 53.066666666)</td>\n",
              "      <td>Q54153</td>\n",
              "    </tr>\n",
              "    <tr>\n",
              "      <th>2</th>\n",
              "      <td>Lublin Voivodeship</td>\n",
              "      <td>Point(22.9 51.216666666)</td>\n",
              "      <td>Q54155</td>\n",
              "    </tr>\n",
              "    <tr>\n",
              "      <th>3</th>\n",
              "      <td>Lesser Poland Voivodeship</td>\n",
              "      <td>Point(20.266666666 49.85)</td>\n",
              "      <td>Q54159</td>\n",
              "    </tr>\n",
              "    <tr>\n",
              "      <th>4</th>\n",
              "      <td>Masovian Voivodeship</td>\n",
              "      <td>Point(21.1 52.333333333)</td>\n",
              "      <td>Q54169</td>\n",
              "    </tr>\n",
              "    <tr>\n",
              "      <th>5</th>\n",
              "      <td>Opole Voivodeship</td>\n",
              "      <td>Point(17.9 50.633333333)</td>\n",
              "      <td>Q54171</td>\n",
              "    </tr>\n",
              "    <tr>\n",
              "      <th>6</th>\n",
              "      <td>Podkarpackie Voivodeship</td>\n",
              "      <td>Point(22.166666666 49.95)</td>\n",
              "      <td>Q54175</td>\n",
              "    </tr>\n",
              "    <tr>\n",
              "      <th>7</th>\n",
              "      <td>Podlaskie Voivodeship</td>\n",
              "      <td>Point(22.931938888 53.267219444)</td>\n",
              "      <td>Q54177</td>\n",
              "    </tr>\n",
              "    <tr>\n",
              "      <th>8</th>\n",
              "      <td>Silesian Voivodeship</td>\n",
              "      <td>Point(19.0 50.333333333)</td>\n",
              "      <td>Q54181</td>\n",
              "    </tr>\n",
              "    <tr>\n",
              "      <th>9</th>\n",
              "      <td>Greater Poland Voivodeship</td>\n",
              "      <td>Point(17.233333333 52.333333333)</td>\n",
              "      <td>Q54187</td>\n",
              "    </tr>\n",
              "  </tbody>\n",
              "</table>\n",
              "</div>"
            ],
            "text/plain": [
              "                       voivodeship                          location  \\\n",
              "0       Lower Silesian Voivodeship  Point(16.383333333 51.083333333)   \n",
              "1  Kuyavian-Pomeranian Voivodeship  Point(18.483333333 53.066666666)   \n",
              "2               Lublin Voivodeship          Point(22.9 51.216666666)   \n",
              "3        Lesser Poland Voivodeship         Point(20.266666666 49.85)   \n",
              "4             Masovian Voivodeship          Point(21.1 52.333333333)   \n",
              "5                Opole Voivodeship          Point(17.9 50.633333333)   \n",
              "6         Podkarpackie Voivodeship         Point(22.166666666 49.95)   \n",
              "7            Podlaskie Voivodeship  Point(22.931938888 53.267219444)   \n",
              "8             Silesian Voivodeship          Point(19.0 50.333333333)   \n",
              "9       Greater Poland Voivodeship  Point(17.233333333 52.333333333)   \n",
              "\n",
              "  wikidata_item_id  \n",
              "0           Q54150  \n",
              "1           Q54153  \n",
              "2           Q54155  \n",
              "3           Q54159  \n",
              "4           Q54169  \n",
              "5           Q54171  \n",
              "6           Q54175  \n",
              "7           Q54177  \n",
              "8           Q54181  \n",
              "9           Q54187  "
            ]
          },
          "metadata": {
            "tags": []
          },
          "execution_count": 75
        }
      ]
    },
    {
      "cell_type": "code",
      "metadata": {
        "id": "e94db25c",
        "outputId": "4afe64a0-5a40-4a93-9569-47b5f23e2c89"
      },
      "source": [
        "def get_voivodeships_v2():\n",
        "    # problem - too many voivodeships, historical ones are mixed together\n",
        "    # solution - just cut the list after 16-th item\n",
        "    \n",
        "    # request voivodeships of poland(wd:Q36)\n",
        "    # cut after 16 voivodeships, the rest are historical ones\n",
        "    # https://query.wikidata.org/#SELECT%20%3Fvoivodeship%20%3FvoivodeshipLabel%20%3Flatitude%20%3Flongitude%20%3Fadmininistrative_teritorial_entity%0AWHERE%20%7B%0A%20%20%3Fvoivodeship%20wdt%3AP31%20wd%3AQ150093%3B%0A%20%20%20%20%20%20%20%20%20%20%20%20%20%20%20wdt%3AP131%20%3Fadmininistrative_teritorial_entity%3B%0A%20%20%20%20%20%20%20%20%20%20%20%20%20%20%20p%3AP625%2Fpsv%3AP625%20%5B%0A%20%20%20%20%20%20%20%20%20%20%20%20%20%20%20%20%20%20%20wikibase%3AgeoLatitude%20%3Flatitude%20%3B%0A%20%20%20%20%20%20%20%20%20%20%20%20%20%20%20%20%20%20%20wikibase%3AgeoLongitude%20%3Flongitude%20%3B%0A%20%20%20%20%20%20%20%20%20%20%20%20%20%20%20%5D.%20%20%20%20%20%20%20%20%20%20%20%20%20%20%20%0A%20%20FILTER%28%3Fadmininistrative_teritorial_entity%20%3D%20wd%3AQ36%29.%0A%20%20SERVICE%20wikibase%3Alabel%20%7B%20bd%3AserviceParam%20wikibase%3Alanguage%20%22pl%22.%20%7D%0A%7D%0AORDER%20BY%20DESC%28%3Fvoivodeship%29%0ALIMIT%2016\n",
        "    # https://www.wikidata.org/wiki/Wikidata:SPARQL_query_service/queries/examples#Mountains\n",
        "    url = 'https://query.wikidata.org/sparql'\n",
        "    query = '''\n",
        "    SELECT ?voivodeship ?voivodeshipLabel ?latitude ?longitude ?admininistrative_teritorial_entity\n",
        "    WHERE {\n",
        "      ?voivodeship wdt:P31 wd:Q150093;\n",
        "                   wdt:P131 ?admininistrative_teritorial_entity;\n",
        "                   p:P625/psv:P625 [\n",
        "                       wikibase:geoLatitude ?latitude ;\n",
        "                       wikibase:geoLongitude ?longitude ;\n",
        "                   ].               \n",
        "      FILTER(?admininistrative_teritorial_entity = wd:Q36).\n",
        "      SERVICE wikibase:label { bd:serviceParam wikibase:language \"pl\". }\n",
        "    }\n",
        "    ORDER BY DESC(?voivodeship)\n",
        "    LIMIT 16\n",
        "    '''\n",
        "    r = requests.get(url, params = {'format': 'json', 'query': query})\n",
        "    data = r.json()\n",
        "\n",
        "    # convert json to dataframe\n",
        "    voivodeships = []\n",
        "    for item in data['results']['bindings']:\n",
        "        voivodeships.append(OrderedDict(\n",
        "        {\n",
        "            'voivodeship':      item['voivodeshipLabel']['value'],\n",
        "            'latitude':         float(item['latitude']['value']),        \n",
        "            'longitude':         float(item['longitude']['value']),                    \n",
        "            'wikidata_item_id': item['voivodeship']['value'].split('/')[-1]\n",
        "        }))\n",
        "    #     print(item,'\\n')    \n",
        "    \n",
        "    df = pd.DataFrame(voivodeships)\n",
        "    return df\n",
        "\n",
        "get_voivodeships_v2()"
      ],
      "id": "e94db25c",
      "execution_count": null,
      "outputs": [
        {
          "output_type": "execute_result",
          "data": {
            "text/html": [
              "<div>\n",
              "<style scoped>\n",
              "    .dataframe tbody tr th:only-of-type {\n",
              "        vertical-align: middle;\n",
              "    }\n",
              "\n",
              "    .dataframe tbody tr th {\n",
              "        vertical-align: top;\n",
              "    }\n",
              "\n",
              "    .dataframe thead th {\n",
              "        text-align: right;\n",
              "    }\n",
              "</style>\n",
              "<table border=\"1\" class=\"dataframe\">\n",
              "  <thead>\n",
              "    <tr style=\"text-align: right;\">\n",
              "      <th></th>\n",
              "      <th>voivodeship</th>\n",
              "      <th>latitude</th>\n",
              "      <th>longitude</th>\n",
              "      <th>wikidata_item_id</th>\n",
              "    </tr>\n",
              "  </thead>\n",
              "  <tbody>\n",
              "    <tr>\n",
              "      <th>0</th>\n",
              "      <td>województwo zachodniopomorskie</td>\n",
              "      <td>53.600000</td>\n",
              "      <td>15.533333</td>\n",
              "      <td>Q54188</td>\n",
              "    </tr>\n",
              "    <tr>\n",
              "      <th>1</th>\n",
              "      <td>województwo wielkopolskie</td>\n",
              "      <td>52.333333</td>\n",
              "      <td>17.233333</td>\n",
              "      <td>Q54187</td>\n",
              "    </tr>\n",
              "    <tr>\n",
              "      <th>2</th>\n",
              "      <td>województwo warmińsko-mazurskie</td>\n",
              "      <td>53.850000</td>\n",
              "      <td>20.816667</td>\n",
              "      <td>Q54184</td>\n",
              "    </tr>\n",
              "    <tr>\n",
              "      <th>3</th>\n",
              "      <td>województwo świętokrzyskie</td>\n",
              "      <td>50.750000</td>\n",
              "      <td>20.766667</td>\n",
              "      <td>Q54183</td>\n",
              "    </tr>\n",
              "    <tr>\n",
              "      <th>4</th>\n",
              "      <td>województwo śląskie</td>\n",
              "      <td>50.333333</td>\n",
              "      <td>19.000000</td>\n",
              "      <td>Q54181</td>\n",
              "    </tr>\n",
              "    <tr>\n",
              "      <th>5</th>\n",
              "      <td>województwo pomorskie</td>\n",
              "      <td>54.183333</td>\n",
              "      <td>18.000000</td>\n",
              "      <td>Q54180</td>\n",
              "    </tr>\n",
              "    <tr>\n",
              "      <th>6</th>\n",
              "      <td>województwo podlaskie</td>\n",
              "      <td>53.267219</td>\n",
              "      <td>22.931939</td>\n",
              "      <td>Q54177</td>\n",
              "    </tr>\n",
              "    <tr>\n",
              "      <th>7</th>\n",
              "      <td>województwo podkarpackie</td>\n",
              "      <td>49.950000</td>\n",
              "      <td>22.166667</td>\n",
              "      <td>Q54175</td>\n",
              "    </tr>\n",
              "    <tr>\n",
              "      <th>8</th>\n",
              "      <td>województwo opolskie</td>\n",
              "      <td>50.633333</td>\n",
              "      <td>17.900000</td>\n",
              "      <td>Q54171</td>\n",
              "    </tr>\n",
              "    <tr>\n",
              "      <th>9</th>\n",
              "      <td>województwo mazowieckie</td>\n",
              "      <td>52.333333</td>\n",
              "      <td>21.100000</td>\n",
              "      <td>Q54169</td>\n",
              "    </tr>\n",
              "    <tr>\n",
              "      <th>10</th>\n",
              "      <td>województwo małopolskie</td>\n",
              "      <td>49.850000</td>\n",
              "      <td>20.266667</td>\n",
              "      <td>Q54159</td>\n",
              "    </tr>\n",
              "    <tr>\n",
              "      <th>11</th>\n",
              "      <td>województwo łódzkie</td>\n",
              "      <td>51.600000</td>\n",
              "      <td>19.416667</td>\n",
              "      <td>Q54158</td>\n",
              "    </tr>\n",
              "    <tr>\n",
              "      <th>12</th>\n",
              "      <td>województwo lubuskie</td>\n",
              "      <td>52.183333</td>\n",
              "      <td>15.333333</td>\n",
              "      <td>Q54157</td>\n",
              "    </tr>\n",
              "    <tr>\n",
              "      <th>13</th>\n",
              "      <td>województwo lubelskie</td>\n",
              "      <td>51.216667</td>\n",
              "      <td>22.900000</td>\n",
              "      <td>Q54155</td>\n",
              "    </tr>\n",
              "    <tr>\n",
              "      <th>14</th>\n",
              "      <td>województwo kujawsko-pomorskie</td>\n",
              "      <td>53.066667</td>\n",
              "      <td>18.483333</td>\n",
              "      <td>Q54153</td>\n",
              "    </tr>\n",
              "    <tr>\n",
              "      <th>15</th>\n",
              "      <td>województwo dolnośląskie</td>\n",
              "      <td>51.083333</td>\n",
              "      <td>16.383333</td>\n",
              "      <td>Q54150</td>\n",
              "    </tr>\n",
              "  </tbody>\n",
              "</table>\n",
              "</div>"
            ],
            "text/plain": [
              "                        voivodeship   latitude  longitude wikidata_item_id\n",
              "0    województwo zachodniopomorskie  53.600000  15.533333           Q54188\n",
              "1         województwo wielkopolskie  52.333333  17.233333           Q54187\n",
              "2   województwo warmińsko-mazurskie  53.850000  20.816667           Q54184\n",
              "3        województwo świętokrzyskie  50.750000  20.766667           Q54183\n",
              "4               województwo śląskie  50.333333  19.000000           Q54181\n",
              "5             województwo pomorskie  54.183333  18.000000           Q54180\n",
              "6             województwo podlaskie  53.267219  22.931939           Q54177\n",
              "7          województwo podkarpackie  49.950000  22.166667           Q54175\n",
              "8              województwo opolskie  50.633333  17.900000           Q54171\n",
              "9           województwo mazowieckie  52.333333  21.100000           Q54169\n",
              "10          województwo małopolskie  49.850000  20.266667           Q54159\n",
              "11              województwo łódzkie  51.600000  19.416667           Q54158\n",
              "12             województwo lubuskie  52.183333  15.333333           Q54157\n",
              "13            województwo lubelskie  51.216667  22.900000           Q54155\n",
              "14   województwo kujawsko-pomorskie  53.066667  18.483333           Q54153\n",
              "15         województwo dolnośląskie  51.083333  16.383333           Q54150"
            ]
          },
          "metadata": {
            "tags": []
          },
          "execution_count": 129
        }
      ]
    },
    {
      "cell_type": "code",
      "metadata": {
        "id": "591dde2a"
      },
      "source": [
        "def coordinates_of_voivodeship(wojewodztwo):\n",
        "    voivodeships = get_voivodeships_v2()\n",
        "    coordinates = voivodeships.loc[voivodeships['voivodeship'].str.contains(wojewodztwo) == True, ['latitude', 'longitude']]\n",
        "    return coordinates.values.tolist()[0]"
      ],
      "id": "591dde2a",
      "execution_count": null,
      "outputs": []
    },
    {
      "cell_type": "code",
      "metadata": {
        "id": "fb73c7c7",
        "outputId": "6c3864be-2c65-4290-cb6f-7d43f985864c"
      },
      "source": [
        "coordinates_of_voivodeship('województwo podlaskie')"
      ],
      "id": "fb73c7c7",
      "execution_count": null,
      "outputs": [
        {
          "output_type": "execute_result",
          "data": {
            "text/plain": [
              "[53.267219444444, 22.931938888889]"
            ]
          },
          "metadata": {
            "tags": []
          },
          "execution_count": 134
        }
      ]
    },
    {
      "cell_type": "code",
      "metadata": {
        "id": "dc2eb8bd",
        "outputId": "7a11187f-8b38-4a39-f870-3e910b9ba674"
      },
      "source": [
        "coordinates_of_voivodeship('podlaskie')"
      ],
      "id": "dc2eb8bd",
      "execution_count": null,
      "outputs": [
        {
          "output_type": "execute_result",
          "data": {
            "text/plain": [
              "[53.267219444444, 22.931938888889]"
            ]
          },
          "metadata": {
            "tags": []
          },
          "execution_count": 135
        }
      ]
    },
    {
      "cell_type": "markdown",
      "metadata": {
        "id": "hPnJ6Y2hCPAV"
      },
      "source": [
        "trzeba to rozwinąć o nazwy zgodne z modelem, czyli kolejno: powiaty, miasta i dzielnice- zrobisz to?"
      ],
      "id": "hPnJ6Y2hCPAV"
    }
  ]
}