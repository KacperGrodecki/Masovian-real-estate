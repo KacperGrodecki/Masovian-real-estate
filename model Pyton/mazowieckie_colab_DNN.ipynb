{
  "nbformat": 4,
  "nbformat_minor": 0,
  "metadata": {
    "colab": {
      "name": "mazowieckie_colab_DNN.ipynb",
      "provenance": [],
      "collapsed_sections": [],
      "authorship_tag": "ABX9TyNs+zb55h1AHBjtl0iwWnB8",
      "include_colab_link": true
    },
    "kernelspec": {
      "name": "python3",
      "display_name": "Python 3"
    },
    "language_info": {
      "name": "python"
    }
  },
  "cells": [
    {
      "cell_type": "markdown",
      "metadata": {
        "id": "view-in-github",
        "colab_type": "text"
      },
      "source": [
        "<a href=\"https://colab.research.google.com/github/KacperGrodecki/nieruchomosci-mazowieckie/blob/0.0.4/model%20Pyton/mazowieckie_colab_DNN.ipynb\" target=\"_parent\"><img src=\"https://colab.research.google.com/assets/colab-badge.svg\" alt=\"Open In Colab\"/></a>"
      ]
    },
    {
      "cell_type": "code",
      "metadata": {
        "id": "DoyxUX4T7Yoj",
        "colab": {
          "base_uri": "https://localhost:8080/"
        },
        "outputId": "37f8c562-e8d3-4a4d-9d38-3afa99954f74"
      },
      "source": [
        "from sklearn.metrics import confusion_matrix\n",
        "from sklearn import svm\n",
        "import pandas as pd\n",
        "import numpy as np\n",
        "np.random.seed(7)\n",
        "from google.colab import drive\n",
        "import seaborn as sns\n",
        "drive.mount('/content/drive')\n",
        "import matplotlib.pyplot as plt\n",
        "import pandas as pd\n",
        "#from otoDomScraper import daneDomu\n",
        "#from random import randrange\n",
        "import numpy as np\n",
        "from sklearn.ensemble import RandomForestRegressor\n",
        "import matplotlib.pyplot as plt\n",
        "import seaborn as sns\n",
        "import re\n",
        "from sklearn.model_selection import GridSearchCV\n",
        "from sklearn.model_selection import train_test_split\n",
        "import statistics\n",
        "from sklearn.cluster import AffinityPropagation\n",
        "from sklearn.model_selection import cross_val_score, cross_val_predict\n",
        "from sklearn.decomposition import FastICA\n",
        "from sklearn import preprocessing\n",
        "from IPython.display import Javascript\n",
        "import requests\n",
        "from collections import OrderedDict\n",
        "import seaborn as sns"
      ],
      "execution_count": 1,
      "outputs": [
        {
          "output_type": "stream",
          "name": "stdout",
          "text": [
            "Mounted at /content/drive\n"
          ]
        }
      ]
    },
    {
      "cell_type": "code",
      "metadata": {
        "id": "eaSkJkDn7htz"
      },
      "source": [
        "def toNum2(txt):\n",
        "    if type(txt) is int:\n",
        "        return txt\n",
        "    elif (type(txt) is str):\n",
        "        digs = re.findall(r'\\d+', txt)\n",
        "        if len(digs) == 1:\n",
        "            return int(digs[0])\n",
        "        elif len(digs) == 2:\n",
        "            return 1000 * int(digs[0]) + int(digs[1])\n",
        "        elif len(digs) == 3:\n",
        "            return 1000000 * int(digs[0]) + 1000 * int(digs[1]) + int(digs[0])\n",
        "\n",
        "    #   return int(digs)\n",
        "\n",
        "\n",
        "def toNum1(txt):\n",
        "    if type(txt) is str:\n",
        "        digs = re.findall(r'\\d+', txt)\n",
        "        if len(digs) == 1:\n",
        "            return int(digs[0])\n",
        "        elif len(digs) == 2 and (txt[1] != ' '):\n",
        "            return int(digs[0]) + 0.01 * int(digs[1])\n",
        "        elif len(digs) == 3:\n",
        "            return 1000 * int(digs[0]) + int(digs[1]) + 0.001 * int(digs[2])\n",
        "        elif (type(txt) is str) and (txt[1] == ' '):\n",
        "            digs = re.findall(r'\\d+', txt)\n",
        "            return 1000 * int(digs[0]) + int(digs[1])\n",
        "    else:\n",
        "        return txt\n",
        "\n",
        "\n",
        "def toNum3(txt):\n",
        "    if type(txt) == int:\n",
        "        return txt\n",
        "    return int(re.findall(r'\\d+', txt)[0])\n",
        "\n",
        "def pietra(txt):\n",
        "    if type(txt) is str:\n",
        "        if '0' in txt:\n",
        "            return 0\n",
        "        if '1' in txt:\n",
        "            return 1\n",
        "        elif '2' in txt:\n",
        "            return 2\n",
        "        elif '3' in txt:\n",
        "            return 3\n",
        "        elif 'parterowy' in txt:\n",
        "            return 0\n",
        "    else:\n",
        "        return txt\n",
        "\n",
        "def cities(x):\n",
        "    dist=x.split()[4]\n",
        "    #city=x.split()[5]\n",
        "    if dist=='warszawski':\n",
        "        return x.split()[6]\n",
        "    elif dist in ['Warszawa','Radom','Płock','Siedlce']:\n",
        "        return dist\n",
        "    else:\n",
        "        try:\n",
        "            return x.split()[5]\n",
        "        except:\n",
        "            return 'unknown'\n",
        "\n",
        "def region(x):\n",
        "    if x.split()[4]=='Warszawa':\n",
        "        try:\n",
        "            return x.split()[5]\n",
        "        except:\n",
        "            return ''\n",
        "    else:\n",
        "        return ''"
      ],
      "execution_count": 2,
      "outputs": []
    },
    {
      "cell_type": "code",
      "metadata": {
        "id": "tz6yc0BqdG-c"
      },
      "source": [
        "def get_voivodeships():\n",
        "    # problem - too many voivodeships, historical ones are mixed together\n",
        "    # solution - just cut the list after 16-th item\n",
        "    \n",
        "    # request voivodeships of poland(wd:Q36),\n",
        "    # cut after 16 voivodeships, the rest are historical ones\n",
        "    # https://query.wikidata.org/#%20%20%20%20SELECT%20%3Fvoivodeship%20%3FvoivodeshipLabel%20%3Flatitude%20%3Flongitude%20%3Fadmininistrative_teritorial_entity%0A%20%20%20%20WHERE%20%7B%0A%20%20%20%20%20%20%3Fvoivodeship%20wdt%3AP31%20wd%3AQ150093%3B%0A%20%20%20%20%20%20%20%20%20%20%20%20%20%20%20%20%20%20%20wdt%3AP131%20%3Fadmininistrative_teritorial_entity%3B%0A%20%20%20%20%20%20%20%20%20%20%20%20%20%20%20%20%20%20%20p%3AP625%2Fpsv%3AP625%20%5B%0A%20%20%20%20%20%20%20%20%20%20%20%20%20%20%20%20%20%20%20%20%20%20%20wikibase%3AgeoLatitude%20%3Flatitude%20%3B%0A%20%20%20%20%20%20%20%20%20%20%20%20%20%20%20%20%20%20%20%20%20%20%20wikibase%3AgeoLongitude%20%3Flongitude%20%3B%0A%20%20%20%20%20%20%20%20%20%20%20%20%20%20%20%20%20%20%20%5D.%20%20%20%20%20%20%20%20%20%20%20%20%20%20%20%0A%20%20%20%20%20%20FILTER%28%3Fadmininistrative_teritorial_entity%20%3D%20wd%3AQ36%29.%0A%20%20%20%20%20%20SERVICE%20wikibase%3Alabel%20%7B%20bd%3AserviceParam%20wikibase%3Alanguage%20%22pl%22.%20%7D%0A%20%20%20%20%7D%0A%20%20%20%20ORDER%20BY%20DESC%28%3Fvoivodeship%29%0A%20%20%20%20LIMIT%2016%0A\n",
        "    url = 'https://query.wikidata.org/sparql'\n",
        "    query = '''\n",
        "    SELECT ?voivodeship ?voivodeshipLabel ?latitude ?longitude ?admininistrative_teritorial_entity\n",
        "    WHERE {\n",
        "      ?voivodeship wdt:P31 wd:Q150093;\n",
        "                   wdt:P131 ?admininistrative_teritorial_entity;\n",
        "                   p:P625/psv:P625 [\n",
        "                       wikibase:geoLatitude ?latitude ;\n",
        "                       wikibase:geoLongitude ?longitude ;\n",
        "                   ].               \n",
        "      FILTER(?admininistrative_teritorial_entity = wd:Q36).\n",
        "      SERVICE wikibase:label { bd:serviceParam wikibase:language \"pl\". }\n",
        "    }\n",
        "    ORDER BY DESC(?voivodeship)\n",
        "    LIMIT 16\n",
        "    '''\n",
        "    r = requests.get(url, params = {'format': 'json', 'query': query})\n",
        "    data = r.json()\n",
        "\n",
        "    # convert json to dataframe\n",
        "    voivodeships = []\n",
        "    for item in data['results']['bindings']:\n",
        "        voivodeships.append(OrderedDict(\n",
        "        {\n",
        "            'voivodeship':      item['voivodeshipLabel']['value'].lower(),\n",
        "            'latitude':         float(item['latitude']['value']),        \n",
        "            'longitude':        float(item['longitude']['value']),                    \n",
        "            'wikidata_item_id': item['voivodeship']['value'].split('/')[-1]\n",
        "        }))\n",
        "    #     print(item,'\\n')    \n",
        "    return pd.DataFrame(voivodeships)\n"
      ],
      "execution_count": 3,
      "outputs": []
    },
    {
      "cell_type": "code",
      "metadata": {
        "id": "MnwWwv4vdeob"
      },
      "source": [
        "def get_warsaw_districts():\n",
        "    # problem  - some districts have two sets of coordinates which differ slighlty\n",
        "    # solution - drop the one with worse precision (larger value), this seems to be consistent with the wikipedia data\n",
        "    # to do    - the above is not true for ['Wola'], change it\n",
        "    \n",
        "    # https://query.wikidata.org/#SELECT%20%3Fdistrict_of_Warsaw%20%3Fdistrict_of_WarsawLabel%20%3Flat%20%3Flon%20%3FgeoPrecision%20%0AWHERE%20%7B%0A%20%20%3Fdistrict_of_Warsaw%20%20wdt%3AP31%20wd%3AQ4286337%3B%0A%20%20%20%20%20%20%20%20%20%20%20%20%20%20%20%20%20%20%20%20%20%20%20wdt%3AP17%20wd%3AQ36%3B%0A%20%20%20%20%20%20%20%20%20%20%20%20%20%20%20%20%20%20%20%20%20%20%20wdt%3AP131%20wd%3AQ270%3B%0A%20%20%20%20%20%20%20%20%20%20%20%20%20%20%20%20%20%20%20%20%20%20%20p%3AP625%2Fpsv%3AP625%20%5B%0A%20%20%20%20%20%20%20%20%20%20%20%20%20%20%20%20%20%20%20%20%20%20%20%20%20%20%20wikibase%3AgeoLatitude%20%3Flat%20%3B%0A%20%20%20%20%20%20%20%20%20%20%20%20%20%20%20%20%20%20%20%20%20%20%20%20%20%20%20wikibase%3AgeoLongitude%20%3Flon%20%3B%0A%20%20%20%20%20%20%20%20%20%20%20%20%20%20%20%20%20%20%20%20%20%20%20%20%20%20%20wikibase%3AgeoPrecision%20%20%3FgeoPrecision%3B%20%20%20%20%20%20%20%20%20%20%20%20%20%20%20%20%20%20%20%20%20%20%20%20%20%20%20%20%20%20%20%20%20%20%20%20%20%20%20%0A%20%20%20%20%20%20%20%20%20%20%20%20%20%20%20%20%20%20%20%20%20%20%20%5D%0A%20%20SERVICE%20wikibase%3Alabel%20%7B%20bd%3AserviceParam%20wikibase%3Alanguage%20%22pl%22.%20%7D%0A%7D\n",
        "    url = 'https://query.wikidata.org/sparql'\n",
        "    query = '''\n",
        "    SELECT ?warsaw_district ?warsaw_districtLabel ?latitude ?longitude ?geoPrecision \n",
        "    WHERE {\n",
        "      ?warsaw_district  wdt:P31 wd:Q4286337;\n",
        "                           wdt:P17 wd:Q36;\n",
        "                           wdt:P131 wd:Q270;\n",
        "                           p:P625/psv:P625 [\n",
        "                               wikibase:geoLatitude ?latitude ;\n",
        "                               wikibase:geoLongitude ?longitude ;\n",
        "                               wikibase:geoPrecision  ?geoPrecision;                                       \n",
        "                           ]\n",
        "      SERVICE wikibase:label { bd:serviceParam wikibase:language \"pl\". }\n",
        "    }\n",
        "    ORDER BY ASC(?warsaw_districtLabel)\n",
        "    '''\n",
        "    r = requests.get(url, params = {'format': 'json', 'query': query})\n",
        "#     print(r.json())\n",
        "    data = r.json()\n",
        "\n",
        "    # convert json to dataframe\n",
        "    warsaw_districts = []\n",
        "    for item in data['results']['bindings']:\n",
        "#         print(item,'\\n')    \n",
        "        warsaw_districts.append(OrderedDict(\n",
        "        {\n",
        "            'warsaw_district':  item['warsaw_districtLabel']['value'].lower(),\n",
        "            'latitude':         float(item['latitude']['value']),        \n",
        "            'longitude':        float(item['longitude']['value']),                    \n",
        "            'geoPrecision':     float(item['geoPrecision']['value']),                                \n",
        "            'wikidata_item_id': item['warsaw_district']['value'].split('/')[-1]\n",
        "        }))\n",
        "    \n",
        "    warsaw_districts = pd.DataFrame(warsaw_districts).sort_values(by=['warsaw_district'])\n",
        "    \n",
        "    # if duplicate warsaw districts exist, take the one with better precision (lower value), do the opposite in case of 'Wola' \n",
        "    for district in warsaw_districts['warsaw_district']:\n",
        "        if np.sum(warsaw_districts['warsaw_district'] == district) > 1: # duplicate district found\n",
        "            if district != 'wola':            \n",
        "                district_to_drop_idx = warsaw_districts.loc[warsaw_districts['warsaw_district'] == district, 'geoPrecision'].idxmax()\n",
        "            elif district == 'wola':\n",
        "                district_to_drop_idx = warsaw_districts.loc[warsaw_districts['warsaw_district'] == district, 'geoPrecision'].idxmin()\n",
        "#             print(district+':\\t', district_to_drop_idx, '\\n')\n",
        "            warsaw_districts = warsaw_districts.drop(district_to_drop_idx).reset_index(drop=True)  \n",
        "            \n",
        "    return warsaw_districts"
      ],
      "execution_count": 4,
      "outputs": []
    },
    {
      "cell_type": "code",
      "metadata": {
        "id": "I_FDozWjxKZF"
      },
      "source": [
        "def get_cities():\n",
        "    # Description:\n",
        "    #  - sparql query is constructed for different types of cities: city with powiat rights ('Q925381'), urban municipality of Poland (Q2616791), and the second for \"regular\" city ('Q515')\n",
        "    # Problems:\n",
        "    #   1) some cities have more than one set of coordinates\n",
        "    #   2) filter within masovian voivodeship\n",
        "    # Solutions:\n",
        "    #   1) retain only the one with best precision (lowest value)\n",
        "    #   2) we can use .contains method from geopandas package, check the crs of Point from wikidata (https://www.kaggle.com/alexisbcook/proximity-analysis)\n",
        "    # To do:\n",
        "    #   1) check this approach\n",
        "      \n",
        "    # Get both types of cities: cities with powiat rights (Q925381), urban municipality of Poland (Q2616791), and the the \"regular\" cities (Q515)\n",
        "    # https://docs.python.org/3/reference/lexical_analysis.html#f-strings\n",
        "    # https://query.wikidata.org/#SELECT%20%3Fcity%20%3FcityLabel%20%3Flatitude%20%3Flongitude%20%3FgeoPrecision%20%3Fcoord%0AWHERE%20%7B%0A%20%20%3Fcity%20%20wdt%3AP31%20wd%3AQ925381%3B%0A%20%20%20%20%20%20%20%20%20wdt%3AP17%20wd%3AQ36%3B%0A%20%20%20%20%20%20%20%20%20%23wdt%3AP131%20wd%3AQ54169%3B%0A%20%20%20%20%20%20%20%20%20p%3AP625%20%5B%0A%20%20%20%20%20%20%20%20%20%20%20%20%20%20%20%20%20psv%3AP625%20%5B%0A%20%20%20%20%20%20%20%20%20%20%20%20%20%20%20%20%20%20%20%20%20%20%20%20%20%20%20wikibase%3AgeoLatitude%20%3Flatitude%20%3B%0A%20%20%20%20%20%20%20%20%20%20%20%20%20%20%20%20%20%20%20%20%20%20%20%20%20%20%20wikibase%3AgeoLongitude%20%3Flongitude%20%3B%0A%20%20%20%20%20%20%20%20%20%20%20%20%20%20%20%20%20%20%20%20%20%20%20%20%20%20%20wikibase%3AgeoPrecision%20%20%3FgeoPrecision%3B%20%20%20%20%20%20%0A%20%20%20%20%20%20%20%20%20%20%20%20%20%20%20%20%20%20%20%20%20%20%20%20%20%20%5D%3B%0A%20%20%20%20%20%20%20%20%20ps%3AP625%20%3Fcoord%20%0A%20%20%20%20%20%20%20%20%20%5D%0A%20%20SERVICE%20wikibase%3Alabel%20%7B%20bd%3AserviceParam%20wikibase%3Alanguage%20%22pl%22.%20%7D%0A%7D\n",
        "    # https://query.wikidata.org/#SELECT%20%3Fcity%20%3FcityLabel%20%3Flatitude%20%3Flongitude%20%3FgeoPrecision%20%3Fcoord%0AWHERE%20%7B%0A%20%20%3Fcity%20%20wdt%3AP31%20wd%3AQ515%3B%0A%20%20%20%20%20%20%20%20%20wdt%3AP17%20wd%3AQ36%3B%0A%20%20%20%20%20%20%20%20%20%23wdt%3AP131%20wd%3AQ54169%3B%0A%20%20%20%20%20%20%20%20%20p%3AP625%20%5B%0A%20%20%20%20%20%20%20%20%20%20%20%20%20%20%20%20%20psv%3AP625%20%5B%0A%20%20%20%20%20%20%20%20%20%20%20%20%20%20%20%20%20%20%20%20%20%20%20%20%20%20%20wikibase%3AgeoLatitude%20%3Flatitude%20%3B%0A%20%20%20%20%20%20%20%20%20%20%20%20%20%20%20%20%20%20%20%20%20%20%20%20%20%20%20wikibase%3AgeoLongitude%20%3Flongitude%20%3B%0A%20%20%20%20%20%20%20%20%20%20%20%20%20%20%20%20%20%20%20%20%20%20%20%20%20%20%20wikibase%3AgeoPrecision%20%20%3FgeoPrecision%3B%20%20%20%20%20%20%0A%20%20%20%20%20%20%20%20%20%20%20%20%20%20%20%20%20%20%20%20%20%20%20%20%20%20%5D%3B%0A%20%20%20%20%20%20%20%20%20ps%3AP625%20%3Fcoord%20%0A%20%20%20%20%20%20%20%20%20%5D%0A%20%20SERVICE%20wikibase%3Alabel%20%7B%20bd%3AserviceParam%20wikibase%3Alanguage%20%22pl%22.%20%7D%0A%7D\n",
        "    cities_all = pd.DataFrame()\n",
        "    url = 'https://query.wikidata.org/sparql'\n",
        "    data = pd.DataFrame()\n",
        "    types_of_city = {'city with powiat rights': 'Q925381', 'urban municipality of Poland ': 'Q2616791', 'city': 'Q515'}\n",
        "    for type_of_city, type_of_city_sparql in types_of_city.items():\n",
        "#         print('\\n\\nCities of type \\'' + type_of_city + '\\' (' + str(type_of_city_sparql) + '):')\n",
        "        query = f''' \n",
        "            SELECT ?city ?cityLabel ?latitude ?longitude ?geoPrecision ?coord\n",
        "            WHERE {{\n",
        "              ?city  wdt:P31 wd:{type_of_city_sparql};\n",
        "                     wdt:P17 wd:Q36;\n",
        "                     #wdt:P131 wd:Q54169;\n",
        "                     p:P625 [\n",
        "                             psv:P625 [\n",
        "                                       wikibase:geoLatitude ?latitude ;\n",
        "                                       wikibase:geoLongitude ?longitude ;\n",
        "                                       wikibase:geoPrecision  ?geoPrecision;      \n",
        "                                      ];\n",
        "                     ps:P625 ?coord \n",
        "                     ]\n",
        "              SERVICE wikibase:label {{ bd:serviceParam wikibase:language \"pl\". }}\n",
        "            }}\n",
        "            '''\n",
        "        r = requests.get(url, params = {'format': 'json', 'query': query})\n",
        "        data = r.json()\n",
        "\n",
        "        \n",
        "        # Convert json to dataframe\n",
        "        cities = []\n",
        "        for item in data['results']['bindings']:\n",
        "#             print(item,'\\n')    \n",
        "            cities.append(OrderedDict(\n",
        "            {\n",
        "                'city':             item['cityLabel']['value'].lower(),\n",
        "                'latitude':         float(item['latitude']['value']),        \n",
        "                'longitude':        float(item['longitude']['value']),                    \n",
        "                'geoPrecision':     float(item['geoPrecision']['value']),                                \n",
        "                'wikidata_item_id': item['city']['value'].split('/')[-1]\n",
        "            }))\n",
        "        cities = pd.DataFrame(cities).sort_values(by=['city']).reset_index(drop=True)\n",
        "#         print('Number of cities of type', type_of_city+':', len(cities))\n",
        "\n",
        "        \n",
        "        # Find those city names that have multiple instaces:\n",
        "        #   - those with the same wikidata_item_id are the same city with multiple coordinate sets - retain only the set with best (lowest) geoPrecision,\n",
        "        #   - those with different wikidata_item_id are different cities and should not be considered with the following procedure.\n",
        "        # https://stackoverflow.com/questions/55360314/pandas-groupby-take-counts-greater-than-1\n",
        "        cities_with_the_same_name_and_wikidataItemId = cities.loc[cities.groupby(['city', 'wikidata_item_id'])['geoPrecision'].transform('count') > 1].reset_index(drop=True) # cities.loc[cities.duplicated(subset=['city', 'wikidata_item_id'], keep=False)].reset_index(drop=True)\n",
        "#         print('Cities with the same name and the same wikidata_item_id:', len(cities_with_the_same_name_and_wikidataItemId))\n",
        "        \n",
        "    \n",
        "        # If multiple instances of any city exist, retain only the one with the best precision (lowest value) \n",
        "#         print('Cities with multiple instances:', len(cities_with_the_same_name_and_wikidataItemId), '\\n')\n",
        "        for city in cities_with_the_same_name_and_wikidataItemId['city'].unique():\n",
        "#             print(city)\n",
        "            city_to_retain_idx = cities_with_the_same_name_and_wikidataItemId.loc[cities_with_the_same_name_and_wikidataItemId['city'] == city, 'geoPrecision'].idxmin()        \n",
        "            cities_to_drop = cities_with_the_same_name_and_wikidataItemId.loc[(cities_with_the_same_name_and_wikidataItemId['city'] == city) & (cities_with_the_same_name_and_wikidataItemId.index != city_to_retain_idx)].index\n",
        "#             print('city:', city, '\\nindex and geoPrecision of instance to retain:', city_to_retain_idx, cities_with_the_same_name_and_wikidataItemId.loc[city_to_retain_idx, 'geoPrecision'], '\\nindices and geoPrecisions of instances to drop:\\n', tabulate(cities_with_the_same_name_and_wikidataItemId.loc[cities_to_drop, ['geoPrecision']], tablefmt='psql'))\n",
        "            cities = cities.drop(cities_to_drop).reset_index(drop=True)\n",
        "#         print('Number of cities with multiple instances of given cities after cleaning:', len(cities_with_the_same_name_and_wikidataItemId))\n",
        "\n",
        "\n",
        "        # Append to cities_all\n",
        "        cities_all = pd.concat([cities_all, cities], axis = 0).sort_values(by=['city']).reset_index(drop=True)\n",
        "#         print('Number of cities of type', type_of_city, 'after cleaning duplicate coordinates:', len(cities))\n",
        "\n",
        "    \n",
        "#     print('Number of all cities:', len(cities_all), '\\n', '#'*72)\n",
        "    return cities_all"
      ],
      "execution_count": 5,
      "outputs": []
    },
    {
      "cell_type": "code",
      "metadata": {
        "id": "0iS1TurYI9hM"
      },
      "source": [
        "def get_counties():\n",
        "    # Description:\n",
        "    #  - sparql query is constructed for counties ('Q247073'),\n",
        "      \n",
        "    # Get both types of cities: cities with powiat rights (Q925381), urban municipality of Poland (Q2616791), and the the \"regular\" cities (Q515)\n",
        "    # https://docs.python.org/3/reference/lexical_analysis.html#f-strings\n",
        "    # https://query.wikidata.org/#SELECT%20%3Fcity%20%3FcityLabel%20%3Flatitude%20%3Flongitude%20%3FgeoPrecision%20%3Fcoord%0AWHERE%20%7B%0A%20%20%3Fcity%20%20wdt%3AP31%20wd%3AQ247073%3B%0A%20%20%20%20%20%20%20%20%20wdt%3AP17%20wd%3AQ36%3B%0A%20%20%20%20%20%20%20%20%20wdt%3AP131%20wd%3AQ54169%3B%0A%20%20%20%20%20%20%20%20%20p%3AP625%20%5B%0A%20%20%20%20%20%20%20%20%20%20%20%20%20%20%20%20%20psv%3AP625%20%5B%0A%20%20%20%20%20%20%20%20%20%20%20%20%20%20%20%20%20%20%20%20%20%20%20%20%20%20%20wikibase%3AgeoLatitude%20%3Flatitude%20%3B%0A%20%20%20%20%20%20%20%20%20%20%20%20%20%20%20%20%20%20%20%20%20%20%20%20%20%20%20wikibase%3AgeoLongitude%20%3Flongitude%20%3B%0A%20%20%20%20%20%20%20%20%20%20%20%20%20%20%20%20%20%20%20%20%20%20%20%20%20%20%20wikibase%3AgeoPrecision%20%20%3FgeoPrecision%3B%20%20%20%20%20%20%0A%20%20%20%20%20%20%20%20%20%20%20%20%20%20%20%20%20%20%20%20%20%20%20%20%20%20%5D%3B%0A%20%20%20%20%20%20%20%20%20ps%3AP625%20%3Fcoord%20%0A%20%20%20%20%20%20%20%20%20%5D%0A%20%20SERVICE%20wikibase%3Alabel%20%7B%20bd%3AserviceParam%20wikibase%3Alanguage%20%22pl%22.%20%7D%0A%7D\n",
        "    cities_all = pd.DataFrame()\n",
        "    url = 'https://query.wikidata.org/sparql'\n",
        "    query = '''\n",
        "    SELECT ?county ?countyLabel ?latitude ?longitude ?geoPrecision ?coord\n",
        "    WHERE {\n",
        "      ?county  wdt:P31 wd:Q247073;\n",
        "            wdt:P17 wd:Q36;\n",
        "            wdt:P131 wd:Q54169;\n",
        "            p:P625 [\n",
        "                    psv:P625 [\n",
        "                              wikibase:geoLatitude ?latitude ;\n",
        "                              wikibase:geoLongitude ?longitude ;\n",
        "                              wikibase:geoPrecision  ?geoPrecision;      \n",
        "                              ];\n",
        "            ps:P625 ?coord \n",
        "            ]\n",
        "      SERVICE wikibase:label { bd:serviceParam wikibase:language \"pl\". }\n",
        "    }\n",
        "    '''\n",
        "    r = requests.get(url, params = {'format': 'json', 'query': query})\n",
        "#     print(r.json())\n",
        "    data = r.json()\n",
        "\n",
        "    # convert json to dataframe\n",
        "    counties = []\n",
        "    for item in data['results']['bindings']:\n",
        "#         print(item,'\\n')    \n",
        "        counties.append(OrderedDict(\n",
        "        {\n",
        "            'county':           item['countyLabel']['value'].lower(),\n",
        "            'latitude':         float(item['latitude']['value']),        \n",
        "            'longitude':        float(item['longitude']['value']),                    \n",
        "            'geoPrecision':     float(item['geoPrecision']['value']),                                \n",
        "            'wikidata_item_id': item['county']['value'].split('/')[-1]\n",
        "        }))\n",
        "    \n",
        "    counties = pd.DataFrame(counties).sort_values(by=['county'])\n",
        "      \n",
        "    return counties"
      ],
      "execution_count": 6,
      "outputs": []
    },
    {
      "cell_type": "code",
      "metadata": {
        "id": "KqZDj2pQ8JS6"
      },
      "source": [
        "dfCities=get_cities()\n",
        "dfCounties=get_counties()\n",
        "dfVoivodeships=get_voivodeships()\n",
        "dfWarsawDistricts=get_warsaw_districts()"
      ],
      "execution_count": 7,
      "outputs": []
    },
    {
      "cell_type": "code",
      "metadata": {
        "id": "JIAiPJZpdldk"
      },
      "source": [
        "def return_coordinates(place,type):\n",
        "    '''\n",
        "    Returns coordinates of the place.\n",
        "        The place must be the name (in polish) of voivodeship in Poland, city, or the district of Warsaw.\n",
        "    '''\n",
        "    \n",
        "    coordinates = [None, None]\n",
        "    place = place.lower()\n",
        "    if type=='V':\n",
        "      print('voivodeships',place)\n",
        "\n",
        "      try:\n",
        "          voivodeships = get_voivodeships()\n",
        "          coordinates_df = voivodeships.loc[voivodeships['voivodeship'].str.contains(place) == True, ['latitude', 'longitude']]\n",
        "          coordinates = coordinates_df.values.tolist()[0]       \n",
        "      except Exception as e:\n",
        "        print(e)\n",
        "    elif type=='D':\n",
        "      print('warsaw districts',place)\n",
        "      try:\n",
        "          counties = get_counties()\n",
        "          coordinates_df = counties.loc[counties['warsaw_district'].str.contains(place) == True, ['latitude', 'longitude']]\n",
        "          coordinates = coordinates_df.values.tolist()[0]\n",
        "      except Exception as e:\n",
        "          print(e)\n",
        "    elif type=='C':   \n",
        "      print('cities',place)\n",
        "      try:\n",
        "          cities = get_cities()\n",
        "          coordinates_df = cities.loc[cities['city'].str.contains(place) == True, ['latitude', 'longitude']]\n",
        "          coordinates = coordinates_df.values.tolist()[0]\n",
        "      except Exception as e:\n",
        "          print(e)   \n",
        "    print(coordinates)\n",
        "    return coordinates"
      ],
      "execution_count": 8,
      "outputs": []
    },
    {
      "cell_type": "code",
      "metadata": {
        "id": "lyCylFst7j1X"
      },
      "source": [
        "def makeDataFrame(file):\n",
        "    dfMazowieckie=pd.read_csv(file,index_col=0)\n",
        "    concat=dfMazowieckie\n",
        "    concat['powierzchnia_corr'] = concat['powierzchnia'].apply(lambda x: toNum1(x))\n",
        "    concat['powierzchniaDzialki_corr'] = concat['powierzchniaDzialki'].apply(lambda x: toNum2(x))\n",
        "    concat['cena_corr'] = concat['cena'].apply(lambda x: toNum2(x))\n",
        "    concat['rokBudowy_corr'] = concat['rokBudowy'].apply(lambda x: toNum3(x))\n",
        "    concat['cena/m'] = concat['cena_corr'] / concat['powierzchnia_corr']\n",
        "    concat['lPieter_crr'] = concat['lPieter'].apply(lambda x: pietra(x))\n",
        "    concat = concat[concat['powierzchnia_corr'] > 0]\n",
        "    concat = concat[concat['cena_corr'] > 0]\n",
        "    concat['lPokoi'] = concat['lPokoi'].apply(lambda x: toNum3(x))\n",
        "    concat['districts']=concat['dzielnica'].apply(lambda x: x.split()[4])\n",
        "    cities_corr=concat['dzielnica'].apply(lambda x: cities(x))\n",
        "    concat['cities_corr']=cities_corr\n",
        "    region_corr=concat['dzielnica'].apply(lambda x: region(x))\n",
        "    concat['region_corr']=region_corr\n",
        "    concat_dropped = concat.drop(['dzielnica', 'powierzchnia', 'powierzchniaDzialki', 'lPieter', 'cena', 'cena_corr',], axis=1)\n",
        "    #['rokBudowy_corr'] = concat_dropped['rokBudowy_corr'].replace(to_replace=0, value=1990)\n",
        "    concat_dropped['rokBudowy_corr'] = concat_dropped['rokBudowy_corr'].astype('int')\n",
        "    concat_dropped.loc[concat_dropped['rokBudowy_corr']<1900,'rokBudowy_corr']=1980\n",
        "    concat_dropped.loc[concat_dropped['rokBudowy_corr']>2030,'rokBudowy_corr']=2020\n",
        "    #concat_dropped = concat_dropped[concat_dropped['rokBudowy_corr'] < 2030]\n",
        "    concat_dropped = concat_dropped.fillna(0)\n",
        "    concat_dropped = concat_dropped[concat_dropped['cena/m'] < 20000]\n",
        "    concat_dropped['cena/m'].hist(bins=200)\n",
        "\n",
        "    #concat_dropped_dumm = pd.get_dummies(concat_dropped, columns=['rodzajZabudowy', 'materialBudynku', 'stanWykonczenia', 'okna', 'rynek',\n",
        "    #                                       'cities_corr','districts','region_corr'])\n",
        "    \n",
        "    cityData=concat_dropped.cities_corr.apply(lambda x: funCities(x))\n",
        "    locationCities=locCities(cityData)\n",
        "    districtsData=concat_dropped.region_corr.apply(lambda x: funDistricts(x))\n",
        "    locationDistricts=locCities(districtsData)\n",
        "    countyData=concat_dropped.districts.apply(lambda x: funCounties(x))\n",
        "    locationCounty=locCounties(countyData)\n",
        "\n",
        "    concat_dropped_reset=concat_dropped.reset_index().drop(['index'],axis=1)\n",
        "    locations= pd.concat([locationCities,locationDistricts,locationCounty], axis=1)\n",
        "    concat_dropped_reset['locationX']=locations.apply(selectLocationX,axis=1)\n",
        "    concat_dropped_reset['locationY']=locations.apply(selectLocationY,axis=1)\n",
        "    concat_dropped_reset_drop = concat_dropped_reset.drop(['rokBudowy', 'districts', 'cities_corr', 'region_corr'], axis=1)\n",
        "    final = pd.get_dummies(concat_dropped_reset_drop, columns=['rodzajZabudowy', 'materialBudynku', 'stanWykonczenia', 'okna', 'rynek'])\n",
        "\n",
        "    return final"
      ],
      "execution_count": 9,
      "outputs": []
    },
    {
      "cell_type": "code",
      "metadata": {
        "id": "lAA1mSAY9P8O"
      },
      "source": [
        "def funCities(x):\n",
        "  rows=dfCities.loc[dfCities['city']==x.lower()]\n",
        "  precision=0\n",
        "  if rows.shape[0]==0:\n",
        "    return 0,0,100\n",
        "  elif rows.shape[0]==1:\n",
        "    longitude=rows.longitude.values\n",
        "    latitude=rows.latitude.values\n",
        "    precision=rows.geoPrecision.values\n",
        "    return longitude[0],latitude[0],precision[0]\n",
        "  elif rows.shape[0]>1:\n",
        "    prec1,prec2=rows.iloc[0,3],rows.iloc[1,3]\n",
        "    if prec1<prec2:\n",
        "      precision=prec1\n",
        "      longitude=rows.iloc[0,2]\n",
        "      latitude=rows.iloc[0,1]\n",
        "    else:\n",
        "      precision=prec2\n",
        "      longitude=rows.iloc[1,2]\n",
        "      latitude=rows.iloc[1,1]\n",
        "    return longitude,latitude,precision"
      ],
      "execution_count": 10,
      "outputs": []
    },
    {
      "cell_type": "code",
      "metadata": {
        "id": "quM6ZeSO9UdN"
      },
      "source": [
        "def funDistricts(x):\n",
        "  rows=dfWarsawDistricts.loc[dfWarsawDistricts['warsaw_district']==x.lower()]\n",
        "  #print(x, ' ',rows.shape[0])\n",
        "  if rows.shape[0]==0:\n",
        "    return 0,0,100\n",
        "  elif rows.shape[0]==1:\n",
        "    longitude=rows.longitude.values\n",
        "    latitude=rows.latitude.values\n",
        "    precision=rows.geoPrecision.values\n",
        "    return longitude[0],latitude[0],precision[0]"
      ],
      "execution_count": 11,
      "outputs": []
    },
    {
      "cell_type": "code",
      "metadata": {
        "id": "domiHiOr9R4d"
      },
      "source": [
        "def funCounties(x):\n",
        "  try:\n",
        "    rows=dfCounties.loc['powiat '+x.lower()== dfCounties['county']]\n",
        "  except Exception as e:\n",
        "    return e\n",
        "  #print(x, ' ',rows.shape[0])\n",
        "  if rows.shape[0]==0:\n",
        "    return 0,0,100\n",
        "  elif rows.shape[0]==1:\n",
        "    longitude=rows.longitude.values\n",
        "    latitude=rows.latitude.values\n",
        "    precision=rows.geoPrecision.values\n",
        "    return longitude[0],latitude[0],precision[0]"
      ],
      "execution_count": 12,
      "outputs": []
    },
    {
      "cell_type": "code",
      "metadata": {
        "id": "AW1CIMKJfS3d"
      },
      "source": [
        "def selectLocationX(x):\n",
        " # print(x[17],x[20],x[23])\n",
        "  if x[2]<min(x[5],x[8]):\n",
        "    #print('min 17',x[15],x[16])\n",
        "    return x[0]\n",
        "  elif x[5]<min(x[2],x[8]):\n",
        "    #print('min 20 ',x[18],x[19])\n",
        "    return x[3]\n",
        "  elif x[8]<min(x[2],x[5]):\n",
        "    #print('min 23 ',x[21],x[22])\n",
        "    return x[6]\n",
        "\n",
        "def selectLocationY(x):\n",
        " # print(x[17],x[20],x[23])\n",
        "  if x[2]<min(x[5],x[8]):\n",
        "    #print('min 17',x[15],x[16])\n",
        "    return x[1]\n",
        "  elif x[5]<min(x[2],x[8]):\n",
        "    #print('min 20 ',x[18],x[19])\n",
        "    return x[4]\n",
        "  elif x[8]<min(x[2],x[5]):\n",
        "    #print('min 23 ',x[21],x[22])\n",
        "    return x[7]"
      ],
      "execution_count": 13,
      "outputs": []
    },
    {
      "cell_type": "code",
      "metadata": {
        "id": "Z4XnJiBnZlgN"
      },
      "source": [
        "def locCities(cityData):\n",
        "  locationCities=[]\n",
        "  for data in cityData:\n",
        "    locationCities.append(data)\n",
        "  locationCities=pd.DataFrame(np.array(locationCities),columns=['cityX','cityY','cityGeo'])\n",
        "  return locationCities\n",
        "\n",
        "def locDistricts(districtsData):\n",
        "  locationCities=[]\n",
        "  for data in cityData:\n",
        "    locationDistricts.append(data)\n",
        "  locationDistricts=pd.DataFrame(np.array(locationDistricts),columns=['cityX','cityY','cityGeo'])\n",
        "  return locationDistricts\n",
        "\n",
        "def locCounties(countyData):\n",
        "  locationCounty=[]\n",
        "  for data in countyData:\n",
        "    locationCounty.append(data)\n",
        "  locationCounty=pd.DataFrame(np.array(locationCounty),columns=['countyX','countyY','countyGeo'])\n",
        "  return locationCounty"
      ],
      "execution_count": 14,
      "outputs": []
    },
    {
      "cell_type": "code",
      "metadata": {
        "id": "qmOjGx4Z7lbR"
      },
      "source": [
        "filename='/content/drive/My Drive/domymazowieckie/dfMazowieckie.csv'\n",
        "dfCities=get_cities()\n",
        "dfCounties=get_counties()\n",
        "dfVoivodeships=get_voivodeships()\n",
        "dfWarsawDistricts=get_warsaw_districts()"
      ],
      "execution_count": 15,
      "outputs": []
    },
    {
      "cell_type": "code",
      "metadata": {
        "colab": {
          "base_uri": "https://localhost:8080/",
          "height": 264
        },
        "id": "hl-GYCGD7mwf",
        "outputId": "5b5fc67f-ae7e-4153-f498-bcf0c1d69c76"
      },
      "source": [
        "final=makeDataFrame(filename)"
      ],
      "execution_count": 16,
      "outputs": [
        {
          "output_type": "display_data",
          "data": {
            "image/png": "[encoded data removed]",
            "text/plain": [
              "<Figure size 432x288 with 1 Axes>"
            ]
          },
          "metadata": {
            "needs_background": "light"
          }
        }
      ]
    },
    {
      "cell_type": "code",
      "metadata": {
        "colab": {
          "base_uri": "https://localhost:8080/"
        },
        "id": "FXkvq00GIjDx",
        "outputId": "aed16f52-17a4-4f72-978a-7e37b7e9a4a3"
      },
      "source": [
        "final.shape"
      ],
      "execution_count": 17,
      "outputs": [
        {
          "output_type": "execute_result",
          "data": {
            "text/plain": [
              "(7823, 37)"
            ]
          },
          "metadata": {},
          "execution_count": 17
        }
      ]
    },
    {
      "cell_type": "code",
      "metadata": {
        "id": "UZWpjluqKkdW"
      },
      "source": [
        "filename_json='/content/drive/My Drive/domymazowieckie/dfMazowieckie.json'"
      ],
      "execution_count": 18,
      "outputs": []
    },
    {
      "cell_type": "code",
      "metadata": {
        "id": "Gz8dYhWJKaYw"
      },
      "source": [
        "final.to_json(filename_json)"
      ],
      "execution_count": 19,
      "outputs": []
    },
    {
      "cell_type": "code",
      "metadata": {
        "id": "o-tN-Z-L0dJ6"
      },
      "source": [
        "from sklearn import preprocessing"
      ],
      "execution_count": 20,
      "outputs": []
    },
    {
      "cell_type": "code",
      "metadata": {
        "id": "pXBZJwUiQ43J"
      },
      "source": [
        "df=final.copy()"
      ],
      "execution_count": 21,
      "outputs": []
    },
    {
      "cell_type": "code",
      "metadata": {
        "id": "2hhJyZBvRB7v"
      },
      "source": [
        "df['lPokoi']=final.loc[:,'lPokoi']/10\n",
        "df[\"powierzchnia_corr\"]=np.log(final[\"powierzchnia_corr\"])/10\n",
        "df[\"powierzchniaDzialki_corr\"]=np.log(final[\"powierzchniaDzialki_corr\"]+1)/14\n",
        "df[\"rokBudowy_corr\"]=np.power(final[\"rokBudowy_corr\"]-1899,4)/3e8\n",
        "df[\"cena/m\"]=final[\"cena/m\"]/20000"
      ],
      "execution_count": 22,
      "outputs": []
    },
    {
      "cell_type": "code",
      "metadata": {
        "colab": {
          "base_uri": "https://localhost:8080/",
          "height": 335
        },
        "id": "ffZlHNQaDKfW",
        "outputId": "9800041f-312b-4383-dcab-f6972cbf9b88"
      },
      "source": [
        "plt.hist(final.loc[:,'lPokoi']/10)"
      ],
      "execution_count": 23,
      "outputs": [
        {
          "output_type": "execute_result",
          "data": {
            "text/plain": [
              "(array([   8.,   36.,  638.,    0., 1651., 3743.,  697.,    0.,  405.,\n",
              "         645.]),\n",
              " array([0. , 0.1, 0.2, 0.3, 0.4, 0.5, 0.6, 0.7, 0.8, 0.9, 1. ]),\n",
              " <a list of 10 Patch objects>)"
            ]
          },
          "metadata": {},
          "execution_count": 23
        },
        {
          "output_type": "display_data",
          "data": {
            "image/png": "[encoded data removed]",
            "text/plain": [
              "<Figure size 432x288 with 1 Axes>"
            ]
          },
          "metadata": {
            "needs_background": "light"
          }
        }
      ]
    },
    {
      "cell_type": "code",
      "metadata": {
        "colab": {
          "base_uri": "https://localhost:8080/",
          "height": 297
        },
        "id": "jS1BFK5NFkCJ",
        "outputId": "daf339f5-5157-45ad-e987-384871f877de"
      },
      "source": [
        "sns.boxplot(x=(np.log(final[\"powierzchnia_corr\"])/10))"
      ],
      "execution_count": 24,
      "outputs": [
        {
          "output_type": "execute_result",
          "data": {
            "text/plain": [
              "<matplotlib.axes._subplots.AxesSubplot at 0x7ffa841d7310>"
            ]
          },
          "metadata": {},
          "execution_count": 24
        },
        {
          "output_type": "display_data",
          "data": {
            "image/png": "[encoded data removed]",
            "text/plain": [
              "<Figure size 432x288 with 1 Axes>"
            ]
          },
          "metadata": {
            "needs_background": "light"
          }
        }
      ]
    },
    {
      "cell_type": "code",
      "metadata": {
        "colab": {
          "base_uri": "https://localhost:8080/",
          "height": 297
        },
        "id": "O6Qi89r8GWTJ",
        "outputId": "a03b5b24-148a-4cfb-d694-87a11d4dc4ea"
      },
      "source": [
        "sns.boxplot(x=(np.log(final[\"powierzchniaDzialki_corr\"]+1)/14))"
      ],
      "execution_count": 25,
      "outputs": [
        {
          "output_type": "execute_result",
          "data": {
            "text/plain": [
              "<matplotlib.axes._subplots.AxesSubplot at 0x7ffa83a846d0>"
            ]
          },
          "metadata": {},
          "execution_count": 25
        },
        {
          "output_type": "display_data",
          "data": {
            "image/png": "[encoded data removed]",
            "text/plain": [
              "<Figure size 432x288 with 1 Axes>"
            ]
          },
          "metadata": {
            "needs_background": "light"
          }
        }
      ]
    },
    {
      "cell_type": "code",
      "metadata": {
        "colab": {
          "base_uri": "https://localhost:8080/",
          "height": 297
        },
        "id": "TIFvJRm_GlIl",
        "outputId": "db9cde70-5fb9-4cee-d7ba-d13395ccd68d"
      },
      "source": [
        "sns.boxplot(x=(np.power(final[\"rokBudowy_corr\"]-1899,4)/3e8))"
      ],
      "execution_count": 26,
      "outputs": [
        {
          "output_type": "execute_result",
          "data": {
            "text/plain": [
              "<matplotlib.axes._subplots.AxesSubplot at 0x7ffa83e28350>"
            ]
          },
          "metadata": {},
          "execution_count": 26
        },
        {
          "output_type": "display_data",
          "data": {
            "image/png": "[encoded data removed]",
            "text/plain": [
              "<Figure size 432x288 with 1 Axes>"
            ]
          },
          "metadata": {
            "needs_background": "light"
          }
        }
      ]
    },
    {
      "cell_type": "code",
      "metadata": {
        "colab": {
          "base_uri": "https://localhost:8080/",
          "height": 371
        },
        "id": "dxoUv1XPKlDA",
        "outputId": "8b4e0783-dfdf-4629-d077-0f72c062a466"
      },
      "source": [
        "plt.hist(np.power(final[\"rokBudowy_corr\"]-1899,4)/3e8)"
      ],
      "execution_count": 27,
      "outputs": [
        {
          "output_type": "execute_result",
          "data": {
            "text/plain": [
              "(array([ 453., 1386.,  406.,  441.,  874.,  844.,  670.,  358.,  429.,\n",
              "        1962.]),\n",
              " array([3.33333333e-09, 7.88071283e-02, 1.57614253e-01, 2.36421378e-01,\n",
              "        3.15228503e-01, 3.94035628e-01, 4.72842753e-01, 5.51649878e-01,\n",
              "        6.30457003e-01, 7.09264128e-01, 7.88071253e-01]),\n",
              " <a list of 10 Patch objects>)"
            ]
          },
          "metadata": {},
          "execution_count": 27
        },
        {
          "output_type": "display_data",
          "data": {
            "image/png": "[encoded data removed]",
            "text/plain": [
              "<Figure size 432x288 with 1 Axes>"
            ]
          },
          "metadata": {
            "needs_background": "light"
          }
        }
      ]
    },
    {
      "cell_type": "code",
      "metadata": {
        "colab": {
          "base_uri": "https://localhost:8080/",
          "height": 296
        },
        "id": "2NyrjT8CMiny",
        "outputId": "9cd970d1-5178-4d80-ed5d-b4fbe7e3d426"
      },
      "source": [
        "sns.boxplot(x=final[\"cena/m\"]/20000)"
      ],
      "execution_count": 28,
      "outputs": [
        {
          "output_type": "execute_result",
          "data": {
            "text/plain": [
              "<matplotlib.axes._subplots.AxesSubplot at 0x7ffa83cddc90>"
            ]
          },
          "metadata": {},
          "execution_count": 28
        },
        {
          "output_type": "display_data",
          "data": {
            "image/png": "[encoded data removed]",
            "text/plain": [
              "<Figure size 432x288 with 1 Axes>"
            ]
          },
          "metadata": {
            "needs_background": "light"
          }
        }
      ]
    },
    {
      "cell_type": "code",
      "metadata": {
        "colab": {
          "base_uri": "https://localhost:8080/",
          "height": 297
        },
        "id": "yHQa0jmgM3tO",
        "outputId": "3566134e-3921-43a7-e027-03d5077cee98"
      },
      "source": [
        "sns.boxplot(x=final[\"lPieter_crr\"]/10)"
      ],
      "execution_count": 29,
      "outputs": [
        {
          "output_type": "execute_result",
          "data": {
            "text/plain": [
              "<matplotlib.axes._subplots.AxesSubplot at 0x7ffa83a67e10>"
            ]
          },
          "metadata": {},
          "execution_count": 29
        },
        {
          "output_type": "display_data",
          "data": {
            "image/png": "[encoded data removed]",
            "text/plain": [
              "<Figure size 432x288 with 1 Axes>"
            ]
          },
          "metadata": {
            "needs_background": "light"
          }
        }
      ]
    },
    {
      "cell_type": "code",
      "metadata": {
        "colab": {
          "base_uri": "https://localhost:8080/",
          "height": 335
        },
        "id": "CpjahNPgNFWG",
        "outputId": "0fad9fec-37b4-4221-c52c-e1911684eae0"
      },
      "source": [
        "plt.hist(final[\"lPieter_crr\"]/10)"
      ],
      "execution_count": 30,
      "outputs": [
        {
          "output_type": "execute_result",
          "data": {
            "text/plain": [
              "(array([2569.,    0.,    0., 3286.,    0.,    0., 1630.,    0.,    0.,\n",
              "         338.]),\n",
              " array([0.  , 0.03, 0.06, 0.09, 0.12, 0.15, 0.18, 0.21, 0.24, 0.27, 0.3 ]),\n",
              " <a list of 10 Patch objects>)"
            ]
          },
          "metadata": {},
          "execution_count": 30
        },
        {
          "output_type": "display_data",
          "data": {
            "image/png": "[encoded data removed]",
            "text/plain": [
              "<Figure size 432x288 with 1 Axes>"
            ]
          },
          "metadata": {
            "needs_background": "light"
          }
        }
      ]
    },
    {
      "cell_type": "code",
      "metadata": {
        "colab": {
          "base_uri": "https://localhost:8080/",
          "height": 371
        },
        "id": "fB9L8WI_NL43",
        "outputId": "61f76a55-5ed2-4b78-9b0b-b6e57718da83"
      },
      "source": [
        "plt.hist((final[\"locationX\"]-21)/4)"
      ],
      "execution_count": 31,
      "outputs": [
        {
          "output_type": "execute_result",
          "data": {
            "text/plain": [
              "(array([1.000e+00, 2.000e+00, 1.000e+00, 0.000e+00, 1.700e+01, 1.570e+02,\n",
              "        2.710e+02, 5.214e+03, 6.870e+02, 1.150e+02]),\n",
              " array([-1.42291667, -1.23770833, -1.0525    , -0.86729167, -0.68208333,\n",
              "        -0.496875  , -0.31166667, -0.12645833,  0.05875   ,  0.24395833,\n",
              "         0.42916667]),\n",
              " <a list of 10 Patch objects>)"
            ]
          },
          "metadata": {},
          "execution_count": 31
        },
        {
          "output_type": "display_data",
          "data": {
            "image/png": "[encoded data removed]",
            "text/plain": [
              "<Figure size 432x288 with 1 Axes>"
            ]
          },
          "metadata": {
            "needs_background": "light"
          }
        }
      ]
    },
    {
      "cell_type": "code",
      "metadata": {
        "colab": {
          "base_uri": "https://localhost:8080/",
          "height": 371
        },
        "id": "lGiQ-Rv7PUsY",
        "outputId": "8ce8b20e-995d-4f5b-b67f-c4a17122d933"
      },
      "source": [
        "plt.hist((final[\"locationY\"]-52)/2)"
      ],
      "execution_count": 32,
      "outputs": [
        {
          "output_type": "execute_result",
          "data": {
            "text/plain": [
              "(array([1.000e+00, 3.100e+01, 5.400e+01, 2.160e+02, 5.200e+01, 3.094e+03,\n",
              "        2.597e+03, 2.670e+02, 1.310e+02, 2.200e+01]),\n",
              " array([-1.00208333, -0.81940278, -0.63672222, -0.45404167, -0.27136111,\n",
              "        -0.08868056,  0.094     ,  0.27668056,  0.45936111,  0.64204167,\n",
              "         0.82472222]),\n",
              " <a list of 10 Patch objects>)"
            ]
          },
          "metadata": {},
          "execution_count": 32
        },
        {
          "output_type": "display_data",
          "data": {
            "image/png": "[encoded data removed]",
            "text/plain": [
              "<Figure size 432x288 with 1 Axes>"
            ]
          },
          "metadata": {
            "needs_background": "light"
          }
        }
      ]
    },
    {
      "cell_type": "code",
      "metadata": {
        "colab": {
          "base_uri": "https://localhost:8080/",
          "height": 238
        },
        "id": "JeO3l4r6DDRX",
        "outputId": "285ed86e-11b2-4743-82dd-67a1eeb6bef4"
      },
      "source": [
        "final.head()"
      ],
      "execution_count": 33,
      "outputs": [
        {
          "output_type": "execute_result",
          "data": {
            "text/html": [
              "<div>\n",
              "<style scoped>\n",
              "    .dataframe tbody tr th:only-of-type {\n",
              "        vertical-align: middle;\n",
              "    }\n",
              "\n",
              "    .dataframe tbody tr th {\n",
              "        vertical-align: top;\n",
              "    }\n",
              "\n",
              "    .dataframe thead th {\n",
              "        text-align: right;\n",
              "    }\n",
              "</style>\n",
              "<table border=\"1\" class=\"dataframe\">\n",
              "  <thead>\n",
              "    <tr style=\"text-align: right;\">\n",
              "      <th></th>\n",
              "      <th>lPokoi</th>\n",
              "      <th>powierzchnia_corr</th>\n",
              "      <th>powierzchniaDzialki_corr</th>\n",
              "      <th>rokBudowy_corr</th>\n",
              "      <th>cena/m</th>\n",
              "      <th>lPieter_crr</th>\n",
              "      <th>locationX</th>\n",
              "      <th>locationY</th>\n",
              "      <th>rodzajZabudowy_0</th>\n",
              "      <th>rodzajZabudowy_bliźniak</th>\n",
              "      <th>rodzajZabudowy_dworek/pałac</th>\n",
              "      <th>rodzajZabudowy_gospodarstwo</th>\n",
              "      <th>rodzajZabudowy_kamienica</th>\n",
              "      <th>rodzajZabudowy_szeregowiec</th>\n",
              "      <th>rodzajZabudowy_wolnostojący</th>\n",
              "      <th>materialBudynku_0</th>\n",
              "      <th>materialBudynku_beton</th>\n",
              "      <th>materialBudynku_beton komórkowy</th>\n",
              "      <th>materialBudynku_cegła</th>\n",
              "      <th>materialBudynku_drewno</th>\n",
              "      <th>materialBudynku_inne</th>\n",
              "      <th>materialBudynku_keramzyt</th>\n",
              "      <th>materialBudynku_pustak</th>\n",
              "      <th>materialBudynku_silikat</th>\n",
              "      <th>stanWykonczenia_0</th>\n",
              "      <th>stanWykonczenia_do remontu</th>\n",
              "      <th>stanWykonczenia_do wykończenia</th>\n",
              "      <th>stanWykonczenia_do zamieszkania</th>\n",
              "      <th>stanWykonczenia_stan surowy otwarty</th>\n",
              "      <th>stanWykonczenia_stan surowy zamknięty</th>\n",
              "      <th>okna_0</th>\n",
              "      <th>okna_aluminiowe</th>\n",
              "      <th>okna_brak</th>\n",
              "      <th>okna_drewniane</th>\n",
              "      <th>okna_plastikowe</th>\n",
              "      <th>rynek_pierwotny</th>\n",
              "      <th>rynek_wtórny</th>\n",
              "    </tr>\n",
              "  </thead>\n",
              "  <tbody>\n",
              "    <tr>\n",
              "      <th>0</th>\n",
              "      <td>6</td>\n",
              "      <td>320.00</td>\n",
              "      <td>1000</td>\n",
              "      <td>2019</td>\n",
              "      <td>6062.503125</td>\n",
              "      <td>1</td>\n",
              "      <td>21.223696</td>\n",
              "      <td>52.245856</td>\n",
              "      <td>0</td>\n",
              "      <td>0</td>\n",
              "      <td>0</td>\n",
              "      <td>0</td>\n",
              "      <td>0</td>\n",
              "      <td>0</td>\n",
              "      <td>1</td>\n",
              "      <td>0</td>\n",
              "      <td>0</td>\n",
              "      <td>0</td>\n",
              "      <td>1</td>\n",
              "      <td>0</td>\n",
              "      <td>0</td>\n",
              "      <td>0</td>\n",
              "      <td>0</td>\n",
              "      <td>0</td>\n",
              "      <td>0</td>\n",
              "      <td>0</td>\n",
              "      <td>1</td>\n",
              "      <td>0</td>\n",
              "      <td>0</td>\n",
              "      <td>0</td>\n",
              "      <td>1</td>\n",
              "      <td>0</td>\n",
              "      <td>0</td>\n",
              "      <td>0</td>\n",
              "      <td>0</td>\n",
              "      <td>0</td>\n",
              "      <td>1</td>\n",
              "    </tr>\n",
              "    <tr>\n",
              "      <th>1</th>\n",
              "      <td>5</td>\n",
              "      <td>154.00</td>\n",
              "      <td>750</td>\n",
              "      <td>2021</td>\n",
              "      <td>5186.363636</td>\n",
              "      <td>0</td>\n",
              "      <td>20.625000</td>\n",
              "      <td>52.108889</td>\n",
              "      <td>1</td>\n",
              "      <td>0</td>\n",
              "      <td>0</td>\n",
              "      <td>0</td>\n",
              "      <td>0</td>\n",
              "      <td>0</td>\n",
              "      <td>0</td>\n",
              "      <td>0</td>\n",
              "      <td>0</td>\n",
              "      <td>1</td>\n",
              "      <td>0</td>\n",
              "      <td>0</td>\n",
              "      <td>0</td>\n",
              "      <td>0</td>\n",
              "      <td>0</td>\n",
              "      <td>0</td>\n",
              "      <td>0</td>\n",
              "      <td>0</td>\n",
              "      <td>1</td>\n",
              "      <td>0</td>\n",
              "      <td>0</td>\n",
              "      <td>0</td>\n",
              "      <td>0</td>\n",
              "      <td>0</td>\n",
              "      <td>0</td>\n",
              "      <td>0</td>\n",
              "      <td>1</td>\n",
              "      <td>1</td>\n",
              "      <td>0</td>\n",
              "    </tr>\n",
              "    <tr>\n",
              "      <th>2</th>\n",
              "      <td>3</td>\n",
              "      <td>80.00</td>\n",
              "      <td>2356</td>\n",
              "      <td>1950</td>\n",
              "      <td>5612.500000</td>\n",
              "      <td>1</td>\n",
              "      <td>20.683333</td>\n",
              "      <td>52.433333</td>\n",
              "      <td>0</td>\n",
              "      <td>0</td>\n",
              "      <td>0</td>\n",
              "      <td>0</td>\n",
              "      <td>0</td>\n",
              "      <td>0</td>\n",
              "      <td>1</td>\n",
              "      <td>1</td>\n",
              "      <td>0</td>\n",
              "      <td>0</td>\n",
              "      <td>0</td>\n",
              "      <td>0</td>\n",
              "      <td>0</td>\n",
              "      <td>0</td>\n",
              "      <td>0</td>\n",
              "      <td>0</td>\n",
              "      <td>0</td>\n",
              "      <td>1</td>\n",
              "      <td>0</td>\n",
              "      <td>0</td>\n",
              "      <td>0</td>\n",
              "      <td>0</td>\n",
              "      <td>1</td>\n",
              "      <td>0</td>\n",
              "      <td>0</td>\n",
              "      <td>0</td>\n",
              "      <td>0</td>\n",
              "      <td>0</td>\n",
              "      <td>1</td>\n",
              "    </tr>\n",
              "    <tr>\n",
              "      <th>3</th>\n",
              "      <td>4</td>\n",
              "      <td>152.91</td>\n",
              "      <td>220</td>\n",
              "      <td>2022</td>\n",
              "      <td>4250.866523</td>\n",
              "      <td>1</td>\n",
              "      <td>21.016667</td>\n",
              "      <td>52.066667</td>\n",
              "      <td>0</td>\n",
              "      <td>1</td>\n",
              "      <td>0</td>\n",
              "      <td>0</td>\n",
              "      <td>0</td>\n",
              "      <td>0</td>\n",
              "      <td>0</td>\n",
              "      <td>0</td>\n",
              "      <td>0</td>\n",
              "      <td>0</td>\n",
              "      <td>0</td>\n",
              "      <td>0</td>\n",
              "      <td>0</td>\n",
              "      <td>0</td>\n",
              "      <td>0</td>\n",
              "      <td>1</td>\n",
              "      <td>0</td>\n",
              "      <td>0</td>\n",
              "      <td>1</td>\n",
              "      <td>0</td>\n",
              "      <td>0</td>\n",
              "      <td>0</td>\n",
              "      <td>0</td>\n",
              "      <td>0</td>\n",
              "      <td>0</td>\n",
              "      <td>0</td>\n",
              "      <td>1</td>\n",
              "      <td>1</td>\n",
              "      <td>0</td>\n",
              "    </tr>\n",
              "    <tr>\n",
              "      <th>4</th>\n",
              "      <td>4</td>\n",
              "      <td>106.00</td>\n",
              "      <td>960</td>\n",
              "      <td>2020</td>\n",
              "      <td>2924.528302</td>\n",
              "      <td>0</td>\n",
              "      <td>19.700000</td>\n",
              "      <td>52.550000</td>\n",
              "      <td>0</td>\n",
              "      <td>0</td>\n",
              "      <td>0</td>\n",
              "      <td>0</td>\n",
              "      <td>0</td>\n",
              "      <td>0</td>\n",
              "      <td>1</td>\n",
              "      <td>0</td>\n",
              "      <td>0</td>\n",
              "      <td>0</td>\n",
              "      <td>0</td>\n",
              "      <td>0</td>\n",
              "      <td>0</td>\n",
              "      <td>0</td>\n",
              "      <td>1</td>\n",
              "      <td>0</td>\n",
              "      <td>0</td>\n",
              "      <td>0</td>\n",
              "      <td>0</td>\n",
              "      <td>0</td>\n",
              "      <td>1</td>\n",
              "      <td>0</td>\n",
              "      <td>0</td>\n",
              "      <td>0</td>\n",
              "      <td>1</td>\n",
              "      <td>0</td>\n",
              "      <td>0</td>\n",
              "      <td>1</td>\n",
              "      <td>0</td>\n",
              "    </tr>\n",
              "  </tbody>\n",
              "</table>\n",
              "</div>"
            ],
            "text/plain": [
              "   lPokoi  powierzchnia_corr  ...  rynek_pierwotny  rynek_wtórny\n",
              "0       6             320.00  ...                0             1\n",
              "1       5             154.00  ...                1             0\n",
              "2       3              80.00  ...                0             1\n",
              "3       4             152.91  ...                1             0\n",
              "4       4             106.00  ...                1             0\n",
              "\n",
              "[5 rows x 37 columns]"
            ]
          },
          "metadata": {},
          "execution_count": 33
        }
      ]
    },
    {
      "cell_type": "code",
      "metadata": {
        "id": "-KEHBeUP0JFb"
      },
      "source": [
        "#min_max_scaler = preprocessing.MinMaxScaler()\n",
        "#data_scaled = min_max_scaler.fit_transform(final.values)\n",
        "#df = pd.DataFrame(data_scaled ,columns=final.columns.values)\n",
        "#df  = df.fillna(0)"
      ],
      "execution_count": 34,
      "outputs": []
    },
    {
      "cell_type": "markdown",
      "metadata": {
        "id": "zbQNI8K2OjRc"
      },
      "source": [
        "NORMALIZACJA!!!!!!!!!!!!!!!!"
      ]
    },
    {
      "cell_type": "code",
      "metadata": {
        "id": "z_Rghy5nwEK8"
      },
      "source": [
        "df=final.copy()\n",
        "df['lPokoi']=final.loc[:,'lPokoi']/10\n",
        "df[\"powierzchnia_corr\"]=np.log(final[\"powierzchnia_corr\"])/10\n",
        "df[\"powierzchniaDzialki_corr\"]=np.log(final[\"powierzchniaDzialki_corr\"]+1)/14\n",
        "df[\"rokBudowy_corr\"]=np.power(final[\"rokBudowy_corr\"]-1899,4)/3e8\n",
        "df[\"cena/m\"]=final[\"cena/m\"]/20000"
      ],
      "execution_count": 35,
      "outputs": []
    },
    {
      "cell_type": "markdown",
      "metadata": {
        "id": "18EcJ-8_OqNJ"
      },
      "source": [
        "NORMALIZACJA!!!!!!!!!!!!!!!!!"
      ]
    },
    {
      "cell_type": "code",
      "metadata": {
        "id": "jYAphnrQSKWb"
      },
      "source": [
        "df  = df.fillna(0)"
      ],
      "execution_count": 36,
      "outputs": []
    },
    {
      "cell_type": "code",
      "metadata": {
        "id": "MBwn93vEK2hR"
      },
      "source": [
        "filename_json1='/content/drive/My Drive/domymazowieckie/dfMazowieckieClean.json'\n",
        "df.to_json(filename_json1)"
      ],
      "execution_count": 37,
      "outputs": []
    },
    {
      "cell_type": "code",
      "metadata": {
        "id": "Hks9GYwX8Anv"
      },
      "source": [
        "import tensorflow as tf\n",
        "import tensorflow as tfCore\n",
        "import math\n",
        "from IPython.core.magic import register_line_magic\n",
        "from IPython.display import Javascript\n"
      ],
      "execution_count": 38,
      "outputs": []
    },
    {
      "cell_type": "code",
      "metadata": {
        "id": "6YO21H98VWUX"
      },
      "source": [
        "train_dataset = df.sample(frac=0.8, random_state=0)\n",
        "test_dataset = df.drop(df.index)"
      ],
      "execution_count": 39,
      "outputs": []
    },
    {
      "cell_type": "code",
      "metadata": {
        "id": "AK8A7ILoVYA3"
      },
      "source": [
        "train_features = train_dataset.copy()\n",
        "test_features = test_dataset.copy()\n",
        "\n",
        "train_labels = train_features.pop('cena/m')\n",
        "test_labels = test_features.pop('cena/m')"
      ],
      "execution_count": 40,
      "outputs": []
    },
    {
      "cell_type": "code",
      "metadata": {
        "colab": {
          "base_uri": "https://localhost:8080/"
        },
        "id": "LWvSGrWYVaSX",
        "outputId": "703eabe6-e357-445f-9af0-34e3cc2a0d8b"
      },
      "source": [
        "from tensorflow.keras.layers.experimental import preprocessing\n",
        "normalizer = preprocessing.Normalization(axis=-1)\n",
        "normalizer.adapt(np.array(train_features))\n",
        "print(normalizer.mean.numpy())"
      ],
      "execution_count": 41,
      "outputs": [
        {
          "output_type": "stream",
          "name": "stdout",
          "text": [
            "[[5.4721934e-01 5.3305054e-01 4.6569228e-01 4.3212500e-01 9.6660328e-01\n",
            "  1.7257971e+01 4.3005791e+01 1.6043462e-01 1.9686791e-01 9.9073173e-03\n",
            "  2.8763171e-03 8.4691579e-03 8.3253436e-02 5.3819126e-01 3.6465326e-01\n",
            "  5.7526357e-03 4.7459267e-02 3.3620960e-01 2.8922979e-02 8.5650414e-02\n",
            "  1.2783635e-03 1.2192391e-01 8.1495708e-03 3.1271964e-01 6.6954322e-02\n",
            "  2.0949179e-01 3.8894203e-01 7.6701841e-03 1.4221795e-02 3.7280276e-01\n",
            "  1.5979547e-02 1.9175452e-03 1.4157878e-01 4.6772140e-01 2.4512625e-01\n",
            "  7.5487357e-01]]\n"
          ]
        }
      ]
    },
    {
      "cell_type": "code",
      "metadata": {
        "id": "gZzInZjbVczP"
      },
      "source": [
        "model= tf.keras.models.Sequential([\n",
        "                               #    normalizer,\n",
        "  tf.keras.layers.Dense(28, activation='relu'),\n",
        "  tf.keras.layers.Dense(32, activation='relu'),\n",
        "  tf.keras.layers.Dense(1, activation='linear'),\n",
        "])"
      ],
      "execution_count": 53,
      "outputs": []
    },
    {
      "cell_type": "code",
      "metadata": {
        "id": "KzAtA9nSVfHW"
      },
      "source": [
        "model.compile(loss='mean_absolute_error',\n",
        "              metrics=['mse',\"mae\",'acc'],optimizer=tf.optimizers.Adam(learning_rate=0.01))"
      ],
      "execution_count": 54,
      "outputs": []
    },
    {
      "cell_type": "code",
      "metadata": {
        "colab": {
          "base_uri": "https://localhost:8080/"
        },
        "id": "qUvtcdihVg_f",
        "outputId": "9f2ab3c3-e79c-4f3b-901b-8bf5c9b0920e"
      },
      "source": [
        "history = model.fit(\n",
        "    train_features, train_labels,\n",
        "    epochs=100,\n",
        "    # suppress logging\n",
        "    verbose=1,\n",
        "    # Calculate validation results on 20% of the training data\n",
        "    validation_split = 0.2)"
      ],
      "execution_count": 55,
      "outputs": [
        {
          "output_type": "stream",
          "name": "stdout",
          "text": [
            "Epoch 1/100\n",
            "157/157 [==============================] - 1s 4ms/step - loss: 0.3861 - mse: 1.0412 - mae: 0.3861 - acc: 0.0000e+00 - val_loss: 0.1887 - val_mse: 0.0547 - val_mae: 0.1887 - val_acc: 0.0000e+00\n",
            "Epoch 2/100\n",
            "157/157 [==============================] - 0s 2ms/step - loss: 0.1462 - mse: 0.0361 - mae: 0.1462 - acc: 0.0000e+00 - val_loss: 0.1082 - val_mse: 0.0200 - val_mae: 0.1082 - val_acc: 0.0000e+00\n",
            "Epoch 3/100\n",
            "157/157 [==============================] - 0s 2ms/step - loss: 0.1144 - mse: 0.0244 - mae: 0.1144 - acc: 0.0000e+00 - val_loss: 0.1062 - val_mse: 0.0232 - val_mae: 0.1062 - val_acc: 0.0000e+00\n",
            "Epoch 4/100\n",
            "157/157 [==============================] - 0s 2ms/step - loss: 0.1103 - mse: 0.0232 - mae: 0.1103 - acc: 0.0000e+00 - val_loss: 0.1014 - val_mse: 0.0201 - val_mae: 0.1014 - val_acc: 0.0000e+00\n",
            "Epoch 5/100\n",
            "157/157 [==============================] - 0s 2ms/step - loss: 0.1125 - mse: 0.0239 - mae: 0.1125 - acc: 0.0000e+00 - val_loss: 0.1015 - val_mse: 0.0195 - val_mae: 0.1015 - val_acc: 0.0000e+00\n",
            "Epoch 6/100\n",
            "157/157 [==============================] - 0s 2ms/step - loss: 0.1050 - mse: 0.0218 - mae: 0.1050 - acc: 0.0000e+00 - val_loss: 0.1045 - val_mse: 0.0226 - val_mae: 0.1045 - val_acc: 0.0000e+00\n",
            "Epoch 7/100\n",
            "157/157 [==============================] - 0s 2ms/step - loss: 0.1067 - mse: 0.0224 - mae: 0.1067 - acc: 0.0000e+00 - val_loss: 0.1011 - val_mse: 0.0207 - val_mae: 0.1011 - val_acc: 0.0000e+00\n",
            "Epoch 8/100\n",
            "157/157 [==============================] - 0s 2ms/step - loss: 0.1044 - mse: 0.0217 - mae: 0.1044 - acc: 0.0000e+00 - val_loss: 0.1022 - val_mse: 0.0193 - val_mae: 0.1022 - val_acc: 0.0000e+00\n",
            "Epoch 9/100\n",
            "157/157 [==============================] - 0s 2ms/step - loss: 0.1059 - mse: 0.0220 - mae: 0.1059 - acc: 0.0000e+00 - val_loss: 0.0994 - val_mse: 0.0191 - val_mae: 0.0994 - val_acc: 0.0000e+00\n",
            "Epoch 10/100\n",
            "157/157 [==============================] - 0s 2ms/step - loss: 0.1033 - mse: 0.0213 - mae: 0.1033 - acc: 0.0000e+00 - val_loss: 0.1009 - val_mse: 0.0205 - val_mae: 0.1009 - val_acc: 0.0000e+00\n",
            "Epoch 11/100\n",
            "157/157 [==============================] - 0s 2ms/step - loss: 0.1036 - mse: 0.0216 - mae: 0.1036 - acc: 0.0000e+00 - val_loss: 0.1017 - val_mse: 0.0209 - val_mae: 0.1017 - val_acc: 0.0000e+00\n",
            "Epoch 12/100\n",
            "157/157 [==============================] - 0s 2ms/step - loss: 0.1036 - mse: 0.0215 - mae: 0.1036 - acc: 0.0000e+00 - val_loss: 0.1006 - val_mse: 0.0198 - val_mae: 0.1006 - val_acc: 0.0000e+00\n",
            "Epoch 13/100\n",
            "157/157 [==============================] - 0s 2ms/step - loss: 0.1034 - mse: 0.0214 - mae: 0.1034 - acc: 0.0000e+00 - val_loss: 0.1010 - val_mse: 0.0204 - val_mae: 0.1010 - val_acc: 0.0000e+00\n",
            "Epoch 14/100\n",
            "157/157 [==============================] - 0s 2ms/step - loss: 0.1037 - mse: 0.0217 - mae: 0.1037 - acc: 0.0000e+00 - val_loss: 0.1028 - val_mse: 0.0217 - val_mae: 0.1028 - val_acc: 0.0000e+00\n",
            "Epoch 15/100\n",
            "157/157 [==============================] - 0s 2ms/step - loss: 0.1044 - mse: 0.0217 - mae: 0.1044 - acc: 0.0000e+00 - val_loss: 0.1007 - val_mse: 0.0194 - val_mae: 0.1007 - val_acc: 0.0000e+00\n",
            "Epoch 16/100\n",
            "157/157 [==============================] - 0s 2ms/step - loss: 0.1047 - mse: 0.0216 - mae: 0.1047 - acc: 0.0000e+00 - val_loss: 0.1015 - val_mse: 0.0204 - val_mae: 0.1015 - val_acc: 0.0000e+00\n",
            "Epoch 17/100\n",
            "157/157 [==============================] - 0s 2ms/step - loss: 0.1037 - mse: 0.0216 - mae: 0.1037 - acc: 0.0000e+00 - val_loss: 0.1032 - val_mse: 0.0214 - val_mae: 0.1032 - val_acc: 0.0000e+00\n",
            "Epoch 18/100\n",
            "157/157 [==============================] - 0s 2ms/step - loss: 0.1033 - mse: 0.0213 - mae: 0.1033 - acc: 0.0000e+00 - val_loss: 0.1015 - val_mse: 0.0210 - val_mae: 0.1015 - val_acc: 0.0000e+00\n",
            "Epoch 19/100\n",
            "157/157 [==============================] - 0s 2ms/step - loss: 0.1037 - mse: 0.0214 - mae: 0.1037 - acc: 0.0000e+00 - val_loss: 0.1044 - val_mse: 0.0197 - val_mae: 0.1044 - val_acc: 0.0000e+00\n",
            "Epoch 20/100\n",
            "157/157 [==============================] - 0s 2ms/step - loss: 0.1046 - mse: 0.0218 - mae: 0.1046 - acc: 0.0000e+00 - val_loss: 0.1006 - val_mse: 0.0199 - val_mae: 0.1006 - val_acc: 0.0000e+00\n",
            "Epoch 21/100\n",
            "157/157 [==============================] - 0s 2ms/step - loss: 0.1035 - mse: 0.0214 - mae: 0.1035 - acc: 0.0000e+00 - val_loss: 0.1030 - val_mse: 0.0198 - val_mae: 0.1030 - val_acc: 0.0000e+00\n",
            "Epoch 22/100\n",
            "157/157 [==============================] - 0s 2ms/step - loss: 0.1032 - mse: 0.0213 - mae: 0.1032 - acc: 0.0000e+00 - val_loss: 0.0997 - val_mse: 0.0201 - val_mae: 0.0997 - val_acc: 0.0000e+00\n",
            "Epoch 23/100\n",
            "157/157 [==============================] - 0s 2ms/step - loss: 0.1027 - mse: 0.0211 - mae: 0.1027 - acc: 0.0000e+00 - val_loss: 0.1017 - val_mse: 0.0196 - val_mae: 0.1017 - val_acc: 0.0000e+00\n",
            "Epoch 24/100\n",
            "157/157 [==============================] - 0s 2ms/step - loss: 0.1018 - mse: 0.0210 - mae: 0.1018 - acc: 0.0000e+00 - val_loss: 0.1000 - val_mse: 0.0199 - val_mae: 0.1000 - val_acc: 0.0000e+00\n",
            "Epoch 25/100\n",
            "157/157 [==============================] - 0s 2ms/step - loss: 0.1020 - mse: 0.0210 - mae: 0.1020 - acc: 0.0000e+00 - val_loss: 0.0994 - val_mse: 0.0197 - val_mae: 0.0994 - val_acc: 0.0000e+00\n",
            "Epoch 26/100\n",
            "157/157 [==============================] - 0s 2ms/step - loss: 0.1020 - mse: 0.0210 - mae: 0.1020 - acc: 0.0000e+00 - val_loss: 0.0992 - val_mse: 0.0200 - val_mae: 0.0992 - val_acc: 0.0000e+00\n",
            "Epoch 27/100\n",
            "157/157 [==============================] - 0s 2ms/step - loss: 0.1022 - mse: 0.0209 - mae: 0.1022 - acc: 0.0000e+00 - val_loss: 0.0992 - val_mse: 0.0201 - val_mae: 0.0992 - val_acc: 0.0000e+00\n",
            "Epoch 28/100\n",
            "157/157 [==============================] - 0s 2ms/step - loss: 0.1021 - mse: 0.0210 - mae: 0.1021 - acc: 0.0000e+00 - val_loss: 0.1009 - val_mse: 0.0210 - val_mae: 0.1009 - val_acc: 0.0000e+00\n",
            "Epoch 29/100\n",
            "157/157 [==============================] - 0s 2ms/step - loss: 0.1025 - mse: 0.0212 - mae: 0.1025 - acc: 0.0000e+00 - val_loss: 0.0998 - val_mse: 0.0203 - val_mae: 0.0998 - val_acc: 0.0000e+00\n",
            "Epoch 30/100\n",
            "157/157 [==============================] - 0s 2ms/step - loss: 0.1015 - mse: 0.0208 - mae: 0.1015 - acc: 0.0000e+00 - val_loss: 0.0991 - val_mse: 0.0194 - val_mae: 0.0991 - val_acc: 0.0000e+00\n",
            "Epoch 31/100\n",
            "157/157 [==============================] - 0s 2ms/step - loss: 0.1016 - mse: 0.0207 - mae: 0.1016 - acc: 0.0000e+00 - val_loss: 0.0992 - val_mse: 0.0203 - val_mae: 0.0992 - val_acc: 0.0000e+00\n",
            "Epoch 32/100\n",
            "157/157 [==============================] - 0s 2ms/step - loss: 0.1018 - mse: 0.0209 - mae: 0.1018 - acc: 0.0000e+00 - val_loss: 0.1054 - val_mse: 0.0197 - val_mae: 0.1054 - val_acc: 0.0000e+00\n",
            "Epoch 33/100\n",
            "157/157 [==============================] - 0s 2ms/step - loss: 0.1030 - mse: 0.0212 - mae: 0.1030 - acc: 0.0000e+00 - val_loss: 0.1016 - val_mse: 0.0214 - val_mae: 0.1016 - val_acc: 0.0000e+00\n",
            "Epoch 34/100\n",
            "157/157 [==============================] - 0s 2ms/step - loss: 0.1017 - mse: 0.0208 - mae: 0.1017 - acc: 0.0000e+00 - val_loss: 0.0991 - val_mse: 0.0194 - val_mae: 0.0991 - val_acc: 0.0000e+00\n",
            "Epoch 35/100\n",
            "157/157 [==============================] - 0s 2ms/step - loss: 0.1029 - mse: 0.0210 - mae: 0.1029 - acc: 0.0000e+00 - val_loss: 0.1014 - val_mse: 0.0213 - val_mae: 0.1014 - val_acc: 0.0000e+00\n",
            "Epoch 36/100\n",
            "157/157 [==============================] - 0s 2ms/step - loss: 0.1015 - mse: 0.0207 - mae: 0.1015 - acc: 0.0000e+00 - val_loss: 0.0988 - val_mse: 0.0199 - val_mae: 0.0988 - val_acc: 0.0000e+00\n",
            "Epoch 37/100\n",
            "157/157 [==============================] - 0s 2ms/step - loss: 0.1012 - mse: 0.0207 - mae: 0.1012 - acc: 0.0000e+00 - val_loss: 0.0984 - val_mse: 0.0199 - val_mae: 0.0984 - val_acc: 0.0000e+00\n",
            "Epoch 38/100\n",
            "157/157 [==============================] - 0s 2ms/step - loss: 0.1016 - mse: 0.0209 - mae: 0.1016 - acc: 0.0000e+00 - val_loss: 0.0990 - val_mse: 0.0200 - val_mae: 0.0990 - val_acc: 0.0000e+00\n",
            "Epoch 39/100\n",
            "157/157 [==============================] - 0s 2ms/step - loss: 0.1010 - mse: 0.0206 - mae: 0.1010 - acc: 0.0000e+00 - val_loss: 0.0993 - val_mse: 0.0204 - val_mae: 0.0993 - val_acc: 0.0000e+00\n",
            "Epoch 40/100\n",
            "157/157 [==============================] - 0s 2ms/step - loss: 0.1008 - mse: 0.0207 - mae: 0.1008 - acc: 0.0000e+00 - val_loss: 0.0995 - val_mse: 0.0202 - val_mae: 0.0995 - val_acc: 0.0000e+00\n",
            "Epoch 41/100\n",
            "157/157 [==============================] - 0s 2ms/step - loss: 0.1004 - mse: 0.0205 - mae: 0.1004 - acc: 0.0000e+00 - val_loss: 0.0982 - val_mse: 0.0198 - val_mae: 0.0982 - val_acc: 0.0000e+00\n",
            "Epoch 42/100\n",
            "157/157 [==============================] - 0s 2ms/step - loss: 0.1015 - mse: 0.0209 - mae: 0.1015 - acc: 0.0000e+00 - val_loss: 0.1028 - val_mse: 0.0220 - val_mae: 0.1028 - val_acc: 0.0000e+00\n",
            "Epoch 43/100\n",
            "157/157 [==============================] - 0s 2ms/step - loss: 0.1012 - mse: 0.0209 - mae: 0.1012 - acc: 0.0000e+00 - val_loss: 0.0985 - val_mse: 0.0195 - val_mae: 0.0985 - val_acc: 0.0000e+00\n",
            "Epoch 44/100\n",
            "157/157 [==============================] - 0s 2ms/step - loss: 0.1003 - mse: 0.0206 - mae: 0.1003 - acc: 0.0000e+00 - val_loss: 0.0993 - val_mse: 0.0202 - val_mae: 0.0993 - val_acc: 0.0000e+00\n",
            "Epoch 45/100\n",
            "157/157 [==============================] - 0s 2ms/step - loss: 0.1008 - mse: 0.0206 - mae: 0.1008 - acc: 0.0000e+00 - val_loss: 0.0991 - val_mse: 0.0197 - val_mae: 0.0991 - val_acc: 0.0000e+00\n",
            "Epoch 46/100\n",
            "157/157 [==============================] - 0s 2ms/step - loss: 0.1009 - mse: 0.0208 - mae: 0.1009 - acc: 0.0000e+00 - val_loss: 0.0999 - val_mse: 0.0194 - val_mae: 0.0999 - val_acc: 0.0000e+00\n",
            "Epoch 47/100\n",
            "157/157 [==============================] - 0s 2ms/step - loss: 0.1000 - mse: 0.0205 - mae: 0.1000 - acc: 0.0000e+00 - val_loss: 0.0992 - val_mse: 0.0203 - val_mae: 0.0992 - val_acc: 0.0000e+00\n",
            "Epoch 48/100\n",
            "157/157 [==============================] - 0s 2ms/step - loss: 0.1010 - mse: 0.0206 - mae: 0.1010 - acc: 0.0000e+00 - val_loss: 0.1035 - val_mse: 0.0223 - val_mae: 0.1035 - val_acc: 0.0000e+00\n",
            "Epoch 49/100\n",
            "157/157 [==============================] - 0s 2ms/step - loss: 0.1008 - mse: 0.0208 - mae: 0.1008 - acc: 0.0000e+00 - val_loss: 0.0986 - val_mse: 0.0194 - val_mae: 0.0986 - val_acc: 0.0000e+00\n",
            "Epoch 50/100\n",
            "157/157 [==============================] - 0s 2ms/step - loss: 0.1004 - mse: 0.0204 - mae: 0.1004 - acc: 0.0000e+00 - val_loss: 0.0995 - val_mse: 0.0203 - val_mae: 0.0995 - val_acc: 0.0000e+00\n",
            "Epoch 51/100\n",
            "157/157 [==============================] - 0s 2ms/step - loss: 0.1007 - mse: 0.0205 - mae: 0.1007 - acc: 0.0000e+00 - val_loss: 0.0993 - val_mse: 0.0198 - val_mae: 0.0993 - val_acc: 0.0000e+00\n",
            "Epoch 52/100\n",
            "157/157 [==============================] - 0s 2ms/step - loss: 0.1005 - mse: 0.0205 - mae: 0.1005 - acc: 0.0000e+00 - val_loss: 0.0993 - val_mse: 0.0204 - val_mae: 0.0993 - val_acc: 0.0000e+00\n",
            "Epoch 53/100\n",
            "157/157 [==============================] - 0s 2ms/step - loss: 0.1001 - mse: 0.0205 - mae: 0.1001 - acc: 0.0000e+00 - val_loss: 0.1002 - val_mse: 0.0195 - val_mae: 0.1002 - val_acc: 0.0000e+00\n",
            "Epoch 54/100\n",
            "157/157 [==============================] - 0s 2ms/step - loss: 0.1007 - mse: 0.0205 - mae: 0.1007 - acc: 0.0000e+00 - val_loss: 0.0995 - val_mse: 0.0197 - val_mae: 0.0995 - val_acc: 0.0000e+00\n",
            "Epoch 55/100\n",
            "157/157 [==============================] - 0s 2ms/step - loss: 0.1002 - mse: 0.0205 - mae: 0.1002 - acc: 0.0000e+00 - val_loss: 0.0987 - val_mse: 0.0199 - val_mae: 0.0987 - val_acc: 0.0000e+00\n",
            "Epoch 56/100\n",
            "157/157 [==============================] - 0s 2ms/step - loss: 0.1001 - mse: 0.0205 - mae: 0.1001 - acc: 0.0000e+00 - val_loss: 0.0983 - val_mse: 0.0198 - val_mae: 0.0983 - val_acc: 0.0000e+00\n",
            "Epoch 57/100\n",
            "157/157 [==============================] - 0s 2ms/step - loss: 0.1003 - mse: 0.0205 - mae: 0.1003 - acc: 0.0000e+00 - val_loss: 0.0994 - val_mse: 0.0199 - val_mae: 0.0994 - val_acc: 0.0000e+00\n",
            "Epoch 58/100\n",
            "157/157 [==============================] - 0s 2ms/step - loss: 0.1001 - mse: 0.0204 - mae: 0.1001 - acc: 0.0000e+00 - val_loss: 0.0992 - val_mse: 0.0197 - val_mae: 0.0992 - val_acc: 0.0000e+00\n",
            "Epoch 59/100\n",
            "157/157 [==============================] - 0s 2ms/step - loss: 0.1007 - mse: 0.0207 - mae: 0.1007 - acc: 0.0000e+00 - val_loss: 0.1031 - val_mse: 0.0222 - val_mae: 0.1031 - val_acc: 0.0000e+00\n",
            "Epoch 60/100\n",
            "157/157 [==============================] - 0s 2ms/step - loss: 0.1004 - mse: 0.0205 - mae: 0.1004 - acc: 0.0000e+00 - val_loss: 0.1060 - val_mse: 0.0199 - val_mae: 0.1060 - val_acc: 0.0000e+00\n",
            "Epoch 61/100\n",
            "157/157 [==============================] - 0s 2ms/step - loss: 0.1003 - mse: 0.0205 - mae: 0.1003 - acc: 0.0000e+00 - val_loss: 0.0991 - val_mse: 0.0198 - val_mae: 0.0991 - val_acc: 0.0000e+00\n",
            "Epoch 62/100\n",
            "157/157 [==============================] - 0s 2ms/step - loss: 0.1005 - mse: 0.0205 - mae: 0.1005 - acc: 0.0000e+00 - val_loss: 0.1017 - val_mse: 0.0203 - val_mae: 0.1017 - val_acc: 0.0000e+00\n",
            "Epoch 63/100\n",
            "157/157 [==============================] - 0s 2ms/step - loss: 0.1009 - mse: 0.0208 - mae: 0.1009 - acc: 0.0000e+00 - val_loss: 0.0988 - val_mse: 0.0193 - val_mae: 0.0988 - val_acc: 0.0000e+00\n",
            "Epoch 64/100\n",
            "157/157 [==============================] - 0s 2ms/step - loss: 0.1018 - mse: 0.0209 - mae: 0.1018 - acc: 0.0000e+00 - val_loss: 0.0997 - val_mse: 0.0195 - val_mae: 0.0997 - val_acc: 0.0000e+00\n",
            "Epoch 65/100\n",
            "157/157 [==============================] - 0s 2ms/step - loss: 0.1005 - mse: 0.0206 - mae: 0.1005 - acc: 0.0000e+00 - val_loss: 0.0995 - val_mse: 0.0201 - val_mae: 0.0995 - val_acc: 0.0000e+00\n",
            "Epoch 66/100\n",
            "157/157 [==============================] - 0s 2ms/step - loss: 0.1000 - mse: 0.0204 - mae: 0.1000 - acc: 0.0000e+00 - val_loss: 0.1006 - val_mse: 0.0194 - val_mae: 0.1006 - val_acc: 0.0000e+00\n",
            "Epoch 67/100\n",
            "157/157 [==============================] - 0s 2ms/step - loss: 0.1005 - mse: 0.0207 - mae: 0.1005 - acc: 0.0000e+00 - val_loss: 0.0993 - val_mse: 0.0198 - val_mae: 0.0993 - val_acc: 0.0000e+00\n",
            "Epoch 68/100\n",
            "157/157 [==============================] - 0s 2ms/step - loss: 0.0999 - mse: 0.0204 - mae: 0.0999 - acc: 0.0000e+00 - val_loss: 0.1009 - val_mse: 0.0211 - val_mae: 0.1009 - val_acc: 0.0000e+00\n",
            "Epoch 69/100\n",
            "157/157 [==============================] - 0s 2ms/step - loss: 0.1000 - mse: 0.0204 - mae: 0.1000 - acc: 0.0000e+00 - val_loss: 0.0989 - val_mse: 0.0193 - val_mae: 0.0989 - val_acc: 0.0000e+00\n",
            "Epoch 70/100\n",
            "157/157 [==============================] - 0s 2ms/step - loss: 0.0995 - mse: 0.0202 - mae: 0.0995 - acc: 0.0000e+00 - val_loss: 0.0988 - val_mse: 0.0198 - val_mae: 0.0988 - val_acc: 0.0000e+00\n",
            "Epoch 71/100\n",
            "157/157 [==============================] - 0s 2ms/step - loss: 0.0998 - mse: 0.0205 - mae: 0.0998 - acc: 0.0000e+00 - val_loss: 0.0999 - val_mse: 0.0206 - val_mae: 0.0999 - val_acc: 0.0000e+00\n",
            "Epoch 72/100\n",
            "157/157 [==============================] - 0s 2ms/step - loss: 0.1000 - mse: 0.0204 - mae: 0.1000 - acc: 0.0000e+00 - val_loss: 0.0994 - val_mse: 0.0192 - val_mae: 0.0994 - val_acc: 0.0000e+00\n",
            "Epoch 73/100\n",
            "157/157 [==============================] - 0s 2ms/step - loss: 0.0996 - mse: 0.0204 - mae: 0.0996 - acc: 0.0000e+00 - val_loss: 0.0994 - val_mse: 0.0199 - val_mae: 0.0994 - val_acc: 0.0000e+00\n",
            "Epoch 74/100\n",
            "157/157 [==============================] - 0s 2ms/step - loss: 0.0997 - mse: 0.0204 - mae: 0.0997 - acc: 0.0000e+00 - val_loss: 0.1000 - val_mse: 0.0206 - val_mae: 0.1000 - val_acc: 0.0000e+00\n",
            "Epoch 75/100\n",
            "157/157 [==============================] - 0s 2ms/step - loss: 0.0997 - mse: 0.0203 - mae: 0.0997 - acc: 0.0000e+00 - val_loss: 0.1006 - val_mse: 0.0206 - val_mae: 0.1006 - val_acc: 0.0000e+00\n",
            "Epoch 76/100\n",
            "157/157 [==============================] - 0s 2ms/step - loss: 0.1001 - mse: 0.0203 - mae: 0.1001 - acc: 0.0000e+00 - val_loss: 0.1012 - val_mse: 0.0215 - val_mae: 0.1012 - val_acc: 0.0000e+00\n",
            "Epoch 77/100\n",
            "157/157 [==============================] - 0s 2ms/step - loss: 0.0999 - mse: 0.0204 - mae: 0.0999 - acc: 0.0000e+00 - val_loss: 0.1012 - val_mse: 0.0210 - val_mae: 0.1012 - val_acc: 0.0000e+00\n",
            "Epoch 78/100\n",
            "157/157 [==============================] - 0s 2ms/step - loss: 0.1006 - mse: 0.0206 - mae: 0.1006 - acc: 0.0000e+00 - val_loss: 0.1007 - val_mse: 0.0206 - val_mae: 0.1007 - val_acc: 0.0000e+00\n",
            "Epoch 79/100\n",
            "157/157 [==============================] - 0s 2ms/step - loss: 0.1005 - mse: 0.0206 - mae: 0.1005 - acc: 0.0000e+00 - val_loss: 0.1017 - val_mse: 0.0197 - val_mae: 0.1017 - val_acc: 0.0000e+00\n",
            "Epoch 80/100\n",
            "157/157 [==============================] - 0s 2ms/step - loss: 0.0999 - mse: 0.0204 - mae: 0.0999 - acc: 0.0000e+00 - val_loss: 0.0999 - val_mse: 0.0205 - val_mae: 0.0999 - val_acc: 0.0000e+00\n",
            "Epoch 81/100\n",
            "157/157 [==============================] - 0s 2ms/step - loss: 0.0999 - mse: 0.0204 - mae: 0.0999 - acc: 0.0000e+00 - val_loss: 0.1048 - val_mse: 0.0227 - val_mae: 0.1048 - val_acc: 0.0000e+00\n",
            "Epoch 82/100\n",
            "157/157 [==============================] - 0s 2ms/step - loss: 0.1000 - mse: 0.0204 - mae: 0.1000 - acc: 0.0000e+00 - val_loss: 0.1008 - val_mse: 0.0198 - val_mae: 0.1008 - val_acc: 0.0000e+00\n",
            "Epoch 83/100\n",
            "157/157 [==============================] - 0s 2ms/step - loss: 0.0992 - mse: 0.0201 - mae: 0.0992 - acc: 0.0000e+00 - val_loss: 0.1027 - val_mse: 0.0198 - val_mae: 0.1027 - val_acc: 0.0000e+00\n",
            "Epoch 84/100\n",
            "157/157 [==============================] - 0s 2ms/step - loss: 0.1005 - mse: 0.0205 - mae: 0.1005 - acc: 0.0000e+00 - val_loss: 0.0988 - val_mse: 0.0195 - val_mae: 0.0988 - val_acc: 0.0000e+00\n",
            "Epoch 85/100\n",
            "157/157 [==============================] - 0s 2ms/step - loss: 0.1002 - mse: 0.0204 - mae: 0.1002 - acc: 0.0000e+00 - val_loss: 0.1005 - val_mse: 0.0206 - val_mae: 0.1005 - val_acc: 0.0000e+00\n",
            "Epoch 86/100\n",
            "157/157 [==============================] - 0s 2ms/step - loss: 0.0999 - mse: 0.0204 - mae: 0.0999 - acc: 0.0000e+00 - val_loss: 0.1012 - val_mse: 0.0209 - val_mae: 0.1012 - val_acc: 0.0000e+00\n",
            "Epoch 87/100\n",
            "157/157 [==============================] - 0s 2ms/step - loss: 0.0999 - mse: 0.0205 - mae: 0.0999 - acc: 0.0000e+00 - val_loss: 0.1004 - val_mse: 0.0208 - val_mae: 0.1004 - val_acc: 0.0000e+00\n",
            "Epoch 88/100\n",
            "157/157 [==============================] - 0s 2ms/step - loss: 0.0997 - mse: 0.0202 - mae: 0.0997 - acc: 0.0000e+00 - val_loss: 0.0987 - val_mse: 0.0199 - val_mae: 0.0987 - val_acc: 0.0000e+00\n",
            "Epoch 89/100\n",
            "157/157 [==============================] - 0s 2ms/step - loss: 0.0996 - mse: 0.0204 - mae: 0.0996 - acc: 0.0000e+00 - val_loss: 0.0997 - val_mse: 0.0197 - val_mae: 0.0997 - val_acc: 0.0000e+00\n",
            "Epoch 90/100\n",
            "157/157 [==============================] - 0s 2ms/step - loss: 0.0993 - mse: 0.0203 - mae: 0.0993 - acc: 0.0000e+00 - val_loss: 0.0995 - val_mse: 0.0199 - val_mae: 0.0995 - val_acc: 0.0000e+00\n",
            "Epoch 91/100\n",
            "157/157 [==============================] - 0s 2ms/step - loss: 0.0997 - mse: 0.0202 - mae: 0.0997 - acc: 0.0000e+00 - val_loss: 0.0997 - val_mse: 0.0206 - val_mae: 0.0997 - val_acc: 0.0000e+00\n",
            "Epoch 92/100\n",
            "157/157 [==============================] - 0s 2ms/step - loss: 0.1004 - mse: 0.0205 - mae: 0.1004 - acc: 0.0000e+00 - val_loss: 0.0995 - val_mse: 0.0204 - val_mae: 0.0995 - val_acc: 0.0000e+00\n",
            "Epoch 93/100\n",
            "157/157 [==============================] - 0s 2ms/step - loss: 0.0997 - mse: 0.0202 - mae: 0.0997 - acc: 0.0000e+00 - val_loss: 0.0990 - val_mse: 0.0191 - val_mae: 0.0990 - val_acc: 0.0000e+00\n",
            "Epoch 94/100\n",
            "157/157 [==============================] - 0s 2ms/step - loss: 0.1001 - mse: 0.0203 - mae: 0.1001 - acc: 0.0000e+00 - val_loss: 0.0999 - val_mse: 0.0209 - val_mae: 0.0999 - val_acc: 0.0000e+00\n",
            "Epoch 95/100\n",
            "157/157 [==============================] - 0s 2ms/step - loss: 0.0994 - mse: 0.0201 - mae: 0.0994 - acc: 0.0000e+00 - val_loss: 0.1060 - val_mse: 0.0231 - val_mae: 0.1060 - val_acc: 0.0000e+00\n",
            "Epoch 96/100\n",
            "157/157 [==============================] - 0s 2ms/step - loss: 0.1003 - mse: 0.0205 - mae: 0.1003 - acc: 0.0000e+00 - val_loss: 0.1005 - val_mse: 0.0197 - val_mae: 0.1005 - val_acc: 0.0000e+00\n",
            "Epoch 97/100\n",
            "157/157 [==============================] - 0s 2ms/step - loss: 0.1005 - mse: 0.0204 - mae: 0.1005 - acc: 0.0000e+00 - val_loss: 0.1011 - val_mse: 0.0212 - val_mae: 0.1011 - val_acc: 0.0000e+00\n",
            "Epoch 98/100\n",
            "157/157 [==============================] - 0s 2ms/step - loss: 0.0998 - mse: 0.0203 - mae: 0.0998 - acc: 0.0000e+00 - val_loss: 0.1007 - val_mse: 0.0193 - val_mae: 0.1007 - val_acc: 0.0000e+00\n",
            "Epoch 99/100\n",
            "157/157 [==============================] - 0s 2ms/step - loss: 0.1003 - mse: 0.0205 - mae: 0.1003 - acc: 0.0000e+00 - val_loss: 0.1000 - val_mse: 0.0196 - val_mae: 0.1000 - val_acc: 0.0000e+00\n",
            "Epoch 100/100\n",
            "157/157 [==============================] - 0s 2ms/step - loss: 0.0996 - mse: 0.0202 - mae: 0.0996 - acc: 0.0000e+00 - val_loss: 0.1004 - val_mse: 0.0211 - val_mae: 0.1004 - val_acc: 0.0000e+00\n"
          ]
        }
      ]
    },
    {
      "cell_type": "code",
      "metadata": {
        "id": "KLg4iHPBTv7h",
        "colab": {
          "base_uri": "https://localhost:8080/",
          "height": 286
        },
        "outputId": "c3b0c195-68b5-44a5-c45d-fa10529e78b9"
      },
      "source": [
        "plt.plot(history.history['mse'])\n",
        "plt.plot(history.history['val_mse'])\n",
        "plt.ylim(0,0.03)"
      ],
      "execution_count": 56,
      "outputs": [
        {
          "output_type": "execute_result",
          "data": {
            "text/plain": [
              "(0.0, 0.03)"
            ]
          },
          "metadata": {},
          "execution_count": 56
        },
        {
          "output_type": "display_data",
          "data": {
            "image/png": "[encoded data removed]",
            "text/plain": [
              "<Figure size 432x288 with 1 Axes>"
            ]
          },
          "metadata": {
            "needs_background": "light"
          }
        }
      ]
    },
    {
      "cell_type": "code",
      "metadata": {
        "id": "z_KszdtnT9lI",
        "colab": {
          "base_uri": "https://localhost:8080/",
          "height": 286
        },
        "outputId": "123b67d3-84da-4465-b5cc-698cd909bb0e"
      },
      "source": [
        "plt.plot(history.history['mae'])\n",
        "plt.plot(history.history['val_mae'])\n",
        "plt.ylim(0,0.3)"
      ],
      "execution_count": 57,
      "outputs": [
        {
          "output_type": "execute_result",
          "data": {
            "text/plain": [
              "(0.0, 0.3)"
            ]
          },
          "metadata": {},
          "execution_count": 57
        },
        {
          "output_type": "display_data",
          "data": {
            "image/png": "[encoded data removed]",
            "text/plain": [
              "<Figure size 432x288 with 1 Axes>"
            ]
          },
          "metadata": {
            "needs_background": "light"
          }
        }
      ]
    },
    {
      "cell_type": "code",
      "metadata": {
        "id": "czbHPKkuN3GT"
      },
      "source": [
        "filename='/content/drive/My Drive/domy mazowieckie/dfMazowieckie.h5'\n",
        "model.save(filename,save_format='tf')"
      ],
      "execution_count": 58,
      "outputs": []
    },
    {
      "cell_type": "code",
      "metadata": {
        "id": "9_Ug_sMAUFuf"
      },
      "source": [
        "model= tf.keras.models.Sequential([\n",
        "                                  normalizer,\n",
        "  tf.keras.layers.Dense(28, activation='relu'),\n",
        "  tf.keras.layers.Dense(32, activation='relu'),\n",
        "  tf.keras.layers.Dense(1, activation='linear'),\n",
        "])"
      ],
      "execution_count": 59,
      "outputs": []
    },
    {
      "cell_type": "code",
      "metadata": {
        "id": "6-mLxq-RUIyY"
      },
      "source": [
        "model.compile(loss='mean_absolute_error',\n",
        "              metrics=['mse',\"mae\",'acc'],optimizer=tf.optimizers.Adam(learning_rate=0.01))"
      ],
      "execution_count": 60,
      "outputs": []
    },
    {
      "cell_type": "code",
      "metadata": {
        "id": "LomCOTKvUMco",
        "colab": {
          "base_uri": "https://localhost:8080/"
        },
        "outputId": "836409c2-f018-45ce-9c48-d91fbb112170"
      },
      "source": [
        "history = model.fit(\n",
        "    train_features, train_labels,\n",
        "    epochs=100,\n",
        "    # suppress logging\n",
        "    verbose=1,\n",
        "    # Calculate validation results on 20% of the training data\n",
        "    validation_split = 0.2)"
      ],
      "execution_count": 61,
      "outputs": [
        {
          "output_type": "stream",
          "name": "stdout",
          "text": [
            "Epoch 1/100\n",
            "157/157 [==============================] - 1s 4ms/step - loss: 0.1511 - mse: 0.0661 - mae: 0.1511 - acc: 0.0000e+00 - val_loss: 0.1109 - val_mse: 0.0243 - val_mae: 0.1109 - val_acc: 0.0000e+00\n",
            "Epoch 2/100\n",
            "157/157 [==============================] - 0s 2ms/step - loss: 0.1062 - mse: 0.0230 - mae: 0.1062 - acc: 0.0000e+00 - val_loss: 0.1059 - val_mse: 0.0240 - val_mae: 0.1059 - val_acc: 0.0000e+00\n",
            "Epoch 3/100\n",
            "157/157 [==============================] - 0s 2ms/step - loss: 0.1013 - mse: 0.0212 - mae: 0.1013 - acc: 0.0000e+00 - val_loss: 0.1005 - val_mse: 0.0193 - val_mae: 0.1005 - val_acc: 0.0000e+00\n",
            "Epoch 4/100\n",
            "157/157 [==============================] - 0s 2ms/step - loss: 0.1005 - mse: 0.0205 - mae: 0.1005 - acc: 0.0000e+00 - val_loss: 0.0987 - val_mse: 0.0191 - val_mae: 0.0987 - val_acc: 0.0000e+00\n",
            "Epoch 5/100\n",
            "157/157 [==============================] - 0s 2ms/step - loss: 0.1001 - mse: 0.0203 - mae: 0.1001 - acc: 0.0000e+00 - val_loss: 0.0994 - val_mse: 0.0197 - val_mae: 0.0994 - val_acc: 0.0000e+00\n",
            "Epoch 6/100\n",
            "157/157 [==============================] - 0s 2ms/step - loss: 0.0982 - mse: 0.0199 - mae: 0.0982 - acc: 0.0000e+00 - val_loss: 0.1008 - val_mse: 0.0196 - val_mae: 0.1008 - val_acc: 0.0000e+00\n",
            "Epoch 7/100\n",
            "157/157 [==============================] - 0s 2ms/step - loss: 0.0983 - mse: 0.0199 - mae: 0.0983 - acc: 0.0000e+00 - val_loss: 0.0981 - val_mse: 0.0199 - val_mae: 0.0981 - val_acc: 0.0000e+00\n",
            "Epoch 8/100\n",
            "157/157 [==============================] - 0s 2ms/step - loss: 0.0979 - mse: 0.0199 - mae: 0.0979 - acc: 0.0000e+00 - val_loss: 0.1025 - val_mse: 0.0215 - val_mae: 0.1025 - val_acc: 0.0000e+00\n",
            "Epoch 9/100\n",
            "157/157 [==============================] - 0s 2ms/step - loss: 0.0979 - mse: 0.0199 - mae: 0.0979 - acc: 0.0000e+00 - val_loss: 0.1000 - val_mse: 0.0196 - val_mae: 0.1000 - val_acc: 0.0000e+00\n",
            "Epoch 10/100\n",
            "157/157 [==============================] - 0s 2ms/step - loss: 0.0976 - mse: 0.0197 - mae: 0.0976 - acc: 0.0000e+00 - val_loss: 0.0980 - val_mse: 0.0196 - val_mae: 0.0980 - val_acc: 0.0000e+00\n",
            "Epoch 11/100\n",
            "157/157 [==============================] - 0s 2ms/step - loss: 0.0970 - mse: 0.0197 - mae: 0.0970 - acc: 0.0000e+00 - val_loss: 0.0994 - val_mse: 0.0189 - val_mae: 0.0994 - val_acc: 0.0000e+00\n",
            "Epoch 12/100\n",
            "157/157 [==============================] - 0s 2ms/step - loss: 0.0981 - mse: 0.0200 - mae: 0.0981 - acc: 0.0000e+00 - val_loss: 0.0994 - val_mse: 0.0200 - val_mae: 0.0994 - val_acc: 0.0000e+00\n",
            "Epoch 13/100\n",
            "157/157 [==============================] - 0s 2ms/step - loss: 0.0967 - mse: 0.0195 - mae: 0.0967 - acc: 0.0000e+00 - val_loss: 0.0982 - val_mse: 0.0204 - val_mae: 0.0982 - val_acc: 0.0000e+00\n",
            "Epoch 14/100\n",
            "157/157 [==============================] - 0s 2ms/step - loss: 0.0968 - mse: 0.0196 - mae: 0.0968 - acc: 0.0000e+00 - val_loss: 0.0982 - val_mse: 0.0186 - val_mae: 0.0982 - val_acc: 0.0000e+00\n",
            "Epoch 15/100\n",
            "157/157 [==============================] - 0s 2ms/step - loss: 0.0960 - mse: 0.0192 - mae: 0.0960 - acc: 0.0000e+00 - val_loss: 0.0991 - val_mse: 0.0188 - val_mae: 0.0991 - val_acc: 0.0000e+00\n",
            "Epoch 16/100\n",
            "157/157 [==============================] - 0s 2ms/step - loss: 0.0968 - mse: 0.0196 - mae: 0.0968 - acc: 0.0000e+00 - val_loss: 0.1027 - val_mse: 0.0214 - val_mae: 0.1027 - val_acc: 0.0000e+00\n",
            "Epoch 17/100\n",
            "157/157 [==============================] - 0s 2ms/step - loss: 0.0966 - mse: 0.0195 - mae: 0.0966 - acc: 0.0000e+00 - val_loss: 0.0984 - val_mse: 0.0196 - val_mae: 0.0984 - val_acc: 0.0000e+00\n",
            "Epoch 18/100\n",
            "157/157 [==============================] - 0s 2ms/step - loss: 0.0961 - mse: 0.0194 - mae: 0.0961 - acc: 0.0000e+00 - val_loss: 0.0976 - val_mse: 0.0193 - val_mae: 0.0976 - val_acc: 0.0000e+00\n",
            "Epoch 19/100\n",
            "157/157 [==============================] - 0s 2ms/step - loss: 0.0963 - mse: 0.0196 - mae: 0.0963 - acc: 0.0000e+00 - val_loss: 0.0964 - val_mse: 0.0187 - val_mae: 0.0964 - val_acc: 0.0000e+00\n",
            "Epoch 20/100\n",
            "157/157 [==============================] - 0s 2ms/step - loss: 0.0962 - mse: 0.0193 - mae: 0.0962 - acc: 0.0000e+00 - val_loss: 0.0987 - val_mse: 0.0190 - val_mae: 0.0987 - val_acc: 0.0000e+00\n",
            "Epoch 21/100\n",
            "157/157 [==============================] - 0s 2ms/step - loss: 0.0963 - mse: 0.0194 - mae: 0.0963 - acc: 0.0000e+00 - val_loss: 0.0978 - val_mse: 0.0192 - val_mae: 0.0978 - val_acc: 0.0000e+00\n",
            "Epoch 22/100\n",
            "157/157 [==============================] - 0s 2ms/step - loss: 0.0961 - mse: 0.0195 - mae: 0.0961 - acc: 0.0000e+00 - val_loss: 0.0998 - val_mse: 0.0194 - val_mae: 0.0998 - val_acc: 0.0000e+00\n",
            "Epoch 23/100\n",
            "157/157 [==============================] - 0s 2ms/step - loss: 0.0947 - mse: 0.0187 - mae: 0.0947 - acc: 0.0000e+00 - val_loss: 0.0988 - val_mse: 0.0195 - val_mae: 0.0988 - val_acc: 0.0000e+00\n",
            "Epoch 24/100\n",
            "157/157 [==============================] - 0s 2ms/step - loss: 0.0950 - mse: 0.0190 - mae: 0.0950 - acc: 0.0000e+00 - val_loss: 0.1003 - val_mse: 0.0208 - val_mae: 0.1003 - val_acc: 0.0000e+00\n",
            "Epoch 25/100\n",
            "157/157 [==============================] - 0s 2ms/step - loss: 0.0945 - mse: 0.0187 - mae: 0.0945 - acc: 0.0000e+00 - val_loss: 0.0998 - val_mse: 0.0204 - val_mae: 0.0998 - val_acc: 0.0000e+00\n",
            "Epoch 26/100\n",
            "157/157 [==============================] - 0s 2ms/step - loss: 0.0955 - mse: 0.0191 - mae: 0.0955 - acc: 0.0000e+00 - val_loss: 0.1008 - val_mse: 0.0190 - val_mae: 0.1008 - val_acc: 0.0000e+00\n",
            "Epoch 27/100\n",
            "157/157 [==============================] - 0s 2ms/step - loss: 0.0945 - mse: 0.0187 - mae: 0.0945 - acc: 0.0000e+00 - val_loss: 0.1007 - val_mse: 0.0203 - val_mae: 0.1007 - val_acc: 0.0000e+00\n",
            "Epoch 28/100\n",
            "157/157 [==============================] - 0s 2ms/step - loss: 0.0950 - mse: 0.0191 - mae: 0.0950 - acc: 0.0000e+00 - val_loss: 0.1024 - val_mse: 0.0197 - val_mae: 0.1024 - val_acc: 0.0000e+00\n",
            "Epoch 29/100\n",
            "157/157 [==============================] - 0s 2ms/step - loss: 0.0944 - mse: 0.0188 - mae: 0.0944 - acc: 0.0000e+00 - val_loss: 0.0984 - val_mse: 0.0194 - val_mae: 0.0984 - val_acc: 0.0000e+00\n",
            "Epoch 30/100\n",
            "157/157 [==============================] - 0s 2ms/step - loss: 0.0942 - mse: 0.0189 - mae: 0.0942 - acc: 0.0000e+00 - val_loss: 0.0992 - val_mse: 0.0199 - val_mae: 0.0992 - val_acc: 0.0000e+00\n",
            "Epoch 31/100\n",
            "157/157 [==============================] - 0s 2ms/step - loss: 0.0939 - mse: 0.0186 - mae: 0.0939 - acc: 0.0000e+00 - val_loss: 0.0971 - val_mse: 0.0186 - val_mae: 0.0971 - val_acc: 0.0000e+00\n",
            "Epoch 32/100\n",
            "157/157 [==============================] - 0s 2ms/step - loss: 0.0940 - mse: 0.0187 - mae: 0.0940 - acc: 0.0000e+00 - val_loss: 0.1018 - val_mse: 0.0209 - val_mae: 0.1018 - val_acc: 0.0000e+00\n",
            "Epoch 33/100\n",
            "157/157 [==============================] - 0s 2ms/step - loss: 0.0943 - mse: 0.0189 - mae: 0.0943 - acc: 0.0000e+00 - val_loss: 0.1001 - val_mse: 0.0199 - val_mae: 0.1001 - val_acc: 0.0000e+00\n",
            "Epoch 34/100\n",
            "157/157 [==============================] - 0s 2ms/step - loss: 0.0937 - mse: 0.0186 - mae: 0.0937 - acc: 0.0000e+00 - val_loss: 0.1006 - val_mse: 0.0200 - val_mae: 0.1006 - val_acc: 0.0000e+00\n",
            "Epoch 35/100\n",
            "157/157 [==============================] - 0s 2ms/step - loss: 0.0923 - mse: 0.0183 - mae: 0.0923 - acc: 0.0000e+00 - val_loss: 0.0994 - val_mse: 0.0196 - val_mae: 0.0994 - val_acc: 0.0000e+00\n",
            "Epoch 36/100\n",
            "157/157 [==============================] - 0s 2ms/step - loss: 0.0936 - mse: 0.0185 - mae: 0.0936 - acc: 0.0000e+00 - val_loss: 0.1008 - val_mse: 0.0212 - val_mae: 0.1008 - val_acc: 0.0000e+00\n",
            "Epoch 37/100\n",
            "157/157 [==============================] - 0s 2ms/step - loss: 0.0934 - mse: 0.0187 - mae: 0.0934 - acc: 0.0000e+00 - val_loss: 0.0995 - val_mse: 0.0197 - val_mae: 0.0995 - val_acc: 0.0000e+00\n",
            "Epoch 38/100\n",
            "157/157 [==============================] - 0s 2ms/step - loss: 0.0932 - mse: 0.0185 - mae: 0.0932 - acc: 0.0000e+00 - val_loss: 0.0999 - val_mse: 0.0195 - val_mae: 0.0999 - val_acc: 0.0000e+00\n",
            "Epoch 39/100\n",
            "157/157 [==============================] - 0s 2ms/step - loss: 0.0925 - mse: 0.0182 - mae: 0.0925 - acc: 0.0000e+00 - val_loss: 0.0994 - val_mse: 0.0208 - val_mae: 0.0994 - val_acc: 0.0000e+00\n",
            "Epoch 40/100\n",
            "157/157 [==============================] - 0s 2ms/step - loss: 0.0934 - mse: 0.0184 - mae: 0.0934 - acc: 0.0000e+00 - val_loss: 0.0998 - val_mse: 0.0195 - val_mae: 0.0998 - val_acc: 0.0000e+00\n",
            "Epoch 41/100\n",
            "157/157 [==============================] - 0s 2ms/step - loss: 0.0924 - mse: 0.0182 - mae: 0.0924 - acc: 0.0000e+00 - val_loss: 0.1001 - val_mse: 0.0198 - val_mae: 0.1001 - val_acc: 0.0000e+00\n",
            "Epoch 42/100\n",
            "157/157 [==============================] - 0s 2ms/step - loss: 0.0917 - mse: 0.0180 - mae: 0.0917 - acc: 0.0000e+00 - val_loss: 0.0994 - val_mse: 0.0201 - val_mae: 0.0994 - val_acc: 0.0000e+00\n",
            "Epoch 43/100\n",
            "157/157 [==============================] - 0s 2ms/step - loss: 0.0936 - mse: 0.0184 - mae: 0.0936 - acc: 0.0000e+00 - val_loss: 0.0992 - val_mse: 0.0199 - val_mae: 0.0992 - val_acc: 0.0000e+00\n",
            "Epoch 44/100\n",
            "157/157 [==============================] - 0s 2ms/step - loss: 0.0927 - mse: 0.0182 - mae: 0.0927 - acc: 0.0000e+00 - val_loss: 0.1005 - val_mse: 0.0197 - val_mae: 0.1005 - val_acc: 0.0000e+00\n",
            "Epoch 45/100\n",
            "157/157 [==============================] - 0s 2ms/step - loss: 0.0923 - mse: 0.0182 - mae: 0.0923 - acc: 0.0000e+00 - val_loss: 0.0997 - val_mse: 0.0200 - val_mae: 0.0997 - val_acc: 0.0000e+00\n",
            "Epoch 46/100\n",
            "157/157 [==============================] - 0s 2ms/step - loss: 0.0921 - mse: 0.0179 - mae: 0.0921 - acc: 0.0000e+00 - val_loss: 0.1014 - val_mse: 0.0202 - val_mae: 0.1014 - val_acc: 0.0000e+00\n",
            "Epoch 47/100\n",
            "157/157 [==============================] - 0s 2ms/step - loss: 0.0920 - mse: 0.0181 - mae: 0.0920 - acc: 0.0000e+00 - val_loss: 0.1015 - val_mse: 0.0207 - val_mae: 0.1015 - val_acc: 0.0000e+00\n",
            "Epoch 48/100\n",
            "157/157 [==============================] - 0s 2ms/step - loss: 0.0924 - mse: 0.0179 - mae: 0.0924 - acc: 0.0000e+00 - val_loss: 0.1053 - val_mse: 0.0233 - val_mae: 0.1053 - val_acc: 0.0000e+00\n",
            "Epoch 49/100\n",
            "157/157 [==============================] - 0s 2ms/step - loss: 0.0918 - mse: 0.0180 - mae: 0.0918 - acc: 0.0000e+00 - val_loss: 0.0982 - val_mse: 0.0190 - val_mae: 0.0982 - val_acc: 0.0000e+00\n",
            "Epoch 50/100\n",
            "157/157 [==============================] - 0s 2ms/step - loss: 0.0918 - mse: 0.0178 - mae: 0.0918 - acc: 0.0000e+00 - val_loss: 0.1019 - val_mse: 0.0210 - val_mae: 0.1019 - val_acc: 0.0000e+00\n",
            "Epoch 51/100\n",
            "157/157 [==============================] - 0s 2ms/step - loss: 0.0925 - mse: 0.0182 - mae: 0.0925 - acc: 0.0000e+00 - val_loss: 0.0998 - val_mse: 0.0202 - val_mae: 0.0998 - val_acc: 0.0000e+00\n",
            "Epoch 52/100\n",
            "157/157 [==============================] - 0s 2ms/step - loss: 0.0919 - mse: 0.0184 - mae: 0.0919 - acc: 0.0000e+00 - val_loss: 0.0987 - val_mse: 0.0202 - val_mae: 0.0987 - val_acc: 0.0000e+00\n",
            "Epoch 53/100\n",
            "157/157 [==============================] - 0s 2ms/step - loss: 0.0911 - mse: 0.0179 - mae: 0.0911 - acc: 0.0000e+00 - val_loss: 0.0987 - val_mse: 0.0197 - val_mae: 0.0987 - val_acc: 0.0000e+00\n",
            "Epoch 54/100\n",
            "157/157 [==============================] - 0s 2ms/step - loss: 0.0917 - mse: 0.0185 - mae: 0.0917 - acc: 0.0000e+00 - val_loss: 0.0996 - val_mse: 0.0198 - val_mae: 0.0996 - val_acc: 0.0000e+00\n",
            "Epoch 55/100\n",
            "157/157 [==============================] - 0s 2ms/step - loss: 0.0912 - mse: 0.0179 - mae: 0.0912 - acc: 0.0000e+00 - val_loss: 0.1011 - val_mse: 0.0210 - val_mae: 0.1011 - val_acc: 0.0000e+00\n",
            "Epoch 56/100\n",
            "157/157 [==============================] - 0s 2ms/step - loss: 0.0911 - mse: 0.0179 - mae: 0.0911 - acc: 0.0000e+00 - val_loss: 0.1004 - val_mse: 0.0212 - val_mae: 0.1004 - val_acc: 0.0000e+00\n",
            "Epoch 57/100\n",
            "157/157 [==============================] - 0s 2ms/step - loss: 0.0912 - mse: 0.0180 - mae: 0.0912 - acc: 0.0000e+00 - val_loss: 0.1012 - val_mse: 0.0203 - val_mae: 0.1012 - val_acc: 0.0000e+00\n",
            "Epoch 58/100\n",
            "157/157 [==============================] - 0s 2ms/step - loss: 0.0896 - mse: 0.0175 - mae: 0.0896 - acc: 0.0000e+00 - val_loss: 0.1025 - val_mse: 0.0211 - val_mae: 0.1025 - val_acc: 0.0000e+00\n",
            "Epoch 59/100\n",
            "157/157 [==============================] - 0s 2ms/step - loss: 0.0911 - mse: 0.0179 - mae: 0.0911 - acc: 0.0000e+00 - val_loss: 0.0996 - val_mse: 0.0201 - val_mae: 0.0996 - val_acc: 0.0000e+00\n",
            "Epoch 60/100\n",
            "157/157 [==============================] - 0s 2ms/step - loss: 0.0900 - mse: 0.0175 - mae: 0.0900 - acc: 0.0000e+00 - val_loss: 0.1006 - val_mse: 0.0199 - val_mae: 0.1006 - val_acc: 0.0000e+00\n",
            "Epoch 61/100\n",
            "157/157 [==============================] - 0s 2ms/step - loss: 0.0908 - mse: 0.0177 - mae: 0.0908 - acc: 0.0000e+00 - val_loss: 0.0999 - val_mse: 0.0201 - val_mae: 0.0999 - val_acc: 0.0000e+00\n",
            "Epoch 62/100\n",
            "157/157 [==============================] - 0s 2ms/step - loss: 0.0905 - mse: 0.0177 - mae: 0.0905 - acc: 0.0000e+00 - val_loss: 0.1039 - val_mse: 0.0201 - val_mae: 0.1039 - val_acc: 0.0000e+00\n",
            "Epoch 63/100\n",
            "157/157 [==============================] - 0s 2ms/step - loss: 0.0906 - mse: 0.0176 - mae: 0.0906 - acc: 0.0000e+00 - val_loss: 0.1019 - val_mse: 0.0213 - val_mae: 0.1019 - val_acc: 0.0000e+00\n",
            "Epoch 64/100\n",
            "157/157 [==============================] - 0s 2ms/step - loss: 0.0910 - mse: 0.0177 - mae: 0.0910 - acc: 0.0000e+00 - val_loss: 0.1004 - val_mse: 0.0195 - val_mae: 0.1004 - val_acc: 0.0000e+00\n",
            "Epoch 65/100\n",
            "157/157 [==============================] - 0s 2ms/step - loss: 0.0909 - mse: 0.0178 - mae: 0.0909 - acc: 0.0000e+00 - val_loss: 0.1049 - val_mse: 0.0220 - val_mae: 0.1049 - val_acc: 0.0000e+00\n",
            "Epoch 66/100\n",
            "157/157 [==============================] - 0s 2ms/step - loss: 0.0900 - mse: 0.0174 - mae: 0.0900 - acc: 0.0000e+00 - val_loss: 0.1041 - val_mse: 0.0210 - val_mae: 0.1041 - val_acc: 0.0000e+00\n",
            "Epoch 67/100\n",
            "157/157 [==============================] - 0s 2ms/step - loss: 0.0897 - mse: 0.0176 - mae: 0.0897 - acc: 0.0000e+00 - val_loss: 0.1006 - val_mse: 0.0206 - val_mae: 0.1006 - val_acc: 0.0000e+00\n",
            "Epoch 68/100\n",
            "157/157 [==============================] - 0s 2ms/step - loss: 0.0902 - mse: 0.0175 - mae: 0.0902 - acc: 0.0000e+00 - val_loss: 0.1058 - val_mse: 0.0224 - val_mae: 0.1058 - val_acc: 0.0000e+00\n",
            "Epoch 69/100\n",
            "157/157 [==============================] - 0s 2ms/step - loss: 0.0929 - mse: 0.0181 - mae: 0.0929 - acc: 0.0000e+00 - val_loss: 0.1032 - val_mse: 0.0217 - val_mae: 0.1032 - val_acc: 0.0000e+00\n",
            "Epoch 70/100\n",
            "157/157 [==============================] - 0s 2ms/step - loss: 0.0902 - mse: 0.0176 - mae: 0.0902 - acc: 0.0000e+00 - val_loss: 0.0997 - val_mse: 0.0200 - val_mae: 0.0997 - val_acc: 0.0000e+00\n",
            "Epoch 71/100\n",
            "157/157 [==============================] - 0s 2ms/step - loss: 0.0894 - mse: 0.0175 - mae: 0.0894 - acc: 0.0000e+00 - val_loss: 0.1010 - val_mse: 0.0199 - val_mae: 0.1010 - val_acc: 0.0000e+00\n",
            "Epoch 72/100\n",
            "157/157 [==============================] - 0s 2ms/step - loss: 0.0918 - mse: 0.0179 - mae: 0.0918 - acc: 0.0000e+00 - val_loss: 0.1007 - val_mse: 0.0204 - val_mae: 0.1007 - val_acc: 0.0000e+00\n",
            "Epoch 73/100\n",
            "157/157 [==============================] - 0s 2ms/step - loss: 0.0891 - mse: 0.0173 - mae: 0.0891 - acc: 0.0000e+00 - val_loss: 0.0997 - val_mse: 0.0205 - val_mae: 0.0997 - val_acc: 0.0000e+00\n",
            "Epoch 74/100\n",
            "157/157 [==============================] - 0s 2ms/step - loss: 0.0902 - mse: 0.0178 - mae: 0.0902 - acc: 0.0000e+00 - val_loss: 0.1002 - val_mse: 0.0205 - val_mae: 0.1002 - val_acc: 0.0000e+00\n",
            "Epoch 75/100\n",
            "157/157 [==============================] - 0s 2ms/step - loss: 0.0907 - mse: 0.0178 - mae: 0.0907 - acc: 0.0000e+00 - val_loss: 0.1038 - val_mse: 0.0210 - val_mae: 0.1038 - val_acc: 0.0000e+00\n",
            "Epoch 76/100\n",
            "157/157 [==============================] - 0s 2ms/step - loss: 0.0907 - mse: 0.0178 - mae: 0.0907 - acc: 0.0000e+00 - val_loss: 0.1018 - val_mse: 0.0211 - val_mae: 0.1018 - val_acc: 0.0000e+00\n",
            "Epoch 77/100\n",
            "157/157 [==============================] - 0s 2ms/step - loss: 0.0906 - mse: 0.0177 - mae: 0.0906 - acc: 0.0000e+00 - val_loss: 0.1028 - val_mse: 0.0211 - val_mae: 0.1028 - val_acc: 0.0000e+00\n",
            "Epoch 78/100\n",
            "157/157 [==============================] - 0s 2ms/step - loss: 0.0892 - mse: 0.0175 - mae: 0.0892 - acc: 0.0000e+00 - val_loss: 0.1005 - val_mse: 0.0199 - val_mae: 0.1005 - val_acc: 0.0000e+00\n",
            "Epoch 79/100\n",
            "157/157 [==============================] - 0s 2ms/step - loss: 0.0899 - mse: 0.0175 - mae: 0.0899 - acc: 0.0000e+00 - val_loss: 0.1005 - val_mse: 0.0205 - val_mae: 0.1005 - val_acc: 0.0000e+00\n",
            "Epoch 80/100\n",
            "157/157 [==============================] - 0s 2ms/step - loss: 0.0893 - mse: 0.0173 - mae: 0.0893 - acc: 0.0000e+00 - val_loss: 0.1006 - val_mse: 0.0199 - val_mae: 0.1006 - val_acc: 0.0000e+00\n",
            "Epoch 81/100\n",
            "157/157 [==============================] - 0s 2ms/step - loss: 0.0887 - mse: 0.0171 - mae: 0.0887 - acc: 0.0000e+00 - val_loss: 0.1006 - val_mse: 0.0200 - val_mae: 0.1006 - val_acc: 0.0000e+00\n",
            "Epoch 82/100\n",
            "157/157 [==============================] - 0s 2ms/step - loss: 0.0900 - mse: 0.0176 - mae: 0.0900 - acc: 0.0000e+00 - val_loss: 0.1030 - val_mse: 0.0213 - val_mae: 0.1030 - val_acc: 0.0000e+00\n",
            "Epoch 83/100\n",
            "157/157 [==============================] - 0s 2ms/step - loss: 0.0904 - mse: 0.0181 - mae: 0.0904 - acc: 0.0000e+00 - val_loss: 0.0997 - val_mse: 0.0197 - val_mae: 0.0997 - val_acc: 0.0000e+00\n",
            "Epoch 84/100\n",
            "157/157 [==============================] - 0s 2ms/step - loss: 0.0891 - mse: 0.0172 - mae: 0.0891 - acc: 0.0000e+00 - val_loss: 0.1013 - val_mse: 0.0203 - val_mae: 0.1013 - val_acc: 0.0000e+00\n",
            "Epoch 85/100\n",
            "157/157 [==============================] - 0s 2ms/step - loss: 0.0895 - mse: 0.0174 - mae: 0.0895 - acc: 0.0000e+00 - val_loss: 0.1024 - val_mse: 0.0202 - val_mae: 0.1024 - val_acc: 0.0000e+00\n",
            "Epoch 86/100\n",
            "157/157 [==============================] - 0s 2ms/step - loss: 0.0885 - mse: 0.0170 - mae: 0.0885 - acc: 0.0000e+00 - val_loss: 0.1024 - val_mse: 0.0214 - val_mae: 0.1024 - val_acc: 0.0000e+00\n",
            "Epoch 87/100\n",
            "157/157 [==============================] - 0s 2ms/step - loss: 0.0882 - mse: 0.0171 - mae: 0.0882 - acc: 0.0000e+00 - val_loss: 0.1046 - val_mse: 0.0220 - val_mae: 0.1046 - val_acc: 0.0000e+00\n",
            "Epoch 88/100\n",
            "157/157 [==============================] - 0s 2ms/step - loss: 0.0887 - mse: 0.0169 - mae: 0.0887 - acc: 0.0000e+00 - val_loss: 0.1012 - val_mse: 0.0213 - val_mae: 0.1012 - val_acc: 0.0000e+00\n",
            "Epoch 89/100\n",
            "157/157 [==============================] - 0s 2ms/step - loss: 0.0903 - mse: 0.0176 - mae: 0.0903 - acc: 0.0000e+00 - val_loss: 0.1025 - val_mse: 0.0221 - val_mae: 0.1025 - val_acc: 0.0000e+00\n",
            "Epoch 90/100\n",
            "157/157 [==============================] - 0s 2ms/step - loss: 0.0887 - mse: 0.0170 - mae: 0.0887 - acc: 0.0000e+00 - val_loss: 0.0991 - val_mse: 0.0198 - val_mae: 0.0991 - val_acc: 0.0000e+00\n",
            "Epoch 91/100\n",
            "157/157 [==============================] - 0s 2ms/step - loss: 0.0881 - mse: 0.0168 - mae: 0.0881 - acc: 0.0000e+00 - val_loss: 0.0992 - val_mse: 0.0204 - val_mae: 0.0992 - val_acc: 0.0000e+00\n",
            "Epoch 92/100\n",
            "157/157 [==============================] - 0s 2ms/step - loss: 0.0896 - mse: 0.0174 - mae: 0.0896 - acc: 0.0000e+00 - val_loss: 0.1019 - val_mse: 0.0213 - val_mae: 0.1019 - val_acc: 0.0000e+00\n",
            "Epoch 93/100\n",
            "157/157 [==============================] - 0s 2ms/step - loss: 0.0892 - mse: 0.0172 - mae: 0.0892 - acc: 0.0000e+00 - val_loss: 0.1040 - val_mse: 0.0215 - val_mae: 0.1040 - val_acc: 0.0000e+00\n",
            "Epoch 94/100\n",
            "157/157 [==============================] - 0s 2ms/step - loss: 0.0893 - mse: 0.0173 - mae: 0.0893 - acc: 0.0000e+00 - val_loss: 0.1020 - val_mse: 0.0208 - val_mae: 0.1020 - val_acc: 0.0000e+00\n",
            "Epoch 95/100\n",
            "157/157 [==============================] - 0s 2ms/step - loss: 0.0893 - mse: 0.0171 - mae: 0.0893 - acc: 0.0000e+00 - val_loss: 0.1036 - val_mse: 0.0218 - val_mae: 0.1036 - val_acc: 0.0000e+00\n",
            "Epoch 96/100\n",
            "157/157 [==============================] - 0s 2ms/step - loss: 0.0891 - mse: 0.0170 - mae: 0.0891 - acc: 0.0000e+00 - val_loss: 0.0976 - val_mse: 0.0196 - val_mae: 0.0976 - val_acc: 0.0000e+00\n",
            "Epoch 97/100\n",
            "157/157 [==============================] - 0s 2ms/step - loss: 0.0902 - mse: 0.0175 - mae: 0.0902 - acc: 0.0000e+00 - val_loss: 0.1104 - val_mse: 0.0241 - val_mae: 0.1104 - val_acc: 0.0000e+00\n",
            "Epoch 98/100\n",
            "157/157 [==============================] - 0s 2ms/step - loss: 0.0888 - mse: 0.0174 - mae: 0.0888 - acc: 0.0000e+00 - val_loss: 0.0974 - val_mse: 0.0192 - val_mae: 0.0974 - val_acc: 0.0000e+00\n",
            "Epoch 99/100\n",
            "157/157 [==============================] - 0s 2ms/step - loss: 0.0866 - mse: 0.0165 - mae: 0.0866 - acc: 0.0000e+00 - val_loss: 0.0990 - val_mse: 0.0196 - val_mae: 0.0990 - val_acc: 0.0000e+00\n",
            "Epoch 100/100\n",
            "157/157 [==============================] - 0s 2ms/step - loss: 0.0884 - mse: 0.0170 - mae: 0.0884 - acc: 0.0000e+00 - val_loss: 0.1034 - val_mse: 0.0208 - val_mae: 0.1034 - val_acc: 0.0000e+00\n"
          ]
        }
      ]
    },
    {
      "cell_type": "code",
      "metadata": {
        "id": "o3FkuVtcUPSX",
        "colab": {
          "base_uri": "https://localhost:8080/",
          "height": 286
        },
        "outputId": "02680358-4ea2-44af-ebee-9d4add0d8021"
      },
      "source": [
        "plt.plot(history.history['mse'])\n",
        "plt.plot(history.history['val_mse'])\n",
        "plt.ylim(0,0.03)"
      ],
      "execution_count": 62,
      "outputs": [
        {
          "output_type": "execute_result",
          "data": {
            "text/plain": [
              "(0.0, 0.03)"
            ]
          },
          "metadata": {},
          "execution_count": 62
        },
        {
          "output_type": "display_data",
          "data": {
            "image/png": "[encoded data removed]",
            "text/plain": [
              "<Figure size 432x288 with 1 Axes>"
            ]
          },
          "metadata": {
            "needs_background": "light"
          }
        }
      ]
    },
    {
      "cell_type": "code",
      "metadata": {
        "id": "Yjdz-V2tUQVi",
        "colab": {
          "base_uri": "https://localhost:8080/",
          "height": 286
        },
        "outputId": "35adcf6d-962d-4c1b-d255-1e6cf7a47d09"
      },
      "source": [
        "plt.plot(history.history['mae'])\n",
        "plt.plot(history.history['val_mae'])\n",
        "plt.ylim(0,0.3)"
      ],
      "execution_count": 63,
      "outputs": [
        {
          "output_type": "execute_result",
          "data": {
            "text/plain": [
              "(0.0, 0.3)"
            ]
          },
          "metadata": {},
          "execution_count": 63
        },
        {
          "output_type": "display_data",
          "data": {
            "image/png": "[encoded data removed]",
            "text/plain": [
              "<Figure size 432x288 with 1 Axes>"
            ]
          },
          "metadata": {
            "needs_background": "light"
          }
        }
      ]
    },
    {
      "cell_type": "code",
      "metadata": {
        "id": "yAhppcj_WVWP"
      },
      "source": [
        "filename='/content/drive/My Drive/domy mazowieckie/dfMazowieckie_normalized.h5'\n",
        "model.save(filename,save_format='tf')"
      ],
      "execution_count": 64,
      "outputs": []
    }
  ]
}