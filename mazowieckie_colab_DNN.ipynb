{
  "nbformat": 4,
  "nbformat_minor": 0,
  "metadata": {
    "colab": {
      "name": "mazowieckie_colab_DNN.ipynb",
      "provenance": [],
      "collapsed_sections": [],
      "authorship_tag": "ABX9TyPqXNZP/iSIA6QkXl/dT4VB",
      "include_colab_link": true
    },
    "kernelspec": {
      "name": "python3",
      "display_name": "Python 3"
    },
    "language_info": {
      "name": "python"
    }
  },
  "cells": [
    {
      "cell_type": "markdown",
      "metadata": {
        "id": "view-in-github",
        "colab_type": "text"
      },
      "source": [
        "<a href=\"https://colab.research.google.com/github/KacperGrodecki/nieruchomosci-mazowieckie/blob/0.0.2/mazowieckie_colab_DNN.ipynb\" target=\"_parent\"><img src=\"https://colab.research.google.com/assets/colab-badge.svg\" alt=\"Open In Colab\"/></a>"
      ]
    },
    {
      "cell_type": "code",
      "metadata": {
        "id": "DoyxUX4T7Yoj",
        "colab": {
          "base_uri": "https://localhost:8080/"
        },
        "outputId": "5b826e86-11b0-459a-c29f-81321b9a2859"
      },
      "source": [
        "from sklearn.metrics import confusion_matrix\n",
        "from sklearn import svm\n",
        "import pandas as pd\n",
        "import numpy as np\n",
        "np.random.seed(7)\n",
        "from google.colab import drive\n",
        "import seaborn as sns\n",
        "drive.mount('/content/drive')\n",
        "import matplotlib.pyplot as plt\n",
        "import pandas as pd\n",
        "#from otoDomScraper import daneDomu\n",
        "#from random import randrange\n",
        "import numpy as np\n",
        "from sklearn.ensemble import RandomForestRegressor\n",
        "import matplotlib.pyplot as plt\n",
        "import seaborn as sns\n",
        "import re\n",
        "from sklearn.model_selection import GridSearchCV\n",
        "from sklearn.model_selection import train_test_split\n",
        "import statistics\n",
        "from sklearn.cluster import AffinityPropagation\n",
        "from sklearn.model_selection import cross_val_score, cross_val_predict\n",
        "from sklearn.decomposition import FastICA\n",
        "from sklearn import preprocessing\n",
        "from IPython.display import Javascript\n",
        "import requests\n",
        "from collections import OrderedDict\n",
        "import seaborn as sns"
      ],
      "execution_count": 27,
      "outputs": [
        {
          "output_type": "stream",
          "text": [
            "Drive already mounted at /content/drive; to attempt to forcibly remount, call drive.mount(\"/content/drive\", force_remount=True).\n"
          ],
          "name": "stdout"
        }
      ]
    },
    {
      "cell_type": "code",
      "metadata": {
        "id": "eaSkJkDn7htz"
      },
      "source": [
        "def toNum2(txt):\n",
        "    if type(txt) is int:\n",
        "        return txt\n",
        "    elif (type(txt) is str):\n",
        "        digs = re.findall(r'\\d+', txt)\n",
        "        if len(digs) == 1:\n",
        "            return int(digs[0])\n",
        "        elif len(digs) == 2:\n",
        "            return 1000 * int(digs[0]) + int(digs[1])\n",
        "        elif len(digs) == 3:\n",
        "            return 1000000 * int(digs[0]) + 1000 * int(digs[1]) + int(digs[0])\n",
        "\n",
        "    #   return int(digs)\n",
        "\n",
        "\n",
        "def toNum1(txt):\n",
        "    if type(txt) is str:\n",
        "        digs = re.findall(r'\\d+', txt)\n",
        "        if len(digs) == 1:\n",
        "            return int(digs[0])\n",
        "        elif len(digs) == 2 and (txt[1] != ' '):\n",
        "            return int(digs[0]) + 0.01 * int(digs[1])\n",
        "        elif len(digs) == 3:\n",
        "            return 1000 * int(digs[0]) + int(digs[1]) + 0.001 * int(digs[2])\n",
        "        elif (type(txt) is str) and (txt[1] == ' '):\n",
        "            digs = re.findall(r'\\d+', txt)\n",
        "            return 1000 * int(digs[0]) + int(digs[1])\n",
        "    else:\n",
        "        return txt\n",
        "\n",
        "\n",
        "def toNum3(txt):\n",
        "    if type(txt) == int:\n",
        "        return txt\n",
        "    return int(re.findall(r'\\d+', txt)[0])\n",
        "\n",
        "def pietra(txt):\n",
        "    if type(txt) is str:\n",
        "        if '0' in txt:\n",
        "            return 0\n",
        "        if '1' in txt:\n",
        "            return 1\n",
        "        elif '2' in txt:\n",
        "            return 2\n",
        "        elif '3' in txt:\n",
        "            return 3\n",
        "        elif 'parterowy' in txt:\n",
        "            return 0\n",
        "    else:\n",
        "        return txt\n",
        "\n",
        "def cities(x):\n",
        "    dist=x.split()[4]\n",
        "    #city=x.split()[5]\n",
        "    if dist=='warszawski':\n",
        "        return x.split()[6]\n",
        "    elif dist in ['Warszawa','Radom','Płock','Siedlce']:\n",
        "        return dist\n",
        "    else:\n",
        "        try:\n",
        "            return x.split()[5]\n",
        "        except:\n",
        "            return 'unknown'\n",
        "\n",
        "def region(x):\n",
        "    if x.split()[4]=='Warszawa':\n",
        "        try:\n",
        "            return x.split()[5]\n",
        "        except:\n",
        "            return ''\n",
        "    else:\n",
        "        return ''"
      ],
      "execution_count": 3,
      "outputs": []
    },
    {
      "cell_type": "code",
      "metadata": {
        "id": "tz6yc0BqdG-c"
      },
      "source": [
        "def get_voivodeships():\n",
        "    # problem - too many voivodeships, historical ones are mixed together\n",
        "    # solution - just cut the list after 16-th item\n",
        "    \n",
        "    # request voivodeships of poland(wd:Q36),\n",
        "    # cut after 16 voivodeships, the rest are historical ones\n",
        "    # https://query.wikidata.org/#%20%20%20%20SELECT%20%3Fvoivodeship%20%3FvoivodeshipLabel%20%3Flatitude%20%3Flongitude%20%3Fadmininistrative_teritorial_entity%0A%20%20%20%20WHERE%20%7B%0A%20%20%20%20%20%20%3Fvoivodeship%20wdt%3AP31%20wd%3AQ150093%3B%0A%20%20%20%20%20%20%20%20%20%20%20%20%20%20%20%20%20%20%20wdt%3AP131%20%3Fadmininistrative_teritorial_entity%3B%0A%20%20%20%20%20%20%20%20%20%20%20%20%20%20%20%20%20%20%20p%3AP625%2Fpsv%3AP625%20%5B%0A%20%20%20%20%20%20%20%20%20%20%20%20%20%20%20%20%20%20%20%20%20%20%20wikibase%3AgeoLatitude%20%3Flatitude%20%3B%0A%20%20%20%20%20%20%20%20%20%20%20%20%20%20%20%20%20%20%20%20%20%20%20wikibase%3AgeoLongitude%20%3Flongitude%20%3B%0A%20%20%20%20%20%20%20%20%20%20%20%20%20%20%20%20%20%20%20%5D.%20%20%20%20%20%20%20%20%20%20%20%20%20%20%20%0A%20%20%20%20%20%20FILTER%28%3Fadmininistrative_teritorial_entity%20%3D%20wd%3AQ36%29.%0A%20%20%20%20%20%20SERVICE%20wikibase%3Alabel%20%7B%20bd%3AserviceParam%20wikibase%3Alanguage%20%22pl%22.%20%7D%0A%20%20%20%20%7D%0A%20%20%20%20ORDER%20BY%20DESC%28%3Fvoivodeship%29%0A%20%20%20%20LIMIT%2016%0A\n",
        "    url = 'https://query.wikidata.org/sparql'\n",
        "    query = '''\n",
        "    SELECT ?voivodeship ?voivodeshipLabel ?latitude ?longitude ?admininistrative_teritorial_entity\n",
        "    WHERE {\n",
        "      ?voivodeship wdt:P31 wd:Q150093;\n",
        "                   wdt:P131 ?admininistrative_teritorial_entity;\n",
        "                   p:P625/psv:P625 [\n",
        "                       wikibase:geoLatitude ?latitude ;\n",
        "                       wikibase:geoLongitude ?longitude ;\n",
        "                   ].               \n",
        "      FILTER(?admininistrative_teritorial_entity = wd:Q36).\n",
        "      SERVICE wikibase:label { bd:serviceParam wikibase:language \"pl\". }\n",
        "    }\n",
        "    ORDER BY DESC(?voivodeship)\n",
        "    LIMIT 16\n",
        "    '''\n",
        "    r = requests.get(url, params = {'format': 'json', 'query': query})\n",
        "    data = r.json()\n",
        "\n",
        "    # convert json to dataframe\n",
        "    voivodeships = []\n",
        "    for item in data['results']['bindings']:\n",
        "        voivodeships.append(OrderedDict(\n",
        "        {\n",
        "            'voivodeship':      item['voivodeshipLabel']['value'].lower(),\n",
        "            'latitude':         float(item['latitude']['value']),        \n",
        "            'longitude':        float(item['longitude']['value']),                    \n",
        "            'wikidata_item_id': item['voivodeship']['value'].split('/')[-1]\n",
        "        }))\n",
        "    #     print(item,'\\n')    \n",
        "    return pd.DataFrame(voivodeships)\n"
      ],
      "execution_count": 4,
      "outputs": []
    },
    {
      "cell_type": "code",
      "metadata": {
        "id": "MnwWwv4vdeob"
      },
      "source": [
        "def get_warsaw_districts():\n",
        "    # problem  - some districts have two sets of coordinates which differ slighlty\n",
        "    # solution - drop the one with worse precision (larger value), this seems to be consistent with the wikipedia data\n",
        "    # to do    - the above is not true for ['Wola'], change it\n",
        "    \n",
        "    # https://query.wikidata.org/#SELECT%20%3Fdistrict_of_Warsaw%20%3Fdistrict_of_WarsawLabel%20%3Flat%20%3Flon%20%3FgeoPrecision%20%0AWHERE%20%7B%0A%20%20%3Fdistrict_of_Warsaw%20%20wdt%3AP31%20wd%3AQ4286337%3B%0A%20%20%20%20%20%20%20%20%20%20%20%20%20%20%20%20%20%20%20%20%20%20%20wdt%3AP17%20wd%3AQ36%3B%0A%20%20%20%20%20%20%20%20%20%20%20%20%20%20%20%20%20%20%20%20%20%20%20wdt%3AP131%20wd%3AQ270%3B%0A%20%20%20%20%20%20%20%20%20%20%20%20%20%20%20%20%20%20%20%20%20%20%20p%3AP625%2Fpsv%3AP625%20%5B%0A%20%20%20%20%20%20%20%20%20%20%20%20%20%20%20%20%20%20%20%20%20%20%20%20%20%20%20wikibase%3AgeoLatitude%20%3Flat%20%3B%0A%20%20%20%20%20%20%20%20%20%20%20%20%20%20%20%20%20%20%20%20%20%20%20%20%20%20%20wikibase%3AgeoLongitude%20%3Flon%20%3B%0A%20%20%20%20%20%20%20%20%20%20%20%20%20%20%20%20%20%20%20%20%20%20%20%20%20%20%20wikibase%3AgeoPrecision%20%20%3FgeoPrecision%3B%20%20%20%20%20%20%20%20%20%20%20%20%20%20%20%20%20%20%20%20%20%20%20%20%20%20%20%20%20%20%20%20%20%20%20%20%20%20%20%0A%20%20%20%20%20%20%20%20%20%20%20%20%20%20%20%20%20%20%20%20%20%20%20%5D%0A%20%20SERVICE%20wikibase%3Alabel%20%7B%20bd%3AserviceParam%20wikibase%3Alanguage%20%22pl%22.%20%7D%0A%7D\n",
        "    url = 'https://query.wikidata.org/sparql'\n",
        "    query = '''\n",
        "    SELECT ?warsaw_district ?warsaw_districtLabel ?latitude ?longitude ?geoPrecision \n",
        "    WHERE {\n",
        "      ?warsaw_district  wdt:P31 wd:Q4286337;\n",
        "                           wdt:P17 wd:Q36;\n",
        "                           wdt:P131 wd:Q270;\n",
        "                           p:P625/psv:P625 [\n",
        "                               wikibase:geoLatitude ?latitude ;\n",
        "                               wikibase:geoLongitude ?longitude ;\n",
        "                               wikibase:geoPrecision  ?geoPrecision;                                       \n",
        "                           ]\n",
        "      SERVICE wikibase:label { bd:serviceParam wikibase:language \"pl\". }\n",
        "    }\n",
        "    ORDER BY ASC(?warsaw_districtLabel)\n",
        "    '''\n",
        "    r = requests.get(url, params = {'format': 'json', 'query': query})\n",
        "#     print(r.json())\n",
        "    data = r.json()\n",
        "\n",
        "    # convert json to dataframe\n",
        "    warsaw_districts = []\n",
        "    for item in data['results']['bindings']:\n",
        "#         print(item,'\\n')    \n",
        "        warsaw_districts.append(OrderedDict(\n",
        "        {\n",
        "            'warsaw_district':  item['warsaw_districtLabel']['value'].lower(),\n",
        "            'latitude':         float(item['latitude']['value']),        \n",
        "            'longitude':        float(item['longitude']['value']),                    \n",
        "            'geoPrecision':     float(item['geoPrecision']['value']),                                \n",
        "            'wikidata_item_id': item['warsaw_district']['value'].split('/')[-1]\n",
        "        }))\n",
        "    \n",
        "    warsaw_districts = pd.DataFrame(warsaw_districts).sort_values(by=['warsaw_district'])\n",
        "    \n",
        "    # if duplicate warsaw districts exist, take the one with better precision (lower value), do the opposite in case of 'Wola' \n",
        "    for district in warsaw_districts['warsaw_district']:\n",
        "        if np.sum(warsaw_districts['warsaw_district'] == district) > 1: # duplicate district found\n",
        "            if district != 'wola':            \n",
        "                district_to_drop_idx = warsaw_districts.loc[warsaw_districts['warsaw_district'] == district, 'geoPrecision'].idxmax()\n",
        "            elif district == 'wola':\n",
        "                district_to_drop_idx = warsaw_districts.loc[warsaw_districts['warsaw_district'] == district, 'geoPrecision'].idxmin()\n",
        "#             print(district+':\\t', district_to_drop_idx, '\\n')\n",
        "            warsaw_districts = warsaw_districts.drop(district_to_drop_idx).reset_index(drop=True)  \n",
        "            \n",
        "    return warsaw_districts"
      ],
      "execution_count": 5,
      "outputs": []
    },
    {
      "cell_type": "code",
      "metadata": {
        "id": "I_FDozWjxKZF"
      },
      "source": [
        "def get_cities():\n",
        "    # Description:\n",
        "    #  - sparql query is constructed for different types of cities: city with powiat rights ('Q925381'), urban municipality of Poland (Q2616791), and the second for \"regular\" city ('Q515')\n",
        "    # Problems:\n",
        "    #   1) some cities have more than one set of coordinates\n",
        "    #   2) filter within masovian voivodeship\n",
        "    # Solutions:\n",
        "    #   1) retain only the one with best precision (lowest value)\n",
        "    #   2) we can use .contains method from geopandas package, check the crs of Point from wikidata (https://www.kaggle.com/alexisbcook/proximity-analysis)\n",
        "    # To do:\n",
        "    #   1) check this approach\n",
        "      \n",
        "    # Get both types of cities: cities with powiat rights (Q925381), urban municipality of Poland (Q2616791), and the the \"regular\" cities (Q515)\n",
        "    # https://docs.python.org/3/reference/lexical_analysis.html#f-strings\n",
        "    # https://query.wikidata.org/#SELECT%20%3Fcity%20%3FcityLabel%20%3Flatitude%20%3Flongitude%20%3FgeoPrecision%20%3Fcoord%0AWHERE%20%7B%0A%20%20%3Fcity%20%20wdt%3AP31%20wd%3AQ925381%3B%0A%20%20%20%20%20%20%20%20%20wdt%3AP17%20wd%3AQ36%3B%0A%20%20%20%20%20%20%20%20%20%23wdt%3AP131%20wd%3AQ54169%3B%0A%20%20%20%20%20%20%20%20%20p%3AP625%20%5B%0A%20%20%20%20%20%20%20%20%20%20%20%20%20%20%20%20%20psv%3AP625%20%5B%0A%20%20%20%20%20%20%20%20%20%20%20%20%20%20%20%20%20%20%20%20%20%20%20%20%20%20%20wikibase%3AgeoLatitude%20%3Flatitude%20%3B%0A%20%20%20%20%20%20%20%20%20%20%20%20%20%20%20%20%20%20%20%20%20%20%20%20%20%20%20wikibase%3AgeoLongitude%20%3Flongitude%20%3B%0A%20%20%20%20%20%20%20%20%20%20%20%20%20%20%20%20%20%20%20%20%20%20%20%20%20%20%20wikibase%3AgeoPrecision%20%20%3FgeoPrecision%3B%20%20%20%20%20%20%0A%20%20%20%20%20%20%20%20%20%20%20%20%20%20%20%20%20%20%20%20%20%20%20%20%20%20%5D%3B%0A%20%20%20%20%20%20%20%20%20ps%3AP625%20%3Fcoord%20%0A%20%20%20%20%20%20%20%20%20%5D%0A%20%20SERVICE%20wikibase%3Alabel%20%7B%20bd%3AserviceParam%20wikibase%3Alanguage%20%22pl%22.%20%7D%0A%7D\n",
        "    # https://query.wikidata.org/#SELECT%20%3Fcity%20%3FcityLabel%20%3Flatitude%20%3Flongitude%20%3FgeoPrecision%20%3Fcoord%0AWHERE%20%7B%0A%20%20%3Fcity%20%20wdt%3AP31%20wd%3AQ515%3B%0A%20%20%20%20%20%20%20%20%20wdt%3AP17%20wd%3AQ36%3B%0A%20%20%20%20%20%20%20%20%20%23wdt%3AP131%20wd%3AQ54169%3B%0A%20%20%20%20%20%20%20%20%20p%3AP625%20%5B%0A%20%20%20%20%20%20%20%20%20%20%20%20%20%20%20%20%20psv%3AP625%20%5B%0A%20%20%20%20%20%20%20%20%20%20%20%20%20%20%20%20%20%20%20%20%20%20%20%20%20%20%20wikibase%3AgeoLatitude%20%3Flatitude%20%3B%0A%20%20%20%20%20%20%20%20%20%20%20%20%20%20%20%20%20%20%20%20%20%20%20%20%20%20%20wikibase%3AgeoLongitude%20%3Flongitude%20%3B%0A%20%20%20%20%20%20%20%20%20%20%20%20%20%20%20%20%20%20%20%20%20%20%20%20%20%20%20wikibase%3AgeoPrecision%20%20%3FgeoPrecision%3B%20%20%20%20%20%20%0A%20%20%20%20%20%20%20%20%20%20%20%20%20%20%20%20%20%20%20%20%20%20%20%20%20%20%5D%3B%0A%20%20%20%20%20%20%20%20%20ps%3AP625%20%3Fcoord%20%0A%20%20%20%20%20%20%20%20%20%5D%0A%20%20SERVICE%20wikibase%3Alabel%20%7B%20bd%3AserviceParam%20wikibase%3Alanguage%20%22pl%22.%20%7D%0A%7D\n",
        "    cities_all = pd.DataFrame()\n",
        "    url = 'https://query.wikidata.org/sparql'\n",
        "    data = pd.DataFrame()\n",
        "    types_of_city = {'city with powiat rights': 'Q925381', 'urban municipality of Poland ': 'Q2616791', 'city': 'Q515'}\n",
        "    for type_of_city, type_of_city_sparql in types_of_city.items():\n",
        "#         print('\\n\\nCities of type \\'' + type_of_city + '\\' (' + str(type_of_city_sparql) + '):')\n",
        "        query = f''' \n",
        "            SELECT ?city ?cityLabel ?latitude ?longitude ?geoPrecision ?coord\n",
        "            WHERE {{\n",
        "              ?city  wdt:P31 wd:{type_of_city_sparql};\n",
        "                     wdt:P17 wd:Q36;\n",
        "                     #wdt:P131 wd:Q54169;\n",
        "                     p:P625 [\n",
        "                             psv:P625 [\n",
        "                                       wikibase:geoLatitude ?latitude ;\n",
        "                                       wikibase:geoLongitude ?longitude ;\n",
        "                                       wikibase:geoPrecision  ?geoPrecision;      \n",
        "                                      ];\n",
        "                     ps:P625 ?coord \n",
        "                     ]\n",
        "              SERVICE wikibase:label {{ bd:serviceParam wikibase:language \"pl\". }}\n",
        "            }}\n",
        "            '''\n",
        "        r = requests.get(url, params = {'format': 'json', 'query': query})\n",
        "        data = r.json()\n",
        "\n",
        "        \n",
        "        # Convert json to dataframe\n",
        "        cities = []\n",
        "        for item in data['results']['bindings']:\n",
        "#             print(item,'\\n')    \n",
        "            cities.append(OrderedDict(\n",
        "            {\n",
        "                'city':             item['cityLabel']['value'].lower(),\n",
        "                'latitude':         float(item['latitude']['value']),        \n",
        "                'longitude':        float(item['longitude']['value']),                    \n",
        "                'geoPrecision':     float(item['geoPrecision']['value']),                                \n",
        "                'wikidata_item_id': item['city']['value'].split('/')[-1]\n",
        "            }))\n",
        "        cities = pd.DataFrame(cities).sort_values(by=['city']).reset_index(drop=True)\n",
        "#         print('Number of cities of type', type_of_city+':', len(cities))\n",
        "\n",
        "        \n",
        "        # Find those city names that have multiple instaces:\n",
        "        #   - those with the same wikidata_item_id are the same city with multiple coordinate sets - retain only the set with best (lowest) geoPrecision,\n",
        "        #   - those with different wikidata_item_id are different cities and should not be considered with the following procedure.\n",
        "        # https://stackoverflow.com/questions/55360314/pandas-groupby-take-counts-greater-than-1\n",
        "        cities_with_the_same_name_and_wikidataItemId = cities.loc[cities.groupby(['city', 'wikidata_item_id'])['geoPrecision'].transform('count') > 1].reset_index(drop=True) # cities.loc[cities.duplicated(subset=['city', 'wikidata_item_id'], keep=False)].reset_index(drop=True)\n",
        "#         print('Cities with the same name and the same wikidata_item_id:', len(cities_with_the_same_name_and_wikidataItemId))\n",
        "        \n",
        "    \n",
        "        # If multiple instances of any city exist, retain only the one with the best precision (lowest value) \n",
        "#         print('Cities with multiple instances:', len(cities_with_the_same_name_and_wikidataItemId), '\\n')\n",
        "        for city in cities_with_the_same_name_and_wikidataItemId['city'].unique():\n",
        "#             print(city)\n",
        "            city_to_retain_idx = cities_with_the_same_name_and_wikidataItemId.loc[cities_with_the_same_name_and_wikidataItemId['city'] == city, 'geoPrecision'].idxmin()        \n",
        "            cities_to_drop = cities_with_the_same_name_and_wikidataItemId.loc[(cities_with_the_same_name_and_wikidataItemId['city'] == city) & (cities_with_the_same_name_and_wikidataItemId.index != city_to_retain_idx)].index\n",
        "#             print('city:', city, '\\nindex and geoPrecision of instance to retain:', city_to_retain_idx, cities_with_the_same_name_and_wikidataItemId.loc[city_to_retain_idx, 'geoPrecision'], '\\nindices and geoPrecisions of instances to drop:\\n', tabulate(cities_with_the_same_name_and_wikidataItemId.loc[cities_to_drop, ['geoPrecision']], tablefmt='psql'))\n",
        "            cities = cities.drop(cities_to_drop).reset_index(drop=True)\n",
        "#         print('Number of cities with multiple instances of given cities after cleaning:', len(cities_with_the_same_name_and_wikidataItemId))\n",
        "\n",
        "\n",
        "        # Append to cities_all\n",
        "        cities_all = pd.concat([cities_all, cities], axis = 0).sort_values(by=['city']).reset_index(drop=True)\n",
        "#         print('Number of cities of type', type_of_city, 'after cleaning duplicate coordinates:', len(cities))\n",
        "\n",
        "    \n",
        "#     print('Number of all cities:', len(cities_all), '\\n', '#'*72)\n",
        "    return cities_all"
      ],
      "execution_count": 6,
      "outputs": []
    },
    {
      "cell_type": "code",
      "metadata": {
        "id": "0iS1TurYI9hM"
      },
      "source": [
        "def get_counties():\n",
        "    # Description:\n",
        "    #  - sparql query is constructed for counties ('Q247073'),\n",
        "      \n",
        "    # Get both types of cities: cities with powiat rights (Q925381), urban municipality of Poland (Q2616791), and the the \"regular\" cities (Q515)\n",
        "    # https://docs.python.org/3/reference/lexical_analysis.html#f-strings\n",
        "    # https://query.wikidata.org/#SELECT%20%3Fcity%20%3FcityLabel%20%3Flatitude%20%3Flongitude%20%3FgeoPrecision%20%3Fcoord%0AWHERE%20%7B%0A%20%20%3Fcity%20%20wdt%3AP31%20wd%3AQ247073%3B%0A%20%20%20%20%20%20%20%20%20wdt%3AP17%20wd%3AQ36%3B%0A%20%20%20%20%20%20%20%20%20wdt%3AP131%20wd%3AQ54169%3B%0A%20%20%20%20%20%20%20%20%20p%3AP625%20%5B%0A%20%20%20%20%20%20%20%20%20%20%20%20%20%20%20%20%20psv%3AP625%20%5B%0A%20%20%20%20%20%20%20%20%20%20%20%20%20%20%20%20%20%20%20%20%20%20%20%20%20%20%20wikibase%3AgeoLatitude%20%3Flatitude%20%3B%0A%20%20%20%20%20%20%20%20%20%20%20%20%20%20%20%20%20%20%20%20%20%20%20%20%20%20%20wikibase%3AgeoLongitude%20%3Flongitude%20%3B%0A%20%20%20%20%20%20%20%20%20%20%20%20%20%20%20%20%20%20%20%20%20%20%20%20%20%20%20wikibase%3AgeoPrecision%20%20%3FgeoPrecision%3B%20%20%20%20%20%20%0A%20%20%20%20%20%20%20%20%20%20%20%20%20%20%20%20%20%20%20%20%20%20%20%20%20%20%5D%3B%0A%20%20%20%20%20%20%20%20%20ps%3AP625%20%3Fcoord%20%0A%20%20%20%20%20%20%20%20%20%5D%0A%20%20SERVICE%20wikibase%3Alabel%20%7B%20bd%3AserviceParam%20wikibase%3Alanguage%20%22pl%22.%20%7D%0A%7D\n",
        "    cities_all = pd.DataFrame()\n",
        "    url = 'https://query.wikidata.org/sparql'\n",
        "    query = '''\n",
        "    SELECT ?county ?countyLabel ?latitude ?longitude ?geoPrecision ?coord\n",
        "    WHERE {\n",
        "      ?county  wdt:P31 wd:Q247073;\n",
        "            wdt:P17 wd:Q36;\n",
        "            wdt:P131 wd:Q54169;\n",
        "            p:P625 [\n",
        "                    psv:P625 [\n",
        "                              wikibase:geoLatitude ?latitude ;\n",
        "                              wikibase:geoLongitude ?longitude ;\n",
        "                              wikibase:geoPrecision  ?geoPrecision;      \n",
        "                              ];\n",
        "            ps:P625 ?coord \n",
        "            ]\n",
        "      SERVICE wikibase:label { bd:serviceParam wikibase:language \"pl\". }\n",
        "    }\n",
        "    '''\n",
        "    r = requests.get(url, params = {'format': 'json', 'query': query})\n",
        "#     print(r.json())\n",
        "    data = r.json()\n",
        "\n",
        "    # convert json to dataframe\n",
        "    counties = []\n",
        "    for item in data['results']['bindings']:\n",
        "#         print(item,'\\n')    \n",
        "        counties.append(OrderedDict(\n",
        "        {\n",
        "            'county':           item['countyLabel']['value'].lower(),\n",
        "            'latitude':         float(item['latitude']['value']),        \n",
        "            'longitude':        float(item['longitude']['value']),                    \n",
        "            'geoPrecision':     float(item['geoPrecision']['value']),                                \n",
        "            'wikidata_item_id': item['county']['value'].split('/')[-1]\n",
        "        }))\n",
        "    \n",
        "    counties = pd.DataFrame(counties).sort_values(by=['county'])\n",
        "      \n",
        "    return counties"
      ],
      "execution_count": 7,
      "outputs": []
    },
    {
      "cell_type": "code",
      "metadata": {
        "id": "KqZDj2pQ8JS6"
      },
      "source": [
        "dfCities=get_cities()\n",
        "dfCounties=get_counties()\n",
        "dfVoivodeships=get_voivodeships()\n",
        "dfWarsawDistricts=get_warsaw_districts()"
      ],
      "execution_count": 8,
      "outputs": []
    },
    {
      "cell_type": "code",
      "metadata": {
        "id": "JIAiPJZpdldk"
      },
      "source": [
        "def return_coordinates(place,type):\n",
        "    '''\n",
        "    Returns coordinates of the place.\n",
        "        The place must be the name (in polish) of voivodeship in Poland, city, or the district of Warsaw.\n",
        "    '''\n",
        "    \n",
        "    coordinates = [None, None]\n",
        "    place = place.lower()\n",
        "    if type=='V':\n",
        "      print('voivodeships',place)\n",
        "\n",
        "      try:\n",
        "          voivodeships = get_voivodeships()\n",
        "          coordinates_df = voivodeships.loc[voivodeships['voivodeship'].str.contains(place) == True, ['latitude', 'longitude']]\n",
        "          coordinates = coordinates_df.values.tolist()[0]       \n",
        "      except Exception as e:\n",
        "        print(e)\n",
        "    elif type=='D':\n",
        "      print('warsaw districts',place)\n",
        "      try:\n",
        "          counties = get_counties()\n",
        "          coordinates_df = counties.loc[counties['warsaw_district'].str.contains(place) == True, ['latitude', 'longitude']]\n",
        "          coordinates = coordinates_df.values.tolist()[0]\n",
        "      except Exception as e:\n",
        "          print(e)\n",
        "    elif type=='C':   \n",
        "      print('cities',place)\n",
        "      try:\n",
        "          cities = get_cities()\n",
        "          coordinates_df = cities.loc[cities['city'].str.contains(place) == True, ['latitude', 'longitude']]\n",
        "          coordinates = coordinates_df.values.tolist()[0]\n",
        "      except Exception as e:\n",
        "          print(e)   \n",
        "    print(coordinates)\n",
        "    return coordinates"
      ],
      "execution_count": 9,
      "outputs": []
    },
    {
      "cell_type": "code",
      "metadata": {
        "id": "lyCylFst7j1X"
      },
      "source": [
        "def makeDataFrame(file):\n",
        "    dfMazowieckie=pd.read_csv(file,index_col=0)\n",
        "    concat=dfMazowieckie\n",
        "    concat['powierzchnia_corr'] = concat['powierzchnia'].apply(lambda x: toNum1(x))\n",
        "    concat['powierzchniaDzialki_corr'] = concat['powierzchniaDzialki'].apply(lambda x: toNum2(x))\n",
        "    concat['cena_corr'] = concat['cena'].apply(lambda x: toNum2(x))\n",
        "    concat['rokBudowy_corr'] = concat['rokBudowy'].apply(lambda x: toNum3(x))\n",
        "    concat['cena/m'] = concat['cena_corr'] / concat['powierzchnia_corr']\n",
        "    concat['lPieter_crr'] = concat['lPieter'].apply(lambda x: pietra(x))\n",
        "    concat = concat[concat['powierzchnia_corr'] > 0]\n",
        "    concat = concat[concat['cena_corr'] > 0]\n",
        "    concat['lPokoi'] = concat['lPokoi'].apply(lambda x: toNum3(x))\n",
        "    concat['districts']=concat['dzielnica'].apply(lambda x: x.split()[4])\n",
        "    cities_corr=concat['dzielnica'].apply(lambda x: cities(x))\n",
        "    concat['cities_corr']=cities_corr\n",
        "    region_corr=concat['dzielnica'].apply(lambda x: region(x))\n",
        "    concat['region_corr']=region_corr\n",
        "    concat_dropped = concat.drop(['dzielnica', 'powierzchnia', 'powierzchniaDzialki', 'lPieter', 'cena', 'cena_corr',], axis=1)\n",
        "    #['rokBudowy_corr'] = concat_dropped['rokBudowy_corr'].replace(to_replace=0, value=1990)\n",
        "    concat_dropped['rokBudowy_corr'] = concat_dropped['rokBudowy_corr'].astype('int')\n",
        "    concat_dropped.loc[concat_dropped['rokBudowy_corr']<1900,'rokBudowy_corr']=1980\n",
        "    concat_dropped.loc[concat_dropped['rokBudowy_corr']>2030,'rokBudowy_corr']=2020\n",
        "    #concat_dropped = concat_dropped[concat_dropped['rokBudowy_corr'] < 2030]\n",
        "    concat_dropped = concat_dropped.fillna(0)\n",
        "    concat_dropped = concat_dropped[concat_dropped['cena/m'] < 20000]\n",
        "    concat_dropped['cena/m'].hist(bins=200)\n",
        "\n",
        "    #concat_dropped_dumm = pd.get_dummies(concat_dropped, columns=['rodzajZabudowy', 'materialBudynku', 'stanWykonczenia', 'okna', 'rynek',\n",
        "    #                                       'cities_corr','districts','region_corr'])\n",
        "    \n",
        "    cityData=concat_dropped.cities_corr.apply(lambda x: funCities(x))\n",
        "    locationCities=locCities(cityData)\n",
        "    districtsData=concat_dropped.region_corr.apply(lambda x: funDistricts(x))\n",
        "    locationDistricts=locCities(districtsData)\n",
        "    countyData=concat_dropped.districts.apply(lambda x: funCounties(x))\n",
        "    locationCounty=locCounties(countyData)\n",
        "\n",
        "    concat_dropped_reset=concat_dropped.reset_index().drop(['index'],axis=1)\n",
        "    locations= pd.concat([locationCities,locationDistricts,locationCounty], axis=1)\n",
        "    concat_dropped_reset['locationX']=locations.apply(selectLocationX,axis=1)\n",
        "    concat_dropped_reset['locationY']=locations.apply(selectLocationY,axis=1)\n",
        "    concat_dropped_reset_drop = concat_dropped_reset.drop(['rokBudowy', 'districts', 'cities_corr', 'region_corr'], axis=1)\n",
        "    final = pd.get_dummies(concat_dropped_reset_drop, columns=['rodzajZabudowy', 'materialBudynku', 'stanWykonczenia', 'okna', 'rynek'])\n",
        "\n",
        "    return final"
      ],
      "execution_count": 94,
      "outputs": []
    },
    {
      "cell_type": "code",
      "metadata": {
        "id": "lAA1mSAY9P8O"
      },
      "source": [
        "def funCities(x):\n",
        "  rows=dfCities.loc[dfCities['city']==x.lower()]\n",
        "  precision=0\n",
        "  if rows.shape[0]==0:\n",
        "    return 0,0,100\n",
        "  elif rows.shape[0]==1:\n",
        "    longitude=rows.longitude.values\n",
        "    latitude=rows.latitude.values\n",
        "    precision=rows.geoPrecision.values\n",
        "    return longitude[0],latitude[0],precision[0]\n",
        "  elif rows.shape[0]>1:\n",
        "    prec1,prec2=rows.iloc[0,3],rows.iloc[1,3]\n",
        "    if prec1<prec2:\n",
        "      precision=prec1\n",
        "      longitude=rows.iloc[0,2]\n",
        "      latitude=rows.iloc[0,1]\n",
        "    else:\n",
        "      precision=prec2\n",
        "      longitude=rows.iloc[1,2]\n",
        "      latitude=rows.iloc[1,1]\n",
        "    return longitude,latitude,precision"
      ],
      "execution_count": 11,
      "outputs": []
    },
    {
      "cell_type": "code",
      "metadata": {
        "id": "quM6ZeSO9UdN"
      },
      "source": [
        "def funDistricts(x):\n",
        "  rows=dfWarsawDistricts.loc[dfWarsawDistricts['warsaw_district']==x.lower()]\n",
        "  #print(x, ' ',rows.shape[0])\n",
        "  if rows.shape[0]==0:\n",
        "    return 0,0,100\n",
        "  elif rows.shape[0]==1:\n",
        "    longitude=rows.longitude.values\n",
        "    latitude=rows.latitude.values\n",
        "    precision=rows.geoPrecision.values\n",
        "    return longitude[0],latitude[0],precision[0]"
      ],
      "execution_count": 12,
      "outputs": []
    },
    {
      "cell_type": "code",
      "metadata": {
        "id": "domiHiOr9R4d"
      },
      "source": [
        "def funCounties(x):\n",
        "  try:\n",
        "    rows=dfCounties.loc['powiat '+x.lower()== dfCounties['county']]\n",
        "  except Exception as e:\n",
        "    return e\n",
        "  #print(x, ' ',rows.shape[0])\n",
        "  if rows.shape[0]==0:\n",
        "    return 0,0,100\n",
        "  elif rows.shape[0]==1:\n",
        "    longitude=rows.longitude.values\n",
        "    latitude=rows.latitude.values\n",
        "    precision=rows.geoPrecision.values\n",
        "    return longitude[0],latitude[0],precision[0]"
      ],
      "execution_count": 13,
      "outputs": []
    },
    {
      "cell_type": "code",
      "metadata": {
        "id": "AW1CIMKJfS3d"
      },
      "source": [
        "def selectLocationX(x):\n",
        " # print(x[17],x[20],x[23])\n",
        "  if x[2]<min(x[5],x[8]):\n",
        "    #print('min 17',x[15],x[16])\n",
        "    return x[0]\n",
        "  elif x[5]<min(x[2],x[8]):\n",
        "    #print('min 20 ',x[18],x[19])\n",
        "    return x[3]\n",
        "  elif x[8]<min(x[2],x[5]):\n",
        "    #print('min 23 ',x[21],x[22])\n",
        "    return x[6]\n",
        "\n",
        "def selectLocationY(x):\n",
        " # print(x[17],x[20],x[23])\n",
        "  if x[2]<min(x[5],x[8]):\n",
        "    #print('min 17',x[15],x[16])\n",
        "    return x[1]\n",
        "  elif x[5]<min(x[2],x[8]):\n",
        "    #print('min 20 ',x[18],x[19])\n",
        "    return x[4]\n",
        "  elif x[8]<min(x[2],x[5]):\n",
        "    #print('min 23 ',x[21],x[22])\n",
        "    return x[7]"
      ],
      "execution_count": 14,
      "outputs": []
    },
    {
      "cell_type": "code",
      "metadata": {
        "id": "Z4XnJiBnZlgN"
      },
      "source": [
        "def locCities(cityData):\n",
        "  locationCities=[]\n",
        "  for data in cityData:\n",
        "    locationCities.append(data)\n",
        "  locationCities=pd.DataFrame(np.array(locationCities),columns=['cityX','cityY','cityGeo'])\n",
        "  return locationCities\n",
        "\n",
        "def locDistricts(districtsData):\n",
        "  locationCities=[]\n",
        "  for data in cityData:\n",
        "    locationDistricts.append(data)\n",
        "  locationDistricts=pd.DataFrame(np.array(locationDistricts),columns=['cityX','cityY','cityGeo'])\n",
        "  return locationDistricts\n",
        "\n",
        "def locCounties(countyData):\n",
        "  locationCounty=[]\n",
        "  for data in countyData:\n",
        "    locationCounty.append(data)\n",
        "  locationCounty=pd.DataFrame(np.array(locationCounty),columns=['countyX','countyY','countyGeo'])\n",
        "  return locationCounty"
      ],
      "execution_count": 15,
      "outputs": []
    },
    {
      "cell_type": "code",
      "metadata": {
        "id": "qmOjGx4Z7lbR"
      },
      "source": [
        "filename='/content/drive/My Drive/domymazowieckie/dfMazowieckie.csv'\n",
        "dfCities=get_cities()\n",
        "dfCounties=get_counties()\n",
        "dfVoivodeships=get_voivodeships()\n",
        "dfWarsawDistricts=get_warsaw_districts()"
      ],
      "execution_count": 95,
      "outputs": []
    },
    {
      "cell_type": "code",
      "metadata": {
        "colab": {
          "base_uri": "https://localhost:8080/",
          "height": 264
        },
        "id": "hl-GYCGD7mwf",
        "outputId": "4d6b1947-1283-4536-cf23-a6a430b452e6"
      },
      "source": [
        "final=makeDataFrame(filename)"
      ],
      "execution_count": 96,
      "outputs": [
        {
          "output_type": "display_data",
          "data": {
            "image/png": "[encoded data removed]",
            "text/plain": [
              "<Figure size 432x288 with 1 Axes>"
            ]
          },
          "metadata": {
            "needs_background": "light"
          }
        }
      ]
    },
    {
      "cell_type": "code",
      "metadata": {
        "id": "FXkvq00GIjDx",
        "outputId": "5ed909a4-b2c9-442d-ee03-727a76fad6a0",
        "colab": {
          "base_uri": "https://localhost:8080/"
        }
      },
      "source": [
        "final.shape"
      ],
      "execution_count": 98,
      "outputs": [
        {
          "output_type": "execute_result",
          "data": {
            "text/plain": [
              "(7823, 37)"
            ]
          },
          "metadata": {},
          "execution_count": 98
        }
      ]
    },
    {
      "cell_type": "code",
      "metadata": {
        "id": "o-tN-Z-L0dJ6"
      },
      "source": [
        "from sklearn import preprocessing"
      ],
      "execution_count": null,
      "outputs": []
    },
    {
      "cell_type": "code",
      "metadata": {
        "id": "ffZlHNQaDKfW",
        "outputId": "73da5f61-87b6-4917-eb6d-b0feee60cc69",
        "colab": {
          "base_uri": "https://localhost:8080/",
          "height": 335
        }
      },
      "source": [
        "plt.hist(final.loc[:,'lPokoi']/10)"
      ],
      "execution_count": 99,
      "outputs": [
        {
          "output_type": "execute_result",
          "data": {
            "text/plain": [
              "(array([   8.,   36.,  638.,    0., 1651., 3743.,  697.,    0.,  405.,\n",
              "         645.]),\n",
              " array([0. , 0.1, 0.2, 0.3, 0.4, 0.5, 0.6, 0.7, 0.8, 0.9, 1. ]),\n",
              " <a list of 10 Patch objects>)"
            ]
          },
          "metadata": {},
          "execution_count": 99
        },
        {
          "output_type": "display_data",
          "data": {
            "image/png": "[encoded data removed]",
            "text/plain": [
              "<Figure size 432x288 with 1 Axes>"
            ]
          },
          "metadata": {
            "needs_background": "light"
          }
        }
      ]
    },
    {
      "cell_type": "code",
      "metadata": {
        "id": "jS1BFK5NFkCJ",
        "outputId": "16bd60be-7d90-4bfc-f1e6-5dd78bcd038e",
        "colab": {
          "base_uri": "https://localhost:8080/",
          "height": 297
        }
      },
      "source": [
        "sns.boxplot(x=(np.log(final[\"powierzchnia_corr\"])/10))"
      ],
      "execution_count": 100,
      "outputs": [
        {
          "output_type": "execute_result",
          "data": {
            "text/plain": [
              "<matplotlib.axes._subplots.AxesSubplot at 0x7f133d50fed0>"
            ]
          },
          "metadata": {},
          "execution_count": 100
        },
        {
          "output_type": "display_data",
          "data": {
            "image/png": "[encoded data removed]",
            "text/plain": [
              "<Figure size 432x288 with 1 Axes>"
            ]
          },
          "metadata": {
            "needs_background": "light"
          }
        }
      ]
    },
    {
      "cell_type": "code",
      "metadata": {
        "id": "O6Qi89r8GWTJ",
        "outputId": "85359b8c-4481-4f4d-e2ff-184312067b35",
        "colab": {
          "base_uri": "https://localhost:8080/",
          "height": 333
        }
      },
      "source": [
        "sns.boxplot(x=(np.log(final[\"powierzchniaDzialki_corr\"])/14))"
      ],
      "execution_count": 101,
      "outputs": [
        {
          "output_type": "stream",
          "text": [
            "/usr/local/lib/python3.7/dist-packages/pandas/core/series.py:726: RuntimeWarning: divide by zero encountered in log\n",
            "  result = getattr(ufunc, method)(*inputs, **kwargs)\n"
          ],
          "name": "stderr"
        },
        {
          "output_type": "execute_result",
          "data": {
            "text/plain": [
              "<matplotlib.axes._subplots.AxesSubplot at 0x7f133d5fbd90>"
            ]
          },
          "metadata": {},
          "execution_count": 101
        },
        {
          "output_type": "display_data",
          "data": {
            "image/png": "[encoded data removed]",
            "text/plain": [
              "<Figure size 432x288 with 1 Axes>"
            ]
          },
          "metadata": {
            "needs_background": "light"
          }
        }
      ]
    },
    {
      "cell_type": "code",
      "metadata": {
        "id": "TIFvJRm_GlIl",
        "outputId": "6e9daba2-6f00-480c-804d-b61a15d12474",
        "colab": {
          "base_uri": "https://localhost:8080/",
          "height": 297
        }
      },
      "source": [
        "sns.boxplot(x=(np.power(final[\"rokBudowy_corr\"]-1899,4)/3e8))"
      ],
      "execution_count": 108,
      "outputs": [
        {
          "output_type": "execute_result",
          "data": {
            "text/plain": [
              "<matplotlib.axes._subplots.AxesSubplot at 0x7f133d59ca90>"
            ]
          },
          "metadata": {},
          "execution_count": 108
        },
        {
          "output_type": "display_data",
          "data": {
            "image/png": "[encoded data removed]",
            "text/plain": [
              "<Figure size 432x288 with 1 Axes>"
            ]
          },
          "metadata": {
            "needs_background": "light"
          }
        }
      ]
    },
    {
      "cell_type": "code",
      "metadata": {
        "id": "dxoUv1XPKlDA",
        "outputId": "bf41d193-5a7e-4579-f967-7299988b74e5",
        "colab": {
          "base_uri": "https://localhost:8080/",
          "height": 371
        }
      },
      "source": [
        "plt.hist(np.power(final[\"rokBudowy_corr\"]-1899,4)/3e8)"
      ],
      "execution_count": 107,
      "outputs": [
        {
          "output_type": "execute_result",
          "data": {
            "text/plain": [
              "(array([ 453., 1386.,  406.,  441.,  874.,  844.,  670.,  358.,  429.,\n",
              "        1962.]),\n",
              " array([3.33333333e-09, 7.88071283e-02, 1.57614253e-01, 2.36421378e-01,\n",
              "        3.15228503e-01, 3.94035628e-01, 4.72842753e-01, 5.51649878e-01,\n",
              "        6.30457003e-01, 7.09264128e-01, 7.88071253e-01]),\n",
              " <a list of 10 Patch objects>)"
            ]
          },
          "metadata": {},
          "execution_count": 107
        },
        {
          "output_type": "display_data",
          "data": {
            "image/png": "[encoded data removed]",
            "text/plain": [
              "<Figure size 432x288 with 1 Axes>"
            ]
          },
          "metadata": {
            "needs_background": "light"
          }
        }
      ]
    },
    {
      "cell_type": "code",
      "metadata": {
        "id": "2NyrjT8CMiny",
        "outputId": "07e7dd1c-04ba-410a-aed1-2cf79cb7497e",
        "colab": {
          "base_uri": "https://localhost:8080/",
          "height": 296
        }
      },
      "source": [
        "sns.boxplot(x=final[\"cena/m\"]/20000)"
      ],
      "execution_count": 112,
      "outputs": [
        {
          "output_type": "execute_result",
          "data": {
            "text/plain": [
              "<matplotlib.axes._subplots.AxesSubplot at 0x7f133cf9bfd0>"
            ]
          },
          "metadata": {},
          "execution_count": 112
        },
        {
          "output_type": "display_data",
          "data": {
            "image/png": "[encoded data removed]",
            "text/plain": [
              "<Figure size 432x288 with 1 Axes>"
            ]
          },
          "metadata": {
            "needs_background": "light"
          }
        }
      ]
    },
    {
      "cell_type": "code",
      "metadata": {
        "id": "yHQa0jmgM3tO",
        "outputId": "82586395-dffe-4e45-b8c8-7c13c2eb2244",
        "colab": {
          "base_uri": "https://localhost:8080/",
          "height": 297
        }
      },
      "source": [
        "sns.boxplot(x=final[\"lPieter_crr\"]/10)"
      ],
      "execution_count": 116,
      "outputs": [
        {
          "output_type": "execute_result",
          "data": {
            "text/plain": [
              "<matplotlib.axes._subplots.AxesSubplot at 0x7f133ce58b50>"
            ]
          },
          "metadata": {},
          "execution_count": 116
        },
        {
          "output_type": "display_data",
          "data": {
            "image/png": "[encoded data removed]",
            "text/plain": [
              "<Figure size 432x288 with 1 Axes>"
            ]
          },
          "metadata": {
            "needs_background": "light"
          }
        }
      ]
    },
    {
      "cell_type": "code",
      "metadata": {
        "id": "CpjahNPgNFWG",
        "outputId": "6b47d1be-51e3-49ff-bae9-d443a2d573b7",
        "colab": {
          "base_uri": "https://localhost:8080/",
          "height": 335
        }
      },
      "source": [
        "plt.hist(final[\"lPieter_crr\"]/10)"
      ],
      "execution_count": 117,
      "outputs": [
        {
          "output_type": "execute_result",
          "data": {
            "text/plain": [
              "(array([2569.,    0.,    0., 3286.,    0.,    0., 1630.,    0.,    0.,\n",
              "         338.]),\n",
              " array([0.  , 0.03, 0.06, 0.09, 0.12, 0.15, 0.18, 0.21, 0.24, 0.27, 0.3 ]),\n",
              " <a list of 10 Patch objects>)"
            ]
          },
          "metadata": {},
          "execution_count": 117
        },
        {
          "output_type": "display_data",
          "data": {
            "image/png": "[encoded data removed]",
            "text/plain": [
              "<Figure size 432x288 with 1 Axes>"
            ]
          },
          "metadata": {
            "needs_background": "light"
          }
        }
      ]
    },
    {
      "cell_type": "code",
      "metadata": {
        "id": "fB9L8WI_NL43",
        "outputId": "ade62672-6741-4105-83e2-6097b21c000b",
        "colab": {
          "base_uri": "https://localhost:8080/",
          "height": 375
        }
      },
      "source": [
        "plt.hist((final[\"locationX\"]-21)/4)"
      ],
      "execution_count": 122,
      "outputs": [
        {
          "output_type": "execute_result",
          "data": {
            "text/plain": [
              "(array([3.000e+00, 0.000e+00, 0.000e+00, 1.700e+01, 5.300e+01, 1.810e+02,\n",
              "        1.961e+03, 3.813e+03, 3.370e+02, 9.900e+01]),\n",
              " array([-1.106265  , -0.95272183, -0.79917867, -0.6456355 , -0.49209233,\n",
              "        -0.33854917, -0.185006  , -0.03146283,  0.12208033,  0.2756235 ,\n",
              "         0.42916667]),\n",
              " <a list of 10 Patch objects>)"
            ]
          },
          "metadata": {},
          "execution_count": 122
        },
        {
          "output_type": "display_data",
          "data": {
            "image/png": "[encoded data removed]",
            "text/plain": [
              "<Figure size 432x288 with 1 Axes>"
            ]
          },
          "metadata": {
            "needs_background": "light"
          }
        }
      ]
    },
    {
      "cell_type": "code",
      "metadata": {
        "id": "lGiQ-Rv7PUsY",
        "outputId": "5e765641-126e-4ae7-f46c-888687567847",
        "colab": {
          "base_uri": "https://localhost:8080/",
          "height": 371
        }
      },
      "source": [
        "plt.hist((final[\"locationY\"]-52)/2)"
      ],
      "execution_count": 124,
      "outputs": [
        {
          "output_type": "execute_result",
          "data": {
            "text/plain": [
              "(array([1.000e+00, 3.100e+01, 5.400e+01, 2.190e+02, 5.300e+01, 3.088e+03,\n",
              "        2.602e+03, 2.640e+02, 1.340e+02, 1.800e+01]),\n",
              " array([-1.00208333, -0.81940278, -0.63672222, -0.45404167, -0.27136111,\n",
              "        -0.08868056,  0.094     ,  0.27668056,  0.45936111,  0.64204167,\n",
              "         0.82472222]),\n",
              " <a list of 10 Patch objects>)"
            ]
          },
          "metadata": {},
          "execution_count": 124
        },
        {
          "output_type": "display_data",
          "data": {
            "image/png": "[encoded data removed]",
            "text/plain": [
              "<Figure size 432x288 with 1 Axes>"
            ]
          },
          "metadata": {
            "needs_background": "light"
          }
        }
      ]
    },
    {
      "cell_type": "code",
      "metadata": {
        "id": "JeO3l4r6DDRX",
        "outputId": "1d549b0b-1ee8-4958-d6d4-322959fcb3f4",
        "colab": {
          "base_uri": "https://localhost:8080/",
          "height": 238
        }
      },
      "source": [
        "final.head()"
      ],
      "execution_count": 20,
      "outputs": [
        {
          "output_type": "execute_result",
          "data": {
            "text/html": [
              "<div>\n",
              "<style scoped>\n",
              "    .dataframe tbody tr th:only-of-type {\n",
              "        vertical-align: middle;\n",
              "    }\n",
              "\n",
              "    .dataframe tbody tr th {\n",
              "        vertical-align: top;\n",
              "    }\n",
              "\n",
              "    .dataframe thead th {\n",
              "        text-align: right;\n",
              "    }\n",
              "</style>\n",
              "<table border=\"1\" class=\"dataframe\">\n",
              "  <thead>\n",
              "    <tr style=\"text-align: right;\">\n",
              "      <th></th>\n",
              "      <th>lPokoi</th>\n",
              "      <th>powierzchnia_corr</th>\n",
              "      <th>powierzchniaDzialki_corr</th>\n",
              "      <th>rokBudowy_corr</th>\n",
              "      <th>cena/m</th>\n",
              "      <th>lPieter_crr</th>\n",
              "      <th>locationX</th>\n",
              "      <th>locationY</th>\n",
              "      <th>rodzajZabudowy_0</th>\n",
              "      <th>rodzajZabudowy_bliźniak</th>\n",
              "      <th>rodzajZabudowy_dworek/pałac</th>\n",
              "      <th>rodzajZabudowy_gospodarstwo</th>\n",
              "      <th>rodzajZabudowy_kamienica</th>\n",
              "      <th>rodzajZabudowy_szeregowiec</th>\n",
              "      <th>rodzajZabudowy_wolnostojący</th>\n",
              "      <th>materialBudynku_0</th>\n",
              "      <th>materialBudynku_beton</th>\n",
              "      <th>materialBudynku_beton komórkowy</th>\n",
              "      <th>materialBudynku_cegła</th>\n",
              "      <th>materialBudynku_drewno</th>\n",
              "      <th>materialBudynku_inne</th>\n",
              "      <th>materialBudynku_keramzyt</th>\n",
              "      <th>materialBudynku_pustak</th>\n",
              "      <th>materialBudynku_silikat</th>\n",
              "      <th>stanWykonczenia_0</th>\n",
              "      <th>stanWykonczenia_do remontu</th>\n",
              "      <th>stanWykonczenia_do wykończenia</th>\n",
              "      <th>stanWykonczenia_do zamieszkania</th>\n",
              "      <th>stanWykonczenia_stan surowy otwarty</th>\n",
              "      <th>stanWykonczenia_stan surowy zamknięty</th>\n",
              "      <th>okna_0</th>\n",
              "      <th>okna_aluminiowe</th>\n",
              "      <th>okna_brak</th>\n",
              "      <th>okna_drewniane</th>\n",
              "      <th>okna_plastikowe</th>\n",
              "      <th>rynek_pierwotny</th>\n",
              "      <th>rynek_wtórny</th>\n",
              "    </tr>\n",
              "  </thead>\n",
              "  <tbody>\n",
              "    <tr>\n",
              "      <th>0</th>\n",
              "      <td>6</td>\n",
              "      <td>320.00</td>\n",
              "      <td>1000</td>\n",
              "      <td>2019</td>\n",
              "      <td>6062.503125</td>\n",
              "      <td>1</td>\n",
              "      <td>21.223696</td>\n",
              "      <td>52.245856</td>\n",
              "      <td>0</td>\n",
              "      <td>0</td>\n",
              "      <td>0</td>\n",
              "      <td>0</td>\n",
              "      <td>0</td>\n",
              "      <td>0</td>\n",
              "      <td>1</td>\n",
              "      <td>0</td>\n",
              "      <td>0</td>\n",
              "      <td>0</td>\n",
              "      <td>1</td>\n",
              "      <td>0</td>\n",
              "      <td>0</td>\n",
              "      <td>0</td>\n",
              "      <td>0</td>\n",
              "      <td>0</td>\n",
              "      <td>0</td>\n",
              "      <td>0</td>\n",
              "      <td>1</td>\n",
              "      <td>0</td>\n",
              "      <td>0</td>\n",
              "      <td>0</td>\n",
              "      <td>1</td>\n",
              "      <td>0</td>\n",
              "      <td>0</td>\n",
              "      <td>0</td>\n",
              "      <td>0</td>\n",
              "      <td>0</td>\n",
              "      <td>1</td>\n",
              "    </tr>\n",
              "    <tr>\n",
              "      <th>1</th>\n",
              "      <td>5</td>\n",
              "      <td>154.00</td>\n",
              "      <td>750</td>\n",
              "      <td>2021</td>\n",
              "      <td>5186.363636</td>\n",
              "      <td>0</td>\n",
              "      <td>20.665400</td>\n",
              "      <td>52.124300</td>\n",
              "      <td>1</td>\n",
              "      <td>0</td>\n",
              "      <td>0</td>\n",
              "      <td>0</td>\n",
              "      <td>0</td>\n",
              "      <td>0</td>\n",
              "      <td>0</td>\n",
              "      <td>0</td>\n",
              "      <td>0</td>\n",
              "      <td>1</td>\n",
              "      <td>0</td>\n",
              "      <td>0</td>\n",
              "      <td>0</td>\n",
              "      <td>0</td>\n",
              "      <td>0</td>\n",
              "      <td>0</td>\n",
              "      <td>0</td>\n",
              "      <td>0</td>\n",
              "      <td>1</td>\n",
              "      <td>0</td>\n",
              "      <td>0</td>\n",
              "      <td>0</td>\n",
              "      <td>0</td>\n",
              "      <td>0</td>\n",
              "      <td>0</td>\n",
              "      <td>0</td>\n",
              "      <td>1</td>\n",
              "      <td>1</td>\n",
              "      <td>0</td>\n",
              "    </tr>\n",
              "    <tr>\n",
              "      <th>2</th>\n",
              "      <td>3</td>\n",
              "      <td>80.00</td>\n",
              "      <td>2356</td>\n",
              "      <td>1950</td>\n",
              "      <td>5612.500000</td>\n",
              "      <td>1</td>\n",
              "      <td>20.683333</td>\n",
              "      <td>52.433333</td>\n",
              "      <td>0</td>\n",
              "      <td>0</td>\n",
              "      <td>0</td>\n",
              "      <td>0</td>\n",
              "      <td>0</td>\n",
              "      <td>0</td>\n",
              "      <td>1</td>\n",
              "      <td>1</td>\n",
              "      <td>0</td>\n",
              "      <td>0</td>\n",
              "      <td>0</td>\n",
              "      <td>0</td>\n",
              "      <td>0</td>\n",
              "      <td>0</td>\n",
              "      <td>0</td>\n",
              "      <td>0</td>\n",
              "      <td>0</td>\n",
              "      <td>1</td>\n",
              "      <td>0</td>\n",
              "      <td>0</td>\n",
              "      <td>0</td>\n",
              "      <td>0</td>\n",
              "      <td>1</td>\n",
              "      <td>0</td>\n",
              "      <td>0</td>\n",
              "      <td>0</td>\n",
              "      <td>0</td>\n",
              "      <td>0</td>\n",
              "      <td>1</td>\n",
              "    </tr>\n",
              "    <tr>\n",
              "      <th>3</th>\n",
              "      <td>4</td>\n",
              "      <td>152.91</td>\n",
              "      <td>220</td>\n",
              "      <td>2022</td>\n",
              "      <td>4250.866523</td>\n",
              "      <td>1</td>\n",
              "      <td>21.016667</td>\n",
              "      <td>52.066667</td>\n",
              "      <td>0</td>\n",
              "      <td>1</td>\n",
              "      <td>0</td>\n",
              "      <td>0</td>\n",
              "      <td>0</td>\n",
              "      <td>0</td>\n",
              "      <td>0</td>\n",
              "      <td>0</td>\n",
              "      <td>0</td>\n",
              "      <td>0</td>\n",
              "      <td>0</td>\n",
              "      <td>0</td>\n",
              "      <td>0</td>\n",
              "      <td>0</td>\n",
              "      <td>0</td>\n",
              "      <td>1</td>\n",
              "      <td>0</td>\n",
              "      <td>0</td>\n",
              "      <td>1</td>\n",
              "      <td>0</td>\n",
              "      <td>0</td>\n",
              "      <td>0</td>\n",
              "      <td>0</td>\n",
              "      <td>0</td>\n",
              "      <td>0</td>\n",
              "      <td>0</td>\n",
              "      <td>1</td>\n",
              "      <td>1</td>\n",
              "      <td>0</td>\n",
              "    </tr>\n",
              "    <tr>\n",
              "      <th>4</th>\n",
              "      <td>4</td>\n",
              "      <td>106.00</td>\n",
              "      <td>960</td>\n",
              "      <td>2020</td>\n",
              "      <td>2924.528302</td>\n",
              "      <td>0</td>\n",
              "      <td>19.700000</td>\n",
              "      <td>52.550000</td>\n",
              "      <td>0</td>\n",
              "      <td>0</td>\n",
              "      <td>0</td>\n",
              "      <td>0</td>\n",
              "      <td>0</td>\n",
              "      <td>0</td>\n",
              "      <td>1</td>\n",
              "      <td>0</td>\n",
              "      <td>0</td>\n",
              "      <td>0</td>\n",
              "      <td>0</td>\n",
              "      <td>0</td>\n",
              "      <td>0</td>\n",
              "      <td>0</td>\n",
              "      <td>1</td>\n",
              "      <td>0</td>\n",
              "      <td>0</td>\n",
              "      <td>0</td>\n",
              "      <td>0</td>\n",
              "      <td>0</td>\n",
              "      <td>1</td>\n",
              "      <td>0</td>\n",
              "      <td>0</td>\n",
              "      <td>0</td>\n",
              "      <td>1</td>\n",
              "      <td>0</td>\n",
              "      <td>0</td>\n",
              "      <td>1</td>\n",
              "      <td>0</td>\n",
              "    </tr>\n",
              "  </tbody>\n",
              "</table>\n",
              "</div>"
            ],
            "text/plain": [
              "   lPokoi  powierzchnia_corr  ...  rynek_pierwotny  rynek_wtórny\n",
              "0       6             320.00  ...                0             1\n",
              "1       5             154.00  ...                1             0\n",
              "2       3              80.00  ...                0             1\n",
              "3       4             152.91  ...                1             0\n",
              "4       4             106.00  ...                1             0\n",
              "\n",
              "[5 rows x 37 columns]"
            ]
          },
          "metadata": {},
          "execution_count": 20
        }
      ]
    },
    {
      "cell_type": "code",
      "metadata": {
        "id": "-KEHBeUP0JFb"
      },
      "source": [
        "min_max_scaler = preprocessing.MinMaxScaler()\n",
        "data_scaled = min_max_scaler.fit_transform(final.values)\n",
        "df = pd.DataFrame(data_scaled ,columns=final.columns.values)\n",
        "df  = df.fillna(0)"
      ],
      "execution_count": null,
      "outputs": []
    },
    {
      "cell_type": "code",
      "metadata": {
        "id": "z_Rghy5nwEK8"
      },
      "source": [
        "#!pip install tf-nightly"
      ],
      "execution_count": null,
      "outputs": []
    },
    {
      "cell_type": "code",
      "metadata": {
        "id": "Hks9GYwX8Anv"
      },
      "source": [
        "import tensorflow as tf\n",
        "import tensorflow as tfCore\n",
        "import math\n",
        "from IPython.core.magic import register_line_magic\n",
        "from IPython.display import Javascript\n"
      ],
      "execution_count": null,
      "outputs": []
    },
    {
      "cell_type": "code",
      "metadata": {
        "id": "6YO21H98VWUX"
      },
      "source": [
        "train_dataset = df.sample(frac=0.8, random_state=0)\n",
        "test_dataset = df.drop(df.index)"
      ],
      "execution_count": null,
      "outputs": []
    },
    {
      "cell_type": "code",
      "metadata": {
        "id": "AK8A7ILoVYA3"
      },
      "source": [
        "train_features = train_dataset.copy()\n",
        "test_features = test_dataset.copy()\n",
        "\n",
        "train_labels = train_features.pop('cena/m')\n",
        "test_labels = test_features.pop('cena/m')"
      ],
      "execution_count": null,
      "outputs": []
    },
    {
      "cell_type": "code",
      "metadata": {
        "id": "LWvSGrWYVaSX"
      },
      "source": [
        "from tensorflow.keras.layers.experimental import preprocessing\n",
        "normalizer = preprocessing.Normalization(axis=-1)\n",
        "normalizer.adapt(np.array(train_features))\n",
        "print(normalizer.mean.numpy())"
      ],
      "execution_count": null,
      "outputs": []
    },
    {
      "cell_type": "code",
      "metadata": {
        "id": "gZzInZjbVczP"
      },
      "source": [
        "model= tf.keras.models.Sequential([\n",
        "                                   normalizer,\n",
        "  tf.keras.layers.Dense(28, activation='relu'),\n",
        "  tf.keras.layers.Dense(32, activation='relu'),\n",
        "  tf.keras.layers.Dense(1, activation='linear'),\n",
        "])"
      ],
      "execution_count": null,
      "outputs": []
    },
    {
      "cell_type": "code",
      "metadata": {
        "id": "KzAtA9nSVfHW"
      },
      "source": [
        "model.compile(loss='mean_absolute_error',\n",
        "              metrics=['mse',\"mae\",'acc'],optimizer=tf.optimizers.Adam(learning_rate=0.01))"
      ],
      "execution_count": null,
      "outputs": []
    },
    {
      "cell_type": "code",
      "metadata": {
        "id": "qUvtcdihVg_f"
      },
      "source": [
        "history = model.fit(\n",
        "    train_features, train_labels,\n",
        "    epochs=100,\n",
        "    # suppress logging\n",
        "    verbose=1,\n",
        "    # Calculate validation results on 20% of the training data\n",
        "    validation_split = 0.2)"
      ],
      "execution_count": null,
      "outputs": []
    },
    {
      "cell_type": "code",
      "metadata": {
        "id": "yAhppcj_WVWP"
      },
      "source": [
        "filename='/content/drive/My Drive/domy mazowieckie/dfMazowieckie.h5'\n",
        "model.save(filename,save_format='tf')"
      ],
      "execution_count": null,
      "outputs": []
    }
  ]
}