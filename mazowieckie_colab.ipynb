{
  "nbformat": 4,
  "nbformat_minor": 0,
  "metadata": {
    "colab": {
      "name": "mazowieckie_colab.ipynb",
      "provenance": [],
      "collapsed_sections": [],
      "authorship_tag": "ABX9TyO6TQRrdUvlG53Buq/gDvJU",
      "include_colab_link": true
    },
    "kernelspec": {
      "name": "python3",
      "display_name": "Python 3"
    },
    "language_info": {
      "name": "python"
    }
  },
  "cells": [
    {
      "cell_type": "markdown",
      "metadata": {
        "id": "view-in-github",
        "colab_type": "text"
      },
      "source": [
        "<a href=\"https://colab.research.google.com/github/KacperGrodecki/nieruchomosci-mazowieckie/blob/0.0.1/mazowieckie_colab.ipynb\" target=\"_parent\"><img src=\"https://colab.research.google.com/assets/colab-badge.svg\" alt=\"Open In Colab\"/></a>"
      ]
    },
    {
      "cell_type": "code",
      "metadata": {
        "id": "DoyxUX4T7Yoj",
        "colab": {
          "base_uri": "https://localhost:8080/"
        },
        "outputId": "57be6eac-4eb5-402c-c97a-38830055e345"
      },
      "source": [
        "from sklearn.metrics import confusion_matrix\n",
        "from sklearn import svm\n",
        "import pandas as pd\n",
        "import numpy as np\n",
        "np.random.seed(7)\n",
        "from google.colab import drive\n",
        "import seaborn as sns\n",
        "drive.mount('/content/drive')\n",
        "import matplotlib.pyplot as plt\n",
        "import pandas as pd\n",
        "#from otoDomScraper import daneDomu\n",
        "#from random import randrange\n",
        "import numpy as np\n",
        "from sklearn.ensemble import RandomForestRegressor\n",
        "import matplotlib.pyplot as plt\n",
        "import seaborn as sns\n",
        "import re\n",
        "from sklearn.model_selection import GridSearchCV\n",
        "from sklearn.model_selection import train_test_split\n",
        "import statistics\n",
        "from sklearn.cluster import AffinityPropagation\n",
        "from sklearn.model_selection import cross_val_score, cross_val_predict\n",
        "from sklearn.decomposition import FastICA\n",
        "from sklearn import preprocessing\n",
        "from IPython.display import Javascript\n",
        "import requests\n",
        "from collections import OrderedDict"
      ],
      "execution_count": 2,
      "outputs": [
        {
          "output_type": "stream",
          "text": [
            "Drive already mounted at /content/drive; to attempt to forcibly remount, call drive.mount(\"/content/drive\", force_remount=True).\n"
          ],
          "name": "stdout"
        }
      ]
    },
    {
      "cell_type": "code",
      "metadata": {
        "id": "eaSkJkDn7htz"
      },
      "source": [
        "def toNum2(txt):\n",
        "    if type(txt) is int:\n",
        "        return txt\n",
        "    elif (type(txt) is str):\n",
        "        digs = re.findall(r'\\d+', txt)\n",
        "        if len(digs) == 1:\n",
        "            return int(digs[0])\n",
        "        elif len(digs) == 2:\n",
        "            return 1000 * int(digs[0]) + int(digs[1])\n",
        "        elif len(digs) == 3:\n",
        "            return 1000000 * int(digs[0]) + 1000 * int(digs[1]) + int(digs[0])\n",
        "\n",
        "    #   return int(digs)\n",
        "\n",
        "\n",
        "def toNum1(txt):\n",
        "    if type(txt) is str:\n",
        "        digs = re.findall(r'\\d+', txt)\n",
        "        if len(digs) == 1:\n",
        "            return int(digs[0])\n",
        "        elif len(digs) == 2 and (txt[1] != ' '):\n",
        "            return int(digs[0]) + 0.01 * int(digs[1])\n",
        "        elif len(digs) == 3:\n",
        "            return 1000 * int(digs[0]) + int(digs[1]) + 0.001 * int(digs[2])\n",
        "        elif (type(txt) is str) and (txt[1] == ' '):\n",
        "            digs = re.findall(r'\\d+', txt)\n",
        "            return 1000 * int(digs[0]) + int(digs[1])\n",
        "    else:\n",
        "        return txt\n",
        "\n",
        "\n",
        "def toNum3(txt):\n",
        "    if type(txt) == int:\n",
        "        return txt\n",
        "    return int(re.findall(r'\\d+', txt)[0])\n",
        "\n",
        "def pietra(txt):\n",
        "    if type(txt) is str:\n",
        "        if '0' in txt:\n",
        "            return 0\n",
        "        if '1' in txt:\n",
        "            return 1\n",
        "        elif '2' in txt:\n",
        "            return 2\n",
        "        elif '3' in txt:\n",
        "            return 3\n",
        "        elif 'parterowy' in txt:\n",
        "            return 0\n",
        "    else:\n",
        "        return txt\n",
        "\n",
        "def cities(x):\n",
        "    dist=x.split()[4]\n",
        "    #city=x.split()[5]\n",
        "    if dist=='warszawski':\n",
        "        return x.split()[6]\n",
        "    elif dist in ['Warszawa','Radom','Płock','Siedlce']:\n",
        "        return dist\n",
        "    else:\n",
        "        try:\n",
        "            return x.split()[5]\n",
        "        except:\n",
        "            return 'unknown'\n",
        "\n",
        "def region(x):\n",
        "    if x.split()[4]=='Warszawa':\n",
        "        try:\n",
        "            return x.split()[5]\n",
        "        except:\n",
        "            return ''\n",
        "    else:\n",
        "        return ''"
      ],
      "execution_count": 12,
      "outputs": []
    },
    {
      "cell_type": "code",
      "metadata": {
        "id": "tz6yc0BqdG-c"
      },
      "source": [
        "def get_voivodeships():\n",
        "    # problem - too many voivodeships, historical ones are mixed together\n",
        "    # solution - just cut the list after 16-th item\n",
        "    \n",
        "    # request voivodeships of poland(wd:Q36),\n",
        "    # cut after 16 voivodeships, the rest are historical ones\n",
        "    # https://query.wikidata.org/#%20%20%20%20SELECT%20%3Fvoivodeship%20%3FvoivodeshipLabel%20%3Flatitude%20%3Flongitude%20%3Fadmininistrative_teritorial_entity%0A%20%20%20%20WHERE%20%7B%0A%20%20%20%20%20%20%3Fvoivodeship%20wdt%3AP31%20wd%3AQ150093%3B%0A%20%20%20%20%20%20%20%20%20%20%20%20%20%20%20%20%20%20%20wdt%3AP131%20%3Fadmininistrative_teritorial_entity%3B%0A%20%20%20%20%20%20%20%20%20%20%20%20%20%20%20%20%20%20%20p%3AP625%2Fpsv%3AP625%20%5B%0A%20%20%20%20%20%20%20%20%20%20%20%20%20%20%20%20%20%20%20%20%20%20%20wikibase%3AgeoLatitude%20%3Flatitude%20%3B%0A%20%20%20%20%20%20%20%20%20%20%20%20%20%20%20%20%20%20%20%20%20%20%20wikibase%3AgeoLongitude%20%3Flongitude%20%3B%0A%20%20%20%20%20%20%20%20%20%20%20%20%20%20%20%20%20%20%20%5D.%20%20%20%20%20%20%20%20%20%20%20%20%20%20%20%0A%20%20%20%20%20%20FILTER%28%3Fadmininistrative_teritorial_entity%20%3D%20wd%3AQ36%29.%0A%20%20%20%20%20%20SERVICE%20wikibase%3Alabel%20%7B%20bd%3AserviceParam%20wikibase%3Alanguage%20%22pl%22.%20%7D%0A%20%20%20%20%7D%0A%20%20%20%20ORDER%20BY%20DESC%28%3Fvoivodeship%29%0A%20%20%20%20LIMIT%2016%0A\n",
        "    url = 'https://query.wikidata.org/sparql'\n",
        "    query = '''\n",
        "    SELECT ?voivodeship ?voivodeshipLabel ?latitude ?longitude ?admininistrative_teritorial_entity\n",
        "    WHERE {\n",
        "      ?voivodeship wdt:P31 wd:Q150093;\n",
        "                   wdt:P131 ?admininistrative_teritorial_entity;\n",
        "                   p:P625/psv:P625 [\n",
        "                       wikibase:geoLatitude ?latitude ;\n",
        "                       wikibase:geoLongitude ?longitude ;\n",
        "                   ].               \n",
        "      FILTER(?admininistrative_teritorial_entity = wd:Q36).\n",
        "      SERVICE wikibase:label { bd:serviceParam wikibase:language \"pl\". }\n",
        "    }\n",
        "    ORDER BY DESC(?voivodeship)\n",
        "    LIMIT 16\n",
        "    '''\n",
        "    r = requests.get(url, params = {'format': 'json', 'query': query})\n",
        "    data = r.json()\n",
        "\n",
        "    # convert json to dataframe\n",
        "    voivodeships = []\n",
        "    for item in data['results']['bindings']:\n",
        "        voivodeships.append(OrderedDict(\n",
        "        {\n",
        "            'voivodeship':      item['voivodeshipLabel']['value'].lower(),\n",
        "            'latitude':         float(item['latitude']['value']),        \n",
        "            'longitude':        float(item['longitude']['value']),                    \n",
        "            'wikidata_item_id': item['voivodeship']['value'].split('/')[-1]\n",
        "        }))\n",
        "    #     print(item,'\\n')    \n",
        "    \n",
        "    df = pd.DataFrame(voivodeships)\n",
        "    return df\n"
      ],
      "execution_count": 3,
      "outputs": []
    },
    {
      "cell_type": "code",
      "metadata": {
        "id": "MnwWwv4vdeob"
      },
      "source": [
        "def get_warsaw_districts():\n",
        "    # problem  - some districts have two sets of coordinates which differ slighlty\n",
        "    # solution - drop the one with worse precision (larger value), this seems to be consistent with the wikipedia data\n",
        "    # to do    - the above is not true for ['Wola'], change it\n",
        "    \n",
        "    # https://query.wikidata.org/#SELECT%20%3Fdistrict_of_Warsaw%20%3Fdistrict_of_WarsawLabel%20%3Flat%20%3Flon%20%3FgeoPrecision%20%0AWHERE%20%7B%0A%20%20%3Fdistrict_of_Warsaw%20%20wdt%3AP31%20wd%3AQ4286337%3B%0A%20%20%20%20%20%20%20%20%20%20%20%20%20%20%20%20%20%20%20%20%20%20%20wdt%3AP17%20wd%3AQ36%3B%0A%20%20%20%20%20%20%20%20%20%20%20%20%20%20%20%20%20%20%20%20%20%20%20wdt%3AP131%20wd%3AQ270%3B%0A%20%20%20%20%20%20%20%20%20%20%20%20%20%20%20%20%20%20%20%20%20%20%20p%3AP625%2Fpsv%3AP625%20%5B%0A%20%20%20%20%20%20%20%20%20%20%20%20%20%20%20%20%20%20%20%20%20%20%20%20%20%20%20wikibase%3AgeoLatitude%20%3Flat%20%3B%0A%20%20%20%20%20%20%20%20%20%20%20%20%20%20%20%20%20%20%20%20%20%20%20%20%20%20%20wikibase%3AgeoLongitude%20%3Flon%20%3B%0A%20%20%20%20%20%20%20%20%20%20%20%20%20%20%20%20%20%20%20%20%20%20%20%20%20%20%20wikibase%3AgeoPrecision%20%20%3FgeoPrecision%3B%20%20%20%20%20%20%20%20%20%20%20%20%20%20%20%20%20%20%20%20%20%20%20%20%20%20%20%20%20%20%20%20%20%20%20%20%20%20%20%0A%20%20%20%20%20%20%20%20%20%20%20%20%20%20%20%20%20%20%20%20%20%20%20%5D%0A%20%20SERVICE%20wikibase%3Alabel%20%7B%20bd%3AserviceParam%20wikibase%3Alanguage%20%22pl%22.%20%7D%0A%7D\n",
        "    url = 'https://query.wikidata.org/sparql'\n",
        "    query = '''\n",
        "    SELECT ?warsaw_district ?warsaw_districtLabel ?latitude ?longitude ?geoPrecision \n",
        "    WHERE {\n",
        "      ?warsaw_district  wdt:P31 wd:Q4286337;\n",
        "                           wdt:P17 wd:Q36;\n",
        "                           wdt:P131 wd:Q270;\n",
        "                           p:P625/psv:P625 [\n",
        "                               wikibase:geoLatitude ?latitude ;\n",
        "                               wikibase:geoLongitude ?longitude ;\n",
        "                               wikibase:geoPrecision  ?geoPrecision;                                       \n",
        "                           ]\n",
        "      SERVICE wikibase:label { bd:serviceParam wikibase:language \"pl\". }\n",
        "    }\n",
        "    ORDER BY ASC(?warsaw_districtLabel)\n",
        "    '''\n",
        "    r = requests.get(url, params = {'format': 'json', 'query': query})\n",
        "#     print(r.json())\n",
        "    data = r.json()\n",
        "\n",
        "    # convert json to dataframe\n",
        "    warsaw_districts = []\n",
        "    for item in data['results']['bindings']:\n",
        "#         print(item,'\\n')    \n",
        "        warsaw_districts.append(OrderedDict(\n",
        "        {\n",
        "            'warsaw_district':  item['warsaw_districtLabel']['value'].lower(),\n",
        "            'latitude':         float(item['latitude']['value']),        \n",
        "            'longitude':        float(item['longitude']['value']),                    \n",
        "            'geoPrecision':     float(item['geoPrecision']['value']),                                \n",
        "            'wikidata_item_id': item['warsaw_district']['value'].split('/')[-1]\n",
        "        }))\n",
        "    \n",
        "    warsaw_districts = pd.DataFrame(warsaw_districts).sort_values(by=['warsaw_district'])\n",
        "    \n",
        "    # if duplicate warsaw districts exist, take the one with better precision (lower value), do the opposite in case of 'Wola' \n",
        "    for district in warsaw_districts['warsaw_district']:\n",
        "        if np.sum(warsaw_districts['warsaw_district'] == district) > 1: # duplicate district found\n",
        "            if district != 'wola':            \n",
        "                district_to_drop_idx = warsaw_districts.loc[warsaw_districts['warsaw_district'] == district, 'geoPrecision'].idxmax()\n",
        "            elif district == 'wola':\n",
        "                district_to_drop_idx = warsaw_districts.loc[warsaw_districts['warsaw_district'] == district, 'geoPrecision'].idxmin()\n",
        "#             print(district+':\\t', district_to_drop_idx, '\\n')\n",
        "            warsaw_districts = warsaw_districts.drop(district_to_drop_idx).reset_index(drop=True)  \n",
        "            \n",
        "    return warsaw_districts"
      ],
      "execution_count": 4,
      "outputs": []
    },
    {
      "cell_type": "code",
      "metadata": {
        "id": "JIAiPJZpdldk"
      },
      "source": [
        "def return_coordinates(place):\n",
        "    '''\n",
        "    Returns coordinates of the place.\n",
        "        The place must be the name (in polish) of voivodeship in Poland or the district of Warsaw.\n",
        "    E.g.:\n",
        "      1)\n",
        "        In:  return_coordinates('województwo podlaskie')\n",
        "        Out: [53.267219444444, 22.931938888889]\n",
        "      2) \n",
        "        In:  return_coordinates('podlaskie')\n",
        "        Out: [53.267219444444, 22.931938888889]\n",
        "      3)\n",
        "        In:  return_coordinates('PODLASKIE')\n",
        "        Out: [53.267219444444, 22.931938888889]\n",
        "      4) \n",
        "        In:  return_coordinates('Ursus')\n",
        "        Out: [52.19517, 20.88419] \n",
        "    '''\n",
        "    print('return_coordinates ',place)\n",
        "    coordinates = [None, None]\n",
        "    place = place.lower()\n",
        "    print('error 1')\n",
        "    try:\n",
        "        voivodeships = get_voivodeships()\n",
        "        coordinates_df = voivodeships.loc[voivodeships['voivodeship'].str.contains(place) == True, ['latitude', 'longitude']]\n",
        "        coordinates = coordinates_df.values.tolist()[0]       \n",
        "        print('pass 1')\n",
        "    except IndexError:\n",
        "        try:\n",
        "            warsaw_districts = get_warsaw_districts()\n",
        "            coordinates_df = warsaw_districts.loc[warsaw_districts['warsaw_district'].str.contains(place) == True, ['latitude', 'longitude']]\n",
        "            coordinates = coordinates_df.values.tolist()[0]\n",
        "            print('pass 2')\n",
        "        except IndexError:\n",
        "            print('error 3')\n",
        "            pass\n",
        "    return coordinates"
      ],
      "execution_count": 50,
      "outputs": []
    },
    {
      "cell_type": "code",
      "metadata": {
        "id": "lyCylFst7j1X"
      },
      "source": [
        "def makeDataFrame(file):\n",
        "    dfMazowieckie=pd.read_csv(file,index_col=0)\n",
        "    concat=dfMazowieckie\n",
        "    concat['powierzchnia_corr'] = concat['powierzchnia'].apply(lambda x: toNum1(x))\n",
        "    concat['powierzchniaDzialki_corr'] = concat['powierzchniaDzialki'].apply(lambda x: toNum2(x))\n",
        "    concat['cena_corr'] = concat['cena'].apply(lambda x: toNum2(x))\n",
        "    concat['rokBudowy_corr'] = concat['rokBudowy'].apply(lambda x: toNum3(x))\n",
        "    concat['cena/m'] = concat['cena_corr'] / concat['powierzchnia_corr']\n",
        "    concat['lPieter_crr'] = concat['lPieter'].apply(lambda x: pietra(x))\n",
        "    concat = concat[concat['powierzchnia_corr'] > 0]\n",
        "    concat = concat[concat['cena_corr'] > 0]\n",
        "    concat['lPokoi'] = concat['lPokoi'].apply(lambda x: toNum3(x))\n",
        "    concat['districts']=concat['dzielnica'].apply(lambda x: x.split()[4])\n",
        "    cities_corr=concat['dzielnica'].apply(lambda x: cities(x))\n",
        "    concat['cities_corr']=cities_corr\n",
        "    region_corr=concat['dzielnica'].apply(lambda x: region(x))\n",
        "    concat['region_corr']=region_corr\n",
        "    concat_dropped = concat.drop(['dzielnica', 'powierzchnia', 'powierzchniaDzialki', 'lPieter', 'cena', 'cena_corr',], axis=1)\n",
        "    concat_dropped['rokBudowy'] = concat_dropped['rokBudowy'].replace(to_replace=0, value=1990)\n",
        "    concat_dropped['rokBudowy'] = concat_dropped['rokBudowy'].astype('int')\n",
        "    concat_dropped = concat_dropped.fillna(0)\n",
        "    concat_dropped = concat_dropped[concat_dropped['cena/m'] < 20000]\n",
        "    concat_dropped['cena/m'].hist(bins=200)\n",
        "    concat_dropped_dumm = pd.get_dummies(concat_dropped, columns=['rodzajZabudowy', 'materialBudynku', 'stanWykonczenia', 'okna', 'rynek',\n",
        "                                           'cities_corr','districts','region_corr'])\n",
        "    return concat_dropped_dumm,concat_dropped"
      ],
      "execution_count": 8,
      "outputs": []
    },
    {
      "cell_type": "code",
      "metadata": {
        "id": "qmOjGx4Z7lbR"
      },
      "source": [
        "filename='/content/drive/My Drive/domy mazowieckie/dfMazowieckie.csv'"
      ],
      "execution_count": 9,
      "outputs": []
    },
    {
      "cell_type": "code",
      "metadata": {
        "colab": {
          "base_uri": "https://localhost:8080/",
          "height": 265
        },
        "id": "hl-GYCGD7mwf",
        "outputId": "f9d54179-5aaa-44f3-9149-2014df61d280"
      },
      "source": [
        "concat_dropped_dumm,concat_dropped=makeDataFrame(filename)"
      ],
      "execution_count": 13,
      "outputs": [
        {
          "output_type": "display_data",
          "data": {
            "image/png": "[encoded data removed]",
            "text/plain": [
              "<Figure size 432x288 with 1 Axes>"
            ]
          },
          "metadata": {
            "tags": [],
            "needs_background": "light"
          }
        }
      ]
    },
    {
      "cell_type": "code",
      "metadata": {
        "colab": {
          "base_uri": "https://localhost:8080/",
          "height": 731
        },
        "id": "CbQte8_YAAJC",
        "outputId": "65675d4a-916e-44da-e244-6b99082beae8"
      },
      "source": [
        "concat_dropped.head(20)"
      ],
      "execution_count": 17,
      "outputs": [
        {
          "output_type": "execute_result",
          "data": {
            "text/html": [
              "<div>\n",
              "<style scoped>\n",
              "    .dataframe tbody tr th:only-of-type {\n",
              "        vertical-align: middle;\n",
              "    }\n",
              "\n",
              "    .dataframe tbody tr th {\n",
              "        vertical-align: top;\n",
              "    }\n",
              "\n",
              "    .dataframe thead th {\n",
              "        text-align: right;\n",
              "    }\n",
              "</style>\n",
              "<table border=\"1\" class=\"dataframe\">\n",
              "  <thead>\n",
              "    <tr style=\"text-align: right;\">\n",
              "      <th></th>\n",
              "      <th>lPokoi</th>\n",
              "      <th>rodzajZabudowy</th>\n",
              "      <th>materialBudynku</th>\n",
              "      <th>rokBudowy</th>\n",
              "      <th>stanWykonczenia</th>\n",
              "      <th>okna</th>\n",
              "      <th>rynek</th>\n",
              "      <th>powierzchnia_corr</th>\n",
              "      <th>powierzchniaDzialki_corr</th>\n",
              "      <th>rokBudowy_corr</th>\n",
              "      <th>cena/m</th>\n",
              "      <th>lPieter_crr</th>\n",
              "      <th>districts</th>\n",
              "      <th>cities_corr</th>\n",
              "      <th>region_corr</th>\n",
              "    </tr>\n",
              "  </thead>\n",
              "  <tbody>\n",
              "    <tr>\n",
              "      <th>0</th>\n",
              "      <td>6</td>\n",
              "      <td>wolnostojący</td>\n",
              "      <td>cegła</td>\n",
              "      <td>2019</td>\n",
              "      <td>do wykończenia</td>\n",
              "      <td>0</td>\n",
              "      <td>wtórny</td>\n",
              "      <td>320.00</td>\n",
              "      <td>1000</td>\n",
              "      <td>2019</td>\n",
              "      <td>6062.503125</td>\n",
              "      <td>1</td>\n",
              "      <td>Warszawa</td>\n",
              "      <td>Warszawa</td>\n",
              "      <td>Wesoła</td>\n",
              "    </tr>\n",
              "    <tr>\n",
              "      <th>1</th>\n",
              "      <td>5</td>\n",
              "      <td>0</td>\n",
              "      <td>beton komórkowy</td>\n",
              "      <td>2021</td>\n",
              "      <td>do wykończenia</td>\n",
              "      <td>plastikowe</td>\n",
              "      <td>pierwotny</td>\n",
              "      <td>154.00</td>\n",
              "      <td>750</td>\n",
              "      <td>2021</td>\n",
              "      <td>5186.363636</td>\n",
              "      <td>0</td>\n",
              "      <td>grodziski</td>\n",
              "      <td>Milanówek</td>\n",
              "      <td></td>\n",
              "    </tr>\n",
              "    <tr>\n",
              "      <th>2</th>\n",
              "      <td>3</td>\n",
              "      <td>wolnostojący</td>\n",
              "      <td>0</td>\n",
              "      <td>1950</td>\n",
              "      <td>do remontu</td>\n",
              "      <td>0</td>\n",
              "      <td>wtórny</td>\n",
              "      <td>80.00</td>\n",
              "      <td>2356</td>\n",
              "      <td>1950</td>\n",
              "      <td>5612.500000</td>\n",
              "      <td>1</td>\n",
              "      <td>nowodworski</td>\n",
              "      <td>Nowy</td>\n",
              "      <td></td>\n",
              "    </tr>\n",
              "    <tr>\n",
              "      <th>3</th>\n",
              "      <td>4</td>\n",
              "      <td>bliźniak</td>\n",
              "      <td>silikat</td>\n",
              "      <td>2022</td>\n",
              "      <td>do wykończenia</td>\n",
              "      <td>plastikowe</td>\n",
              "      <td>pierwotny</td>\n",
              "      <td>152.91</td>\n",
              "      <td>220</td>\n",
              "      <td>2022</td>\n",
              "      <td>4250.866523</td>\n",
              "      <td>1</td>\n",
              "      <td>piaseczyński</td>\n",
              "      <td>Nowa</td>\n",
              "      <td></td>\n",
              "    </tr>\n",
              "    <tr>\n",
              "      <th>4</th>\n",
              "      <td>4</td>\n",
              "      <td>wolnostojący</td>\n",
              "      <td>pustak</td>\n",
              "      <td>2020</td>\n",
              "      <td>stan surowy otwarty</td>\n",
              "      <td>brak</td>\n",
              "      <td>pierwotny</td>\n",
              "      <td>106.00</td>\n",
              "      <td>960</td>\n",
              "      <td>2020</td>\n",
              "      <td>2924.528302</td>\n",
              "      <td>0</td>\n",
              "      <td>płocki</td>\n",
              "      <td>Słupno</td>\n",
              "      <td></td>\n",
              "    </tr>\n",
              "    <tr>\n",
              "      <th>5</th>\n",
              "      <td>6</td>\n",
              "      <td>wolnostojący</td>\n",
              "      <td>0</td>\n",
              "      <td>2011</td>\n",
              "      <td>do zamieszkania</td>\n",
              "      <td>plastikowe</td>\n",
              "      <td>wtórny</td>\n",
              "      <td>160.00</td>\n",
              "      <td>2500</td>\n",
              "      <td>2011</td>\n",
              "      <td>8906.256250</td>\n",
              "      <td>1</td>\n",
              "      <td>grodziski</td>\n",
              "      <td>Marynin</td>\n",
              "      <td></td>\n",
              "    </tr>\n",
              "    <tr>\n",
              "      <th>6</th>\n",
              "      <td>4</td>\n",
              "      <td>szeregowiec</td>\n",
              "      <td>0</td>\n",
              "      <td>2021</td>\n",
              "      <td>do wykończenia</td>\n",
              "      <td>plastikowe</td>\n",
              "      <td>pierwotny</td>\n",
              "      <td>135.00</td>\n",
              "      <td>190080</td>\n",
              "      <td>2021</td>\n",
              "      <td>5111.111111</td>\n",
              "      <td>1</td>\n",
              "      <td>otwocki</td>\n",
              "      <td>Wiązowna</td>\n",
              "      <td></td>\n",
              "    </tr>\n",
              "    <tr>\n",
              "      <th>7</th>\n",
              "      <td>4</td>\n",
              "      <td>wolnostojący</td>\n",
              "      <td>inne</td>\n",
              "      <td>1989</td>\n",
              "      <td>do zamieszkania</td>\n",
              "      <td>0</td>\n",
              "      <td>wtórny</td>\n",
              "      <td>320.00</td>\n",
              "      <td>1400</td>\n",
              "      <td>1989</td>\n",
              "      <td>5312.503125</td>\n",
              "      <td>0</td>\n",
              "      <td>żyrardowski</td>\n",
              "      <td>Józefów</td>\n",
              "      <td></td>\n",
              "    </tr>\n",
              "    <tr>\n",
              "      <th>8</th>\n",
              "      <td>7</td>\n",
              "      <td>bliźniak</td>\n",
              "      <td>cegła</td>\n",
              "      <td>2008</td>\n",
              "      <td>do zamieszkania</td>\n",
              "      <td>plastikowe</td>\n",
              "      <td>wtórny</td>\n",
              "      <td>266.00</td>\n",
              "      <td>465</td>\n",
              "      <td>2008</td>\n",
              "      <td>7142.860902</td>\n",
              "      <td>1</td>\n",
              "      <td>Warszawa</td>\n",
              "      <td>Warszawa</td>\n",
              "      <td>Włochy</td>\n",
              "    </tr>\n",
              "    <tr>\n",
              "      <th>9</th>\n",
              "      <td>6</td>\n",
              "      <td>0</td>\n",
              "      <td>cegła</td>\n",
              "      <td>2019</td>\n",
              "      <td>do wykończenia</td>\n",
              "      <td>0</td>\n",
              "      <td>pierwotny</td>\n",
              "      <td>270.00</td>\n",
              "      <td>900</td>\n",
              "      <td>2019</td>\n",
              "      <td>7407.414815</td>\n",
              "      <td>0</td>\n",
              "      <td>Warszawa</td>\n",
              "      <td>Warszawa</td>\n",
              "      <td>Ursynów</td>\n",
              "    </tr>\n",
              "    <tr>\n",
              "      <th>10</th>\n",
              "      <td>6</td>\n",
              "      <td>bliźniak</td>\n",
              "      <td>cegła</td>\n",
              "      <td>2013</td>\n",
              "      <td>do zamieszkania</td>\n",
              "      <td>plastikowe</td>\n",
              "      <td>wtórny</td>\n",
              "      <td>204.63</td>\n",
              "      <td>545</td>\n",
              "      <td>2013</td>\n",
              "      <td>6597.278014</td>\n",
              "      <td>2</td>\n",
              "      <td>pruszkowski</td>\n",
              "      <td>Kanie</td>\n",
              "      <td></td>\n",
              "    </tr>\n",
              "    <tr>\n",
              "      <th>11</th>\n",
              "      <td>4</td>\n",
              "      <td>bliźniak</td>\n",
              "      <td>0</td>\n",
              "      <td>2009</td>\n",
              "      <td>do wykończenia</td>\n",
              "      <td>plastikowe</td>\n",
              "      <td>wtórny</td>\n",
              "      <td>170.00</td>\n",
              "      <td>530</td>\n",
              "      <td>2009</td>\n",
              "      <td>2176.470588</td>\n",
              "      <td>1</td>\n",
              "      <td>legionowski</td>\n",
              "      <td>Ludwinowo</td>\n",
              "      <td></td>\n",
              "    </tr>\n",
              "    <tr>\n",
              "      <th>12</th>\n",
              "      <td>5</td>\n",
              "      <td>szeregowiec</td>\n",
              "      <td>inne</td>\n",
              "      <td>2019</td>\n",
              "      <td>stan surowy zamknięty</td>\n",
              "      <td>plastikowe</td>\n",
              "      <td>wtórny</td>\n",
              "      <td>159.00</td>\n",
              "      <td>450</td>\n",
              "      <td>2019</td>\n",
              "      <td>5974.842767</td>\n",
              "      <td>0</td>\n",
              "      <td>otwocki</td>\n",
              "      <td>Józefów</td>\n",
              "      <td></td>\n",
              "    </tr>\n",
              "    <tr>\n",
              "      <th>13</th>\n",
              "      <td>6</td>\n",
              "      <td>bliźniak</td>\n",
              "      <td>0</td>\n",
              "      <td>1990</td>\n",
              "      <td>do zamieszkania</td>\n",
              "      <td>plastikowe</td>\n",
              "      <td>wtórny</td>\n",
              "      <td>240.00</td>\n",
              "      <td>330</td>\n",
              "      <td>0</td>\n",
              "      <td>8620.841667</td>\n",
              "      <td>2</td>\n",
              "      <td>Warszawa</td>\n",
              "      <td>Warszawa</td>\n",
              "      <td>Mokotów</td>\n",
              "    </tr>\n",
              "    <tr>\n",
              "      <th>14</th>\n",
              "      <td>7</td>\n",
              "      <td>0</td>\n",
              "      <td>cegła</td>\n",
              "      <td>2011</td>\n",
              "      <td>do zamieszkania</td>\n",
              "      <td>0</td>\n",
              "      <td>wtórny</td>\n",
              "      <td>400.00</td>\n",
              "      <td>1382</td>\n",
              "      <td>2011</td>\n",
              "      <td>8750.007500</td>\n",
              "      <td>1</td>\n",
              "      <td>warszawski</td>\n",
              "      <td>Hornówek</td>\n",
              "      <td></td>\n",
              "    </tr>\n",
              "    <tr>\n",
              "      <th>15</th>\n",
              "      <td>7</td>\n",
              "      <td>wolnostojący</td>\n",
              "      <td>cegła</td>\n",
              "      <td>2004</td>\n",
              "      <td>do zamieszkania</td>\n",
              "      <td>0</td>\n",
              "      <td>wtórny</td>\n",
              "      <td>340.00</td>\n",
              "      <td>850</td>\n",
              "      <td>2004</td>\n",
              "      <td>10411.773529</td>\n",
              "      <td>2</td>\n",
              "      <td>Warszawa</td>\n",
              "      <td>Warszawa</td>\n",
              "      <td>Wilanów</td>\n",
              "    </tr>\n",
              "    <tr>\n",
              "      <th>16</th>\n",
              "      <td>5</td>\n",
              "      <td>0</td>\n",
              "      <td>0</td>\n",
              "      <td>2021</td>\n",
              "      <td>0</td>\n",
              "      <td>0</td>\n",
              "      <td>pierwotny</td>\n",
              "      <td>100.17</td>\n",
              "      <td>0</td>\n",
              "      <td>2021</td>\n",
              "      <td>8026.494959</td>\n",
              "      <td>2</td>\n",
              "      <td>Warszawa</td>\n",
              "      <td>Warszawa</td>\n",
              "      <td>Białołęka</td>\n",
              "    </tr>\n",
              "    <tr>\n",
              "      <th>17</th>\n",
              "      <td>4</td>\n",
              "      <td>bliźniak</td>\n",
              "      <td>0</td>\n",
              "      <td>2022</td>\n",
              "      <td>do wykończenia</td>\n",
              "      <td>plastikowe</td>\n",
              "      <td>pierwotny</td>\n",
              "      <td>82.01</td>\n",
              "      <td>135</td>\n",
              "      <td>2022</td>\n",
              "      <td>8861.333984</td>\n",
              "      <td>1</td>\n",
              "      <td>Warszawa</td>\n",
              "      <td>Warszawa</td>\n",
              "      <td>Wawer</td>\n",
              "    </tr>\n",
              "    <tr>\n",
              "      <th>18</th>\n",
              "      <td>5</td>\n",
              "      <td>szeregowiec</td>\n",
              "      <td>0</td>\n",
              "      <td>2023</td>\n",
              "      <td>do wykończenia</td>\n",
              "      <td>plastikowe</td>\n",
              "      <td>pierwotny</td>\n",
              "      <td>134.20</td>\n",
              "      <td>200</td>\n",
              "      <td>2023</td>\n",
              "      <td>4388.971684</td>\n",
              "      <td>1</td>\n",
              "      <td>grodziski</td>\n",
              "      <td>Grodzisk</td>\n",
              "      <td></td>\n",
              "    </tr>\n",
              "    <tr>\n",
              "      <th>19</th>\n",
              "      <td>5</td>\n",
              "      <td>bliźniak</td>\n",
              "      <td>inne</td>\n",
              "      <td>2021</td>\n",
              "      <td>do wykończenia</td>\n",
              "      <td>plastikowe</td>\n",
              "      <td>pierwotny</td>\n",
              "      <td>180.00</td>\n",
              "      <td>500</td>\n",
              "      <td>2021</td>\n",
              "      <td>4161.111111</td>\n",
              "      <td>0</td>\n",
              "      <td>piaseczyński</td>\n",
              "      <td>Warszawianka</td>\n",
              "      <td></td>\n",
              "    </tr>\n",
              "  </tbody>\n",
              "</table>\n",
              "</div>"
            ],
            "text/plain": [
              "    lPokoi rodzajZabudowy  ...   cities_corr  region_corr\n",
              "0        6   wolnostojący  ...      Warszawa       Wesoła\n",
              "1        5              0  ...     Milanówek             \n",
              "2        3   wolnostojący  ...          Nowy             \n",
              "3        4       bliźniak  ...          Nowa             \n",
              "4        4   wolnostojący  ...        Słupno             \n",
              "5        6   wolnostojący  ...       Marynin             \n",
              "6        4    szeregowiec  ...      Wiązowna             \n",
              "7        4   wolnostojący  ...       Józefów             \n",
              "8        7       bliźniak  ...      Warszawa       Włochy\n",
              "9        6              0  ...      Warszawa      Ursynów\n",
              "10       6       bliźniak  ...         Kanie             \n",
              "11       4       bliźniak  ...     Ludwinowo             \n",
              "12       5    szeregowiec  ...       Józefów             \n",
              "13       6       bliźniak  ...      Warszawa      Mokotów\n",
              "14       7              0  ...      Hornówek             \n",
              "15       7   wolnostojący  ...      Warszawa      Wilanów\n",
              "16       5              0  ...      Warszawa    Białołęka\n",
              "17       4       bliźniak  ...      Warszawa        Wawer\n",
              "18       5    szeregowiec  ...      Grodzisk             \n",
              "19       5       bliźniak  ...  Warszawianka             \n",
              "\n",
              "[20 rows x 15 columns]"
            ]
          },
          "metadata": {
            "tags": []
          },
          "execution_count": 17
        }
      ]
    },
    {
      "cell_type": "code",
      "metadata": {
        "colab": {
          "base_uri": "https://localhost:8080/",
          "height": 1000
        },
        "id": "lKfCZkLDeEmO",
        "outputId": "a26a6dde-3983-41b0-ff32-d17e6b96ad41"
      },
      "source": [
        "concat_dropped.cities_corr.apply(lambda x: return_coordinates(x))"
      ],
      "execution_count": 51,
      "outputs": [
        {
          "output_type": "stream",
          "text": [
            "return_coordinates  Warszawa\n",
            "error 1\n",
            "error 3\n",
            "return_coordinates  Milanówek\n",
            "error 1\n",
            "error 3\n",
            "return_coordinates  Nowy\n",
            "error 1\n",
            "error 3\n",
            "return_coordinates  Nowa\n",
            "error 1\n",
            "error 3\n",
            "return_coordinates  Słupno\n",
            "error 1\n",
            "error 3\n",
            "return_coordinates  Marynin\n",
            "error 1\n"
          ],
          "name": "stdout"
        },
        {
          "output_type": "error",
          "ename": "JSONDecodeError",
          "evalue": "ignored",
          "traceback": [
            "\u001b[0;31m---------------------------------------------------------------------------\u001b[0m",
            "\u001b[0;31mJSONDecodeError\u001b[0m                           Traceback (most recent call last)",
            "\u001b[0;32m<ipython-input-51-d6d4da88f57f>\u001b[0m in \u001b[0;36m<module>\u001b[0;34m()\u001b[0m\n\u001b[0;32m----> 1\u001b[0;31m \u001b[0mconcat_dropped\u001b[0m\u001b[0;34m.\u001b[0m\u001b[0mcities_corr\u001b[0m\u001b[0;34m.\u001b[0m\u001b[0mapply\u001b[0m\u001b[0;34m(\u001b[0m\u001b[0;32mlambda\u001b[0m \u001b[0mx\u001b[0m\u001b[0;34m:\u001b[0m \u001b[0mreturn_coordinates\u001b[0m\u001b[0;34m(\u001b[0m\u001b[0mx\u001b[0m\u001b[0;34m)\u001b[0m\u001b[0;34m)\u001b[0m\u001b[0;34m\u001b[0m\u001b[0;34m\u001b[0m\u001b[0m\n\u001b[0m",
            "\u001b[0;32m/usr/local/lib/python3.7/dist-packages/pandas/core/series.py\u001b[0m in \u001b[0;36mapply\u001b[0;34m(self, func, convert_dtype, args, **kwds)\u001b[0m\n\u001b[1;32m   4211\u001b[0m             \u001b[0;32melse\u001b[0m\u001b[0;34m:\u001b[0m\u001b[0;34m\u001b[0m\u001b[0;34m\u001b[0m\u001b[0m\n\u001b[1;32m   4212\u001b[0m                 \u001b[0mvalues\u001b[0m \u001b[0;34m=\u001b[0m \u001b[0mself\u001b[0m\u001b[0;34m.\u001b[0m\u001b[0mastype\u001b[0m\u001b[0;34m(\u001b[0m\u001b[0mobject\u001b[0m\u001b[0;34m)\u001b[0m\u001b[0;34m.\u001b[0m\u001b[0m_values\u001b[0m\u001b[0;34m\u001b[0m\u001b[0;34m\u001b[0m\u001b[0m\n\u001b[0;32m-> 4213\u001b[0;31m                 \u001b[0mmapped\u001b[0m \u001b[0;34m=\u001b[0m \u001b[0mlib\u001b[0m\u001b[0;34m.\u001b[0m\u001b[0mmap_infer\u001b[0m\u001b[0;34m(\u001b[0m\u001b[0mvalues\u001b[0m\u001b[0;34m,\u001b[0m \u001b[0mf\u001b[0m\u001b[0;34m,\u001b[0m \u001b[0mconvert\u001b[0m\u001b[0;34m=\u001b[0m\u001b[0mconvert_dtype\u001b[0m\u001b[0;34m)\u001b[0m\u001b[0;34m\u001b[0m\u001b[0;34m\u001b[0m\u001b[0m\n\u001b[0m\u001b[1;32m   4214\u001b[0m \u001b[0;34m\u001b[0m\u001b[0m\n\u001b[1;32m   4215\u001b[0m         \u001b[0;32mif\u001b[0m \u001b[0mlen\u001b[0m\u001b[0;34m(\u001b[0m\u001b[0mmapped\u001b[0m\u001b[0;34m)\u001b[0m \u001b[0;32mand\u001b[0m \u001b[0misinstance\u001b[0m\u001b[0;34m(\u001b[0m\u001b[0mmapped\u001b[0m\u001b[0;34m[\u001b[0m\u001b[0;36m0\u001b[0m\u001b[0;34m]\u001b[0m\u001b[0;34m,\u001b[0m \u001b[0mSeries\u001b[0m\u001b[0;34m)\u001b[0m\u001b[0;34m:\u001b[0m\u001b[0;34m\u001b[0m\u001b[0;34m\u001b[0m\u001b[0m\n",
            "\u001b[0;32mpandas/_libs/lib.pyx\u001b[0m in \u001b[0;36mpandas._libs.lib.map_infer\u001b[0;34m()\u001b[0m\n",
            "\u001b[0;32m<ipython-input-51-d6d4da88f57f>\u001b[0m in \u001b[0;36m<lambda>\u001b[0;34m(x)\u001b[0m\n\u001b[0;32m----> 1\u001b[0;31m \u001b[0mconcat_dropped\u001b[0m\u001b[0;34m.\u001b[0m\u001b[0mcities_corr\u001b[0m\u001b[0;34m.\u001b[0m\u001b[0mapply\u001b[0m\u001b[0;34m(\u001b[0m\u001b[0;32mlambda\u001b[0m \u001b[0mx\u001b[0m\u001b[0;34m:\u001b[0m \u001b[0mreturn_coordinates\u001b[0m\u001b[0;34m(\u001b[0m\u001b[0mx\u001b[0m\u001b[0;34m)\u001b[0m\u001b[0;34m)\u001b[0m\u001b[0;34m\u001b[0m\u001b[0;34m\u001b[0m\u001b[0m\n\u001b[0m",
            "\u001b[0;32m<ipython-input-50-8ebb37992fde>\u001b[0m in \u001b[0;36mreturn_coordinates\u001b[0;34m(place)\u001b[0m\n\u001b[1;32m     22\u001b[0m     \u001b[0mprint\u001b[0m\u001b[0;34m(\u001b[0m\u001b[0;34m'error 1'\u001b[0m\u001b[0;34m)\u001b[0m\u001b[0;34m\u001b[0m\u001b[0;34m\u001b[0m\u001b[0m\n\u001b[1;32m     23\u001b[0m     \u001b[0;32mtry\u001b[0m\u001b[0;34m:\u001b[0m\u001b[0;34m\u001b[0m\u001b[0;34m\u001b[0m\u001b[0m\n\u001b[0;32m---> 24\u001b[0;31m         \u001b[0mvoivodeships\u001b[0m \u001b[0;34m=\u001b[0m \u001b[0mget_voivodeships\u001b[0m\u001b[0;34m(\u001b[0m\u001b[0;34m)\u001b[0m\u001b[0;34m\u001b[0m\u001b[0;34m\u001b[0m\u001b[0m\n\u001b[0m\u001b[1;32m     25\u001b[0m         \u001b[0mcoordinates_df\u001b[0m \u001b[0;34m=\u001b[0m \u001b[0mvoivodeships\u001b[0m\u001b[0;34m.\u001b[0m\u001b[0mloc\u001b[0m\u001b[0;34m[\u001b[0m\u001b[0mvoivodeships\u001b[0m\u001b[0;34m[\u001b[0m\u001b[0;34m'voivodeship'\u001b[0m\u001b[0;34m]\u001b[0m\u001b[0;34m.\u001b[0m\u001b[0mstr\u001b[0m\u001b[0;34m.\u001b[0m\u001b[0mcontains\u001b[0m\u001b[0;34m(\u001b[0m\u001b[0mplace\u001b[0m\u001b[0;34m)\u001b[0m \u001b[0;34m==\u001b[0m \u001b[0;32mTrue\u001b[0m\u001b[0;34m,\u001b[0m \u001b[0;34m[\u001b[0m\u001b[0;34m'latitude'\u001b[0m\u001b[0;34m,\u001b[0m \u001b[0;34m'longitude'\u001b[0m\u001b[0;34m]\u001b[0m\u001b[0;34m]\u001b[0m\u001b[0;34m\u001b[0m\u001b[0;34m\u001b[0m\u001b[0m\n\u001b[1;32m     26\u001b[0m         \u001b[0mcoordinates\u001b[0m \u001b[0;34m=\u001b[0m \u001b[0mcoordinates_df\u001b[0m\u001b[0;34m.\u001b[0m\u001b[0mvalues\u001b[0m\u001b[0;34m.\u001b[0m\u001b[0mtolist\u001b[0m\u001b[0;34m(\u001b[0m\u001b[0;34m)\u001b[0m\u001b[0;34m[\u001b[0m\u001b[0;36m0\u001b[0m\u001b[0;34m]\u001b[0m\u001b[0;34m\u001b[0m\u001b[0;34m\u001b[0m\u001b[0m\n",
            "\u001b[0;32m<ipython-input-3-8304c1757e53>\u001b[0m in \u001b[0;36mget_voivodeships\u001b[0;34m()\u001b[0m\n\u001b[1;32m     23\u001b[0m     '''\n\u001b[1;32m     24\u001b[0m     \u001b[0mr\u001b[0m \u001b[0;34m=\u001b[0m \u001b[0mrequests\u001b[0m\u001b[0;34m.\u001b[0m\u001b[0mget\u001b[0m\u001b[0;34m(\u001b[0m\u001b[0murl\u001b[0m\u001b[0;34m,\u001b[0m \u001b[0mparams\u001b[0m \u001b[0;34m=\u001b[0m \u001b[0;34m{\u001b[0m\u001b[0;34m'format'\u001b[0m\u001b[0;34m:\u001b[0m \u001b[0;34m'json'\u001b[0m\u001b[0;34m,\u001b[0m \u001b[0;34m'query'\u001b[0m\u001b[0;34m:\u001b[0m \u001b[0mquery\u001b[0m\u001b[0;34m}\u001b[0m\u001b[0;34m)\u001b[0m\u001b[0;34m\u001b[0m\u001b[0;34m\u001b[0m\u001b[0m\n\u001b[0;32m---> 25\u001b[0;31m     \u001b[0mdata\u001b[0m \u001b[0;34m=\u001b[0m \u001b[0mr\u001b[0m\u001b[0;34m.\u001b[0m\u001b[0mjson\u001b[0m\u001b[0;34m(\u001b[0m\u001b[0;34m)\u001b[0m\u001b[0;34m\u001b[0m\u001b[0;34m\u001b[0m\u001b[0m\n\u001b[0m\u001b[1;32m     26\u001b[0m \u001b[0;34m\u001b[0m\u001b[0m\n\u001b[1;32m     27\u001b[0m     \u001b[0;31m# convert json to dataframe\u001b[0m\u001b[0;34m\u001b[0m\u001b[0;34m\u001b[0m\u001b[0;34m\u001b[0m\u001b[0m\n",
            "\u001b[0;32m/usr/local/lib/python3.7/dist-packages/requests/models.py\u001b[0m in \u001b[0;36mjson\u001b[0;34m(self, **kwargs)\u001b[0m\n\u001b[1;32m    896\u001b[0m                     \u001b[0;31m# used.\u001b[0m\u001b[0;34m\u001b[0m\u001b[0;34m\u001b[0m\u001b[0;34m\u001b[0m\u001b[0m\n\u001b[1;32m    897\u001b[0m                     \u001b[0;32mpass\u001b[0m\u001b[0;34m\u001b[0m\u001b[0;34m\u001b[0m\u001b[0m\n\u001b[0;32m--> 898\u001b[0;31m         \u001b[0;32mreturn\u001b[0m \u001b[0mcomplexjson\u001b[0m\u001b[0;34m.\u001b[0m\u001b[0mloads\u001b[0m\u001b[0;34m(\u001b[0m\u001b[0mself\u001b[0m\u001b[0;34m.\u001b[0m\u001b[0mtext\u001b[0m\u001b[0;34m,\u001b[0m \u001b[0;34m**\u001b[0m\u001b[0mkwargs\u001b[0m\u001b[0;34m)\u001b[0m\u001b[0;34m\u001b[0m\u001b[0;34m\u001b[0m\u001b[0m\n\u001b[0m\u001b[1;32m    899\u001b[0m \u001b[0;34m\u001b[0m\u001b[0m\n\u001b[1;32m    900\u001b[0m     \u001b[0;34m@\u001b[0m\u001b[0mproperty\u001b[0m\u001b[0;34m\u001b[0m\u001b[0;34m\u001b[0m\u001b[0m\n",
            "\u001b[0;32m/usr/lib/python3.7/json/__init__.py\u001b[0m in \u001b[0;36mloads\u001b[0;34m(s, encoding, cls, object_hook, parse_float, parse_int, parse_constant, object_pairs_hook, **kw)\u001b[0m\n\u001b[1;32m    346\u001b[0m             \u001b[0mparse_int\u001b[0m \u001b[0;32mis\u001b[0m \u001b[0;32mNone\u001b[0m \u001b[0;32mand\u001b[0m \u001b[0mparse_float\u001b[0m \u001b[0;32mis\u001b[0m \u001b[0;32mNone\u001b[0m \u001b[0;32mand\u001b[0m\u001b[0;34m\u001b[0m\u001b[0;34m\u001b[0m\u001b[0m\n\u001b[1;32m    347\u001b[0m             parse_constant is None and object_pairs_hook is None and not kw):\n\u001b[0;32m--> 348\u001b[0;31m         \u001b[0;32mreturn\u001b[0m \u001b[0m_default_decoder\u001b[0m\u001b[0;34m.\u001b[0m\u001b[0mdecode\u001b[0m\u001b[0;34m(\u001b[0m\u001b[0ms\u001b[0m\u001b[0;34m)\u001b[0m\u001b[0;34m\u001b[0m\u001b[0;34m\u001b[0m\u001b[0m\n\u001b[0m\u001b[1;32m    349\u001b[0m     \u001b[0;32mif\u001b[0m \u001b[0mcls\u001b[0m \u001b[0;32mis\u001b[0m \u001b[0;32mNone\u001b[0m\u001b[0;34m:\u001b[0m\u001b[0;34m\u001b[0m\u001b[0;34m\u001b[0m\u001b[0m\n\u001b[1;32m    350\u001b[0m         \u001b[0mcls\u001b[0m \u001b[0;34m=\u001b[0m \u001b[0mJSONDecoder\u001b[0m\u001b[0;34m\u001b[0m\u001b[0;34m\u001b[0m\u001b[0m\n",
            "\u001b[0;32m/usr/lib/python3.7/json/decoder.py\u001b[0m in \u001b[0;36mdecode\u001b[0;34m(self, s, _w)\u001b[0m\n\u001b[1;32m    335\u001b[0m \u001b[0;34m\u001b[0m\u001b[0m\n\u001b[1;32m    336\u001b[0m         \"\"\"\n\u001b[0;32m--> 337\u001b[0;31m         \u001b[0mobj\u001b[0m\u001b[0;34m,\u001b[0m \u001b[0mend\u001b[0m \u001b[0;34m=\u001b[0m \u001b[0mself\u001b[0m\u001b[0;34m.\u001b[0m\u001b[0mraw_decode\u001b[0m\u001b[0;34m(\u001b[0m\u001b[0ms\u001b[0m\u001b[0;34m,\u001b[0m \u001b[0midx\u001b[0m\u001b[0;34m=\u001b[0m\u001b[0m_w\u001b[0m\u001b[0;34m(\u001b[0m\u001b[0ms\u001b[0m\u001b[0;34m,\u001b[0m \u001b[0;36m0\u001b[0m\u001b[0;34m)\u001b[0m\u001b[0;34m.\u001b[0m\u001b[0mend\u001b[0m\u001b[0;34m(\u001b[0m\u001b[0;34m)\u001b[0m\u001b[0;34m)\u001b[0m\u001b[0;34m\u001b[0m\u001b[0;34m\u001b[0m\u001b[0m\n\u001b[0m\u001b[1;32m    338\u001b[0m         \u001b[0mend\u001b[0m \u001b[0;34m=\u001b[0m \u001b[0m_w\u001b[0m\u001b[0;34m(\u001b[0m\u001b[0ms\u001b[0m\u001b[0;34m,\u001b[0m \u001b[0mend\u001b[0m\u001b[0;34m)\u001b[0m\u001b[0;34m.\u001b[0m\u001b[0mend\u001b[0m\u001b[0;34m(\u001b[0m\u001b[0;34m)\u001b[0m\u001b[0;34m\u001b[0m\u001b[0;34m\u001b[0m\u001b[0m\n\u001b[1;32m    339\u001b[0m         \u001b[0;32mif\u001b[0m \u001b[0mend\u001b[0m \u001b[0;34m!=\u001b[0m \u001b[0mlen\u001b[0m\u001b[0;34m(\u001b[0m\u001b[0ms\u001b[0m\u001b[0;34m)\u001b[0m\u001b[0;34m:\u001b[0m\u001b[0;34m\u001b[0m\u001b[0;34m\u001b[0m\u001b[0m\n",
            "\u001b[0;32m/usr/lib/python3.7/json/decoder.py\u001b[0m in \u001b[0;36mraw_decode\u001b[0;34m(self, s, idx)\u001b[0m\n\u001b[1;32m    353\u001b[0m             \u001b[0mobj\u001b[0m\u001b[0;34m,\u001b[0m \u001b[0mend\u001b[0m \u001b[0;34m=\u001b[0m \u001b[0mself\u001b[0m\u001b[0;34m.\u001b[0m\u001b[0mscan_once\u001b[0m\u001b[0;34m(\u001b[0m\u001b[0ms\u001b[0m\u001b[0;34m,\u001b[0m \u001b[0midx\u001b[0m\u001b[0;34m)\u001b[0m\u001b[0;34m\u001b[0m\u001b[0;34m\u001b[0m\u001b[0m\n\u001b[1;32m    354\u001b[0m         \u001b[0;32mexcept\u001b[0m \u001b[0mStopIteration\u001b[0m \u001b[0;32mas\u001b[0m \u001b[0merr\u001b[0m\u001b[0;34m:\u001b[0m\u001b[0;34m\u001b[0m\u001b[0;34m\u001b[0m\u001b[0m\n\u001b[0;32m--> 355\u001b[0;31m             \u001b[0;32mraise\u001b[0m \u001b[0mJSONDecodeError\u001b[0m\u001b[0;34m(\u001b[0m\u001b[0;34m\"Expecting value\"\u001b[0m\u001b[0;34m,\u001b[0m \u001b[0ms\u001b[0m\u001b[0;34m,\u001b[0m \u001b[0merr\u001b[0m\u001b[0;34m.\u001b[0m\u001b[0mvalue\u001b[0m\u001b[0;34m)\u001b[0m \u001b[0;32mfrom\u001b[0m \u001b[0;32mNone\u001b[0m\u001b[0;34m\u001b[0m\u001b[0;34m\u001b[0m\u001b[0m\n\u001b[0m\u001b[1;32m    356\u001b[0m         \u001b[0;32mreturn\u001b[0m \u001b[0mobj\u001b[0m\u001b[0;34m,\u001b[0m \u001b[0mend\u001b[0m\u001b[0;34m\u001b[0m\u001b[0;34m\u001b[0m\u001b[0m\n",
            "\u001b[0;31mJSONDecodeError\u001b[0m: Expecting value: line 1 column 1 (char 0)"
          ]
        }
      ]
    },
    {
      "cell_type": "code",
      "metadata": {
        "colab": {
          "base_uri": "https://localhost:8080/"
        },
        "id": "mTndMnQpedrP",
        "outputId": "8ae2a140-ff59-4e16-f819-4ea4e4763d51"
      },
      "source": [
        "return_coordinates('Wola')"
      ],
      "execution_count": 40,
      "outputs": [
        {
          "output_type": "stream",
          "text": [
            "return_coordinates  Wola\n"
          ],
          "name": "stdout"
        },
        {
          "output_type": "execute_result",
          "data": {
            "text/plain": [
              "[52.233333333333, 20.957222222222]"
            ]
          },
          "metadata": {
            "tags": []
          },
          "execution_count": 40
        }
      ]
    },
    {
      "cell_type": "code",
      "metadata": {
        "id": "3Bg4BCrw_nqI"
      },
      "source": [
        "from sklearn.decomposition import FastICA\n",
        "transformer = FastICA(n_components=20,random_state=0)\n",
        "x_tr = transformer.fit_transform(concat_dropped_dumm.drop(['cena/m'],axis=1).values)"
      ],
      "execution_count": 128,
      "outputs": []
    },
    {
      "cell_type": "code",
      "metadata": {
        "id": "KS3Bnu3AAeYw"
      },
      "source": [
        "pd_x_tr=pd.DataFrame(x_tr)"
      ],
      "execution_count": 129,
      "outputs": []
    },
    {
      "cell_type": "code",
      "metadata": {
        "id": "bPrflC86_8zy"
      },
      "source": [
        "pd_x_tr['cena/m']=concat_dropped_dumm['cena/m']\n",
        "pd_x_tr= pd_x_tr.fillna(0)"
      ],
      "execution_count": 130,
      "outputs": []
    },
    {
      "cell_type": "code",
      "metadata": {
        "id": "aQBwT_c2LWnA"
      },
      "source": [
        "pd_x_tr.columns=['a0','a1','a2','a3','a4','a5','a6','a7','a8','a9','a10','a11','a12','a13','a14','a15','a16','a17','a18','a19','cena/m',]"
      ],
      "execution_count": 131,
      "outputs": []
    },
    {
      "cell_type": "code",
      "metadata": {
        "id": "0J-VpU1JLCfb"
      },
      "source": [
        "min_max_scaler = preprocessing.MinMaxScaler()\n",
        "x_scaled = min_max_scaler.fit_transform(pd_x_tr.values)\n",
        "df = pd.DataFrame(x_scaled,columns=['a0','a1','a2','a3','a4','a5','a6','a7','a8','a9','a10','a11','a12','a13','a14','a15','a16','a17','a18','a19','cena/m',])\n",
        "df  = df.fillna(0)"
      ],
      "execution_count": 132,
      "outputs": []
    },
    {
      "cell_type": "code",
      "metadata": {
        "colab": {
          "base_uri": "https://localhost:8080/",
          "height": 226
        },
        "id": "c4gRh2vLPTO7",
        "outputId": "6da98caa-5549-42bd-8bd9-8aa7b7adfb01"
      },
      "source": [
        "df.head()"
      ],
      "execution_count": 161,
      "outputs": [
        {
          "output_type": "execute_result",
          "data": {
            "text/html": [
              "<div>\n",
              "<style scoped>\n",
              "    .dataframe tbody tr th:only-of-type {\n",
              "        vertical-align: middle;\n",
              "    }\n",
              "\n",
              "    .dataframe tbody tr th {\n",
              "        vertical-align: top;\n",
              "    }\n",
              "\n",
              "    .dataframe thead th {\n",
              "        text-align: right;\n",
              "    }\n",
              "</style>\n",
              "<table border=\"1\" class=\"dataframe\">\n",
              "  <thead>\n",
              "    <tr style=\"text-align: right;\">\n",
              "      <th></th>\n",
              "      <th>a0</th>\n",
              "      <th>a1</th>\n",
              "      <th>a2</th>\n",
              "      <th>a3</th>\n",
              "      <th>a4</th>\n",
              "      <th>a5</th>\n",
              "      <th>a6</th>\n",
              "      <th>a7</th>\n",
              "      <th>a8</th>\n",
              "      <th>a9</th>\n",
              "      <th>a10</th>\n",
              "      <th>a11</th>\n",
              "      <th>a12</th>\n",
              "      <th>a13</th>\n",
              "      <th>a14</th>\n",
              "      <th>a15</th>\n",
              "      <th>a16</th>\n",
              "      <th>a17</th>\n",
              "      <th>a18</th>\n",
              "      <th>a19</th>\n",
              "      <th>cena/m</th>\n",
              "    </tr>\n",
              "  </thead>\n",
              "  <tbody>\n",
              "    <tr>\n",
              "      <th>0</th>\n",
              "      <td>0.000142</td>\n",
              "      <td>0.538168</td>\n",
              "      <td>0.960679</td>\n",
              "      <td>0.124256</td>\n",
              "      <td>0.963230</td>\n",
              "      <td>0.201166</td>\n",
              "      <td>0.577541</td>\n",
              "      <td>0.838554</td>\n",
              "      <td>0.874352</td>\n",
              "      <td>0.864407</td>\n",
              "      <td>0.669552</td>\n",
              "      <td>0.855231</td>\n",
              "      <td>0.578469</td>\n",
              "      <td>0.777769</td>\n",
              "      <td>0.994382</td>\n",
              "      <td>0.136624</td>\n",
              "      <td>0.654157</td>\n",
              "      <td>0.878563</td>\n",
              "      <td>0.818298</td>\n",
              "      <td>0.584550</td>\n",
              "      <td>0.303559</td>\n",
              "    </tr>\n",
              "    <tr>\n",
              "      <th>1</th>\n",
              "      <td>0.000221</td>\n",
              "      <td>0.067467</td>\n",
              "      <td>0.961486</td>\n",
              "      <td>0.755807</td>\n",
              "      <td>0.810324</td>\n",
              "      <td>0.500746</td>\n",
              "      <td>0.585708</td>\n",
              "      <td>0.771617</td>\n",
              "      <td>0.506184</td>\n",
              "      <td>0.712844</td>\n",
              "      <td>0.572349</td>\n",
              "      <td>0.576593</td>\n",
              "      <td>0.548809</td>\n",
              "      <td>0.841463</td>\n",
              "      <td>0.994276</td>\n",
              "      <td>0.708190</td>\n",
              "      <td>0.764086</td>\n",
              "      <td>0.201298</td>\n",
              "      <td>0.806505</td>\n",
              "      <td>0.556634</td>\n",
              "      <td>0.259689</td>\n",
              "    </tr>\n",
              "    <tr>\n",
              "      <th>2</th>\n",
              "      <td>0.000174</td>\n",
              "      <td>0.580600</td>\n",
              "      <td>0.969335</td>\n",
              "      <td>0.238737</td>\n",
              "      <td>0.854292</td>\n",
              "      <td>0.914767</td>\n",
              "      <td>0.409551</td>\n",
              "      <td>0.723284</td>\n",
              "      <td>0.933732</td>\n",
              "      <td>0.871902</td>\n",
              "      <td>0.734715</td>\n",
              "      <td>0.280551</td>\n",
              "      <td>0.655080</td>\n",
              "      <td>0.739266</td>\n",
              "      <td>0.994164</td>\n",
              "      <td>0.146112</td>\n",
              "      <td>0.502043</td>\n",
              "      <td>0.866283</td>\n",
              "      <td>0.711063</td>\n",
              "      <td>0.611030</td>\n",
              "      <td>0.281026</td>\n",
              "    </tr>\n",
              "    <tr>\n",
              "      <th>3</th>\n",
              "      <td>0.000202</td>\n",
              "      <td>0.808070</td>\n",
              "      <td>0.956856</td>\n",
              "      <td>0.169802</td>\n",
              "      <td>0.830681</td>\n",
              "      <td>0.534666</td>\n",
              "      <td>0.472344</td>\n",
              "      <td>0.143991</td>\n",
              "      <td>0.495246</td>\n",
              "      <td>0.676274</td>\n",
              "      <td>0.533429</td>\n",
              "      <td>0.592232</td>\n",
              "      <td>0.609226</td>\n",
              "      <td>0.838978</td>\n",
              "      <td>0.994351</td>\n",
              "      <td>0.795495</td>\n",
              "      <td>0.655343</td>\n",
              "      <td>0.153414</td>\n",
              "      <td>0.850874</td>\n",
              "      <td>0.555981</td>\n",
              "      <td>0.212847</td>\n",
              "    </tr>\n",
              "    <tr>\n",
              "      <th>4</th>\n",
              "      <td>0.000225</td>\n",
              "      <td>0.491747</td>\n",
              "      <td>0.964443</td>\n",
              "      <td>0.156760</td>\n",
              "      <td>0.561536</td>\n",
              "      <td>0.521172</td>\n",
              "      <td>0.588678</td>\n",
              "      <td>0.760030</td>\n",
              "      <td>0.276864</td>\n",
              "      <td>0.121652</td>\n",
              "      <td>0.724362</td>\n",
              "      <td>0.393098</td>\n",
              "      <td>0.676338</td>\n",
              "      <td>0.801216</td>\n",
              "      <td>0.994720</td>\n",
              "      <td>0.120101</td>\n",
              "      <td>0.685216</td>\n",
              "      <td>0.540374</td>\n",
              "      <td>0.785667</td>\n",
              "      <td>0.565439</td>\n",
              "      <td>0.146435</td>\n",
              "    </tr>\n",
              "  </tbody>\n",
              "</table>\n",
              "</div>"
            ],
            "text/plain": [
              "         a0        a1        a2  ...       a18       a19    cena/m\n",
              "0  0.000142  0.538168  0.960679  ...  0.818298  0.584550  0.303559\n",
              "1  0.000221  0.067467  0.961486  ...  0.806505  0.556634  0.259689\n",
              "2  0.000174  0.580600  0.969335  ...  0.711063  0.611030  0.281026\n",
              "3  0.000202  0.808070  0.956856  ...  0.850874  0.555981  0.212847\n",
              "4  0.000225  0.491747  0.964443  ...  0.785667  0.565439  0.146435\n",
              "\n",
              "[5 rows x 21 columns]"
            ]
          },
          "metadata": {
            "tags": []
          },
          "execution_count": 161
        }
      ]
    },
    {
      "cell_type": "code",
      "metadata": {
        "colab": {
          "base_uri": "https://localhost:8080/",
          "height": 226
        },
        "id": "2Ilv-WVpK1Bt",
        "outputId": "f23bbf7c-897b-4632-b94b-425f3c5f0bc2"
      },
      "source": [
        "pd_x_tr.head()"
      ],
      "execution_count": 160,
      "outputs": [
        {
          "output_type": "execute_result",
          "data": {
            "text/html": [
              "<div>\n",
              "<style scoped>\n",
              "    .dataframe tbody tr th:only-of-type {\n",
              "        vertical-align: middle;\n",
              "    }\n",
              "\n",
              "    .dataframe tbody tr th {\n",
              "        vertical-align: top;\n",
              "    }\n",
              "\n",
              "    .dataframe thead th {\n",
              "        text-align: right;\n",
              "    }\n",
              "</style>\n",
              "<table border=\"1\" class=\"dataframe\">\n",
              "  <thead>\n",
              "    <tr style=\"text-align: right;\">\n",
              "      <th></th>\n",
              "      <th>a0</th>\n",
              "      <th>a1</th>\n",
              "      <th>a2</th>\n",
              "      <th>a3</th>\n",
              "      <th>a4</th>\n",
              "      <th>a5</th>\n",
              "      <th>a6</th>\n",
              "      <th>a7</th>\n",
              "      <th>a8</th>\n",
              "      <th>a9</th>\n",
              "      <th>a10</th>\n",
              "      <th>a11</th>\n",
              "      <th>a12</th>\n",
              "      <th>a13</th>\n",
              "      <th>a14</th>\n",
              "      <th>a15</th>\n",
              "      <th>a16</th>\n",
              "      <th>a17</th>\n",
              "      <th>a18</th>\n",
              "      <th>a19</th>\n",
              "    </tr>\n",
              "  </thead>\n",
              "  <tbody>\n",
              "    <tr>\n",
              "      <th>0</th>\n",
              "      <td>-0.000177</td>\n",
              "      <td>-0.001001</td>\n",
              "      <td>0.000577</td>\n",
              "      <td>-0.006818</td>\n",
              "      <td>0.009628</td>\n",
              "      <td>-0.012993</td>\n",
              "      <td>0.002223</td>\n",
              "      <td>0.007161</td>\n",
              "      <td>0.022403</td>\n",
              "      <td>0.005653</td>\n",
              "      <td>0.002857</td>\n",
              "      <td>0.018774</td>\n",
              "      <td>0.004134</td>\n",
              "      <td>0.001549</td>\n",
              "      <td>0.000612</td>\n",
              "      <td>-0.010485</td>\n",
              "      <td>0.011355</td>\n",
              "      <td>0.014473</td>\n",
              "      <td>0.010364</td>\n",
              "      <td>0.004863</td>\n",
              "    </tr>\n",
              "    <tr>\n",
              "      <th>1</th>\n",
              "      <td>-0.000097</td>\n",
              "      <td>-0.024244</td>\n",
              "      <td>0.000827</td>\n",
              "      <td>0.026696</td>\n",
              "      <td>0.003123</td>\n",
              "      <td>-0.001496</td>\n",
              "      <td>0.002967</td>\n",
              "      <td>0.003909</td>\n",
              "      <td>-0.001205</td>\n",
              "      <td>-0.001537</td>\n",
              "      <td>-0.003566</td>\n",
              "      <td>0.005834</td>\n",
              "      <td>0.001650</td>\n",
              "      <td>0.005562</td>\n",
              "      <td>0.000537</td>\n",
              "      <td>0.010139</td>\n",
              "      <td>0.018199</td>\n",
              "      <td>-0.010465</td>\n",
              "      <td>0.009876</td>\n",
              "      <td>0.003027</td>\n",
              "    </tr>\n",
              "    <tr>\n",
              "      <th>2</th>\n",
              "      <td>-0.000144</td>\n",
              "      <td>0.001095</td>\n",
              "      <td>0.003265</td>\n",
              "      <td>-0.000743</td>\n",
              "      <td>0.004993</td>\n",
              "      <td>0.014393</td>\n",
              "      <td>-0.013073</td>\n",
              "      <td>0.001560</td>\n",
              "      <td>0.026210</td>\n",
              "      <td>0.006008</td>\n",
              "      <td>0.007162</td>\n",
              "      <td>-0.007914</td>\n",
              "      <td>0.010551</td>\n",
              "      <td>-0.000877</td>\n",
              "      <td>0.000458</td>\n",
              "      <td>-0.010143</td>\n",
              "      <td>0.001884</td>\n",
              "      <td>0.014021</td>\n",
              "      <td>0.005931</td>\n",
              "      <td>0.006605</td>\n",
              "    </tr>\n",
              "    <tr>\n",
              "      <th>3</th>\n",
              "      <td>-0.000116</td>\n",
              "      <td>0.012327</td>\n",
              "      <td>-0.000610</td>\n",
              "      <td>-0.004401</td>\n",
              "      <td>0.003989</td>\n",
              "      <td>-0.000194</td>\n",
              "      <td>-0.007356</td>\n",
              "      <td>-0.026583</td>\n",
              "      <td>-0.001906</td>\n",
              "      <td>-0.003272</td>\n",
              "      <td>-0.006137</td>\n",
              "      <td>0.006560</td>\n",
              "      <td>0.006710</td>\n",
              "      <td>0.005405</td>\n",
              "      <td>0.000590</td>\n",
              "      <td>0.013290</td>\n",
              "      <td>0.011429</td>\n",
              "      <td>-0.012228</td>\n",
              "      <td>0.011711</td>\n",
              "      <td>0.002984</td>\n",
              "    </tr>\n",
              "    <tr>\n",
              "      <th>4</th>\n",
              "      <td>-0.000094</td>\n",
              "      <td>-0.003293</td>\n",
              "      <td>0.001746</td>\n",
              "      <td>-0.005093</td>\n",
              "      <td>-0.007463</td>\n",
              "      <td>-0.000712</td>\n",
              "      <td>0.003237</td>\n",
              "      <td>0.003346</td>\n",
              "      <td>-0.015909</td>\n",
              "      <td>-0.029581</td>\n",
              "      <td>0.006478</td>\n",
              "      <td>-0.002687</td>\n",
              "      <td>0.012332</td>\n",
              "      <td>0.003026</td>\n",
              "      <td>0.000852</td>\n",
              "      <td>-0.011081</td>\n",
              "      <td>0.013289</td>\n",
              "      <td>0.002020</td>\n",
              "      <td>0.009015</td>\n",
              "      <td>0.003606</td>\n",
              "    </tr>\n",
              "  </tbody>\n",
              "</table>\n",
              "</div>"
            ],
            "text/plain": [
              "         a0        a1        a2  ...       a17       a18       a19\n",
              "0 -0.000177 -0.001001  0.000577  ...  0.014473  0.010364  0.004863\n",
              "1 -0.000097 -0.024244  0.000827  ... -0.010465  0.009876  0.003027\n",
              "2 -0.000144  0.001095  0.003265  ...  0.014021  0.005931  0.006605\n",
              "3 -0.000116  0.012327 -0.000610  ... -0.012228  0.011711  0.002984\n",
              "4 -0.000094 -0.003293  0.001746  ...  0.002020  0.009015  0.003606\n",
              "\n",
              "[5 rows x 20 columns]"
            ]
          },
          "metadata": {
            "tags": []
          },
          "execution_count": 160
        }
      ]
    },
    {
      "cell_type": "code",
      "metadata": {
        "colab": {
          "base_uri": "https://localhost:8080/"
        },
        "id": "zdnxBmZV77y9",
        "outputId": "758f7079-6bc6-4465-e2e2-1a62b1b18879"
      },
      "source": [
        "!pip install tensorflow_decision_forests"
      ],
      "execution_count": 135,
      "outputs": [
        {
          "output_type": "stream",
          "text": [
            "Requirement already satisfied: tensorflow_decision_forests in /usr/local/lib/python3.7/dist-packages (0.1.8)\n",
            "Requirement already satisfied: numpy in /usr/local/lib/python3.7/dist-packages (from tensorflow_decision_forests) (1.19.5)\n",
            "Requirement already satisfied: wheel in /usr/local/lib/python3.7/dist-packages (from tensorflow_decision_forests) (0.36.2)\n",
            "Requirement already satisfied: six in /usr/local/lib/python3.7/dist-packages (from tensorflow_decision_forests) (1.15.0)\n",
            "Requirement already satisfied: pandas in /usr/local/lib/python3.7/dist-packages (from tensorflow_decision_forests) (1.1.5)\n",
            "Requirement already satisfied: tensorflow~=2.5 in /usr/local/lib/python3.7/dist-packages (from tensorflow_decision_forests) (2.5.0)\n",
            "Requirement already satisfied: absl-py in /usr/local/lib/python3.7/dist-packages (from tensorflow_decision_forests) (0.12.0)\n",
            "Requirement already satisfied: keras-preprocessing~=1.1.2 in /usr/local/lib/python3.7/dist-packages (from tensorflow~=2.5->tensorflow_decision_forests) (1.1.2)\n",
            "Requirement already satisfied: keras-nightly~=2.5.0.dev in /usr/local/lib/python3.7/dist-packages (from tensorflow~=2.5->tensorflow_decision_forests) (2.5.0.dev2021032900)\n",
            "Requirement already satisfied: grpcio~=1.34.0 in /usr/local/lib/python3.7/dist-packages (from tensorflow~=2.5->tensorflow_decision_forests) (1.34.1)\n",
            "Requirement already satisfied: astunparse~=1.6.3 in /usr/local/lib/python3.7/dist-packages (from tensorflow~=2.5->tensorflow_decision_forests) (1.6.3)\n",
            "Requirement already satisfied: opt-einsum~=3.3.0 in /usr/local/lib/python3.7/dist-packages (from tensorflow~=2.5->tensorflow_decision_forests) (3.3.0)\n",
            "Requirement already satisfied: typing-extensions~=3.7.4 in /usr/local/lib/python3.7/dist-packages (from tensorflow~=2.5->tensorflow_decision_forests) (3.7.4.3)\n",
            "Requirement already satisfied: gast==0.4.0 in /usr/local/lib/python3.7/dist-packages (from tensorflow~=2.5->tensorflow_decision_forests) (0.4.0)\n",
            "Requirement already satisfied: wrapt~=1.12.1 in /usr/local/lib/python3.7/dist-packages (from tensorflow~=2.5->tensorflow_decision_forests) (1.12.1)\n",
            "Requirement already satisfied: flatbuffers~=1.12.0 in /usr/local/lib/python3.7/dist-packages (from tensorflow~=2.5->tensorflow_decision_forests) (1.12)\n",
            "Requirement already satisfied: h5py~=3.1.0 in /usr/local/lib/python3.7/dist-packages (from tensorflow~=2.5->tensorflow_decision_forests) (3.1.0)\n",
            "Requirement already satisfied: protobuf>=3.9.2 in /usr/local/lib/python3.7/dist-packages (from tensorflow~=2.5->tensorflow_decision_forests) (3.17.3)\n",
            "Requirement already satisfied: termcolor~=1.1.0 in /usr/local/lib/python3.7/dist-packages (from tensorflow~=2.5->tensorflow_decision_forests) (1.1.0)\n",
            "Requirement already satisfied: google-pasta~=0.2 in /usr/local/lib/python3.7/dist-packages (from tensorflow~=2.5->tensorflow_decision_forests) (0.2.0)\n",
            "Requirement already satisfied: tensorboard~=2.5 in /usr/local/lib/python3.7/dist-packages (from tensorflow~=2.5->tensorflow_decision_forests) (2.5.0)\n",
            "Requirement already satisfied: tensorflow-estimator<2.6.0,>=2.5.0rc0 in /usr/local/lib/python3.7/dist-packages (from tensorflow~=2.5->tensorflow_decision_forests) (2.5.0)\n",
            "Requirement already satisfied: cached-property in /usr/local/lib/python3.7/dist-packages (from h5py~=3.1.0->tensorflow~=2.5->tensorflow_decision_forests) (1.5.2)\n",
            "Requirement already satisfied: werkzeug>=0.11.15 in /usr/local/lib/python3.7/dist-packages (from tensorboard~=2.5->tensorflow~=2.5->tensorflow_decision_forests) (1.0.1)\n",
            "Requirement already satisfied: tensorboard-data-server<0.7.0,>=0.6.0 in /usr/local/lib/python3.7/dist-packages (from tensorboard~=2.5->tensorflow~=2.5->tensorflow_decision_forests) (0.6.1)\n",
            "Requirement already satisfied: setuptools>=41.0.0 in /usr/local/lib/python3.7/dist-packages (from tensorboard~=2.5->tensorflow~=2.5->tensorflow_decision_forests) (57.2.0)\n",
            "Requirement already satisfied: google-auth<2,>=1.6.3 in /usr/local/lib/python3.7/dist-packages (from tensorboard~=2.5->tensorflow~=2.5->tensorflow_decision_forests) (1.32.1)\n",
            "Requirement already satisfied: tensorboard-plugin-wit>=1.6.0 in /usr/local/lib/python3.7/dist-packages (from tensorboard~=2.5->tensorflow~=2.5->tensorflow_decision_forests) (1.8.0)\n",
            "Requirement already satisfied: google-auth-oauthlib<0.5,>=0.4.1 in /usr/local/lib/python3.7/dist-packages (from tensorboard~=2.5->tensorflow~=2.5->tensorflow_decision_forests) (0.4.4)\n",
            "Requirement already satisfied: markdown>=2.6.8 in /usr/local/lib/python3.7/dist-packages (from tensorboard~=2.5->tensorflow~=2.5->tensorflow_decision_forests) (3.3.4)\n",
            "Requirement already satisfied: requests<3,>=2.21.0 in /usr/local/lib/python3.7/dist-packages (from tensorboard~=2.5->tensorflow~=2.5->tensorflow_decision_forests) (2.23.0)\n",
            "Requirement already satisfied: cachetools<5.0,>=2.0.0 in /usr/local/lib/python3.7/dist-packages (from google-auth<2,>=1.6.3->tensorboard~=2.5->tensorflow~=2.5->tensorflow_decision_forests) (4.2.2)\n",
            "Requirement already satisfied: rsa<5,>=3.1.4 in /usr/local/lib/python3.7/dist-packages (from google-auth<2,>=1.6.3->tensorboard~=2.5->tensorflow~=2.5->tensorflow_decision_forests) (4.7.2)\n",
            "Requirement already satisfied: pyasn1-modules>=0.2.1 in /usr/local/lib/python3.7/dist-packages (from google-auth<2,>=1.6.3->tensorboard~=2.5->tensorflow~=2.5->tensorflow_decision_forests) (0.2.8)\n",
            "Requirement already satisfied: requests-oauthlib>=0.7.0 in /usr/local/lib/python3.7/dist-packages (from google-auth-oauthlib<0.5,>=0.4.1->tensorboard~=2.5->tensorflow~=2.5->tensorflow_decision_forests) (1.3.0)\n",
            "Requirement already satisfied: importlib-metadata in /usr/local/lib/python3.7/dist-packages (from markdown>=2.6.8->tensorboard~=2.5->tensorflow~=2.5->tensorflow_decision_forests) (4.6.1)\n",
            "Requirement already satisfied: pyasn1<0.5.0,>=0.4.6 in /usr/local/lib/python3.7/dist-packages (from pyasn1-modules>=0.2.1->google-auth<2,>=1.6.3->tensorboard~=2.5->tensorflow~=2.5->tensorflow_decision_forests) (0.4.8)\n",
            "Requirement already satisfied: idna<3,>=2.5 in /usr/local/lib/python3.7/dist-packages (from requests<3,>=2.21.0->tensorboard~=2.5->tensorflow~=2.5->tensorflow_decision_forests) (2.10)\n",
            "Requirement already satisfied: chardet<4,>=3.0.2 in /usr/local/lib/python3.7/dist-packages (from requests<3,>=2.21.0->tensorboard~=2.5->tensorflow~=2.5->tensorflow_decision_forests) (3.0.4)\n",
            "Requirement already satisfied: certifi>=2017.4.17 in /usr/local/lib/python3.7/dist-packages (from requests<3,>=2.21.0->tensorboard~=2.5->tensorflow~=2.5->tensorflow_decision_forests) (2021.5.30)\n",
            "Requirement already satisfied: urllib3!=1.25.0,!=1.25.1,<1.26,>=1.21.1 in /usr/local/lib/python3.7/dist-packages (from requests<3,>=2.21.0->tensorboard~=2.5->tensorflow~=2.5->tensorflow_decision_forests) (1.24.3)\n",
            "Requirement already satisfied: oauthlib>=3.0.0 in /usr/local/lib/python3.7/dist-packages (from requests-oauthlib>=0.7.0->google-auth-oauthlib<0.5,>=0.4.1->tensorboard~=2.5->tensorflow~=2.5->tensorflow_decision_forests) (3.1.1)\n",
            "Requirement already satisfied: zipp>=0.5 in /usr/local/lib/python3.7/dist-packages (from importlib-metadata->markdown>=2.6.8->tensorboard~=2.5->tensorflow~=2.5->tensorflow_decision_forests) (3.5.0)\n",
            "Requirement already satisfied: pytz>=2017.2 in /usr/local/lib/python3.7/dist-packages (from pandas->tensorflow_decision_forests) (2018.9)\n",
            "Requirement already satisfied: python-dateutil>=2.7.3 in /usr/local/lib/python3.7/dist-packages (from pandas->tensorflow_decision_forests) (2.8.1)\n"
          ],
          "name": "stdout"
        }
      ]
    },
    {
      "cell_type": "code",
      "metadata": {
        "colab": {
          "base_uri": "https://localhost:8080/"
        },
        "id": "cdsx6N2O791r",
        "outputId": "34dafae7-5e9a-42fd-f38b-8ed6f363a3e0"
      },
      "source": [
        "!pip install wurlitzer"
      ],
      "execution_count": 136,
      "outputs": [
        {
          "output_type": "stream",
          "text": [
            "Requirement already satisfied: wurlitzer in /usr/local/lib/python3.7/dist-packages (2.1.1)\n"
          ],
          "name": "stdout"
        }
      ]
    },
    {
      "cell_type": "code",
      "metadata": {
        "id": "Hks9GYwX8Anv"
      },
      "source": [
        "import tensorflow_decision_forests as tfdf\n",
        "\n",
        "import os\n",
        "import numpy as np\n",
        "import pandas as pd\n",
        "import tensorflow as tf\n",
        "import math\n",
        "\n",
        "try:\n",
        "  from wurlitzer import sys_pipes\n",
        "except:\n",
        "  from colabtools.googlelog import CaptureLog as sys_pipes\n",
        "\n",
        "from IPython.core.magic import register_line_magic\n",
        "from IPython.display import Javascript"
      ],
      "execution_count": 137,
      "outputs": []
    },
    {
      "cell_type": "code",
      "metadata": {
        "colab": {
          "base_uri": "https://localhost:8080/"
        },
        "id": "4r2Ey0088TkP",
        "outputId": "c980879c-870d-48ee-ed47-e41fd234612e"
      },
      "source": [
        "# Check the version of TensorFlow Decision Forests\n",
        "print(\"Found TensorFlow Decision Forests v\" + tfdf.__version__)\n"
      ],
      "execution_count": 138,
      "outputs": [
        {
          "output_type": "stream",
          "text": [
            "Found TensorFlow Decision Forests v0.1.8\n"
          ],
          "name": "stdout"
        }
      ]
    },
    {
      "cell_type": "code",
      "metadata": {
        "id": "71Znol7CLscj"
      },
      "source": [
        "def split_dataset(dataset, test_ratio=0.30):\n",
        "  \"\"\"Splits a panda dataframe in two.\"\"\"\n",
        "  test_indices = np.random.rand(len(dataset)) < test_ratio\n",
        "  return dataset[~test_indices], dataset[test_indices]"
      ],
      "execution_count": 139,
      "outputs": []
    },
    {
      "cell_type": "code",
      "metadata": {
        "colab": {
          "base_uri": "https://localhost:8080/"
        },
        "id": "3s_rESer9MtT",
        "outputId": "9a68addf-353a-4e28-a49d-89f94c0eb5c8"
      },
      "source": [
        "train_ds_pd, test_ds_pd = split_dataset(df)\n",
        "print(\"{} examples in training, {} examples for testing.\".format(\n",
        "    len(train_ds_pd), len(test_ds_pd)))\n"
      ],
      "execution_count": 140,
      "outputs": [
        {
          "output_type": "stream",
          "text": [
            "5435 examples in training, 2388 examples for testing.\n"
          ],
          "name": "stdout"
        }
      ]
    },
    {
      "cell_type": "markdown",
      "metadata": {
        "id": "9rXpRB01LBjs"
      },
      "source": [
        "alternatywna macierz bez min max scaller"
      ]
    },
    {
      "cell_type": "code",
      "metadata": {
        "colab": {
          "base_uri": "https://localhost:8080/"
        },
        "id": "fdpW8HNxK8G6",
        "outputId": "ac53ce91-0ff8-4b5a-d49d-e5f571660edc"
      },
      "source": [
        "train_ds_pd, test_ds_pd = split_dataset(pd_x_tr)\n",
        "print(\"{} examples in training, {} examples for testing.\".format(\n",
        "    len(train_ds_pd), len(test_ds_pd)))\n"
      ],
      "execution_count": 141,
      "outputs": [
        {
          "output_type": "stream",
          "text": [
            "5428 examples in training, 2395 examples for testing.\n"
          ],
          "name": "stdout"
        }
      ]
    },
    {
      "cell_type": "code",
      "metadata": {
        "id": "UH481NYO93aS"
      },
      "source": [
        "#train_ds = tfdf.keras.pd_dataframe_to_tf_dataset(train_ds_pd, label=label)\n",
        "Task = tf_core.Task\n",
        "train_ds=tfdf.keras.pd_dataframe_to_tf_dataset(\n",
        "    train_ds_pd,\n",
        "    label='cena/m',\n",
        "    task=Task.REGRESSION\n",
        ")\n",
        "\n",
        "test_ds = tfdf.keras.pd_dataframe_to_tf_dataset(\n",
        "    test_ds_pd,\n",
        "    label='cena/m',\n",
        "    task=Task.REGRESSION\n",
        ")"
      ],
      "execution_count": 142,
      "outputs": []
    },
    {
      "cell_type": "code",
      "metadata": {
        "colab": {
          "base_uri": "https://localhost:8080/"
        },
        "id": "BRJ0vI419dN2",
        "outputId": "7bb37595-071b-4a41-9e6b-5da708ee79ec"
      },
      "source": [
        "# A classical but slighly more complex model.\n",
        "model_tune = tfdf.keras.GradientBoostedTreesModel(\n",
        "    task=Task.REGRESSION,num_trees=2000, growing_strategy=\"BEST_FIRST_GLOBAL\", max_depth=2000)\n",
        "model_tune.compile(\n",
        "    metrics=['mse',\"mae\",'acc'])\n",
        "model_tune.fit(train_ds)"
      ],
      "execution_count": 143,
      "outputs": [
        {
          "output_type": "stream",
          "text": [
            "85/85 [==============================] - 0s 2ms/step\n"
          ],
          "name": "stdout"
        },
        {
          "output_type": "execute_result",
          "data": {
            "text/plain": [
              "<tensorflow.python.keras.callbacks.History at 0x7f2065509990>"
            ]
          },
          "metadata": {
            "tags": []
          },
          "execution_count": 143
        }
      ]
    },
    {
      "cell_type": "code",
      "metadata": {
        "colab": {
          "base_uri": "https://localhost:8080/"
        },
        "id": "Oz6V8srF2vJS",
        "outputId": "0dda3552-a451-4a37-8d6f-8afeb8f4fc95"
      },
      "source": [
        "evaluation = model_tune.evaluate(train_ds, return_dict=True)\n",
        "print()\n",
        "\n",
        "for name, value in evaluation.items():\n",
        "  print('alsolute ',f\"{name}: {value:.4f}\")\n",
        "  print('relative ',f\"{name}: {100*value/df['cena/m'].mean():.4f}\")"
      ],
      "execution_count": 144,
      "outputs": [
        {
          "output_type": "stream",
          "text": [
            "85/85 [==============================] - 1s 3ms/step - loss: 0.0000e+00 - mse: 10433617.0000 - mae: 2355.9512 - acc: 0.0000e+00\n",
            "\n",
            "alsolute  loss: 0.0000\n",
            "relative  loss: 0.0000\n",
            "alsolute  mse: 10433617.0000\n",
            "relative  mse: 3566152226.3783\n",
            "alsolute  mae: 2355.9512\n",
            "relative  mae: 805250.9994\n",
            "alsolute  acc: 0.0000\n",
            "relative  acc: 0.0000\n"
          ],
          "name": "stdout"
        }
      ]
    },
    {
      "cell_type": "code",
      "metadata": {
        "colab": {
          "base_uri": "https://localhost:8080/"
        },
        "id": "Y1C4rLy86jMB",
        "outputId": "34b5438f-d0fc-4579-edcf-1b373c5f84ef"
      },
      "source": [
        "evaluation = model_tune.evaluate(test_ds, return_dict=True)\n",
        "print()\n",
        "\n",
        "for name, value in evaluation.items():\n",
        "  print('alsolute ',f\"{name}: {value:.4f}\")\n",
        "  print('relative ',f\"{name}: {100*value/df['cena/m'].mean():.4f}\")"
      ],
      "execution_count": 145,
      "outputs": [
        {
          "output_type": "stream",
          "text": [
            "38/38 [==============================] - 0s 3ms/step - loss: 0.0000e+00 - mse: 11419883.0000 - mae: 2484.3499 - acc: 0.0000e+00\n",
            "\n",
            "alsolute  loss: 0.0000\n",
            "relative  loss: 0.0000\n",
            "alsolute  mse: 11419883.0000\n",
            "relative  mse: 3903252456.5000\n",
            "alsolute  mae: 2484.3499\n",
            "relative  mae: 849136.9543\n",
            "alsolute  acc: 0.0000\n",
            "relative  acc: 0.0000\n"
          ],
          "name": "stdout"
        }
      ]
    },
    {
      "cell_type": "code",
      "metadata": {
        "colab": {
          "base_uri": "https://localhost:8080/"
        },
        "id": "Ta-ZZoxUeP0l",
        "outputId": "4c891ea2-f245-4782-fa8c-d51c5542f0b7"
      },
      "source": [
        "from tensorflow import keras\n",
        "from tensorflow.keras import layers\n",
        "from tensorflow.keras.layers.experimental import preprocessing\n",
        "\n",
        "print(tf.__version__)\n"
      ],
      "execution_count": 146,
      "outputs": [
        {
          "output_type": "stream",
          "text": [
            "2.5.0\n"
          ],
          "name": "stdout"
        }
      ]
    },
    {
      "cell_type": "code",
      "metadata": {
        "id": "Jq4P9ABBmmgG"
      },
      "source": [
        "train_dataset = df.sample(frac=0.8, random_state=0)\n",
        "test_dataset = df.drop(train_dataset.index)"
      ],
      "execution_count": null,
      "outputs": []
    },
    {
      "cell_type": "code",
      "metadata": {
        "id": "745gBjicmnsn"
      },
      "source": [
        "train_features = train_dataset.copy()\n",
        "test_features = test_dataset.copy()\n",
        "\n",
        "train_labels = train_features.pop('cena/m')\n",
        "test_labels = test_features.pop('cena/m')"
      ],
      "execution_count": null,
      "outputs": []
    },
    {
      "cell_type": "code",
      "metadata": {
        "id": "DxYHUGz5mpo3"
      },
      "source": [
        "normalizer = preprocessing.Normalization(axis=-1)\n",
        "normalizer.adapt(np.array(train_features))"
      ],
      "execution_count": null,
      "outputs": []
    },
    {
      "cell_type": "code",
      "metadata": {
        "id": "LH7Cv67efCaM"
      },
      "source": [
        "def build_and_compile_model(norm):\n",
        "  model = keras.Sequential([\n",
        "      norm,\n",
        "      layers.Dense(32, activation='relu'),\n",
        "      layers.Dense(16, activation='relu'),\n",
        "      layers.Dense(1,activation='linear')\n",
        "  ])\n",
        "\n",
        "  model.compile(loss='mean_absolute_error',metrics=['mae','mse'],\n",
        "                optimizer=tf.keras.optimizers.Adam(0.001))\n",
        "  return model"
      ],
      "execution_count": 202,
      "outputs": []
    },
    {
      "cell_type": "code",
      "metadata": {
        "id": "aEVBPhgVfJXP"
      },
      "source": [
        "dnn_model = build_and_compile_model(normalizer)"
      ],
      "execution_count": 203,
      "outputs": []
    },
    {
      "cell_type": "code",
      "metadata": {
        "colab": {
          "base_uri": "https://localhost:8080/"
        },
        "id": "CdOigluUizCt",
        "outputId": "65d9d57a-a3a2-4059-e6ea-400d84b0c7a6"
      },
      "source": [
        "dnn_model.summary()"
      ],
      "execution_count": 204,
      "outputs": [
        {
          "output_type": "stream",
          "text": [
            "Model: \"sequential_10\"\n",
            "_________________________________________________________________\n",
            "Layer (type)                 Output Shape              Param #   \n",
            "=================================================================\n",
            "normalization_1 (Normalizati (None, 20)                41        \n",
            "_________________________________________________________________\n",
            "dense_30 (Dense)             (None, 32)                672       \n",
            "_________________________________________________________________\n",
            "dense_31 (Dense)             (None, 16)                528       \n",
            "_________________________________________________________________\n",
            "dense_32 (Dense)             (None, 1)                 17        \n",
            "=================================================================\n",
            "Total params: 1,258\n",
            "Trainable params: 1,217\n",
            "Non-trainable params: 41\n",
            "_________________________________________________________________\n"
          ],
          "name": "stdout"
        }
      ]
    },
    {
      "cell_type": "code",
      "metadata": {
        "id": "F2nRSjP8jCMe"
      },
      "source": [
        "history = dnn_model.fit(\n",
        "    train_features, train_labels,\n",
        "    validation_split = 0.2,\n",
        "    verbose=0, epochs=50)\n"
      ],
      "execution_count": 205,
      "outputs": []
    },
    {
      "cell_type": "code",
      "metadata": {
        "id": "kKTCnryBl3Dl"
      },
      "source": [
        "def plot_loss(history):\n",
        "  plt.plot(history.history['loss'], label='loss')\n",
        "  plt.plot(history.history['val_loss'], label='val_loss')\n",
        "  plt.plot(history.history['mae'], label='mae')\n",
        "  plt.plot(history.history['val_mae'], label='val_mae')\n",
        "  plt.plot(history.history['mse'], label='mse')\n",
        "  plt.plot(history.history['val_mse'], label='val_mse')\n",
        "  plt.ylim([0, 0.2])\n",
        "  plt.xlabel('Epoch')\n",
        "  plt.ylabel('Error [MPG]')\n",
        "  plt.legend()\n",
        "  plt.grid(True)\n"
      ],
      "execution_count": 206,
      "outputs": []
    },
    {
      "cell_type": "code",
      "metadata": {
        "colab": {
          "base_uri": "https://localhost:8080/",
          "height": 283
        },
        "id": "cR1j9JB4lxIv",
        "outputId": "d4783659-1960-482d-b481-89d1470d87ce"
      },
      "source": [
        "plot_loss(history)"
      ],
      "execution_count": 207,
      "outputs": [
        {
          "output_type": "display_data",
          "data": {
            "image/png": "[encoded data removed]",
            "text/plain": [
              "<Figure size 432x288 with 1 Axes>"
            ]
          },
          "metadata": {
            "tags": [],
            "needs_background": "light"
          }
        }
      ]
    },
    {
      "cell_type": "code",
      "metadata": {
        "id": "iHtnjxc1yGqN"
      },
      "source": [
        "rel=df['cena/m'].mean()"
      ],
      "execution_count": 214,
      "outputs": []
    },
    {
      "cell_type": "code",
      "metadata": {
        "colab": {
          "base_uri": "https://localhost:8080/"
        },
        "id": "HvV3c0XKyZYh",
        "outputId": "da00cb61-1690-4b1b-dc04-b657a0aad59b"
      },
      "source": [
        "np.array(history.history['mae'])/rel"
      ],
      "execution_count": 218,
      "outputs": [
        {
          "output_type": "execute_result",
          "data": {
            "text/plain": [
              "array([0.89642092, 0.48403536, 0.44706735, 0.4282523 , 0.41629189,\n",
              "       0.41065287, 0.40700795, 0.40354602, 0.4015818 , 0.398488  ,\n",
              "       0.39839378, 0.39558993, 0.39686146, 0.39226511, 0.39267841,\n",
              "       0.39270958, 0.39191523, 0.38895014, 0.38976456, 0.3874388 ,\n",
              "       0.38947924, 0.38556914, 0.38722219, 0.38518967, 0.38474986,\n",
              "       0.38499756, 0.38388993, 0.38461558, 0.38257218, 0.38292033,\n",
              "       0.3817774 , 0.38258774, 0.38111   , 0.38180725, 0.37957882,\n",
              "       0.38111781, 0.37979411, 0.37845899, 0.37866028, 0.37812264,\n",
              "       0.37700065, 0.37700434, 0.37784693, 0.37723539, 0.37693808,\n",
              "       0.37681827, 0.37540574, 0.37550605, 0.37451844, 0.37428568])"
            ]
          },
          "metadata": {
            "tags": []
          },
          "execution_count": 218
        }
      ]
    },
    {
      "cell_type": "code",
      "metadata": {
        "colab": {
          "base_uri": "https://localhost:8080/",
          "height": 282
        },
        "id": "yx_nvoItxyx7",
        "outputId": "31c3873d-0406-4f7b-dc14-fb25c2334a72"
      },
      "source": [
        "plt.plot(np.array(history.history['mae'])/rel, label='mae')\n",
        "plt.plot(np.array(history.history['val_mae'])/rel, label='val_mae')\n",
        "plt.legend()"
      ],
      "execution_count": 221,
      "outputs": [
        {
          "output_type": "execute_result",
          "data": {
            "text/plain": [
              "<matplotlib.legend.Legend at 0x7f1fe493c650>"
            ]
          },
          "metadata": {
            "tags": []
          },
          "execution_count": 221
        },
        {
          "output_type": "display_data",
          "data": {
            "image/png": "[encoded data removed]",
            "text/plain": [
              "<Figure size 432x288 with 1 Axes>"
            ]
          },
          "metadata": {
            "tags": [],
            "needs_background": "light"
          }
        }
      ]
    }
  ]
}