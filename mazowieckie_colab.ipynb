{
  "nbformat": 4,
  "nbformat_minor": 0,
  "metadata": {
    "colab": {
      "name": "mazowieckie_colab.ipynb",
      "provenance": [],
      "collapsed_sections": [],
      "authorship_tag": "ABX9TyOz1XpIZLUGuCupv/G2kLMO",
      "include_colab_link": true
    },
    "kernelspec": {
      "name": "python3",
      "display_name": "Python 3"
    },
    "language_info": {
      "name": "python"
    }
  },
  "cells": [
    {
      "cell_type": "markdown",
      "metadata": {
        "id": "view-in-github",
        "colab_type": "text"
      },
      "source": [
        "<a href=\"https://colab.research.google.com/github/KacperGrodecki/nieruchomosci-mazowieckie/blob/0.0.1/mazowieckie_colab.ipynb\" target=\"_parent\"><img src=\"https://colab.research.google.com/assets/colab-badge.svg\" alt=\"Open In Colab\"/></a>"
      ]
    },
    {
      "cell_type": "code",
      "metadata": {
        "id": "DoyxUX4T7Yoj",
        "colab": {
          "base_uri": "https://localhost:8080/"
        },
        "outputId": "49a43c32-3abb-4676-c870-ce4142f2e3f4"
      },
      "source": [
        "from sklearn.metrics import confusion_matrix\n",
        "from sklearn import svm\n",
        "import pandas as pd\n",
        "import numpy as np\n",
        "np.random.seed(7)\n",
        "from google.colab import drive\n",
        "import seaborn as sns\n",
        "drive.mount('/content/drive')\n",
        "import matplotlib.pyplot as plt\n",
        "import pandas as pd\n",
        "#from otoDomScraper import daneDomu\n",
        "#from random import randrange\n",
        "import numpy as np\n",
        "from sklearn.ensemble import RandomForestRegressor\n",
        "import matplotlib.pyplot as plt\n",
        "import seaborn as sns\n",
        "import re\n",
        "from sklearn.model_selection import GridSearchCV\n",
        "from sklearn.model_selection import train_test_split\n",
        "import statistics\n",
        "from sklearn.cluster import AffinityPropagation\n",
        "from sklearn.model_selection import cross_val_score, cross_val_predict\n",
        "from sklearn.decomposition import FastICA\n",
        "from sklearn import preprocessing\n",
        "from IPython.display import Javascript\n",
        "import requests\n",
        "from collections import OrderedDict"
      ],
      "execution_count": 1,
      "outputs": [
        {
          "output_type": "stream",
          "text": [
            "Drive already mounted at /content/drive; to attempt to forcibly remount, call drive.mount(\"/content/drive\", force_remount=True).\n"
          ],
          "name": "stdout"
        }
      ]
    },
    {
      "cell_type": "code",
      "metadata": {
        "id": "eaSkJkDn7htz"
      },
      "source": [
        "def toNum2(txt):\n",
        "    if type(txt) is int:\n",
        "        return txt\n",
        "    elif (type(txt) is str):\n",
        "        digs = re.findall(r'\\d+', txt)\n",
        "        if len(digs) == 1:\n",
        "            return int(digs[0])\n",
        "        elif len(digs) == 2:\n",
        "            return 1000 * int(digs[0]) + int(digs[1])\n",
        "        elif len(digs) == 3:\n",
        "            return 1000000 * int(digs[0]) + 1000 * int(digs[1]) + int(digs[0])\n",
        "\n",
        "    #   return int(digs)\n",
        "\n",
        "\n",
        "def toNum1(txt):\n",
        "    if type(txt) is str:\n",
        "        digs = re.findall(r'\\d+', txt)\n",
        "        if len(digs) == 1:\n",
        "            return int(digs[0])\n",
        "        elif len(digs) == 2 and (txt[1] != ' '):\n",
        "            return int(digs[0]) + 0.01 * int(digs[1])\n",
        "        elif len(digs) == 3:\n",
        "            return 1000 * int(digs[0]) + int(digs[1]) + 0.001 * int(digs[2])\n",
        "        elif (type(txt) is str) and (txt[1] == ' '):\n",
        "            digs = re.findall(r'\\d+', txt)\n",
        "            return 1000 * int(digs[0]) + int(digs[1])\n",
        "    else:\n",
        "        return txt\n",
        "\n",
        "\n",
        "def toNum3(txt):\n",
        "    if type(txt) == int:\n",
        "        return txt\n",
        "    return int(re.findall(r'\\d+', txt)[0])\n",
        "\n",
        "def pietra(txt):\n",
        "    if type(txt) is str:\n",
        "        if '0' in txt:\n",
        "            return 0\n",
        "        if '1' in txt:\n",
        "            return 1\n",
        "        elif '2' in txt:\n",
        "            return 2\n",
        "        elif '3' in txt:\n",
        "            return 3\n",
        "        elif 'parterowy' in txt:\n",
        "            return 0\n",
        "    else:\n",
        "        return txt\n",
        "\n",
        "def cities(x):\n",
        "    dist=x.split()[4]\n",
        "    #city=x.split()[5]\n",
        "    if dist=='warszawski':\n",
        "        return x.split()[6]\n",
        "    elif dist in ['Warszawa','Radom','Płock','Siedlce']:\n",
        "        return dist\n",
        "    else:\n",
        "        try:\n",
        "            return x.split()[5]\n",
        "        except:\n",
        "            return 'unknown'\n",
        "\n",
        "def region(x):\n",
        "    if x.split()[4]=='Warszawa':\n",
        "        try:\n",
        "            return x.split()[5]\n",
        "        except:\n",
        "            return ''\n",
        "    else:\n",
        "        return ''"
      ],
      "execution_count": 2,
      "outputs": []
    },
    {
      "cell_type": "code",
      "metadata": {
        "id": "tz6yc0BqdG-c"
      },
      "source": [
        "def get_voivodeships():\n",
        "    # problem - too many voivodeships, historical ones are mixed together\n",
        "    # solution - just cut the list after 16-th item\n",
        "    \n",
        "    # request voivodeships of poland(wd:Q36),\n",
        "    # cut after 16 voivodeships, the rest are historical ones\n",
        "    # https://query.wikidata.org/#%20%20%20%20SELECT%20%3Fvoivodeship%20%3FvoivodeshipLabel%20%3Flatitude%20%3Flongitude%20%3Fadmininistrative_teritorial_entity%0A%20%20%20%20WHERE%20%7B%0A%20%20%20%20%20%20%3Fvoivodeship%20wdt%3AP31%20wd%3AQ150093%3B%0A%20%20%20%20%20%20%20%20%20%20%20%20%20%20%20%20%20%20%20wdt%3AP131%20%3Fadmininistrative_teritorial_entity%3B%0A%20%20%20%20%20%20%20%20%20%20%20%20%20%20%20%20%20%20%20p%3AP625%2Fpsv%3AP625%20%5B%0A%20%20%20%20%20%20%20%20%20%20%20%20%20%20%20%20%20%20%20%20%20%20%20wikibase%3AgeoLatitude%20%3Flatitude%20%3B%0A%20%20%20%20%20%20%20%20%20%20%20%20%20%20%20%20%20%20%20%20%20%20%20wikibase%3AgeoLongitude%20%3Flongitude%20%3B%0A%20%20%20%20%20%20%20%20%20%20%20%20%20%20%20%20%20%20%20%5D.%20%20%20%20%20%20%20%20%20%20%20%20%20%20%20%0A%20%20%20%20%20%20FILTER%28%3Fadmininistrative_teritorial_entity%20%3D%20wd%3AQ36%29.%0A%20%20%20%20%20%20SERVICE%20wikibase%3Alabel%20%7B%20bd%3AserviceParam%20wikibase%3Alanguage%20%22pl%22.%20%7D%0A%20%20%20%20%7D%0A%20%20%20%20ORDER%20BY%20DESC%28%3Fvoivodeship%29%0A%20%20%20%20LIMIT%2016%0A\n",
        "    url = 'https://query.wikidata.org/sparql'\n",
        "    query = '''\n",
        "    SELECT ?voivodeship ?voivodeshipLabel ?latitude ?longitude ?admininistrative_teritorial_entity\n",
        "    WHERE {\n",
        "      ?voivodeship wdt:P31 wd:Q150093;\n",
        "                   wdt:P131 ?admininistrative_teritorial_entity;\n",
        "                   p:P625/psv:P625 [\n",
        "                       wikibase:geoLatitude ?latitude ;\n",
        "                       wikibase:geoLongitude ?longitude ;\n",
        "                   ].               \n",
        "      FILTER(?admininistrative_teritorial_entity = wd:Q36).\n",
        "      SERVICE wikibase:label { bd:serviceParam wikibase:language \"pl\". }\n",
        "    }\n",
        "    ORDER BY DESC(?voivodeship)\n",
        "    LIMIT 16\n",
        "    '''\n",
        "    r = requests.get(url, params = {'format': 'json', 'query': query})\n",
        "    data = r.json()\n",
        "\n",
        "    # convert json to dataframe\n",
        "    voivodeships = []\n",
        "    for item in data['results']['bindings']:\n",
        "        voivodeships.append(OrderedDict(\n",
        "        {\n",
        "            'voivodeship':      item['voivodeshipLabel']['value'].lower(),\n",
        "            'latitude':         float(item['latitude']['value']),        \n",
        "            'longitude':        float(item['longitude']['value']),                    \n",
        "            'wikidata_item_id': item['voivodeship']['value'].split('/')[-1]\n",
        "        }))\n",
        "    #     print(item,'\\n')    \n",
        "    return pd.DataFrame(voivodeships)\n"
      ],
      "execution_count": 3,
      "outputs": []
    },
    {
      "cell_type": "code",
      "metadata": {
        "id": "MnwWwv4vdeob"
      },
      "source": [
        "def get_warsaw_districts():\n",
        "    # problem  - some districts have two sets of coordinates which differ slighlty\n",
        "    # solution - drop the one with worse precision (larger value), this seems to be consistent with the wikipedia data\n",
        "    # to do    - the above is not true for ['Wola'], change it\n",
        "    \n",
        "    # https://query.wikidata.org/#SELECT%20%3Fdistrict_of_Warsaw%20%3Fdistrict_of_WarsawLabel%20%3Flat%20%3Flon%20%3FgeoPrecision%20%0AWHERE%20%7B%0A%20%20%3Fdistrict_of_Warsaw%20%20wdt%3AP31%20wd%3AQ4286337%3B%0A%20%20%20%20%20%20%20%20%20%20%20%20%20%20%20%20%20%20%20%20%20%20%20wdt%3AP17%20wd%3AQ36%3B%0A%20%20%20%20%20%20%20%20%20%20%20%20%20%20%20%20%20%20%20%20%20%20%20wdt%3AP131%20wd%3AQ270%3B%0A%20%20%20%20%20%20%20%20%20%20%20%20%20%20%20%20%20%20%20%20%20%20%20p%3AP625%2Fpsv%3AP625%20%5B%0A%20%20%20%20%20%20%20%20%20%20%20%20%20%20%20%20%20%20%20%20%20%20%20%20%20%20%20wikibase%3AgeoLatitude%20%3Flat%20%3B%0A%20%20%20%20%20%20%20%20%20%20%20%20%20%20%20%20%20%20%20%20%20%20%20%20%20%20%20wikibase%3AgeoLongitude%20%3Flon%20%3B%0A%20%20%20%20%20%20%20%20%20%20%20%20%20%20%20%20%20%20%20%20%20%20%20%20%20%20%20wikibase%3AgeoPrecision%20%20%3FgeoPrecision%3B%20%20%20%20%20%20%20%20%20%20%20%20%20%20%20%20%20%20%20%20%20%20%20%20%20%20%20%20%20%20%20%20%20%20%20%20%20%20%20%0A%20%20%20%20%20%20%20%20%20%20%20%20%20%20%20%20%20%20%20%20%20%20%20%5D%0A%20%20SERVICE%20wikibase%3Alabel%20%7B%20bd%3AserviceParam%20wikibase%3Alanguage%20%22pl%22.%20%7D%0A%7D\n",
        "    url = 'https://query.wikidata.org/sparql'\n",
        "    query = '''\n",
        "    SELECT ?warsaw_district ?warsaw_districtLabel ?latitude ?longitude ?geoPrecision \n",
        "    WHERE {\n",
        "      ?warsaw_district  wdt:P31 wd:Q4286337;\n",
        "                           wdt:P17 wd:Q36;\n",
        "                           wdt:P131 wd:Q270;\n",
        "                           p:P625/psv:P625 [\n",
        "                               wikibase:geoLatitude ?latitude ;\n",
        "                               wikibase:geoLongitude ?longitude ;\n",
        "                               wikibase:geoPrecision  ?geoPrecision;                                       \n",
        "                           ]\n",
        "      SERVICE wikibase:label { bd:serviceParam wikibase:language \"pl\". }\n",
        "    }\n",
        "    ORDER BY ASC(?warsaw_districtLabel)\n",
        "    '''\n",
        "    r = requests.get(url, params = {'format': 'json', 'query': query})\n",
        "#     print(r.json())\n",
        "    data = r.json()\n",
        "\n",
        "    # convert json to dataframe\n",
        "    warsaw_districts = []\n",
        "    for item in data['results']['bindings']:\n",
        "#         print(item,'\\n')    \n",
        "        warsaw_districts.append(OrderedDict(\n",
        "        {\n",
        "            'warsaw_district':  item['warsaw_districtLabel']['value'].lower(),\n",
        "            'latitude':         float(item['latitude']['value']),        \n",
        "            'longitude':        float(item['longitude']['value']),                    \n",
        "            'geoPrecision':     float(item['geoPrecision']['value']),                                \n",
        "            'wikidata_item_id': item['warsaw_district']['value'].split('/')[-1]\n",
        "        }))\n",
        "    \n",
        "    warsaw_districts = pd.DataFrame(warsaw_districts).sort_values(by=['warsaw_district'])\n",
        "    \n",
        "    # if duplicate warsaw districts exist, take the one with better precision (lower value), do the opposite in case of 'Wola' \n",
        "    for district in warsaw_districts['warsaw_district']:\n",
        "        if np.sum(warsaw_districts['warsaw_district'] == district) > 1: # duplicate district found\n",
        "            if district != 'wola':            \n",
        "                district_to_drop_idx = warsaw_districts.loc[warsaw_districts['warsaw_district'] == district, 'geoPrecision'].idxmax()\n",
        "            elif district == 'wola':\n",
        "                district_to_drop_idx = warsaw_districts.loc[warsaw_districts['warsaw_district'] == district, 'geoPrecision'].idxmin()\n",
        "#             print(district+':\\t', district_to_drop_idx, '\\n')\n",
        "            warsaw_districts = warsaw_districts.drop(district_to_drop_idx).reset_index(drop=True)  \n",
        "            \n",
        "    return warsaw_districts"
      ],
      "execution_count": 4,
      "outputs": []
    },
    {
      "cell_type": "code",
      "metadata": {
        "id": "I_FDozWjxKZF"
      },
      "source": [
        "def get_cities():\n",
        "    # Description:\n",
        "    #  - sparql query is constructed for different types of cities: city with powiat rights ('Q925381'), urban municipality of Poland (Q2616791), and the second for \"regular\" city ('Q515')\n",
        "    # Problems:\n",
        "    #   1) some cities have more than one set of coordinates\n",
        "    #   2) filter within masovian voivodeship\n",
        "    # Solutions:\n",
        "    #   1) retain only the one with best precision (lowest value)\n",
        "    #   2) we can use .contains method from geopandas package, check the crs of Point from wikidata (https://www.kaggle.com/alexisbcook/proximity-analysis)\n",
        "    # To do:\n",
        "    #   1) check this approach\n",
        "      \n",
        "    # Get both types of cities: cities with powiat rights (Q925381), urban municipality of Poland (Q2616791), and the the \"regular\" cities (Q515)\n",
        "    # https://docs.python.org/3/reference/lexical_analysis.html#f-strings\n",
        "    # https://query.wikidata.org/#SELECT%20%3Fcity%20%3FcityLabel%20%3Flatitude%20%3Flongitude%20%3FgeoPrecision%20%3Fcoord%0AWHERE%20%7B%0A%20%20%3Fcity%20%20wdt%3AP31%20wd%3AQ925381%3B%0A%20%20%20%20%20%20%20%20%20wdt%3AP17%20wd%3AQ36%3B%0A%20%20%20%20%20%20%20%20%20%23wdt%3AP131%20wd%3AQ54169%3B%0A%20%20%20%20%20%20%20%20%20p%3AP625%20%5B%0A%20%20%20%20%20%20%20%20%20%20%20%20%20%20%20%20%20psv%3AP625%20%5B%0A%20%20%20%20%20%20%20%20%20%20%20%20%20%20%20%20%20%20%20%20%20%20%20%20%20%20%20wikibase%3AgeoLatitude%20%3Flatitude%20%3B%0A%20%20%20%20%20%20%20%20%20%20%20%20%20%20%20%20%20%20%20%20%20%20%20%20%20%20%20wikibase%3AgeoLongitude%20%3Flongitude%20%3B%0A%20%20%20%20%20%20%20%20%20%20%20%20%20%20%20%20%20%20%20%20%20%20%20%20%20%20%20wikibase%3AgeoPrecision%20%20%3FgeoPrecision%3B%20%20%20%20%20%20%0A%20%20%20%20%20%20%20%20%20%20%20%20%20%20%20%20%20%20%20%20%20%20%20%20%20%20%5D%3B%0A%20%20%20%20%20%20%20%20%20ps%3AP625%20%3Fcoord%20%0A%20%20%20%20%20%20%20%20%20%5D%0A%20%20SERVICE%20wikibase%3Alabel%20%7B%20bd%3AserviceParam%20wikibase%3Alanguage%20%22pl%22.%20%7D%0A%7D\n",
        "    # https://query.wikidata.org/#SELECT%20%3Fcity%20%3FcityLabel%20%3Flatitude%20%3Flongitude%20%3FgeoPrecision%20%3Fcoord%0AWHERE%20%7B%0A%20%20%3Fcity%20%20wdt%3AP31%20wd%3AQ515%3B%0A%20%20%20%20%20%20%20%20%20wdt%3AP17%20wd%3AQ36%3B%0A%20%20%20%20%20%20%20%20%20%23wdt%3AP131%20wd%3AQ54169%3B%0A%20%20%20%20%20%20%20%20%20p%3AP625%20%5B%0A%20%20%20%20%20%20%20%20%20%20%20%20%20%20%20%20%20psv%3AP625%20%5B%0A%20%20%20%20%20%20%20%20%20%20%20%20%20%20%20%20%20%20%20%20%20%20%20%20%20%20%20wikibase%3AgeoLatitude%20%3Flatitude%20%3B%0A%20%20%20%20%20%20%20%20%20%20%20%20%20%20%20%20%20%20%20%20%20%20%20%20%20%20%20wikibase%3AgeoLongitude%20%3Flongitude%20%3B%0A%20%20%20%20%20%20%20%20%20%20%20%20%20%20%20%20%20%20%20%20%20%20%20%20%20%20%20wikibase%3AgeoPrecision%20%20%3FgeoPrecision%3B%20%20%20%20%20%20%0A%20%20%20%20%20%20%20%20%20%20%20%20%20%20%20%20%20%20%20%20%20%20%20%20%20%20%5D%3B%0A%20%20%20%20%20%20%20%20%20ps%3AP625%20%3Fcoord%20%0A%20%20%20%20%20%20%20%20%20%5D%0A%20%20SERVICE%20wikibase%3Alabel%20%7B%20bd%3AserviceParam%20wikibase%3Alanguage%20%22pl%22.%20%7D%0A%7D\n",
        "    cities_all = pd.DataFrame()\n",
        "    url = 'https://query.wikidata.org/sparql'\n",
        "    data = pd.DataFrame()\n",
        "    types_of_city = {'city with powiat rights': 'Q925381', 'urban municipality of Poland ': 'Q2616791', 'city': 'Q515'}\n",
        "    for type_of_city, type_of_city_sparql in types_of_city.items():\n",
        "#         print('\\n\\nCities of type \\'' + type_of_city + '\\' (' + str(type_of_city_sparql) + '):')\n",
        "        query = f''' \n",
        "            SELECT ?city ?cityLabel ?latitude ?longitude ?geoPrecision ?coord\n",
        "            WHERE {{\n",
        "              ?city  wdt:P31 wd:{type_of_city_sparql};\n",
        "                     wdt:P17 wd:Q36;\n",
        "                     #wdt:P131 wd:Q54169;\n",
        "                     p:P625 [\n",
        "                             psv:P625 [\n",
        "                                       wikibase:geoLatitude ?latitude ;\n",
        "                                       wikibase:geoLongitude ?longitude ;\n",
        "                                       wikibase:geoPrecision  ?geoPrecision;      \n",
        "                                      ];\n",
        "                     ps:P625 ?coord \n",
        "                     ]\n",
        "              SERVICE wikibase:label {{ bd:serviceParam wikibase:language \"pl\". }}\n",
        "            }}\n",
        "            '''\n",
        "        r = requests.get(url, params = {'format': 'json', 'query': query})\n",
        "        data = r.json()\n",
        "\n",
        "        \n",
        "        # Convert json to dataframe\n",
        "        cities = []\n",
        "        for item in data['results']['bindings']:\n",
        "#             print(item,'\\n')    \n",
        "            cities.append(OrderedDict(\n",
        "            {\n",
        "                'city':             item['cityLabel']['value'].lower(),\n",
        "                'latitude':         float(item['latitude']['value']),        \n",
        "                'longitude':        float(item['longitude']['value']),                    \n",
        "                'geoPrecision':     float(item['geoPrecision']['value']),                                \n",
        "                'wikidata_item_id': item['city']['value'].split('/')[-1]\n",
        "            }))\n",
        "        cities = pd.DataFrame(cities).sort_values(by=['city']).reset_index(drop=True)\n",
        "#         print('Number of cities of type', type_of_city+':', len(cities))\n",
        "\n",
        "        \n",
        "        # Find those city names that have multiple instaces:\n",
        "        #   - those with the same wikidata_item_id are the same city with multiple coordinate sets - retain only the set with best (lowest) geoPrecision,\n",
        "        #   - those with different wikidata_item_id are different cities and should not be considered with the following procedure.\n",
        "        # https://stackoverflow.com/questions/55360314/pandas-groupby-take-counts-greater-than-1\n",
        "        cities_with_the_same_name_and_wikidataItemId = cities.loc[cities.groupby(['city', 'wikidata_item_id'])['geoPrecision'].transform('count') > 1].reset_index(drop=True) # cities.loc[cities.duplicated(subset=['city', 'wikidata_item_id'], keep=False)].reset_index(drop=True)\n",
        "#         print('Cities with the same name and the same wikidata_item_id:', len(cities_with_the_same_name_and_wikidataItemId))\n",
        "        \n",
        "    \n",
        "        # If multiple instances of any city exist, retain only the one with the best precision (lowest value) \n",
        "#         print('Cities with multiple instances:', len(cities_with_the_same_name_and_wikidataItemId), '\\n')\n",
        "        for city in cities_with_the_same_name_and_wikidataItemId['city'].unique():\n",
        "#             print(city)\n",
        "            city_to_retain_idx = cities_with_the_same_name_and_wikidataItemId.loc[cities_with_the_same_name_and_wikidataItemId['city'] == city, 'geoPrecision'].idxmin()        \n",
        "            cities_to_drop = cities_with_the_same_name_and_wikidataItemId.loc[(cities_with_the_same_name_and_wikidataItemId['city'] == city) & (cities_with_the_same_name_and_wikidataItemId.index != city_to_retain_idx)].index\n",
        "#             print('city:', city, '\\nindex and geoPrecision of instance to retain:', city_to_retain_idx, cities_with_the_same_name_and_wikidataItemId.loc[city_to_retain_idx, 'geoPrecision'], '\\nindices and geoPrecisions of instances to drop:\\n', tabulate(cities_with_the_same_name_and_wikidataItemId.loc[cities_to_drop, ['geoPrecision']], tablefmt='psql'))\n",
        "            cities = cities.drop(cities_to_drop).reset_index(drop=True)\n",
        "#         print('Number of cities with multiple instances of given cities after cleaning:', len(cities_with_the_same_name_and_wikidataItemId))\n",
        "\n",
        "\n",
        "        # Append to cities_all\n",
        "        cities_all = pd.concat([cities_all, cities], axis = 0).sort_values(by=['city']).reset_index(drop=True)\n",
        "#         print('Number of cities of type', type_of_city, 'after cleaning duplicate coordinates:', len(cities))\n",
        "\n",
        "    \n",
        "#     print('Number of all cities:', len(cities_all), '\\n', '#'*72)\n",
        "    return cities_all"
      ],
      "execution_count": 5,
      "outputs": []
    },
    {
      "cell_type": "code",
      "metadata": {
        "id": "0iS1TurYI9hM"
      },
      "source": [
        "def get_counties():\n",
        "    # Description:\n",
        "    #  - sparql query is constructed for counties ('Q247073'),\n",
        "      \n",
        "    # Get both types of cities: cities with powiat rights (Q925381), urban municipality of Poland (Q2616791), and the the \"regular\" cities (Q515)\n",
        "    # https://docs.python.org/3/reference/lexical_analysis.html#f-strings\n",
        "    # https://query.wikidata.org/#SELECT%20%3Fcity%20%3FcityLabel%20%3Flatitude%20%3Flongitude%20%3FgeoPrecision%20%3Fcoord%0AWHERE%20%7B%0A%20%20%3Fcity%20%20wdt%3AP31%20wd%3AQ247073%3B%0A%20%20%20%20%20%20%20%20%20wdt%3AP17%20wd%3AQ36%3B%0A%20%20%20%20%20%20%20%20%20wdt%3AP131%20wd%3AQ54169%3B%0A%20%20%20%20%20%20%20%20%20p%3AP625%20%5B%0A%20%20%20%20%20%20%20%20%20%20%20%20%20%20%20%20%20psv%3AP625%20%5B%0A%20%20%20%20%20%20%20%20%20%20%20%20%20%20%20%20%20%20%20%20%20%20%20%20%20%20%20wikibase%3AgeoLatitude%20%3Flatitude%20%3B%0A%20%20%20%20%20%20%20%20%20%20%20%20%20%20%20%20%20%20%20%20%20%20%20%20%20%20%20wikibase%3AgeoLongitude%20%3Flongitude%20%3B%0A%20%20%20%20%20%20%20%20%20%20%20%20%20%20%20%20%20%20%20%20%20%20%20%20%20%20%20wikibase%3AgeoPrecision%20%20%3FgeoPrecision%3B%20%20%20%20%20%20%0A%20%20%20%20%20%20%20%20%20%20%20%20%20%20%20%20%20%20%20%20%20%20%20%20%20%20%5D%3B%0A%20%20%20%20%20%20%20%20%20ps%3AP625%20%3Fcoord%20%0A%20%20%20%20%20%20%20%20%20%5D%0A%20%20SERVICE%20wikibase%3Alabel%20%7B%20bd%3AserviceParam%20wikibase%3Alanguage%20%22pl%22.%20%7D%0A%7D\n",
        "    cities_all = pd.DataFrame()\n",
        "    url = 'https://query.wikidata.org/sparql'\n",
        "    query = '''\n",
        "    SELECT ?county ?countyLabel ?latitude ?longitude ?geoPrecision ?coord\n",
        "    WHERE {\n",
        "      ?county  wdt:P31 wd:Q247073;\n",
        "            wdt:P17 wd:Q36;\n",
        "            wdt:P131 wd:Q54169;\n",
        "            p:P625 [\n",
        "                    psv:P625 [\n",
        "                              wikibase:geoLatitude ?latitude ;\n",
        "                              wikibase:geoLongitude ?longitude ;\n",
        "                              wikibase:geoPrecision  ?geoPrecision;      \n",
        "                              ];\n",
        "            ps:P625 ?coord \n",
        "            ]\n",
        "      SERVICE wikibase:label { bd:serviceParam wikibase:language \"pl\". }\n",
        "    }\n",
        "    '''\n",
        "    r = requests.get(url, params = {'format': 'json', 'query': query})\n",
        "#     print(r.json())\n",
        "    data = r.json()\n",
        "\n",
        "    # convert json to dataframe\n",
        "    counties = []\n",
        "    for item in data['results']['bindings']:\n",
        "#         print(item,'\\n')    \n",
        "        counties.append(OrderedDict(\n",
        "        {\n",
        "            'county':           item['countyLabel']['value'].lower(),\n",
        "            'latitude':         float(item['latitude']['value']),        \n",
        "            'longitude':        float(item['longitude']['value']),                    \n",
        "            'geoPrecision':     float(item['geoPrecision']['value']),                                \n",
        "            'wikidata_item_id': item['county']['value'].split('/')[-1]\n",
        "        }))\n",
        "    \n",
        "    counties = pd.DataFrame(counties).sort_values(by=['county'])\n",
        "      \n",
        "    return counties"
      ],
      "execution_count": 6,
      "outputs": []
    },
    {
      "cell_type": "code",
      "metadata": {
        "id": "KqZDj2pQ8JS6"
      },
      "source": [
        "dfCities=get_cities()\n",
        "dfCounties=get_counties()\n",
        "dfVoivodeships=get_voivodeships()\n",
        "dfWarsawDistricts=get_warsaw_districts()"
      ],
      "execution_count": 7,
      "outputs": []
    },
    {
      "cell_type": "code",
      "metadata": {
        "id": "JIAiPJZpdldk"
      },
      "source": [
        "def return_coordinates(place,type):\n",
        "    '''\n",
        "    Returns coordinates of the place.\n",
        "        The place must be the name (in polish) of voivodeship in Poland, city, or the district of Warsaw.\n",
        "    '''\n",
        "    \n",
        "    coordinates = [None, None]\n",
        "    place = place.lower()\n",
        "    if type=='V':\n",
        "      print('voivodeships',place)\n",
        "\n",
        "      try:\n",
        "          voivodeships = get_voivodeships()\n",
        "          coordinates_df = voivodeships.loc[voivodeships['voivodeship'].str.contains(place) == True, ['latitude', 'longitude']]\n",
        "          coordinates = coordinates_df.values.tolist()[0]       \n",
        "      except Exception as e:\n",
        "        print(e)\n",
        "    elif type=='D':\n",
        "      print('warsaw districts',place)\n",
        "      try:\n",
        "          counties = get_counties()\n",
        "          coordinates_df = counties.loc[counties['warsaw_district'].str.contains(place) == True, ['latitude', 'longitude']]\n",
        "          coordinates = coordinates_df.values.tolist()[0]\n",
        "      except Exception as e:\n",
        "          print(e)\n",
        "    elif type=='C':   \n",
        "      print('cities',place)\n",
        "      try:\n",
        "          cities = get_cities()\n",
        "          coordinates_df = cities.loc[cities['city'].str.contains(place) == True, ['latitude', 'longitude']]\n",
        "          coordinates = coordinates_df.values.tolist()[0]\n",
        "      except Exception as e:\n",
        "          print(e)   \n",
        "    print(coordinates)\n",
        "    return coordinates"
      ],
      "execution_count": 8,
      "outputs": []
    },
    {
      "cell_type": "code",
      "metadata": {
        "id": "lyCylFst7j1X"
      },
      "source": [
        "def makeDataFrame(file):\n",
        "    dfMazowieckie=pd.read_csv(file,index_col=0)\n",
        "    concat=dfMazowieckie\n",
        "    concat['powierzchnia_corr'] = concat['powierzchnia'].apply(lambda x: toNum1(x))\n",
        "    concat['powierzchniaDzialki_corr'] = concat['powierzchniaDzialki'].apply(lambda x: toNum2(x))\n",
        "    concat['cena_corr'] = concat['cena'].apply(lambda x: toNum2(x))\n",
        "    concat['rokBudowy_corr'] = concat['rokBudowy'].apply(lambda x: toNum3(x))\n",
        "    concat['cena/m'] = concat['cena_corr'] / concat['powierzchnia_corr']\n",
        "    concat['lPieter_crr'] = concat['lPieter'].apply(lambda x: pietra(x))\n",
        "    concat = concat[concat['powierzchnia_corr'] > 0]\n",
        "    concat = concat[concat['cena_corr'] > 0]\n",
        "    concat['lPokoi'] = concat['lPokoi'].apply(lambda x: toNum3(x))\n",
        "    concat['districts']=concat['dzielnica'].apply(lambda x: x.split()[4])\n",
        "    cities_corr=concat['dzielnica'].apply(lambda x: cities(x))\n",
        "    concat['cities_corr']=cities_corr\n",
        "    region_corr=concat['dzielnica'].apply(lambda x: region(x))\n",
        "    concat['region_corr']=region_corr\n",
        "    concat_dropped = concat.drop(['dzielnica', 'powierzchnia', 'powierzchniaDzialki', 'lPieter', 'cena', 'cena_corr',], axis=1)\n",
        "    concat_dropped['rokBudowy'] = concat_dropped['rokBudowy'].replace(to_replace=0, value=1990)\n",
        "    concat_dropped['rokBudowy'] = concat_dropped['rokBudowy'].astype('int')\n",
        "    concat_dropped = concat_dropped.fillna(0)\n",
        "    concat_dropped = concat_dropped[concat_dropped['cena/m'] < 20000]\n",
        "    concat_dropped['cena/m'].hist(bins=200)\n",
        "    concat_dropped_dumm = pd.get_dummies(concat_dropped, columns=['rodzajZabudowy', 'materialBudynku', 'stanWykonczenia', 'okna', 'rynek',\n",
        "                                           'cities_corr','districts','region_corr'])\n",
        "    return concat_dropped_dumm,concat_dropped"
      ],
      "execution_count": 9,
      "outputs": []
    },
    {
      "cell_type": "code",
      "metadata": {
        "id": "lAA1mSAY9P8O"
      },
      "source": [
        "def funCities(x):\n",
        "  rows=dfCities.loc[dfCities['city']==x.lower()]\n",
        "  precision=0\n",
        "  if rows.shape[0]==0:\n",
        "    return 0,0,100\n",
        "  elif rows.shape[0]==1:\n",
        "    longitude=rows.longitude.values\n",
        "    latitude=rows.latitude.values\n",
        "    precision=rows.geoPrecision.values\n",
        "    return longitude[0],latitude[0],precision[0]\n",
        "  elif rows.shape[0]>1:\n",
        "    prec1,prec2=rows.iloc[0,3],rows.iloc[1,3]\n",
        "    if prec1<prec2:\n",
        "      precision=prec1\n",
        "      longitude=rows.iloc[0,2]\n",
        "      latitude=rows.iloc[0,1]\n",
        "    else:\n",
        "      precision=prec2\n",
        "      longitude=rows.iloc[1,2]\n",
        "      latitude=rows.iloc[1,1]\n",
        "    return longitude,latitude,precision"
      ],
      "execution_count": 10,
      "outputs": []
    },
    {
      "cell_type": "code",
      "metadata": {
        "id": "quM6ZeSO9UdN"
      },
      "source": [
        "def funDistricts(x):\n",
        "  rows=dfWarsawDistricts.loc[dfWarsawDistricts['warsaw_district']==x.lower()]\n",
        "  #print(x, ' ',rows.shape[0])\n",
        "  if rows.shape[0]==0:\n",
        "    return 0,0,100\n",
        "  elif rows.shape[0]==1:\n",
        "    longitude=rows.longitude.values\n",
        "    latitude=rows.latitude.values\n",
        "    precision=rows.geoPrecision.values\n",
        "    return longitude[0],latitude[0],precision[0]"
      ],
      "execution_count": 11,
      "outputs": []
    },
    {
      "cell_type": "code",
      "metadata": {
        "id": "domiHiOr9R4d"
      },
      "source": [
        "def funCounties(x):\n",
        "  try:\n",
        "    rows=dfCounties.loc['powiat '+x.lower()== dfCounties['county']]\n",
        "  except Exception as e:\n",
        "    return e\n",
        "  #print(x, ' ',rows.shape[0])\n",
        "  if rows.shape[0]==0:\n",
        "    return 0,0,100\n",
        "  elif rows.shape[0]==1:\n",
        "    longitude=rows.longitude.values\n",
        "    latitude=rows.latitude.values\n",
        "    precision=rows.geoPrecision.values\n",
        "    return longitude[0],latitude[0],precision[0]"
      ],
      "execution_count": 12,
      "outputs": []
    },
    {
      "cell_type": "code",
      "metadata": {
        "id": "AW1CIMKJfS3d"
      },
      "source": [
        "def selectLocationX(x):\n",
        " # print(x[17],x[20],x[23])\n",
        "  if x[2]<min(x[5],x[8]):\n",
        "    #print('min 17',x[15],x[16])\n",
        "    return x[0]\n",
        "  elif x[5]<min(x[2],x[8]):\n",
        "    #print('min 20 ',x[18],x[19])\n",
        "    return x[3]\n",
        "  elif x[8]<min(x[2],x[5]):\n",
        "    #print('min 23 ',x[21],x[22])\n",
        "    return x[6]\n",
        "\n",
        "def selectLocationY(x):\n",
        " # print(x[17],x[20],x[23])\n",
        "  if x[2]<min(x[5],x[8]):\n",
        "    #print('min 17',x[15],x[16])\n",
        "    return x[1]\n",
        "  elif x[5]<min(x[2],x[8]):\n",
        "    #print('min 20 ',x[18],x[19])\n",
        "    return x[4]\n",
        "  elif x[8]<min(x[2],x[5]):\n",
        "    #print('min 23 ',x[21],x[22])\n",
        "    return x[7]"
      ],
      "execution_count": 13,
      "outputs": []
    },
    {
      "cell_type": "code",
      "metadata": {
        "id": "qmOjGx4Z7lbR"
      },
      "source": [
        "filename='/content/drive/My Drive/domy mazowieckie/dfMazowieckie.csv'"
      ],
      "execution_count": 14,
      "outputs": []
    },
    {
      "cell_type": "code",
      "metadata": {
        "colab": {
          "base_uri": "https://localhost:8080/",
          "height": 265
        },
        "id": "hl-GYCGD7mwf",
        "outputId": "0858e252-45ef-463a-b16c-3c4fadb75bee"
      },
      "source": [
        "concat_dropped_dumm,concat_dropped=makeDataFrame(filename)"
      ],
      "execution_count": 15,
      "outputs": [
        {
          "output_type": "display_data",
          "data": {
            "image/png": "[encoded data removed]",
            "text/plain": [
              "<Figure size 432x288 with 1 Axes>"
            ]
          },
          "metadata": {
            "tags": [],
            "needs_background": "light"
          }
        }
      ]
    },
    {
      "cell_type": "code",
      "metadata": {
        "id": "jMZjk9pN9LDs"
      },
      "source": [
        "cityData=concat_dropped.cities_corr.apply(lambda x: funCities(x))"
      ],
      "execution_count": 16,
      "outputs": []
    },
    {
      "cell_type": "code",
      "metadata": {
        "id": "ekjsR841YLxw"
      },
      "source": [
        "locationCities=[]\n",
        "for data in cityData:\n",
        "  locationCities.append(data)\n",
        "locationCities=pd.DataFrame(np.array(locationCities),columns=['cityX','cityY','cityGeo'])"
      ],
      "execution_count": 17,
      "outputs": []
    },
    {
      "cell_type": "code",
      "metadata": {
        "id": "VC17dlYC0uBq"
      },
      "source": [
        "districtsData=concat_dropped.region_corr.apply(lambda x: funDistricts(x))"
      ],
      "execution_count": 18,
      "outputs": []
    },
    {
      "cell_type": "code",
      "metadata": {
        "id": "wUcjJeWX8eSY"
      },
      "source": [
        "locationDistricts=[]\n",
        "for data in districtsData:\n",
        "  locationDistricts.append(data)\n",
        "locationDistricts=pd.DataFrame(np.array(locationDistricts),columns=['distX','distY','distGeo'])"
      ],
      "execution_count": 19,
      "outputs": []
    },
    {
      "cell_type": "code",
      "metadata": {
        "id": "S1iFt0wMMo6y"
      },
      "source": [
        "countyData=concat_dropped.districts.apply(lambda x: funCounties(x))"
      ],
      "execution_count": 20,
      "outputs": []
    },
    {
      "cell_type": "code",
      "metadata": {
        "id": "a87ctAciMk9u"
      },
      "source": [
        "locationCounty=[]\n",
        "for data in countyData:\n",
        "  locationCounty.append(data)\n",
        "locationCounty=pd.DataFrame(np.array(locationCounty),columns=['countyX','countyY','countyGeo'])"
      ],
      "execution_count": 21,
      "outputs": []
    },
    {
      "cell_type": "code",
      "metadata": {
        "id": "qQcxeC8QbH6V"
      },
      "source": [
        "concat_dropped_reset=concat_dropped.reset_index().drop(['index'],axis=1)"
      ],
      "execution_count": 22,
      "outputs": []
    },
    {
      "cell_type": "code",
      "metadata": {
        "id": "zPIK4UII-qBk"
      },
      "source": [
        "locations= pd.concat([locationCities,locationDistricts,locationCounty], axis=1)"
      ],
      "execution_count": 23,
      "outputs": []
    },
    {
      "cell_type": "code",
      "metadata": {
        "id": "WyxiHlcoBw3U"
      },
      "source": [
        "concat_dropped_reset['locationX']=locations.apply(selectLocationX,axis=1)\n",
        "concat_dropped_reset['locationY']=locations.apply(selectLocationY,axis=1)"
      ],
      "execution_count": 24,
      "outputs": []
    },
    {
      "cell_type": "code",
      "metadata": {
        "colab": {
          "base_uri": "https://localhost:8080/",
          "height": 244
        },
        "id": "jNpvfov_dwcc",
        "outputId": "a7236e68-6a25-4f80-db5e-a85fcdca1f63"
      },
      "source": [
        "concat_dropped_reset.head()"
      ],
      "execution_count": 25,
      "outputs": [
        {
          "output_type": "execute_result",
          "data": {
            "text/html": [
              "<div>\n",
              "<style scoped>\n",
              "    .dataframe tbody tr th:only-of-type {\n",
              "        vertical-align: middle;\n",
              "    }\n",
              "\n",
              "    .dataframe tbody tr th {\n",
              "        vertical-align: top;\n",
              "    }\n",
              "\n",
              "    .dataframe thead th {\n",
              "        text-align: right;\n",
              "    }\n",
              "</style>\n",
              "<table border=\"1\" class=\"dataframe\">\n",
              "  <thead>\n",
              "    <tr style=\"text-align: right;\">\n",
              "      <th></th>\n",
              "      <th>lPokoi</th>\n",
              "      <th>rodzajZabudowy</th>\n",
              "      <th>materialBudynku</th>\n",
              "      <th>rokBudowy</th>\n",
              "      <th>stanWykonczenia</th>\n",
              "      <th>okna</th>\n",
              "      <th>rynek</th>\n",
              "      <th>powierzchnia_corr</th>\n",
              "      <th>powierzchniaDzialki_corr</th>\n",
              "      <th>rokBudowy_corr</th>\n",
              "      <th>cena/m</th>\n",
              "      <th>lPieter_crr</th>\n",
              "      <th>districts</th>\n",
              "      <th>cities_corr</th>\n",
              "      <th>region_corr</th>\n",
              "      <th>locationX</th>\n",
              "      <th>locationY</th>\n",
              "    </tr>\n",
              "  </thead>\n",
              "  <tbody>\n",
              "    <tr>\n",
              "      <th>0</th>\n",
              "      <td>6</td>\n",
              "      <td>wolnostojący</td>\n",
              "      <td>cegła</td>\n",
              "      <td>2019</td>\n",
              "      <td>do wykończenia</td>\n",
              "      <td>0</td>\n",
              "      <td>wtórny</td>\n",
              "      <td>320.00</td>\n",
              "      <td>1000</td>\n",
              "      <td>2019</td>\n",
              "      <td>6062.503125</td>\n",
              "      <td>1</td>\n",
              "      <td>Warszawa</td>\n",
              "      <td>Warszawa</td>\n",
              "      <td>Wesoła</td>\n",
              "      <td>21.223696</td>\n",
              "      <td>52.245856</td>\n",
              "    </tr>\n",
              "    <tr>\n",
              "      <th>1</th>\n",
              "      <td>5</td>\n",
              "      <td>0</td>\n",
              "      <td>beton komórkowy</td>\n",
              "      <td>2021</td>\n",
              "      <td>do wykończenia</td>\n",
              "      <td>plastikowe</td>\n",
              "      <td>pierwotny</td>\n",
              "      <td>154.00</td>\n",
              "      <td>750</td>\n",
              "      <td>2021</td>\n",
              "      <td>5186.363636</td>\n",
              "      <td>0</td>\n",
              "      <td>grodziski</td>\n",
              "      <td>Milanówek</td>\n",
              "      <td></td>\n",
              "      <td>20.665400</td>\n",
              "      <td>52.124300</td>\n",
              "    </tr>\n",
              "    <tr>\n",
              "      <th>2</th>\n",
              "      <td>3</td>\n",
              "      <td>wolnostojący</td>\n",
              "      <td>0</td>\n",
              "      <td>1950</td>\n",
              "      <td>do remontu</td>\n",
              "      <td>0</td>\n",
              "      <td>wtórny</td>\n",
              "      <td>80.00</td>\n",
              "      <td>2356</td>\n",
              "      <td>1950</td>\n",
              "      <td>5612.500000</td>\n",
              "      <td>1</td>\n",
              "      <td>nowodworski</td>\n",
              "      <td>Nowy</td>\n",
              "      <td></td>\n",
              "      <td>20.683333</td>\n",
              "      <td>52.433333</td>\n",
              "    </tr>\n",
              "    <tr>\n",
              "      <th>3</th>\n",
              "      <td>4</td>\n",
              "      <td>bliźniak</td>\n",
              "      <td>silikat</td>\n",
              "      <td>2022</td>\n",
              "      <td>do wykończenia</td>\n",
              "      <td>plastikowe</td>\n",
              "      <td>pierwotny</td>\n",
              "      <td>152.91</td>\n",
              "      <td>220</td>\n",
              "      <td>2022</td>\n",
              "      <td>4250.866523</td>\n",
              "      <td>1</td>\n",
              "      <td>piaseczyński</td>\n",
              "      <td>Nowa</td>\n",
              "      <td></td>\n",
              "      <td>21.016667</td>\n",
              "      <td>52.066667</td>\n",
              "    </tr>\n",
              "    <tr>\n",
              "      <th>4</th>\n",
              "      <td>4</td>\n",
              "      <td>wolnostojący</td>\n",
              "      <td>pustak</td>\n",
              "      <td>2020</td>\n",
              "      <td>stan surowy otwarty</td>\n",
              "      <td>brak</td>\n",
              "      <td>pierwotny</td>\n",
              "      <td>106.00</td>\n",
              "      <td>960</td>\n",
              "      <td>2020</td>\n",
              "      <td>2924.528302</td>\n",
              "      <td>0</td>\n",
              "      <td>płocki</td>\n",
              "      <td>Słupno</td>\n",
              "      <td></td>\n",
              "      <td>19.700000</td>\n",
              "      <td>52.550000</td>\n",
              "    </tr>\n",
              "  </tbody>\n",
              "</table>\n",
              "</div>"
            ],
            "text/plain": [
              "   lPokoi rodzajZabudowy  materialBudynku  ...  region_corr  locationX  locationY\n",
              "0       6   wolnostojący            cegła  ...       Wesoła  21.223696  52.245856\n",
              "1       5              0  beton komórkowy  ...               20.665400  52.124300\n",
              "2       3   wolnostojący                0  ...               20.683333  52.433333\n",
              "3       4       bliźniak          silikat  ...               21.016667  52.066667\n",
              "4       4   wolnostojący           pustak  ...               19.700000  52.550000\n",
              "\n",
              "[5 rows x 17 columns]"
            ]
          },
          "metadata": {
            "tags": []
          },
          "execution_count": 25
        }
      ]
    },
    {
      "cell_type": "code",
      "metadata": {
        "id": "pMBtwULwnpio"
      },
      "source": [
        "concat = concat_dropped_reset.drop(['rokBudowy', 'districts', 'cities_corr', 'region_corr'], axis=1)\n",
        "concat_dumm = pd.get_dummies(concat, columns=['rodzajZabudowy', 'materialBudynku', 'stanWykonczenia', 'okna', 'rynek'])"
      ],
      "execution_count": 26,
      "outputs": []
    },
    {
      "cell_type": "code",
      "metadata": {
        "colab": {
          "base_uri": "https://localhost:8080/"
        },
        "id": "sCUOXEGvoIbi",
        "outputId": "795bb894-be6d-4fe8-f502-54ac78f2d4ea"
      },
      "source": [
        "concat_dumm.shape"
      ],
      "execution_count": 27,
      "outputs": [
        {
          "output_type": "execute_result",
          "data": {
            "text/plain": [
              "(7823, 37)"
            ]
          },
          "metadata": {
            "tags": []
          },
          "execution_count": 27
        }
      ]
    },
    {
      "cell_type": "code",
      "metadata": {
        "colab": {
          "base_uri": "https://localhost:8080/",
          "height": 244
        },
        "id": "WLMLd9O9zf8S",
        "outputId": "234c5512-b54e-4000-d614-33205e94c9d8"
      },
      "source": [
        "concat_dumm.head()"
      ],
      "execution_count": 38,
      "outputs": [
        {
          "output_type": "execute_result",
          "data": {
            "text/html": [
              "<div>\n",
              "<style scoped>\n",
              "    .dataframe tbody tr th:only-of-type {\n",
              "        vertical-align: middle;\n",
              "    }\n",
              "\n",
              "    .dataframe tbody tr th {\n",
              "        vertical-align: top;\n",
              "    }\n",
              "\n",
              "    .dataframe thead th {\n",
              "        text-align: right;\n",
              "    }\n",
              "</style>\n",
              "<table border=\"1\" class=\"dataframe\">\n",
              "  <thead>\n",
              "    <tr style=\"text-align: right;\">\n",
              "      <th></th>\n",
              "      <th>lPokoi</th>\n",
              "      <th>powierzchnia_corr</th>\n",
              "      <th>powierzchniaDzialki_corr</th>\n",
              "      <th>rokBudowy_corr</th>\n",
              "      <th>cena/m</th>\n",
              "      <th>lPieter_crr</th>\n",
              "      <th>locationX</th>\n",
              "      <th>locationY</th>\n",
              "      <th>rodzajZabudowy_0</th>\n",
              "      <th>rodzajZabudowy_bliźniak</th>\n",
              "      <th>rodzajZabudowy_dworek/pałac</th>\n",
              "      <th>rodzajZabudowy_gospodarstwo</th>\n",
              "      <th>rodzajZabudowy_kamienica</th>\n",
              "      <th>rodzajZabudowy_szeregowiec</th>\n",
              "      <th>rodzajZabudowy_wolnostojący</th>\n",
              "      <th>materialBudynku_0</th>\n",
              "      <th>materialBudynku_beton</th>\n",
              "      <th>materialBudynku_beton komórkowy</th>\n",
              "      <th>materialBudynku_cegła</th>\n",
              "      <th>materialBudynku_drewno</th>\n",
              "      <th>materialBudynku_inne</th>\n",
              "      <th>materialBudynku_keramzyt</th>\n",
              "      <th>materialBudynku_pustak</th>\n",
              "      <th>materialBudynku_silikat</th>\n",
              "      <th>stanWykonczenia_0</th>\n",
              "      <th>stanWykonczenia_do remontu</th>\n",
              "      <th>stanWykonczenia_do wykończenia</th>\n",
              "      <th>stanWykonczenia_do zamieszkania</th>\n",
              "      <th>stanWykonczenia_stan surowy otwarty</th>\n",
              "      <th>stanWykonczenia_stan surowy zamknięty</th>\n",
              "      <th>okna_0</th>\n",
              "      <th>okna_aluminiowe</th>\n",
              "      <th>okna_brak</th>\n",
              "      <th>okna_drewniane</th>\n",
              "      <th>okna_plastikowe</th>\n",
              "      <th>rynek_pierwotny</th>\n",
              "      <th>rynek_wtórny</th>\n",
              "    </tr>\n",
              "  </thead>\n",
              "  <tbody>\n",
              "    <tr>\n",
              "      <th>0</th>\n",
              "      <td>6</td>\n",
              "      <td>320.00</td>\n",
              "      <td>1000</td>\n",
              "      <td>2019</td>\n",
              "      <td>6062.503125</td>\n",
              "      <td>1</td>\n",
              "      <td>21.223696</td>\n",
              "      <td>52.245856</td>\n",
              "      <td>0</td>\n",
              "      <td>0</td>\n",
              "      <td>0</td>\n",
              "      <td>0</td>\n",
              "      <td>0</td>\n",
              "      <td>0</td>\n",
              "      <td>1</td>\n",
              "      <td>0</td>\n",
              "      <td>0</td>\n",
              "      <td>0</td>\n",
              "      <td>1</td>\n",
              "      <td>0</td>\n",
              "      <td>0</td>\n",
              "      <td>0</td>\n",
              "      <td>0</td>\n",
              "      <td>0</td>\n",
              "      <td>0</td>\n",
              "      <td>0</td>\n",
              "      <td>1</td>\n",
              "      <td>0</td>\n",
              "      <td>0</td>\n",
              "      <td>0</td>\n",
              "      <td>1</td>\n",
              "      <td>0</td>\n",
              "      <td>0</td>\n",
              "      <td>0</td>\n",
              "      <td>0</td>\n",
              "      <td>0</td>\n",
              "      <td>1</td>\n",
              "    </tr>\n",
              "    <tr>\n",
              "      <th>1</th>\n",
              "      <td>5</td>\n",
              "      <td>154.00</td>\n",
              "      <td>750</td>\n",
              "      <td>2021</td>\n",
              "      <td>5186.363636</td>\n",
              "      <td>0</td>\n",
              "      <td>20.665400</td>\n",
              "      <td>52.124300</td>\n",
              "      <td>1</td>\n",
              "      <td>0</td>\n",
              "      <td>0</td>\n",
              "      <td>0</td>\n",
              "      <td>0</td>\n",
              "      <td>0</td>\n",
              "      <td>0</td>\n",
              "      <td>0</td>\n",
              "      <td>0</td>\n",
              "      <td>1</td>\n",
              "      <td>0</td>\n",
              "      <td>0</td>\n",
              "      <td>0</td>\n",
              "      <td>0</td>\n",
              "      <td>0</td>\n",
              "      <td>0</td>\n",
              "      <td>0</td>\n",
              "      <td>0</td>\n",
              "      <td>1</td>\n",
              "      <td>0</td>\n",
              "      <td>0</td>\n",
              "      <td>0</td>\n",
              "      <td>0</td>\n",
              "      <td>0</td>\n",
              "      <td>0</td>\n",
              "      <td>0</td>\n",
              "      <td>1</td>\n",
              "      <td>1</td>\n",
              "      <td>0</td>\n",
              "    </tr>\n",
              "    <tr>\n",
              "      <th>2</th>\n",
              "      <td>3</td>\n",
              "      <td>80.00</td>\n",
              "      <td>2356</td>\n",
              "      <td>1950</td>\n",
              "      <td>5612.500000</td>\n",
              "      <td>1</td>\n",
              "      <td>20.683333</td>\n",
              "      <td>52.433333</td>\n",
              "      <td>0</td>\n",
              "      <td>0</td>\n",
              "      <td>0</td>\n",
              "      <td>0</td>\n",
              "      <td>0</td>\n",
              "      <td>0</td>\n",
              "      <td>1</td>\n",
              "      <td>1</td>\n",
              "      <td>0</td>\n",
              "      <td>0</td>\n",
              "      <td>0</td>\n",
              "      <td>0</td>\n",
              "      <td>0</td>\n",
              "      <td>0</td>\n",
              "      <td>0</td>\n",
              "      <td>0</td>\n",
              "      <td>0</td>\n",
              "      <td>1</td>\n",
              "      <td>0</td>\n",
              "      <td>0</td>\n",
              "      <td>0</td>\n",
              "      <td>0</td>\n",
              "      <td>1</td>\n",
              "      <td>0</td>\n",
              "      <td>0</td>\n",
              "      <td>0</td>\n",
              "      <td>0</td>\n",
              "      <td>0</td>\n",
              "      <td>1</td>\n",
              "    </tr>\n",
              "    <tr>\n",
              "      <th>3</th>\n",
              "      <td>4</td>\n",
              "      <td>152.91</td>\n",
              "      <td>220</td>\n",
              "      <td>2022</td>\n",
              "      <td>4250.866523</td>\n",
              "      <td>1</td>\n",
              "      <td>21.016667</td>\n",
              "      <td>52.066667</td>\n",
              "      <td>0</td>\n",
              "      <td>1</td>\n",
              "      <td>0</td>\n",
              "      <td>0</td>\n",
              "      <td>0</td>\n",
              "      <td>0</td>\n",
              "      <td>0</td>\n",
              "      <td>0</td>\n",
              "      <td>0</td>\n",
              "      <td>0</td>\n",
              "      <td>0</td>\n",
              "      <td>0</td>\n",
              "      <td>0</td>\n",
              "      <td>0</td>\n",
              "      <td>0</td>\n",
              "      <td>1</td>\n",
              "      <td>0</td>\n",
              "      <td>0</td>\n",
              "      <td>1</td>\n",
              "      <td>0</td>\n",
              "      <td>0</td>\n",
              "      <td>0</td>\n",
              "      <td>0</td>\n",
              "      <td>0</td>\n",
              "      <td>0</td>\n",
              "      <td>0</td>\n",
              "      <td>1</td>\n",
              "      <td>1</td>\n",
              "      <td>0</td>\n",
              "    </tr>\n",
              "    <tr>\n",
              "      <th>4</th>\n",
              "      <td>4</td>\n",
              "      <td>106.00</td>\n",
              "      <td>960</td>\n",
              "      <td>2020</td>\n",
              "      <td>2924.528302</td>\n",
              "      <td>0</td>\n",
              "      <td>19.700000</td>\n",
              "      <td>52.550000</td>\n",
              "      <td>0</td>\n",
              "      <td>0</td>\n",
              "      <td>0</td>\n",
              "      <td>0</td>\n",
              "      <td>0</td>\n",
              "      <td>0</td>\n",
              "      <td>1</td>\n",
              "      <td>0</td>\n",
              "      <td>0</td>\n",
              "      <td>0</td>\n",
              "      <td>0</td>\n",
              "      <td>0</td>\n",
              "      <td>0</td>\n",
              "      <td>0</td>\n",
              "      <td>1</td>\n",
              "      <td>0</td>\n",
              "      <td>0</td>\n",
              "      <td>0</td>\n",
              "      <td>0</td>\n",
              "      <td>0</td>\n",
              "      <td>1</td>\n",
              "      <td>0</td>\n",
              "      <td>0</td>\n",
              "      <td>0</td>\n",
              "      <td>1</td>\n",
              "      <td>0</td>\n",
              "      <td>0</td>\n",
              "      <td>1</td>\n",
              "      <td>0</td>\n",
              "    </tr>\n",
              "  </tbody>\n",
              "</table>\n",
              "</div>"
            ],
            "text/plain": [
              "   lPokoi  powierzchnia_corr  ...  rynek_pierwotny  rynek_wtórny\n",
              "0       6             320.00  ...                0             1\n",
              "1       5             154.00  ...                1             0\n",
              "2       3              80.00  ...                0             1\n",
              "3       4             152.91  ...                1             0\n",
              "4       4             106.00  ...                1             0\n",
              "\n",
              "[5 rows x 37 columns]"
            ]
          },
          "metadata": {
            "tags": []
          },
          "execution_count": 38
        }
      ]
    },
    {
      "cell_type": "code",
      "metadata": {
        "id": "o-tN-Z-L0dJ6"
      },
      "source": [
        "from sklearn import preprocessing"
      ],
      "execution_count": 49,
      "outputs": []
    },
    {
      "cell_type": "code",
      "metadata": {
        "id": "-KEHBeUP0JFb"
      },
      "source": [
        "min_max_scaler = preprocessing.MinMaxScaler()\n",
        "data_scaled = min_max_scaler.fit_transform(concat_dumm.values)\n",
        "df = pd.DataFrame(data_scaled ,columns=concat_dumm.columns.values)\n",
        "df  = df.fillna(0)"
      ],
      "execution_count": 51,
      "outputs": []
    },
    {
      "cell_type": "code",
      "metadata": {
        "id": "XwdHWJuIotl4"
      },
      "source": [
        "#!pip install --upgrade pip"
      ],
      "execution_count": 28,
      "outputs": []
    },
    {
      "cell_type": "code",
      "metadata": {
        "id": "z_Rghy5nwEK8"
      },
      "source": [
        "#!pip install tf-nightly"
      ],
      "execution_count": 29,
      "outputs": []
    },
    {
      "cell_type": "code",
      "metadata": {
        "colab": {
          "base_uri": "https://localhost:8080/"
        },
        "id": "zdnxBmZV77y9",
        "outputId": "47fa320c-9c36-46e3-daef-528937189575"
      },
      "source": [
        "!pip install tensorflow_decision_forests"
      ],
      "execution_count": 30,
      "outputs": [
        {
          "output_type": "stream",
          "text": [
            "Requirement already satisfied: tensorflow_decision_forests in /usr/local/lib/python3.7/dist-packages (0.1.8)\n",
            "Requirement already satisfied: numpy in /usr/local/lib/python3.7/dist-packages (from tensorflow_decision_forests) (1.19.5)\n",
            "Requirement already satisfied: pandas in /usr/local/lib/python3.7/dist-packages (from tensorflow_decision_forests) (1.1.5)\n",
            "Requirement already satisfied: wheel in /usr/local/lib/python3.7/dist-packages (from tensorflow_decision_forests) (0.37.0)\n",
            "Requirement already satisfied: absl-py in /usr/local/lib/python3.7/dist-packages (from tensorflow_decision_forests) (0.12.0)\n",
            "Requirement already satisfied: six in /usr/local/lib/python3.7/dist-packages (from tensorflow_decision_forests) (1.15.0)\n",
            "Requirement already satisfied: tensorflow~=2.5 in /usr/local/lib/python3.7/dist-packages (from tensorflow_decision_forests) (2.5.0)\n",
            "Requirement already satisfied: wrapt~=1.12.1 in /usr/local/lib/python3.7/dist-packages (from tensorflow~=2.5->tensorflow_decision_forests) (1.12.1)\n",
            "Requirement already satisfied: astunparse~=1.6.3 in /usr/local/lib/python3.7/dist-packages (from tensorflow~=2.5->tensorflow_decision_forests) (1.6.3)\n",
            "Requirement already satisfied: protobuf>=3.9.2 in /usr/local/lib/python3.7/dist-packages (from tensorflow~=2.5->tensorflow_decision_forests) (3.17.3)\n",
            "Requirement already satisfied: tensorflow-estimator<2.6.0,>=2.5.0rc0 in /usr/local/lib/python3.7/dist-packages (from tensorflow~=2.5->tensorflow_decision_forests) (2.5.0)\n",
            "Requirement already satisfied: flatbuffers~=1.12.0 in /usr/local/lib/python3.7/dist-packages (from tensorflow~=2.5->tensorflow_decision_forests) (1.12)\n",
            "Requirement already satisfied: keras-preprocessing~=1.1.2 in /usr/local/lib/python3.7/dist-packages (from tensorflow~=2.5->tensorflow_decision_forests) (1.1.2)\n",
            "Requirement already satisfied: opt-einsum~=3.3.0 in /usr/local/lib/python3.7/dist-packages (from tensorflow~=2.5->tensorflow_decision_forests) (3.3.0)\n",
            "Requirement already satisfied: h5py~=3.1.0 in /usr/local/lib/python3.7/dist-packages (from tensorflow~=2.5->tensorflow_decision_forests) (3.1.0)\n",
            "Requirement already satisfied: termcolor~=1.1.0 in /usr/local/lib/python3.7/dist-packages (from tensorflow~=2.5->tensorflow_decision_forests) (1.1.0)\n",
            "Requirement already satisfied: grpcio~=1.34.0 in /usr/local/lib/python3.7/dist-packages (from tensorflow~=2.5->tensorflow_decision_forests) (1.34.1)\n",
            "Requirement already satisfied: tensorboard~=2.5 in /usr/local/lib/python3.7/dist-packages (from tensorflow~=2.5->tensorflow_decision_forests) (2.6.0)\n",
            "Requirement already satisfied: keras-nightly~=2.5.0.dev in /usr/local/lib/python3.7/dist-packages (from tensorflow~=2.5->tensorflow_decision_forests) (2.5.0.dev2021032900)\n",
            "Requirement already satisfied: typing-extensions~=3.7.4 in /usr/local/lib/python3.7/dist-packages (from tensorflow~=2.5->tensorflow_decision_forests) (3.7.4.3)\n",
            "Requirement already satisfied: gast==0.4.0 in /usr/local/lib/python3.7/dist-packages (from tensorflow~=2.5->tensorflow_decision_forests) (0.4.0)\n",
            "Requirement already satisfied: google-pasta~=0.2 in /usr/local/lib/python3.7/dist-packages (from tensorflow~=2.5->tensorflow_decision_forests) (0.2.0)\n",
            "Requirement already satisfied: cached-property in /usr/local/lib/python3.7/dist-packages (from h5py~=3.1.0->tensorflow~=2.5->tensorflow_decision_forests) (1.5.2)\n",
            "Requirement already satisfied: setuptools>=41.0.0 in /usr/local/lib/python3.7/dist-packages (from tensorboard~=2.5->tensorflow~=2.5->tensorflow_decision_forests) (57.4.0)\n",
            "Requirement already satisfied: google-auth-oauthlib<0.5,>=0.4.1 in /usr/local/lib/python3.7/dist-packages (from tensorboard~=2.5->tensorflow~=2.5->tensorflow_decision_forests) (0.4.5)\n",
            "Requirement already satisfied: tensorboard-plugin-wit>=1.6.0 in /usr/local/lib/python3.7/dist-packages (from tensorboard~=2.5->tensorflow~=2.5->tensorflow_decision_forests) (1.8.0)\n",
            "Requirement already satisfied: werkzeug>=0.11.15 in /usr/local/lib/python3.7/dist-packages (from tensorboard~=2.5->tensorflow~=2.5->tensorflow_decision_forests) (1.0.1)\n",
            "Requirement already satisfied: google-auth<2,>=1.6.3 in /usr/local/lib/python3.7/dist-packages (from tensorboard~=2.5->tensorflow~=2.5->tensorflow_decision_forests) (1.34.0)\n",
            "Requirement already satisfied: markdown>=2.6.8 in /usr/local/lib/python3.7/dist-packages (from tensorboard~=2.5->tensorflow~=2.5->tensorflow_decision_forests) (3.3.4)\n",
            "Requirement already satisfied: requests<3,>=2.21.0 in /usr/local/lib/python3.7/dist-packages (from tensorboard~=2.5->tensorflow~=2.5->tensorflow_decision_forests) (2.23.0)\n",
            "Requirement already satisfied: tensorboard-data-server<0.7.0,>=0.6.0 in /usr/local/lib/python3.7/dist-packages (from tensorboard~=2.5->tensorflow~=2.5->tensorflow_decision_forests) (0.6.1)\n",
            "Requirement already satisfied: rsa<5,>=3.1.4 in /usr/local/lib/python3.7/dist-packages (from google-auth<2,>=1.6.3->tensorboard~=2.5->tensorflow~=2.5->tensorflow_decision_forests) (4.7.2)\n",
            "Requirement already satisfied: pyasn1-modules>=0.2.1 in /usr/local/lib/python3.7/dist-packages (from google-auth<2,>=1.6.3->tensorboard~=2.5->tensorflow~=2.5->tensorflow_decision_forests) (0.2.8)\n",
            "Requirement already satisfied: cachetools<5.0,>=2.0.0 in /usr/local/lib/python3.7/dist-packages (from google-auth<2,>=1.6.3->tensorboard~=2.5->tensorflow~=2.5->tensorflow_decision_forests) (4.2.2)\n",
            "Requirement already satisfied: requests-oauthlib>=0.7.0 in /usr/local/lib/python3.7/dist-packages (from google-auth-oauthlib<0.5,>=0.4.1->tensorboard~=2.5->tensorflow~=2.5->tensorflow_decision_forests) (1.3.0)\n",
            "Requirement already satisfied: importlib-metadata in /usr/local/lib/python3.7/dist-packages (from markdown>=2.6.8->tensorboard~=2.5->tensorflow~=2.5->tensorflow_decision_forests) (4.6.3)\n",
            "Requirement already satisfied: pyasn1<0.5.0,>=0.4.6 in /usr/local/lib/python3.7/dist-packages (from pyasn1-modules>=0.2.1->google-auth<2,>=1.6.3->tensorboard~=2.5->tensorflow~=2.5->tensorflow_decision_forests) (0.4.8)\n",
            "Requirement already satisfied: certifi>=2017.4.17 in /usr/local/lib/python3.7/dist-packages (from requests<3,>=2.21.0->tensorboard~=2.5->tensorflow~=2.5->tensorflow_decision_forests) (2021.5.30)\n",
            "Requirement already satisfied: chardet<4,>=3.0.2 in /usr/local/lib/python3.7/dist-packages (from requests<3,>=2.21.0->tensorboard~=2.5->tensorflow~=2.5->tensorflow_decision_forests) (3.0.4)\n",
            "Requirement already satisfied: urllib3!=1.25.0,!=1.25.1,<1.26,>=1.21.1 in /usr/local/lib/python3.7/dist-packages (from requests<3,>=2.21.0->tensorboard~=2.5->tensorflow~=2.5->tensorflow_decision_forests) (1.24.3)\n",
            "Requirement already satisfied: idna<3,>=2.5 in /usr/local/lib/python3.7/dist-packages (from requests<3,>=2.21.0->tensorboard~=2.5->tensorflow~=2.5->tensorflow_decision_forests) (2.10)\n",
            "Requirement already satisfied: oauthlib>=3.0.0 in /usr/local/lib/python3.7/dist-packages (from requests-oauthlib>=0.7.0->google-auth-oauthlib<0.5,>=0.4.1->tensorboard~=2.5->tensorflow~=2.5->tensorflow_decision_forests) (3.1.1)\n",
            "Requirement already satisfied: zipp>=0.5 in /usr/local/lib/python3.7/dist-packages (from importlib-metadata->markdown>=2.6.8->tensorboard~=2.5->tensorflow~=2.5->tensorflow_decision_forests) (3.5.0)\n",
            "Requirement already satisfied: pytz>=2017.2 in /usr/local/lib/python3.7/dist-packages (from pandas->tensorflow_decision_forests) (2018.9)\n",
            "Requirement already satisfied: python-dateutil>=2.7.3 in /usr/local/lib/python3.7/dist-packages (from pandas->tensorflow_decision_forests) (2.8.2)\n",
            "\u001b[33mWARNING: Running pip as the 'root' user can result in broken permissions and conflicting behaviour with the system package manager. It is recommended to use a virtual environment instead: https://pip.pypa.io/warnings/venv\u001b[0m\n"
          ],
          "name": "stdout"
        }
      ]
    },
    {
      "cell_type": "code",
      "metadata": {
        "colab": {
          "base_uri": "https://localhost:8080/"
        },
        "id": "cdsx6N2O791r",
        "outputId": "2c4fb7f8-11e9-4549-b669-03c16a89dfc2"
      },
      "source": [
        "!pip install wurlitzer"
      ],
      "execution_count": 31,
      "outputs": [
        {
          "output_type": "stream",
          "text": [
            "Requirement already satisfied: wurlitzer in /usr/local/lib/python3.7/dist-packages (2.1.1)\n",
            "\u001b[33mWARNING: Running pip as the 'root' user can result in broken permissions and conflicting behaviour with the system package manager. It is recommended to use a virtual environment instead: https://pip.pypa.io/warnings/venv\u001b[0m\n"
          ],
          "name": "stdout"
        }
      ]
    },
    {
      "cell_type": "code",
      "metadata": {
        "id": "Hks9GYwX8Anv"
      },
      "source": [
        "import tensorflow_decision_forests as tfdf\n",
        "import os\n",
        "import numpy as np\n",
        "import pandas as pd\n",
        "import tensorflow as tf\n",
        "import tensorflow as tfCore\n",
        "import math\n",
        "\n",
        "try:\n",
        "  from wurlitzer import sys_pipes\n",
        "except:\n",
        "  from colabtools.googlelog import CaptureLog as sys_pipes\n",
        "\n",
        "from IPython.core.magic import register_line_magic\n",
        "from IPython.display import Javascript\n"
      ],
      "execution_count": 45,
      "outputs": []
    },
    {
      "cell_type": "code",
      "metadata": {
        "colab": {
          "base_uri": "https://localhost:8080/"
        },
        "id": "HrtkVoZ_qrLd",
        "outputId": "e8567871-5860-409a-c543-9fafe8d431fd"
      },
      "source": [
        "print(tf.__version__)"
      ],
      "execution_count": 37,
      "outputs": [
        {
          "output_type": "stream",
          "text": [
            "2.5.0\n"
          ],
          "name": "stdout"
        }
      ]
    },
    {
      "cell_type": "code",
      "metadata": {
        "id": "Y-gV30Xwqh-6"
      },
      "source": [
        ""
      ],
      "execution_count": 33,
      "outputs": []
    },
    {
      "cell_type": "code",
      "metadata": {
        "colab": {
          "base_uri": "https://localhost:8080/"
        },
        "id": "4r2Ey0088TkP",
        "outputId": "c7281f37-022c-425e-b47a-cba4e720b4dc"
      },
      "source": [
        "# Check the version of TensorFlow Decision Forests\n",
        "print(\"Found TensorFlow Decision Forests v\" + tfdf.__version__)\n"
      ],
      "execution_count": 34,
      "outputs": [
        {
          "output_type": "stream",
          "text": [
            "Found TensorFlow Decision Forests v0.1.8\n"
          ],
          "name": "stdout"
        }
      ]
    },
    {
      "cell_type": "code",
      "metadata": {
        "id": "71Znol7CLscj"
      },
      "source": [
        "def split_dataset(dataset, test_ratio=0.30):\n",
        "  \"\"\"Splits a panda dataframe in two.\"\"\"\n",
        "  test_indices = np.random.rand(len(dataset)) < test_ratio\n",
        "  return dataset[~test_indices], dataset[test_indices]"
      ],
      "execution_count": 35,
      "outputs": []
    },
    {
      "cell_type": "code",
      "metadata": {
        "colab": {
          "base_uri": "https://localhost:8080/"
        },
        "id": "3s_rESer9MtT",
        "outputId": "64820b72-fa2d-4dab-b04d-ec79b772c2a3"
      },
      "source": [
        "train_ds_pd, test_ds_pd = split_dataset(concat_dumm)\n",
        "print(\"{} examples in training, {} examples for testing.\".format(\n",
        "    len(train_ds_pd), len(test_ds_pd)))\n"
      ],
      "execution_count": 39,
      "outputs": [
        {
          "output_type": "stream",
          "text": [
            "5435 examples in training, 2388 examples for testing.\n"
          ],
          "name": "stdout"
        }
      ]
    },
    {
      "cell_type": "markdown",
      "metadata": {
        "id": "9rXpRB01LBjs"
      },
      "source": [
        "alternatywna macierz z min max scaller"
      ]
    },
    {
      "cell_type": "code",
      "metadata": {
        "colab": {
          "base_uri": "https://localhost:8080/"
        },
        "id": "fdpW8HNxK8G6",
        "outputId": "7d6650d9-a9c0-4f2c-ca2e-c06cf18fef47"
      },
      "source": [
        "train_ds_pd, test_ds_pd = split_dataset(df)\n",
        "print(\"{} examples in training, {} examples for testing.\".format(\n",
        "    len(train_ds_pd), len(test_ds_pd)))\n"
      ],
      "execution_count": 52,
      "outputs": [
        {
          "output_type": "stream",
          "text": [
            "5428 examples in training, 2395 examples for testing.\n"
          ],
          "name": "stdout"
        }
      ]
    },
    {
      "cell_type": "code",
      "metadata": {
        "id": "gXtzXfGZzxI1"
      },
      "source": [
        "from tensorflow_decision_forests.tensorflow import core as tf_core"
      ],
      "execution_count": 46,
      "outputs": []
    },
    {
      "cell_type": "code",
      "metadata": {
        "id": "UH481NYO93aS",
        "colab": {
          "base_uri": "https://localhost:8080/"
        },
        "outputId": "4779a2ed-6694-4f0d-b012-da65bebeb9a7"
      },
      "source": [
        "#train_ds = tfdf.keras.pd_dataframe_to_tf_dataset(train_ds_pd, label=label)\n",
        "Task = tf_core.Task\n",
        "train_ds=tfdf.keras.pd_dataframe_to_tf_dataset(\n",
        "    train_ds_pd,\n",
        "    label='cena/m',\n",
        "    task=Task.REGRESSION\n",
        ")\n",
        "\n",
        "test_ds = tfdf.keras.pd_dataframe_to_tf_dataset(\n",
        "    test_ds_pd,\n",
        "    label='cena/m',\n",
        "    task=Task.REGRESSION\n",
        ")"
      ],
      "execution_count": 53,
      "outputs": [
        {
          "output_type": "stream",
          "text": [
            "WARNING:absl:Some of the feature names have been changed automatically to be compatible with SavedModels because fix_feature_names=True.\n",
            "WARNING:absl:Some of the feature names have been changed automatically to be compatible with SavedModels because fix_feature_names=True.\n"
          ],
          "name": "stderr"
        }
      ]
    },
    {
      "cell_type": "code",
      "metadata": {
        "colab": {
          "base_uri": "https://localhost:8080/"
        },
        "id": "BRJ0vI419dN2",
        "outputId": "9119c968-429c-4325-876d-d858c02dd3c1"
      },
      "source": [
        "# A classical but slighly more complex model.\n",
        "model_tune = tfdf.keras.GradientBoostedTreesModel(\n",
        "    task=Task.REGRESSION,num_trees=2000000, growing_strategy=\"BEST_FIRST_GLOBAL\", max_depth=2000000)\n",
        "model_tune.compile(\n",
        "    metrics=['mse',\"mae\",'acc'])\n",
        "model_tune.fit(train_ds)"
      ],
      "execution_count": 60,
      "outputs": [
        {
          "output_type": "stream",
          "text": [
            "85/85 [==============================] - 1s 3ms/step\n"
          ],
          "name": "stdout"
        },
        {
          "output_type": "execute_result",
          "data": {
            "text/plain": [
              "<tensorflow.python.keras.callbacks.History at 0x7f1fb11f0e90>"
            ]
          },
          "metadata": {
            "tags": []
          },
          "execution_count": 60
        }
      ]
    },
    {
      "cell_type": "code",
      "metadata": {
        "colab": {
          "base_uri": "https://localhost:8080/"
        },
        "id": "Oz6V8srF2vJS",
        "outputId": "901929ac-e814-4ba9-ead5-c0388b7d78aa"
      },
      "source": [
        "evaluation = model_tune.evaluate(train_ds, return_dict=True)\n",
        "print()\n",
        "\n",
        "for name, value in evaluation.items():\n",
        "  print('alsolute ',f\"{name}: {value:.4f}\")\n",
        "  print('relative ',f\"{name}: {100*value/df['cena/m'].mean():.4f}\")"
      ],
      "execution_count": 61,
      "outputs": [
        {
          "output_type": "stream",
          "text": [
            "85/85 [==============================] - 1s 3ms/step - loss: 0.0000e+00 - mse: 0.0064 - mae: 0.0575 - acc: 1.8423e-04\n",
            "\n",
            "alsolute  loss: 0.0000\n",
            "relative  loss: 0.0000\n",
            "alsolute  mse: 0.0064\n",
            "relative  mse: 2.0667\n",
            "alsolute  mae: 0.0575\n",
            "relative  mae: 18.5876\n",
            "alsolute  acc: 0.0002\n",
            "relative  acc: 0.0595\n"
          ],
          "name": "stdout"
        }
      ]
    },
    {
      "cell_type": "code",
      "metadata": {
        "colab": {
          "base_uri": "https://localhost:8080/"
        },
        "id": "Y1C4rLy86jMB",
        "outputId": "f93cd29a-bd5c-43a9-902a-cf2cbb827737"
      },
      "source": [
        "evaluation = model_tune.evaluate(test_ds, return_dict=True)\n",
        "print()\n",
        "\n",
        "for name, value in evaluation.items():\n",
        "  print('alsolute ',f\"{name}: {value:.4f}\")\n",
        "  print('relative ',f\"{name}: {100*value/df['cena/m'].mean():.4f}\")"
      ],
      "execution_count": 62,
      "outputs": [
        {
          "output_type": "stream",
          "text": [
            "38/38 [==============================] - 0s 3ms/step - loss: 0.0000e+00 - mse: 0.0137 - mae: 0.0803 - acc: 0.0000e+00\n",
            "\n",
            "alsolute  loss: 0.0000\n",
            "relative  loss: 0.0000\n",
            "alsolute  mse: 0.0137\n",
            "relative  mse: 4.4255\n",
            "alsolute  mae: 0.0803\n",
            "relative  mae: 25.9297\n",
            "alsolute  acc: 0.0000\n",
            "relative  acc: 0.0000\n"
          ],
          "name": "stdout"
        }
      ]
    },
    {
      "cell_type": "code",
      "metadata": {
        "colab": {
          "base_uri": "https://localhost:8080/"
        },
        "id": "ek6i-mn0DcyM",
        "outputId": "c54e3df3-f72b-4e35-a0e1-b3cbffc9fe5f"
      },
      "source": [
        "model_tune.summary()"
      ],
      "execution_count": 63,
      "outputs": [
        {
          "output_type": "stream",
          "text": [
            "Model: \"gradient_boosted_trees_model_3\"\n",
            "_________________________________________________________________\n",
            "Layer (type)                 Output Shape              Param #   \n",
            "=================================================================\n",
            "Total params: 1\n",
            "Trainable params: 0\n",
            "Non-trainable params: 1\n",
            "_________________________________________________________________\n",
            "Type: \"GRADIENT_BOOSTED_TREES\"\n",
            "Task: REGRESSION\n",
            "Label: \"__LABEL\"\n",
            "\n",
            "Input Features (36):\n",
            "\tlPieter_crr\n",
            "\tlPokoi\n",
            "\tlocationX\n",
            "\tlocationY\n",
            "\tmaterialBudynku_0\n",
            "\tmaterialBudynku_beton\n",
            "\tmaterialBudynku_beton_komórkowy\n",
            "\tmaterialBudynku_cegła\n",
            "\tmaterialBudynku_drewno\n",
            "\tmaterialBudynku_inne\n",
            "\tmaterialBudynku_keramzyt\n",
            "\tmaterialBudynku_pustak\n",
            "\tmaterialBudynku_silikat\n",
            "\tokna_0\n",
            "\tokna_aluminiowe\n",
            "\tokna_brak\n",
            "\tokna_drewniane\n",
            "\tokna_plastikowe\n",
            "\tpowierzchniaDzialki_corr\n",
            "\tpowierzchnia_corr\n",
            "\trodzajZabudowy_0\n",
            "\trodzajZabudowy_bliźniak\n",
            "\trodzajZabudowy_dworek/pałac\n",
            "\trodzajZabudowy_gospodarstwo\n",
            "\trodzajZabudowy_kamienica\n",
            "\trodzajZabudowy_szeregowiec\n",
            "\trodzajZabudowy_wolnostojący\n",
            "\trokBudowy_corr\n",
            "\trynek_pierwotny\n",
            "\trynek_wtórny\n",
            "\tstanWykonczenia_0\n",
            "\tstanWykonczenia_do_remontu\n",
            "\tstanWykonczenia_do_wykończenia\n",
            "\tstanWykonczenia_do_zamieszkania\n",
            "\tstanWykonczenia_stan_surowy_otwarty\n",
            "\tstanWykonczenia_stan_surowy_zamknięty\n",
            "\n",
            "No weights\n",
            "\n",
            "Variable Importance: MEAN_MIN_DEPTH:\n",
            "    1.                  \"materialBudynku_beton\"  7.166253 ################\n",
            "    2.                              \"okna_brak\"  7.166253 ################\n",
            "    3.            \"rodzajZabudowy_gospodarstwo\"  7.166253 ################\n",
            "    4.                                \"__LABEL\"  7.166253 ################\n",
            "    5.       \"materialBudynku_beton_komórkowy\"  7.162393 ###############\n",
            "    6.           \"rodzajZabudowy_dworek/pałac\"  7.154949 ###############\n",
            "    7.             \"rodzajZabudowy_szeregowiec\"  7.151640 ###############\n",
            "    8.                                 \"okna_0\"  7.055418 ###############\n",
            "    9.                      \"materialBudynku_0\"  7.053488 ###############\n",
            "   10.                          \"rynek_wtórny\"  7.038875 ###############\n",
            "   11.               \"rodzajZabudowy_bliźniak\"  7.035291 ###############\n",
            "   12.                \"materialBudynku_silikat\"  7.030604 ###############\n",
            "   13.                       \"rodzajZabudowy_0\"  7.023987 ###############\n",
            "   14.           \"rodzajZabudowy_wolnostojący\"  6.996967 ###############\n",
            "   15.                 \"materialBudynku_drewno\"  6.994762 ###############\n",
            "   16.               \"rodzajZabudowy_kamienica\"  6.933002 ###############\n",
            "   17.                 \"materialBudynku_cegła\"  6.902674 ##############\n",
            "   18.                            \"lPieter_crr\"  6.862421 ##############\n",
            "   19.                        \"rynek_pierwotny\"  6.853047 ##############\n",
            "   20.                        \"okna_aluminiowe\"  6.845878 ##############\n",
            "   21.                      \"stanWykonczenia_0\"  6.810587 ##############\n",
            "   22.               \"materialBudynku_keramzyt\"  6.792390 ##############\n",
            "   23.                         \"okna_drewniane\"  6.720982 ##############\n",
            "   24. \"stanWykonczenia_stan_surowy_zamknięty\"  6.714916 ##############\n",
            "   25.             \"stanWykonczenia_do_remontu\"  6.672181 ##############\n",
            "   26.        \"stanWykonczenia_do_wykończenia\"  6.597463 #############\n",
            "   27.                        \"okna_plastikowe\"  6.586711 #############\n",
            "   28.                 \"materialBudynku_pustak\"  6.581748 #############\n",
            "   29.                   \"materialBudynku_inne\"  6.457127 #############\n",
            "   30.        \"stanWykonczenia_do_zamieszkania\"  6.430383 #############\n",
            "   31.    \"stanWykonczenia_stan_surowy_otwarty\"  6.122140 ###########\n",
            "   32.                                 \"lPokoi\"  5.818307 ##########\n",
            "   33.                         \"rokBudowy_corr\"  5.152192 #######\n",
            "   34.               \"powierzchniaDzialki_corr\"  4.335815 ####\n",
            "   35.                              \"locationY\"  4.325062 ####\n",
            "   36.                              \"locationX\"  3.700303 ##\n",
            "   37.                      \"powierzchnia_corr\"  3.200165 \n",
            "\n",
            "Variable Importance: NUM_AS_ROOT:\n",
            "    1.                              \"locationX\" 23.000000 ################\n",
            "    2.                      \"powierzchnia_corr\" 17.000000 ###########\n",
            "    3.    \"stanWykonczenia_stan_surowy_otwarty\" 13.000000 ########\n",
            "    4.                              \"locationY\" 11.000000 #######\n",
            "    5.                   \"materialBudynku_inne\"  6.000000 ###\n",
            "    6.                 \"materialBudynku_pustak\"  6.000000 ###\n",
            "    7.               \"powierzchniaDzialki_corr\"  6.000000 ###\n",
            "    8.        \"stanWykonczenia_do_zamieszkania\"  6.000000 ###\n",
            "    9.             \"stanWykonczenia_do_remontu\"  5.000000 ##\n",
            "   10.                                 \"lPokoi\"  4.000000 ##\n",
            "   11.               \"materialBudynku_keramzyt\"  4.000000 ##\n",
            "   12.                         \"rokBudowy_corr\"  3.000000 #\n",
            "   13.        \"stanWykonczenia_do_wykończenia\"  3.000000 #\n",
            "   14. \"stanWykonczenia_stan_surowy_zamknięty\"  3.000000 #\n",
            "   15.               \"rodzajZabudowy_kamienica\"  2.000000 \n",
            "   16.                      \"stanWykonczenia_0\"  2.000000 \n",
            "   17.                         \"okna_drewniane\"  1.000000 \n",
            "   18.                        \"okna_plastikowe\"  1.000000 \n",
            "   19.                        \"rynek_pierwotny\"  1.000000 \n",
            "\n",
            "Variable Importance: NUM_NODES:\n",
            "    1.                      \"powierzchnia_corr\" 728.000000 ################\n",
            "    2.               \"powierzchniaDzialki_corr\" 649.000000 ##############\n",
            "    3.                         \"rokBudowy_corr\" 469.000000 ##########\n",
            "    4.                              \"locationY\" 409.000000 ########\n",
            "    5.                              \"locationX\" 382.000000 ########\n",
            "    6.                                 \"lPokoi\" 162.000000 ###\n",
            "    7.                            \"lPieter_crr\" 78.000000 #\n",
            "    8.           \"rodzajZabudowy_wolnostojący\" 57.000000 #\n",
            "    9.                 \"materialBudynku_cegła\" 49.000000 #\n",
            "   10.                      \"materialBudynku_0\" 46.000000 \n",
            "   11.                        \"okna_plastikowe\" 44.000000 \n",
            "   12.        \"stanWykonczenia_do_zamieszkania\" 38.000000 \n",
            "   13.                                 \"okna_0\" 37.000000 \n",
            "   14.                         \"okna_drewniane\" 37.000000 \n",
            "   15.                       \"rodzajZabudowy_0\" 35.000000 \n",
            "   16.                      \"stanWykonczenia_0\" 32.000000 \n",
            "   17.               \"rodzajZabudowy_bliźniak\" 29.000000 \n",
            "   18.        \"stanWykonczenia_do_wykończenia\" 28.000000 \n",
            "   19.                 \"materialBudynku_pustak\" 27.000000 \n",
            "   20.                   \"materialBudynku_inne\" 26.000000 \n",
            "   21.                        \"rynek_pierwotny\" 21.000000 \n",
            "   22.    \"stanWykonczenia_stan_surowy_otwarty\" 18.000000 \n",
            "   23.             \"stanWykonczenia_do_remontu\" 17.000000 \n",
            "   24.                        \"okna_aluminiowe\" 16.000000 \n",
            "   25.               \"rodzajZabudowy_kamienica\" 14.000000 \n",
            "   26.             \"rodzajZabudowy_szeregowiec\" 13.000000 \n",
            "   27. \"stanWykonczenia_stan_surowy_zamknięty\" 13.000000 \n",
            "   28.                          \"rynek_wtórny\" 12.000000 \n",
            "   29.                 \"materialBudynku_drewno\" 11.000000 \n",
            "   30.               \"materialBudynku_keramzyt\"  6.000000 \n",
            "   31.                \"materialBudynku_silikat\"  3.000000 \n",
            "   32.       \"materialBudynku_beton_komórkowy\"  2.000000 \n",
            "   33.           \"rodzajZabudowy_dworek/pałac\"  2.000000 \n",
            "\n",
            "Variable Importance: SUM_SCORE:\n",
            "    1.                              \"locationY\" 86.353473 ################\n",
            "    2.                              \"locationX\" 73.483870 #############\n",
            "    3.                      \"powierzchnia_corr\" 71.140310 #############\n",
            "    4.               \"powierzchniaDzialki_corr\" 64.473896 ###########\n",
            "    5.                         \"rokBudowy_corr\" 47.456750 ########\n",
            "    6.        \"stanWykonczenia_do_zamieszkania\" 13.280705 ##\n",
            "    7.                        \"okna_plastikowe\" 12.065653 ##\n",
            "    8.                                 \"lPokoi\" 10.385022 #\n",
            "    9.                            \"lPieter_crr\"  9.117126 #\n",
            "   10.           \"rodzajZabudowy_wolnostojący\"  6.244211 #\n",
            "   11.                      \"materialBudynku_0\"  4.240572 \n",
            "   12.                 \"materialBudynku_pustak\"  4.113465 \n",
            "   13.                        \"rynek_pierwotny\"  3.499041 \n",
            "   14.    \"stanWykonczenia_stan_surowy_otwarty\"  3.268319 \n",
            "   15.                         \"okna_drewniane\"  3.102281 \n",
            "   16.                 \"materialBudynku_cegła\"  3.038795 \n",
            "   17.               \"rodzajZabudowy_bliźniak\"  2.674617 \n",
            "   18.        \"stanWykonczenia_do_wykończenia\"  2.611208 \n",
            "   19.                                 \"okna_0\"  2.468150 \n",
            "   20.                      \"stanWykonczenia_0\"  1.987073 \n",
            "   21.                       \"rodzajZabudowy_0\"  1.619673 \n",
            "   22.                   \"materialBudynku_inne\"  1.145257 \n",
            "   23.               \"rodzajZabudowy_kamienica\"  1.141100 \n",
            "   24.                        \"okna_aluminiowe\"  1.115015 \n",
            "   25.                          \"rynek_wtórny\"  1.018226 \n",
            "   26.             \"stanWykonczenia_do_remontu\"  1.003021 \n",
            "   27.             \"rodzajZabudowy_szeregowiec\"  0.686969 \n",
            "   28.                 \"materialBudynku_drewno\"  0.552759 \n",
            "   29. \"stanWykonczenia_stan_surowy_zamknięty\"  0.475134 \n",
            "   30.           \"rodzajZabudowy_dworek/pałac\"  0.097216 \n",
            "   31.               \"materialBudynku_keramzyt\"  0.043989 \n",
            "   32.       \"materialBudynku_beton_komórkowy\"  0.037562 \n",
            "   33.                \"materialBudynku_silikat\"  0.024187 \n",
            "\n",
            "\n",
            "\n",
            "Loss: SQUARED_ERROR\n",
            "Validation loss value: 0.116495\n",
            "Number of trees per iteration: 1\n",
            "Node format: NOT_SET\n",
            "Number of trees: 117\n",
            "Total number of nodes: 7137\n",
            "\n",
            "Number of nodes by tree:\n",
            "Count: 117 Average: 61 StdDev: 0\n",
            "Min: 61 Max: 61 Ignored: 0\n",
            "----------------------------------------------\n",
            "[ 61, 61] 117 100.00% 100.00% ##########\n",
            "\n",
            "Depth by leafs:\n",
            "Count: 3627 Average: 7.16625 StdDev: 2.78861\n",
            "Min: 1 Max: 17 Ignored: 0\n",
            "----------------------------------------------\n",
            "[  1,  2)  54   1.49%   1.49% #\n",
            "[  2,  3)  92   2.54%   4.03% ##\n",
            "[  3,  4) 166   4.58%   8.60% ###\n",
            "[  4,  5) 275   7.58%  16.18% #####\n",
            "[  5,  6) 445  12.27%  28.45% ########\n",
            "[  6,  7) 535  14.75%  43.20% ##########\n",
            "[  7,  8) 474  13.07%  56.27% #########\n",
            "[  8,  9) 497  13.70%  69.98% #########\n",
            "[  9, 10) 394  10.86%  80.84% #######\n",
            "[ 10, 11) 263   7.25%  88.09% #####\n",
            "[ 11, 12) 174   4.80%  92.89% ###\n",
            "[ 12, 13) 121   3.34%  96.22% ##\n",
            "[ 13, 14)  65   1.79%  98.01% #\n",
            "[ 14, 15)  47   1.30%  99.31% #\n",
            "[ 15, 16)  20   0.55%  99.86%\n",
            "[ 16, 17)   3   0.08%  99.94%\n",
            "[ 17, 17]   2   0.06% 100.00%\n",
            "\n",
            "Number of training obs by leaf:\n",
            "Count: 3627 Average: 0 StdDev: 0\n",
            "Min: 0 Max: 0 Ignored: 0\n",
            "----------------------------------------------\n",
            "[ 0, 0] 3627 100.00% 100.00% ##########\n",
            "\n",
            "Attribute in nodes:\n",
            "\t728 : powierzchnia_corr [NUMERICAL]\n",
            "\t649 : powierzchniaDzialki_corr [NUMERICAL]\n",
            "\t469 : rokBudowy_corr [NUMERICAL]\n",
            "\t409 : locationY [NUMERICAL]\n",
            "\t382 : locationX [NUMERICAL]\n",
            "\t162 : lPokoi [NUMERICAL]\n",
            "\t78 : lPieter_crr [NUMERICAL]\n",
            "\t57 : rodzajZabudowy_wolnostojący [NUMERICAL]\n",
            "\t49 : materialBudynku_cegła [NUMERICAL]\n",
            "\t46 : materialBudynku_0 [NUMERICAL]\n",
            "\t44 : okna_plastikowe [NUMERICAL]\n",
            "\t38 : stanWykonczenia_do_zamieszkania [NUMERICAL]\n",
            "\t37 : okna_drewniane [NUMERICAL]\n",
            "\t37 : okna_0 [NUMERICAL]\n",
            "\t35 : rodzajZabudowy_0 [NUMERICAL]\n",
            "\t32 : stanWykonczenia_0 [NUMERICAL]\n",
            "\t29 : rodzajZabudowy_bliźniak [NUMERICAL]\n",
            "\t28 : stanWykonczenia_do_wykończenia [NUMERICAL]\n",
            "\t27 : materialBudynku_pustak [NUMERICAL]\n",
            "\t26 : materialBudynku_inne [NUMERICAL]\n",
            "\t21 : rynek_pierwotny [NUMERICAL]\n",
            "\t18 : stanWykonczenia_stan_surowy_otwarty [NUMERICAL]\n",
            "\t17 : stanWykonczenia_do_remontu [NUMERICAL]\n",
            "\t16 : okna_aluminiowe [NUMERICAL]\n",
            "\t14 : rodzajZabudowy_kamienica [NUMERICAL]\n",
            "\t13 : stanWykonczenia_stan_surowy_zamknięty [NUMERICAL]\n",
            "\t13 : rodzajZabudowy_szeregowiec [NUMERICAL]\n",
            "\t12 : rynek_wtórny [NUMERICAL]\n",
            "\t11 : materialBudynku_drewno [NUMERICAL]\n",
            "\t6 : materialBudynku_keramzyt [NUMERICAL]\n",
            "\t3 : materialBudynku_silikat [NUMERICAL]\n",
            "\t2 : rodzajZabudowy_dworek/pałac [NUMERICAL]\n",
            "\t2 : materialBudynku_beton_komórkowy [NUMERICAL]\n",
            "\n",
            "Attribute in nodes with depth <= 0:\n",
            "\t23 : locationX [NUMERICAL]\n",
            "\t17 : powierzchnia_corr [NUMERICAL]\n",
            "\t13 : stanWykonczenia_stan_surowy_otwarty [NUMERICAL]\n",
            "\t11 : locationY [NUMERICAL]\n",
            "\t6 : stanWykonczenia_do_zamieszkania [NUMERICAL]\n",
            "\t6 : powierzchniaDzialki_corr [NUMERICAL]\n",
            "\t6 : materialBudynku_pustak [NUMERICAL]\n",
            "\t6 : materialBudynku_inne [NUMERICAL]\n",
            "\t5 : stanWykonczenia_do_remontu [NUMERICAL]\n",
            "\t4 : materialBudynku_keramzyt [NUMERICAL]\n",
            "\t4 : lPokoi [NUMERICAL]\n",
            "\t3 : stanWykonczenia_stan_surowy_zamknięty [NUMERICAL]\n",
            "\t3 : stanWykonczenia_do_wykończenia [NUMERICAL]\n",
            "\t3 : rokBudowy_corr [NUMERICAL]\n",
            "\t2 : stanWykonczenia_0 [NUMERICAL]\n",
            "\t2 : rodzajZabudowy_kamienica [NUMERICAL]\n",
            "\t1 : rynek_pierwotny [NUMERICAL]\n",
            "\t1 : okna_plastikowe [NUMERICAL]\n",
            "\t1 : okna_drewniane [NUMERICAL]\n",
            "\n",
            "Attribute in nodes with depth <= 1:\n",
            "\t49 : powierzchnia_corr [NUMERICAL]\n",
            "\t46 : locationX [NUMERICAL]\n",
            "\t43 : locationY [NUMERICAL]\n",
            "\t29 : powierzchniaDzialki_corr [NUMERICAL]\n",
            "\t17 : stanWykonczenia_stan_surowy_otwarty [NUMERICAL]\n",
            "\t14 : rokBudowy_corr [NUMERICAL]\n",
            "\t12 : stanWykonczenia_do_zamieszkania [NUMERICAL]\n",
            "\t11 : lPokoi [NUMERICAL]\n",
            "\t10 : materialBudynku_inne [NUMERICAL]\n",
            "\t8 : materialBudynku_pustak [NUMERICAL]\n",
            "\t7 : okna_drewniane [NUMERICAL]\n",
            "\t6 : stanWykonczenia_do_wykończenia [NUMERICAL]\n",
            "\t6 : stanWykonczenia_do_remontu [NUMERICAL]\n",
            "\t6 : stanWykonczenia_0 [NUMERICAL]\n",
            "\t6 : rynek_pierwotny [NUMERICAL]\n",
            "\t5 : stanWykonczenia_stan_surowy_zamknięty [NUMERICAL]\n",
            "\t5 : okna_aluminiowe [NUMERICAL]\n",
            "\t4 : rodzajZabudowy_kamienica [NUMERICAL]\n",
            "\t4 : materialBudynku_keramzyt [NUMERICAL]\n",
            "\t3 : okna_plastikowe [NUMERICAL]\n",
            "\t2 : materialBudynku_cegła [NUMERICAL]\n",
            "\t1 : rynek_wtórny [NUMERICAL]\n",
            "\t1 : okna_0 [NUMERICAL]\n",
            "\t1 : materialBudynku_silikat [NUMERICAL]\n",
            "\t1 : lPieter_crr [NUMERICAL]\n",
            "\n",
            "Attribute in nodes with depth <= 2:\n",
            "\t86 : powierzchnia_corr [NUMERICAL]\n",
            "\t86 : locationY [NUMERICAL]\n",
            "\t85 : locationX [NUMERICAL]\n",
            "\t82 : powierzchniaDzialki_corr [NUMERICAL]\n",
            "\t52 : rokBudowy_corr [NUMERICAL]\n",
            "\t24 : lPokoi [NUMERICAL]\n",
            "\t17 : stanWykonczenia_stan_surowy_otwarty [NUMERICAL]\n",
            "\t15 : stanWykonczenia_do_zamieszkania [NUMERICAL]\n",
            "\t13 : materialBudynku_inne [NUMERICAL]\n",
            "\t10 : stanWykonczenia_do_wykończenia [NUMERICAL]\n",
            "\t9 : stanWykonczenia_do_remontu [NUMERICAL]\n",
            "\t9 : stanWykonczenia_0 [NUMERICAL]\n",
            "\t9 : okna_drewniane [NUMERICAL]\n",
            "\t9 : materialBudynku_pustak [NUMERICAL]\n",
            "\t8 : okna_plastikowe [NUMERICAL]\n",
            "\t6 : stanWykonczenia_stan_surowy_zamknięty [NUMERICAL]\n",
            "\t6 : rynek_pierwotny [NUMERICAL]\n",
            "\t6 : okna_aluminiowe [NUMERICAL]\n",
            "\t5 : materialBudynku_keramzyt [NUMERICAL]\n",
            "\t4 : rodzajZabudowy_kamienica [NUMERICAL]\n",
            "\t4 : rodzajZabudowy_0 [NUMERICAL]\n",
            "\t4 : materialBudynku_drewno [NUMERICAL]\n",
            "\t4 : lPieter_crr [NUMERICAL]\n",
            "\t3 : rodzajZabudowy_wolnostojący [NUMERICAL]\n",
            "\t3 : materialBudynku_cegła [NUMERICAL]\n",
            "\t2 : rynek_wtórny [NUMERICAL]\n",
            "\t1 : rodzajZabudowy_szeregowiec [NUMERICAL]\n",
            "\t1 : okna_0 [NUMERICAL]\n",
            "\t1 : materialBudynku_silikat [NUMERICAL]\n",
            "\t1 : materialBudynku_0 [NUMERICAL]\n",
            "\n",
            "Attribute in nodes with depth <= 3:\n",
            "\t173 : powierzchnia_corr [NUMERICAL]\n",
            "\t149 : powierzchniaDzialki_corr [NUMERICAL]\n",
            "\t136 : locationY [NUMERICAL]\n",
            "\t131 : locationX [NUMERICAL]\n",
            "\t101 : rokBudowy_corr [NUMERICAL]\n",
            "\t36 : lPokoi [NUMERICAL]\n",
            "\t20 : stanWykonczenia_do_zamieszkania [NUMERICAL]\n",
            "\t17 : stanWykonczenia_stan_surowy_otwarty [NUMERICAL]\n",
            "\t16 : materialBudynku_inne [NUMERICAL]\n",
            "\t13 : stanWykonczenia_do_wykończenia [NUMERICAL]\n",
            "\t13 : okna_plastikowe [NUMERICAL]\n",
            "\t12 : okna_drewniane [NUMERICAL]\n",
            "\t11 : stanWykonczenia_0 [NUMERICAL]\n",
            "\t10 : materialBudynku_pustak [NUMERICAL]\n",
            "\t10 : materialBudynku_cegła [NUMERICAL]\n",
            "\t9 : stanWykonczenia_do_remontu [NUMERICAL]\n",
            "\t9 : lPieter_crr [NUMERICAL]\n",
            "\t8 : stanWykonczenia_stan_surowy_zamknięty [NUMERICAL]\n",
            "\t7 : rynek_pierwotny [NUMERICAL]\n",
            "\t7 : rodzajZabudowy_0 [NUMERICAL]\n",
            "\t7 : okna_aluminiowe [NUMERICAL]\n",
            "\t6 : materialBudynku_keramzyt [NUMERICAL]\n",
            "\t5 : rodzajZabudowy_kamienica [NUMERICAL]\n",
            "\t5 : okna_0 [NUMERICAL]\n",
            "\t5 : materialBudynku_drewno [NUMERICAL]\n",
            "\t5 : materialBudynku_0 [NUMERICAL]\n",
            "\t4 : rynek_wtórny [NUMERICAL]\n",
            "\t4 : rodzajZabudowy_wolnostojący [NUMERICAL]\n",
            "\t2 : rodzajZabudowy_szeregowiec [NUMERICAL]\n",
            "\t2 : rodzajZabudowy_bliźniak [NUMERICAL]\n",
            "\t2 : materialBudynku_silikat [NUMERICAL]\n",
            "\n",
            "Attribute in nodes with depth <= 5:\n",
            "\t379 : powierzchnia_corr [NUMERICAL]\n",
            "\t335 : powierzchniaDzialki_corr [NUMERICAL]\n",
            "\t256 : locationY [NUMERICAL]\n",
            "\t243 : rokBudowy_corr [NUMERICAL]\n",
            "\t221 : locationX [NUMERICAL]\n",
            "\t75 : lPokoi [NUMERICAL]\n",
            "\t31 : lPieter_crr [NUMERICAL]\n",
            "\t26 : materialBudynku_cegła [NUMERICAL]\n",
            "\t25 : stanWykonczenia_do_zamieszkania [NUMERICAL]\n",
            "\t25 : okna_plastikowe [NUMERICAL]\n",
            "\t21 : okna_drewniane [NUMERICAL]\n",
            "\t21 : materialBudynku_inne [NUMERICAL]\n",
            "\t20 : stanWykonczenia_do_wykończenia [NUMERICAL]\n",
            "\t19 : stanWykonczenia_0 [NUMERICAL]\n",
            "\t18 : rodzajZabudowy_wolnostojący [NUMERICAL]\n",
            "\t18 : materialBudynku_0 [NUMERICAL]\n",
            "\t17 : stanWykonczenia_stan_surowy_otwarty [NUMERICAL]\n",
            "\t14 : rodzajZabudowy_0 [NUMERICAL]\n",
            "\t14 : materialBudynku_pustak [NUMERICAL]\n",
            "\t13 : rodzajZabudowy_bliźniak [NUMERICAL]\n",
            "\t12 : stanWykonczenia_do_remontu [NUMERICAL]\n",
            "\t12 : rynek_pierwotny [NUMERICAL]\n",
            "\t12 : okna_0 [NUMERICAL]\n",
            "\t10 : stanWykonczenia_stan_surowy_zamknięty [NUMERICAL]\n",
            "\t10 : okna_aluminiowe [NUMERICAL]\n",
            "\t9 : materialBudynku_drewno [NUMERICAL]\n",
            "\t7 : rynek_wtórny [NUMERICAL]\n",
            "\t7 : rodzajZabudowy_kamienica [NUMERICAL]\n",
            "\t6 : materialBudynku_keramzyt [NUMERICAL]\n",
            "\t4 : rodzajZabudowy_szeregowiec [NUMERICAL]\n",
            "\t3 : materialBudynku_silikat [NUMERICAL]\n",
            "\t2 : materialBudynku_beton_komórkowy [NUMERICAL]\n",
            "\n",
            "Condition type in nodes:\n",
            "\t3510 : HigherCondition\n",
            "Condition type in nodes with depth <= 0:\n",
            "\t117 : HigherCondition\n",
            "Condition type in nodes with depth <= 1:\n",
            "\t297 : HigherCondition\n",
            "Condition type in nodes with depth <= 2:\n",
            "\t565 : HigherCondition\n",
            "Condition type in nodes with depth <= 3:\n",
            "\t935 : HigherCondition\n",
            "Condition type in nodes with depth <= 5:\n",
            "\t1885 : HigherCondition\n",
            "\n"
          ],
          "name": "stdout"
        }
      ]
    }
  ]
}