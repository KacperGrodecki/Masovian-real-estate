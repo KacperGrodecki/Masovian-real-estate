{
  "nbformat": 4,
  "nbformat_minor": 0,
  "metadata": {
    "colab": {
      "name": "mazowieckie_colab_rysunki_mieszkania_i_analiza_wczytanie_pliku.ipynb",
      "provenance": [],
      "collapsed_sections": [],
      "authorship_tag": "ABX9TyO0E9mBI2aF8LZeiX911aKc",
      "include_colab_link": true
    },
    "kernelspec": {
      "name": "python3",
      "display_name": "Python 3"
    },
    "language_info": {
      "name": "python"
    }
  },
  "cells": [
    {
      "cell_type": "markdown",
      "metadata": {
        "id": "view-in-github",
        "colab_type": "text"
      },
      "source": [
        "<a href=\"https://colab.research.google.com/github/KacperGrodecki/nieruchomosci-mazowieckie/blob/0.0.4/mazowieckie_colab_rysunki_mieszkania_i_analiza_wczytanie_pliku.ipynb\" target=\"_parent\"><img src=\"https://colab.research.google.com/assets/colab-badge.svg\" alt=\"Open In Colab\"/></a>"
      ]
    },
    {
      "cell_type": "code",
      "metadata": {
        "id": "DoyxUX4T7Yoj",
        "colab": {
          "base_uri": "https://localhost:8080/"
        },
        "outputId": "f5df5140-276f-4384-9210-de33c2039a68"
      },
      "source": [
        "from sklearn.metrics import confusion_matrix\n",
        "from sklearn import svm\n",
        "import pandas as pd\n",
        "import numpy as np\n",
        "np.random.seed(7)\n",
        "from google.colab import drive\n",
        "import seaborn as sns\n",
        "drive.mount('/content/drive')\n",
        "import matplotlib.pyplot as plt\n",
        "import pandas as pd\n",
        "#from otoDomScraper import daneDomu\n",
        "#from random import randrange\n",
        "import numpy as np\n",
        "from sklearn.ensemble import RandomForestRegressor\n",
        "import matplotlib.pyplot as plt\n",
        "import seaborn as sns\n",
        "import re\n",
        "from sklearn.model_selection import GridSearchCV\n",
        "from sklearn.model_selection import train_test_split\n",
        "import statistics\n",
        "from sklearn.cluster import AffinityPropagation\n",
        "from sklearn.model_selection import cross_val_score, cross_val_predict\n",
        "from sklearn.decomposition import FastICA\n",
        "from sklearn import preprocessing\n",
        "from IPython.display import Javascript\n",
        "import requests\n",
        "from collections import OrderedDict\n",
        "import seaborn as sns\n",
        "from sklearn import preprocessing\n",
        "import cufflinks"
      ],
      "execution_count": 286,
      "outputs": [
        {
          "output_type": "stream",
          "name": "stdout",
          "text": [
            "Drive already mounted at /content/drive; to attempt to forcibly remount, call drive.mount(\"/content/drive\", force_remount=True).\n"
          ]
        }
      ]
    },
    {
      "cell_type": "code",
      "metadata": {
        "colab": {
          "base_uri": "https://localhost:8080/"
        },
        "id": "N1cijNwi6aYg",
        "outputId": "fafb5c09-7079-4d80-f0b2-c51b86fef4e4"
      },
      "source": [
        "pip install plotly==4.14.3"
      ],
      "execution_count": 287,
      "outputs": [
        {
          "output_type": "stream",
          "name": "stdout",
          "text": [
            "Requirement already satisfied: plotly==4.14.3 in /usr/local/lib/python3.7/dist-packages (4.14.3)\n",
            "Requirement already satisfied: six in /usr/local/lib/python3.7/dist-packages (from plotly==4.14.3) (1.15.0)\n",
            "Requirement already satisfied: retrying>=1.3.3 in /usr/local/lib/python3.7/dist-packages (from plotly==4.14.3) (1.3.3)\n"
          ]
        }
      ]
    },
    {
      "cell_type": "code",
      "metadata": {
        "colab": {
          "base_uri": "https://localhost:8080/"
        },
        "id": "ZlhZ620o7HQm",
        "outputId": "bb16a46e-7c82-46a5-f436-de94895cd0d1"
      },
      "source": [
        "pip install chart-studio"
      ],
      "execution_count": 288,
      "outputs": [
        {
          "output_type": "stream",
          "name": "stdout",
          "text": [
            "Requirement already satisfied: chart-studio in /usr/local/lib/python3.7/dist-packages (1.1.0)\n",
            "Requirement already satisfied: requests in /usr/local/lib/python3.7/dist-packages (from chart-studio) (2.23.0)\n",
            "Requirement already satisfied: retrying>=1.3.3 in /usr/local/lib/python3.7/dist-packages (from chart-studio) (1.3.3)\n",
            "Requirement already satisfied: plotly in /usr/local/lib/python3.7/dist-packages (from chart-studio) (4.14.3)\n",
            "Requirement already satisfied: six in /usr/local/lib/python3.7/dist-packages (from chart-studio) (1.15.0)\n",
            "Requirement already satisfied: chardet<4,>=3.0.2 in /usr/local/lib/python3.7/dist-packages (from requests->chart-studio) (3.0.4)\n",
            "Requirement already satisfied: urllib3!=1.25.0,!=1.25.1,<1.26,>=1.21.1 in /usr/local/lib/python3.7/dist-packages (from requests->chart-studio) (1.24.3)\n",
            "Requirement already satisfied: idna<3,>=2.5 in /usr/local/lib/python3.7/dist-packages (from requests->chart-studio) (2.10)\n",
            "Requirement already satisfied: certifi>=2017.4.17 in /usr/local/lib/python3.7/dist-packages (from requests->chart-studio) (2021.5.30)\n"
          ]
        }
      ]
    },
    {
      "cell_type": "code",
      "metadata": {
        "colab": {
          "base_uri": "https://localhost:8080/"
        },
        "id": "Fg4WpwR47KDE",
        "outputId": "0e9ede08-b4a7-48a0-cdcc-dfbc994fc7ec"
      },
      "source": [
        "pip install cufflinks plotly"
      ],
      "execution_count": 289,
      "outputs": [
        {
          "output_type": "stream",
          "name": "stdout",
          "text": [
            "Requirement already satisfied: cufflinks in /usr/local/lib/python3.7/dist-packages (0.17.3)\n",
            "Requirement already satisfied: plotly in /usr/local/lib/python3.7/dist-packages (4.14.3)\n",
            "Requirement already satisfied: ipywidgets>=7.0.0 in /usr/local/lib/python3.7/dist-packages (from cufflinks) (7.6.5)\n",
            "Requirement already satisfied: setuptools>=34.4.1 in /usr/local/lib/python3.7/dist-packages (from cufflinks) (57.4.0)\n",
            "Requirement already satisfied: pandas>=0.19.2 in /usr/local/lib/python3.7/dist-packages (from cufflinks) (1.1.5)\n",
            "Requirement already satisfied: six>=1.9.0 in /usr/local/lib/python3.7/dist-packages (from cufflinks) (1.15.0)\n",
            "Requirement already satisfied: colorlover>=0.2.1 in /usr/local/lib/python3.7/dist-packages (from cufflinks) (0.3.0)\n",
            "Requirement already satisfied: numpy>=1.9.2 in /usr/local/lib/python3.7/dist-packages (from cufflinks) (1.19.5)\n",
            "Requirement already satisfied: ipython>=5.3.0 in /usr/local/lib/python3.7/dist-packages (from cufflinks) (5.5.0)\n",
            "Requirement already satisfied: retrying>=1.3.3 in /usr/local/lib/python3.7/dist-packages (from plotly) (1.3.3)\n",
            "Requirement already satisfied: simplegeneric>0.8 in /usr/local/lib/python3.7/dist-packages (from ipython>=5.3.0->cufflinks) (0.8.1)\n",
            "Requirement already satisfied: prompt-toolkit<2.0.0,>=1.0.4 in /usr/local/lib/python3.7/dist-packages (from ipython>=5.3.0->cufflinks) (1.0.18)\n",
            "Requirement already satisfied: pexpect in /usr/local/lib/python3.7/dist-packages (from ipython>=5.3.0->cufflinks) (4.8.0)\n",
            "Requirement already satisfied: pickleshare in /usr/local/lib/python3.7/dist-packages (from ipython>=5.3.0->cufflinks) (0.7.5)\n",
            "Requirement already satisfied: decorator in /usr/local/lib/python3.7/dist-packages (from ipython>=5.3.0->cufflinks) (4.4.2)\n",
            "Requirement already satisfied: pygments in /usr/local/lib/python3.7/dist-packages (from ipython>=5.3.0->cufflinks) (2.6.1)\n",
            "Requirement already satisfied: traitlets>=4.2 in /usr/local/lib/python3.7/dist-packages (from ipython>=5.3.0->cufflinks) (5.1.0)\n",
            "Requirement already satisfied: widgetsnbextension~=3.5.0 in /usr/local/lib/python3.7/dist-packages (from ipywidgets>=7.0.0->cufflinks) (3.5.1)\n",
            "Requirement already satisfied: nbformat>=4.2.0 in /usr/local/lib/python3.7/dist-packages (from ipywidgets>=7.0.0->cufflinks) (5.1.3)\n",
            "Requirement already satisfied: ipykernel>=4.5.1 in /usr/local/lib/python3.7/dist-packages (from ipywidgets>=7.0.0->cufflinks) (4.10.1)\n",
            "Requirement already satisfied: ipython-genutils~=0.2.0 in /usr/local/lib/python3.7/dist-packages (from ipywidgets>=7.0.0->cufflinks) (0.2.0)\n",
            "Requirement already satisfied: jupyterlab-widgets>=1.0.0 in /usr/local/lib/python3.7/dist-packages (from ipywidgets>=7.0.0->cufflinks) (1.0.2)\n",
            "Requirement already satisfied: tornado>=4.0 in /usr/local/lib/python3.7/dist-packages (from ipykernel>=4.5.1->ipywidgets>=7.0.0->cufflinks) (5.1.1)\n",
            "Requirement already satisfied: jupyter-client in /usr/local/lib/python3.7/dist-packages (from ipykernel>=4.5.1->ipywidgets>=7.0.0->cufflinks) (5.3.5)\n",
            "Requirement already satisfied: jsonschema!=2.5.0,>=2.4 in /usr/local/lib/python3.7/dist-packages (from nbformat>=4.2.0->ipywidgets>=7.0.0->cufflinks) (2.6.0)\n",
            "Requirement already satisfied: jupyter-core in /usr/local/lib/python3.7/dist-packages (from nbformat>=4.2.0->ipywidgets>=7.0.0->cufflinks) (4.7.1)\n",
            "Requirement already satisfied: pytz>=2017.2 in /usr/local/lib/python3.7/dist-packages (from pandas>=0.19.2->cufflinks) (2018.9)\n",
            "Requirement already satisfied: python-dateutil>=2.7.3 in /usr/local/lib/python3.7/dist-packages (from pandas>=0.19.2->cufflinks) (2.8.2)\n",
            "Requirement already satisfied: wcwidth in /usr/local/lib/python3.7/dist-packages (from prompt-toolkit<2.0.0,>=1.0.4->ipython>=5.3.0->cufflinks) (0.2.5)\n",
            "Requirement already satisfied: notebook>=4.4.1 in /usr/local/lib/python3.7/dist-packages (from widgetsnbextension~=3.5.0->ipywidgets>=7.0.0->cufflinks) (5.3.1)\n",
            "Requirement already satisfied: jinja2 in /usr/local/lib/python3.7/dist-packages (from notebook>=4.4.1->widgetsnbextension~=3.5.0->ipywidgets>=7.0.0->cufflinks) (2.11.3)\n",
            "Requirement already satisfied: nbconvert in /usr/local/lib/python3.7/dist-packages (from notebook>=4.4.1->widgetsnbextension~=3.5.0->ipywidgets>=7.0.0->cufflinks) (5.6.1)\n",
            "Requirement already satisfied: Send2Trash in /usr/local/lib/python3.7/dist-packages (from notebook>=4.4.1->widgetsnbextension~=3.5.0->ipywidgets>=7.0.0->cufflinks) (1.8.0)\n",
            "Requirement already satisfied: terminado>=0.8.1 in /usr/local/lib/python3.7/dist-packages (from notebook>=4.4.1->widgetsnbextension~=3.5.0->ipywidgets>=7.0.0->cufflinks) (0.12.1)\n",
            "Requirement already satisfied: pyzmq>=13 in /usr/local/lib/python3.7/dist-packages (from jupyter-client->ipykernel>=4.5.1->ipywidgets>=7.0.0->cufflinks) (22.2.1)\n",
            "Requirement already satisfied: ptyprocess in /usr/local/lib/python3.7/dist-packages (from terminado>=0.8.1->notebook>=4.4.1->widgetsnbextension~=3.5.0->ipywidgets>=7.0.0->cufflinks) (0.7.0)\n",
            "Requirement already satisfied: MarkupSafe>=0.23 in /usr/local/lib/python3.7/dist-packages (from jinja2->notebook>=4.4.1->widgetsnbextension~=3.5.0->ipywidgets>=7.0.0->cufflinks) (2.0.1)\n",
            "Requirement already satisfied: defusedxml in /usr/local/lib/python3.7/dist-packages (from nbconvert->notebook>=4.4.1->widgetsnbextension~=3.5.0->ipywidgets>=7.0.0->cufflinks) (0.7.1)\n",
            "Requirement already satisfied: pandocfilters>=1.4.1 in /usr/local/lib/python3.7/dist-packages (from nbconvert->notebook>=4.4.1->widgetsnbextension~=3.5.0->ipywidgets>=7.0.0->cufflinks) (1.5.0)\n",
            "Requirement already satisfied: entrypoints>=0.2.2 in /usr/local/lib/python3.7/dist-packages (from nbconvert->notebook>=4.4.1->widgetsnbextension~=3.5.0->ipywidgets>=7.0.0->cufflinks) (0.3)\n",
            "Requirement already satisfied: testpath in /usr/local/lib/python3.7/dist-packages (from nbconvert->notebook>=4.4.1->widgetsnbextension~=3.5.0->ipywidgets>=7.0.0->cufflinks) (0.5.0)\n",
            "Requirement already satisfied: mistune<2,>=0.8.1 in /usr/local/lib/python3.7/dist-packages (from nbconvert->notebook>=4.4.1->widgetsnbextension~=3.5.0->ipywidgets>=7.0.0->cufflinks) (0.8.4)\n",
            "Requirement already satisfied: bleach in /usr/local/lib/python3.7/dist-packages (from nbconvert->notebook>=4.4.1->widgetsnbextension~=3.5.0->ipywidgets>=7.0.0->cufflinks) (4.1.0)\n",
            "Requirement already satisfied: webencodings in /usr/local/lib/python3.7/dist-packages (from bleach->nbconvert->notebook>=4.4.1->widgetsnbextension~=3.5.0->ipywidgets>=7.0.0->cufflinks) (0.5.1)\n",
            "Requirement already satisfied: packaging in /usr/local/lib/python3.7/dist-packages (from bleach->nbconvert->notebook>=4.4.1->widgetsnbextension~=3.5.0->ipywidgets>=7.0.0->cufflinks) (21.0)\n",
            "Requirement already satisfied: pyparsing>=2.0.2 in /usr/local/lib/python3.7/dist-packages (from packaging->bleach->nbconvert->notebook>=4.4.1->widgetsnbextension~=3.5.0->ipywidgets>=7.0.0->cufflinks) (2.4.7)\n"
          ]
        }
      ]
    },
    {
      "cell_type": "code",
      "metadata": {
        "colab": {
          "base_uri": "https://localhost:8080/",
          "height": 16
        },
        "id": "HBintaPl7FbL",
        "outputId": "c7e2309f-7efc-4084-ead6-f859ec87189d"
      },
      "source": [
        "from plotly.offline import iplot, init_notebook_mode\n",
        "\n",
        "cufflinks.go_offline(connected=True)\n",
        "init_notebook_mode(connected=True)\n",
        "import plotly.io as pio\n",
        "pio.renderers.default='notebook'\n",
        "import chart_studio.plotly as py\n",
        "import plotly.graph_objects as go\n",
        "import plotly.graph_objs as go\n",
        "from plotly import tools"
      ],
      "execution_count": 290,
      "outputs": [
        {
          "output_type": "display_data",
          "data": {
            "text/html": [
              "        <script type=\"text/javascript\">\n",
              "        window.PlotlyConfig = {MathJaxConfig: 'local'};\n",
              "        if (window.MathJax) {MathJax.Hub.Config({SVG: {font: \"STIX-Web\"}});}\n",
              "        if (typeof require !== 'undefined') {\n",
              "        require.undef(\"plotly\");\n",
              "        requirejs.config({\n",
              "            paths: {\n",
              "                'plotly': ['https://cdn.plot.ly/plotly-latest.min']\n",
              "            }\n",
              "        });\n",
              "        require(['plotly'], function(Plotly) {\n",
              "            window._Plotly = Plotly;\n",
              "        });\n",
              "        }\n",
              "        </script>\n",
              "        "
            ]
          },
          "metadata": {}
        },
        {
          "output_type": "display_data",
          "data": {
            "text/html": [
              "        <script type=\"text/javascript\">\n",
              "        window.PlotlyConfig = {MathJaxConfig: 'local'};\n",
              "        if (window.MathJax) {MathJax.Hub.Config({SVG: {font: \"STIX-Web\"}});}\n",
              "        if (typeof require !== 'undefined') {\n",
              "        require.undef(\"plotly\");\n",
              "        requirejs.config({\n",
              "            paths: {\n",
              "                'plotly': ['https://cdn.plot.ly/plotly-latest.min']\n",
              "            }\n",
              "        });\n",
              "        require(['plotly'], function(Plotly) {\n",
              "            window._Plotly = Plotly;\n",
              "        });\n",
              "        }\n",
              "        </script>\n",
              "        "
            ]
          },
          "metadata": {}
        }
      ]
    },
    {
      "cell_type": "code",
      "metadata": {
        "id": "2kssrVzJgHFK"
      },
      "source": [
        "filename='/content/drive/My Drive/domymazowieckie/dfMieszkania_analysis_final.csv'"
      ],
      "execution_count": 291,
      "outputs": []
    },
    {
      "cell_type": "code",
      "metadata": {
        "id": "UZWpjluqKkdW"
      },
      "source": [
        "final=pd.read_csv(filename,index_col=0)"
      ],
      "execution_count": 292,
      "outputs": []
    },
    {
      "cell_type": "code",
      "metadata": {
        "id": "6bpMJXbXgzGi",
        "colab": {
          "base_uri": "https://localhost:8080/",
          "height": 222
        },
        "outputId": "fb04880c-85cb-432c-a4fd-6d4b95ca5575"
      },
      "source": [
        "final.head()"
      ],
      "execution_count": 293,
      "outputs": [
        {
          "output_type": "execute_result",
          "data": {
            "text/html": [
              "<div>\n",
              "<style scoped>\n",
              "    .dataframe tbody tr th:only-of-type {\n",
              "        vertical-align: middle;\n",
              "    }\n",
              "\n",
              "    .dataframe tbody tr th {\n",
              "        vertical-align: top;\n",
              "    }\n",
              "\n",
              "    .dataframe thead th {\n",
              "        text-align: right;\n",
              "    }\n",
              "</style>\n",
              "<table border=\"1\" class=\"dataframe\">\n",
              "  <thead>\n",
              "    <tr style=\"text-align: right;\">\n",
              "      <th></th>\n",
              "      <th>lPokoi</th>\n",
              "      <th>rodzajZabudowy</th>\n",
              "      <th>materialBudynku</th>\n",
              "      <th>stanWykonczenia</th>\n",
              "      <th>okna</th>\n",
              "      <th>rynek</th>\n",
              "      <th>powierzchnia_corr</th>\n",
              "      <th>powierzchniaDzialki_corr</th>\n",
              "      <th>rokBudowy_corr</th>\n",
              "      <th>cena/m</th>\n",
              "      <th>lPieter_crr</th>\n",
              "      <th>locationX</th>\n",
              "      <th>locationY</th>\n",
              "    </tr>\n",
              "  </thead>\n",
              "  <tbody>\n",
              "    <tr>\n",
              "      <th>0</th>\n",
              "      <td>2</td>\n",
              "      <td>blok</td>\n",
              "      <td>inne</td>\n",
              "      <td>do zamieszkania</td>\n",
              "      <td>plastikowe</td>\n",
              "      <td>wtórny</td>\n",
              "      <td>59.70</td>\n",
              "      <td>NaN</td>\n",
              "      <td>2012</td>\n",
              "      <td>16566.164154</td>\n",
              "      <td>6</td>\n",
              "      <td>20.933889</td>\n",
              "      <td>52.288889</td>\n",
              "    </tr>\n",
              "    <tr>\n",
              "      <th>1</th>\n",
              "      <td>2</td>\n",
              "      <td>apartamentowiec</td>\n",
              "      <td>NaN</td>\n",
              "      <td>NaN</td>\n",
              "      <td>NaN</td>\n",
              "      <td>pierwotny</td>\n",
              "      <td>44.44</td>\n",
              "      <td>NaN</td>\n",
              "      <td>0</td>\n",
              "      <td>11300.000000</td>\n",
              "      <td>3</td>\n",
              "      <td>NaN</td>\n",
              "      <td>NaN</td>\n",
              "    </tr>\n",
              "    <tr>\n",
              "      <th>2</th>\n",
              "      <td>4</td>\n",
              "      <td>apartamentowiec</td>\n",
              "      <td>pustak</td>\n",
              "      <td>do zamieszkania</td>\n",
              "      <td>drewniane</td>\n",
              "      <td>wtórny</td>\n",
              "      <td>146.00</td>\n",
              "      <td>NaN</td>\n",
              "      <td>2004</td>\n",
              "      <td>24657.554795</td>\n",
              "      <td>4</td>\n",
              "      <td>21.016944</td>\n",
              "      <td>52.200000</td>\n",
              "    </tr>\n",
              "    <tr>\n",
              "      <th>3</th>\n",
              "      <td>4</td>\n",
              "      <td>NaN</td>\n",
              "      <td>NaN</td>\n",
              "      <td>NaN</td>\n",
              "      <td>NaN</td>\n",
              "      <td>pierwotny</td>\n",
              "      <td>91.00</td>\n",
              "      <td>NaN</td>\n",
              "      <td>2021</td>\n",
              "      <td>13571.439560</td>\n",
              "      <td>0</td>\n",
              "      <td>20.957222</td>\n",
              "      <td>52.233333</td>\n",
              "    </tr>\n",
              "    <tr>\n",
              "      <th>4</th>\n",
              "      <td>2</td>\n",
              "      <td>NaN</td>\n",
              "      <td>NaN</td>\n",
              "      <td>do zamieszkania</td>\n",
              "      <td>NaN</td>\n",
              "      <td>wtórny</td>\n",
              "      <td>38.00</td>\n",
              "      <td>NaN</td>\n",
              "      <td>1977</td>\n",
              "      <td>12763.157895</td>\n",
              "      <td>12</td>\n",
              "      <td>20.933889</td>\n",
              "      <td>52.288889</td>\n",
              "    </tr>\n",
              "  </tbody>\n",
              "</table>\n",
              "</div>"
            ],
            "text/plain": [
              "   lPokoi   rodzajZabudowy materialBudynku  ... lPieter_crr  locationX  locationY\n",
              "0       2             blok            inne  ...           6  20.933889  52.288889\n",
              "1       2  apartamentowiec             NaN  ...           3        NaN        NaN\n",
              "2       4  apartamentowiec          pustak  ...           4  21.016944  52.200000\n",
              "3       4              NaN             NaN  ...           0  20.957222  52.233333\n",
              "4       2              NaN             NaN  ...          12  20.933889  52.288889\n",
              "\n",
              "[5 rows x 13 columns]"
            ]
          },
          "metadata": {},
          "execution_count": 293
        }
      ]
    },
    {
      "cell_type": "markdown",
      "metadata": {
        "id": "4GbZVvrrvgI6"
      },
      "source": [
        "czyszczenie danych"
      ]
    },
    {
      "cell_type": "code",
      "metadata": {
        "id": "z9QsRuoB0CLD"
      },
      "source": [
        "final=final.drop(['powierzchniaDzialki_corr'],axis=1)"
      ],
      "execution_count": 294,
      "outputs": []
    },
    {
      "cell_type": "code",
      "metadata": {
        "id": "OmU9KXzYeDmG",
        "colab": {
          "base_uri": "https://localhost:8080/",
          "height": 393
        },
        "outputId": "4f4889b9-7408-45ad-87f0-d30f0816ab27"
      },
      "source": [
        "sns.boxplot(final[final['cena/m']<60000]['cena/m'])"
      ],
      "execution_count": 295,
      "outputs": [
        {
          "output_type": "stream",
          "name": "stderr",
          "text": [
            "/usr/local/lib/python3.7/dist-packages/seaborn/_decorators.py:43: FutureWarning:\n",
            "\n",
            "Pass the following variable as a keyword arg: x. From version 0.12, the only valid positional argument will be `data`, and passing other arguments without an explicit keyword will result in an error or misinterpretation.\n",
            "\n"
          ]
        },
        {
          "output_type": "execute_result",
          "data": {
            "text/plain": [
              "<matplotlib.axes._subplots.AxesSubplot at 0x7fd9cb29d4d0>"
            ]
          },
          "metadata": {},
          "execution_count": 295
        },
        {
          "output_type": "display_data",
          "data": {
            "image/png": "[encoded data removed]",
            "text/plain": [
              "<Figure size 432x288 with 1 Axes>"
            ]
          },
          "metadata": {}
        }
      ]
    },
    {
      "cell_type": "code",
      "metadata": {
        "id": "WqL4h7xIzDZk"
      },
      "source": [
        "final_plots=final[final['cena/m']<60000].copy()"
      ],
      "execution_count": 296,
      "outputs": []
    },
    {
      "cell_type": "code",
      "metadata": {
        "colab": {
          "base_uri": "https://localhost:8080/",
          "height": 393
        },
        "id": "7N-Kkq65zXhs",
        "outputId": "47100f3c-343e-47e2-bc83-5e3767891e6c"
      },
      "source": [
        "sns.boxplot(final_plots['powierzchnia_corr'])"
      ],
      "execution_count": 297,
      "outputs": [
        {
          "output_type": "stream",
          "name": "stderr",
          "text": [
            "/usr/local/lib/python3.7/dist-packages/seaborn/_decorators.py:43: FutureWarning:\n",
            "\n",
            "Pass the following variable as a keyword arg: x. From version 0.12, the only valid positional argument will be `data`, and passing other arguments without an explicit keyword will result in an error or misinterpretation.\n",
            "\n"
          ]
        },
        {
          "output_type": "execute_result",
          "data": {
            "text/plain": [
              "<matplotlib.axes._subplots.AxesSubplot at 0x7fd9cbbfb250>"
            ]
          },
          "metadata": {},
          "execution_count": 297
        },
        {
          "output_type": "display_data",
          "data": {
            "image/png": "[encoded data removed]",
            "text/plain": [
              "<Figure size 432x288 with 1 Axes>"
            ]
          },
          "metadata": {}
        }
      ]
    },
    {
      "cell_type": "code",
      "metadata": {
        "id": "BhtCkH_nza_r"
      },
      "source": [
        "final_plots=final_plots[final_plots['powierzchnia_corr']<1000]"
      ],
      "execution_count": 298,
      "outputs": []
    },
    {
      "cell_type": "code",
      "metadata": {
        "colab": {
          "base_uri": "https://localhost:8080/"
        },
        "id": "hLP9Sjy9v7EV",
        "outputId": "a76e12ca-025a-4036-90c6-97a3e7fea221"
      },
      "source": [
        "final_plots['materialBudynku'].unique()"
      ],
      "execution_count": 299,
      "outputs": [
        {
          "output_type": "execute_result",
          "data": {
            "text/plain": [
              "array(['inne', nan, 'pustak', 'wielka płyta', 'cegła', 'żelbet', 'beton',\n",
              "       'beton komórkowy', 'silikat', 'keramzyt', 'drewno'], dtype=object)"
            ]
          },
          "metadata": {},
          "execution_count": 299
        }
      ]
    },
    {
      "cell_type": "code",
      "metadata": {
        "colab": {
          "base_uri": "https://localhost:8080/",
          "height": 883
        },
        "id": "in-IiLEmv_jv",
        "outputId": "06cbccff-c9b1-483f-f17f-1c3b2c8384ae"
      },
      "source": [
        "fig, ax = plt.subplots(figsize=(15,15))\n",
        "ax=sns.histplot(data=final_plots, x=\"materialBudynku\")"
      ],
      "execution_count": 300,
      "outputs": [
        {
          "output_type": "display_data",
          "data": {
            "image/png": "[encoded data removed]",
            "text/plain": [
              "<Figure size 1080x1080 with 1 Axes>"
            ]
          },
          "metadata": {}
        }
      ]
    },
    {
      "cell_type": "code",
      "metadata": {
        "id": "yxVFL-OtwO8I"
      },
      "source": [
        "final_plots=final_plots[(final_plots['materialBudynku']!='keramzyt') | (final_plots['materialBudynku']!='drewno')]"
      ],
      "execution_count": 301,
      "outputs": []
    },
    {
      "cell_type": "code",
      "metadata": {
        "colab": {
          "base_uri": "https://localhost:8080/",
          "height": 883
        },
        "id": "AapPjyYmxcGs",
        "outputId": "3e468dd6-a944-42d9-e63b-3880ebb8efe5"
      },
      "source": [
        "fig, ax = plt.subplots(figsize=(15,15))\n",
        "ax=sns.histplot(data=final_plots, x=\"rodzajZabudowy\")"
      ],
      "execution_count": 302,
      "outputs": [
        {
          "output_type": "display_data",
          "data": {
            "image/png": "[encoded data removed]",
            "text/plain": [
              "<Figure size 1080x1080 with 1 Axes>"
            ]
          },
          "metadata": {}
        }
      ]
    },
    {
      "cell_type": "code",
      "metadata": {
        "id": "JSeKUQJgx_ND"
      },
      "source": [
        "final_plots=final_plots[(final_plots['rodzajZabudowy']!='loft')]\n",
        "final_plots=final_plots[(final_plots['rodzajZabudowy']!='plomba')]"
      ],
      "execution_count": 303,
      "outputs": []
    },
    {
      "cell_type": "code",
      "metadata": {
        "colab": {
          "base_uri": "https://localhost:8080/",
          "height": 883
        },
        "id": "aqJUa_sByUjl",
        "outputId": "66c1a481-e45f-41bb-d55b-e4712ddc1656"
      },
      "source": [
        "fig, ax = plt.subplots(figsize=(15,15))\n",
        "ax=sns.histplot(data=final_plots, x=\"rodzajZabudowy\")"
      ],
      "execution_count": 304,
      "outputs": [
        {
          "output_type": "display_data",
          "data": {
            "image/png": "[encoded data removed]",
            "text/plain": [
              "<Figure size 1080x1080 with 1 Axes>"
            ]
          },
          "metadata": {}
        }
      ]
    },
    {
      "cell_type": "code",
      "metadata": {
        "id": "FuUZK9RdJPNV",
        "outputId": "07af3c46-0251-4659-fd02-54a0d77437e6",
        "colab": {
          "base_uri": "https://localhost:8080/",
          "height": 883
        }
      },
      "source": [
        "fig, ax = plt.subplots(figsize=(15,15))\n",
        "ax=sns.histplot(data=final_plots, x=\"lPokoi\")"
      ],
      "execution_count": 334,
      "outputs": [
        {
          "output_type": "display_data",
          "data": {
            "image/png": "[encoded data removed]",
            "text/plain": [
              "<Figure size 1080x1080 with 1 Axes>"
            ]
          },
          "metadata": {}
        }
      ]
    },
    {
      "cell_type": "code",
      "metadata": {
        "colab": {
          "base_uri": "https://localhost:8080/",
          "height": 202
        },
        "id": "rhEEs7k30YcC",
        "outputId": "e797bd55-213c-4ed1-afc5-357073cc6d48"
      },
      "source": [
        "final_plots.head()"
      ],
      "execution_count": 305,
      "outputs": [
        {
          "output_type": "execute_result",
          "data": {
            "text/html": [
              "<div>\n",
              "<style scoped>\n",
              "    .dataframe tbody tr th:only-of-type {\n",
              "        vertical-align: middle;\n",
              "    }\n",
              "\n",
              "    .dataframe tbody tr th {\n",
              "        vertical-align: top;\n",
              "    }\n",
              "\n",
              "    .dataframe thead th {\n",
              "        text-align: right;\n",
              "    }\n",
              "</style>\n",
              "<table border=\"1\" class=\"dataframe\">\n",
              "  <thead>\n",
              "    <tr style=\"text-align: right;\">\n",
              "      <th></th>\n",
              "      <th>lPokoi</th>\n",
              "      <th>rodzajZabudowy</th>\n",
              "      <th>materialBudynku</th>\n",
              "      <th>stanWykonczenia</th>\n",
              "      <th>okna</th>\n",
              "      <th>rynek</th>\n",
              "      <th>powierzchnia_corr</th>\n",
              "      <th>rokBudowy_corr</th>\n",
              "      <th>cena/m</th>\n",
              "      <th>lPieter_crr</th>\n",
              "      <th>locationX</th>\n",
              "      <th>locationY</th>\n",
              "    </tr>\n",
              "  </thead>\n",
              "  <tbody>\n",
              "    <tr>\n",
              "      <th>0</th>\n",
              "      <td>2</td>\n",
              "      <td>blok</td>\n",
              "      <td>inne</td>\n",
              "      <td>do zamieszkania</td>\n",
              "      <td>plastikowe</td>\n",
              "      <td>wtórny</td>\n",
              "      <td>59.70</td>\n",
              "      <td>2012</td>\n",
              "      <td>16566.164154</td>\n",
              "      <td>6</td>\n",
              "      <td>20.933889</td>\n",
              "      <td>52.288889</td>\n",
              "    </tr>\n",
              "    <tr>\n",
              "      <th>1</th>\n",
              "      <td>2</td>\n",
              "      <td>apartamentowiec</td>\n",
              "      <td>NaN</td>\n",
              "      <td>NaN</td>\n",
              "      <td>NaN</td>\n",
              "      <td>pierwotny</td>\n",
              "      <td>44.44</td>\n",
              "      <td>0</td>\n",
              "      <td>11300.000000</td>\n",
              "      <td>3</td>\n",
              "      <td>NaN</td>\n",
              "      <td>NaN</td>\n",
              "    </tr>\n",
              "    <tr>\n",
              "      <th>2</th>\n",
              "      <td>4</td>\n",
              "      <td>apartamentowiec</td>\n",
              "      <td>pustak</td>\n",
              "      <td>do zamieszkania</td>\n",
              "      <td>drewniane</td>\n",
              "      <td>wtórny</td>\n",
              "      <td>146.00</td>\n",
              "      <td>2004</td>\n",
              "      <td>24657.554795</td>\n",
              "      <td>4</td>\n",
              "      <td>21.016944</td>\n",
              "      <td>52.200000</td>\n",
              "    </tr>\n",
              "    <tr>\n",
              "      <th>3</th>\n",
              "      <td>4</td>\n",
              "      <td>NaN</td>\n",
              "      <td>NaN</td>\n",
              "      <td>NaN</td>\n",
              "      <td>NaN</td>\n",
              "      <td>pierwotny</td>\n",
              "      <td>91.00</td>\n",
              "      <td>2021</td>\n",
              "      <td>13571.439560</td>\n",
              "      <td>0</td>\n",
              "      <td>20.957222</td>\n",
              "      <td>52.233333</td>\n",
              "    </tr>\n",
              "    <tr>\n",
              "      <th>4</th>\n",
              "      <td>2</td>\n",
              "      <td>NaN</td>\n",
              "      <td>NaN</td>\n",
              "      <td>do zamieszkania</td>\n",
              "      <td>NaN</td>\n",
              "      <td>wtórny</td>\n",
              "      <td>38.00</td>\n",
              "      <td>1977</td>\n",
              "      <td>12763.157895</td>\n",
              "      <td>12</td>\n",
              "      <td>20.933889</td>\n",
              "      <td>52.288889</td>\n",
              "    </tr>\n",
              "  </tbody>\n",
              "</table>\n",
              "</div>"
            ],
            "text/plain": [
              "   lPokoi   rodzajZabudowy materialBudynku  ... lPieter_crr  locationX  locationY\n",
              "0       2             blok            inne  ...           6  20.933889  52.288889\n",
              "1       2  apartamentowiec             NaN  ...           3        NaN        NaN\n",
              "2       4  apartamentowiec          pustak  ...           4  21.016944  52.200000\n",
              "3       4              NaN             NaN  ...           0  20.957222  52.233333\n",
              "4       2              NaN             NaN  ...          12  20.933889  52.288889\n",
              "\n",
              "[5 rows x 12 columns]"
            ]
          },
          "metadata": {},
          "execution_count": 305
        }
      ]
    },
    {
      "cell_type": "markdown",
      "metadata": {
        "id": "ghLEtDst0zvf"
      },
      "source": [
        "fillna"
      ]
    },
    {
      "cell_type": "code",
      "metadata": {
        "id": "5vEkaTWi0xxk"
      },
      "source": [
        "final_plots['materialBudynku']=final_plots['materialBudynku'].fillna('brak info')\n",
        "final_plots['rodzajZabudowy']=final_plots['rodzajZabudowy'].fillna('brak info')\n",
        "final_plots['stanWykonczenia']=final_plots['stanWykonczenia'].fillna('brak info')\n",
        "final_plots['okna']=final_plots['okna'].fillna('brak info')\n",
        "\n",
        "final_plots['locationX'].fillna(final_plots['locationX'].mean(),inplace=True)\n",
        "final_plots['locationY'].fillna(final_plots['locationY'].mean(),inplace=True)"
      ],
      "execution_count": 332,
      "outputs": []
    },
    {
      "cell_type": "code",
      "metadata": {
        "colab": {
          "base_uri": "https://localhost:8080/",
          "height": 202
        },
        "id": "i8_ogVQ11DF9",
        "outputId": "117ea63e-3dc4-469e-bb7e-72e4d29391a4"
      },
      "source": [
        "final_plots.head()"
      ],
      "execution_count": 333,
      "outputs": [
        {
          "output_type": "execute_result",
          "data": {
            "text/html": [
              "<div>\n",
              "<style scoped>\n",
              "    .dataframe tbody tr th:only-of-type {\n",
              "        vertical-align: middle;\n",
              "    }\n",
              "\n",
              "    .dataframe tbody tr th {\n",
              "        vertical-align: top;\n",
              "    }\n",
              "\n",
              "    .dataframe thead th {\n",
              "        text-align: right;\n",
              "    }\n",
              "</style>\n",
              "<table border=\"1\" class=\"dataframe\">\n",
              "  <thead>\n",
              "    <tr style=\"text-align: right;\">\n",
              "      <th></th>\n",
              "      <th>lPokoi</th>\n",
              "      <th>rodzajZabudowy</th>\n",
              "      <th>materialBudynku</th>\n",
              "      <th>stanWykonczenia</th>\n",
              "      <th>okna</th>\n",
              "      <th>rynek</th>\n",
              "      <th>powierzchnia_corr</th>\n",
              "      <th>rokBudowy_corr</th>\n",
              "      <th>cena/m</th>\n",
              "      <th>lPieter_crr</th>\n",
              "      <th>locationX</th>\n",
              "      <th>locationY</th>\n",
              "    </tr>\n",
              "  </thead>\n",
              "  <tbody>\n",
              "    <tr>\n",
              "      <th>0</th>\n",
              "      <td>2</td>\n",
              "      <td>blok</td>\n",
              "      <td>inne</td>\n",
              "      <td>do zamieszkania</td>\n",
              "      <td>plastikowe</td>\n",
              "      <td>wtórny</td>\n",
              "      <td>59.70</td>\n",
              "      <td>2012</td>\n",
              "      <td>16566.164154</td>\n",
              "      <td>6</td>\n",
              "      <td>20.933889</td>\n",
              "      <td>52.288889</td>\n",
              "    </tr>\n",
              "    <tr>\n",
              "      <th>1</th>\n",
              "      <td>2</td>\n",
              "      <td>apartamentowiec</td>\n",
              "      <td>brak info</td>\n",
              "      <td>brak info</td>\n",
              "      <td>brak info</td>\n",
              "      <td>pierwotny</td>\n",
              "      <td>44.44</td>\n",
              "      <td>0</td>\n",
              "      <td>11300.000000</td>\n",
              "      <td>3</td>\n",
              "      <td>21.005479</td>\n",
              "      <td>52.214376</td>\n",
              "    </tr>\n",
              "    <tr>\n",
              "      <th>2</th>\n",
              "      <td>4</td>\n",
              "      <td>apartamentowiec</td>\n",
              "      <td>pustak</td>\n",
              "      <td>do zamieszkania</td>\n",
              "      <td>drewniane</td>\n",
              "      <td>wtórny</td>\n",
              "      <td>146.00</td>\n",
              "      <td>2004</td>\n",
              "      <td>24657.554795</td>\n",
              "      <td>4</td>\n",
              "      <td>21.016944</td>\n",
              "      <td>52.200000</td>\n",
              "    </tr>\n",
              "    <tr>\n",
              "      <th>3</th>\n",
              "      <td>4</td>\n",
              "      <td>brak info</td>\n",
              "      <td>brak info</td>\n",
              "      <td>brak info</td>\n",
              "      <td>brak info</td>\n",
              "      <td>pierwotny</td>\n",
              "      <td>91.00</td>\n",
              "      <td>2021</td>\n",
              "      <td>13571.439560</td>\n",
              "      <td>0</td>\n",
              "      <td>20.957222</td>\n",
              "      <td>52.233333</td>\n",
              "    </tr>\n",
              "    <tr>\n",
              "      <th>4</th>\n",
              "      <td>2</td>\n",
              "      <td>brak info</td>\n",
              "      <td>brak info</td>\n",
              "      <td>do zamieszkania</td>\n",
              "      <td>brak info</td>\n",
              "      <td>wtórny</td>\n",
              "      <td>38.00</td>\n",
              "      <td>1977</td>\n",
              "      <td>12763.157895</td>\n",
              "      <td>12</td>\n",
              "      <td>20.933889</td>\n",
              "      <td>52.288889</td>\n",
              "    </tr>\n",
              "  </tbody>\n",
              "</table>\n",
              "</div>"
            ],
            "text/plain": [
              "   lPokoi   rodzajZabudowy materialBudynku  ... lPieter_crr  locationX  locationY\n",
              "0       2             blok            inne  ...           6  20.933889  52.288889\n",
              "1       2  apartamentowiec       brak info  ...           3  21.005479  52.214376\n",
              "2       4  apartamentowiec          pustak  ...           4  21.016944  52.200000\n",
              "3       4        brak info       brak info  ...           0  20.957222  52.233333\n",
              "4       2        brak info       brak info  ...          12  20.933889  52.288889\n",
              "\n",
              "[5 rows x 12 columns]"
            ]
          },
          "metadata": {},
          "execution_count": 333
        }
      ]
    },
    {
      "cell_type": "code",
      "metadata": {
        "id": "DzjqRy9sKkjh",
        "outputId": "7656f670-5232-400f-d0fc-8c4ee3f5bd78",
        "colab": {
          "base_uri": "https://localhost:8080/"
        }
      },
      "source": [
        "final_plots.isna().sum()"
      ],
      "execution_count": 335,
      "outputs": [
        {
          "output_type": "execute_result",
          "data": {
            "text/plain": [
              "lPokoi               0\n",
              "rodzajZabudowy       0\n",
              "materialBudynku      0\n",
              "stanWykonczenia      0\n",
              "okna                 0\n",
              "rynek                0\n",
              "powierzchnia_corr    0\n",
              "rokBudowy_corr       0\n",
              "cena/m               0\n",
              "lPieter_crr          0\n",
              "locationX            0\n",
              "locationY            0\n",
              "dtype: int64"
            ]
          },
          "metadata": {},
          "execution_count": 335
        }
      ]
    },
    {
      "cell_type": "markdown",
      "metadata": {
        "id": "_hiExizcvzcS"
      },
      "source": [
        "###############################################################################"
      ]
    },
    {
      "cell_type": "code",
      "metadata": {
        "id": "Ed_mrehAzkmO"
      },
      "source": [
        "dummies = pd.get_dummies(final_plots, columns=['rodzajZabudowy', 'materialBudynku', 'stanWykonczenia', 'okna', 'rynek'])"
      ],
      "execution_count": 308,
      "outputs": []
    },
    {
      "cell_type": "code",
      "metadata": {
        "colab": {
          "base_uri": "https://localhost:8080/"
        },
        "id": "igOTtbDBZOqo",
        "outputId": "cf5a8a33-c640-42e4-cc40-0d4ee3ae2104"
      },
      "source": [
        "print(final_plots[final_plots['rokBudowy_corr']==0].shape[0]/final_plots.shape[0])\n",
        "print(final_plots['materialBudynku'].isna().sum()/final_plots.shape[0])\n",
        "print(final_plots['rodzajZabudowy'].isna().sum()/final_plots.shape[0])"
      ],
      "execution_count": 309,
      "outputs": [
        {
          "output_type": "stream",
          "name": "stdout",
          "text": [
            "0.15456961766509916\n",
            "0.0\n",
            "0.0\n"
          ]
        }
      ]
    },
    {
      "cell_type": "code",
      "metadata": {
        "colab": {
          "base_uri": "https://localhost:8080/",
          "height": 883
        },
        "id": "voDqRAZrcA4s",
        "outputId": "2e361767-2f3e-4ae0-b086-270ac3fd9b7f"
      },
      "source": [
        "fig, ax = plt.subplots(figsize=(15,15))\n",
        "ax=sns.histplot(data=final_plots[(final_plots['materialBudynku']=='wielka płyta')&(final_plots['rokBudowy_corr']>1000)], x=\"rokBudowy_corr\")"
      ],
      "execution_count": 310,
      "outputs": [
        {
          "output_type": "display_data",
          "data": {
            "image/png": "[encoded data removed]",
            "text/plain": [
              "<Figure size 1080x1080 with 1 Axes>"
            ]
          },
          "metadata": {}
        }
      ]
    },
    {
      "cell_type": "code",
      "metadata": {
        "id": "pAAMbVXBlWLj"
      },
      "source": [
        "plyta=final_plots[final_plots['materialBudynku']=='wielka płyta']"
      ],
      "execution_count": 311,
      "outputs": []
    },
    {
      "cell_type": "code",
      "metadata": {
        "colab": {
          "base_uri": "https://localhost:8080/",
          "height": 285
        },
        "id": "LZQGS5HWllx4",
        "outputId": "9448c098-e7f1-4b53-c35e-b2902f92cedc"
      },
      "source": [
        "plyta.locationX.hist()\n",
        "final_plots.locationX.hist()"
      ],
      "execution_count": 312,
      "outputs": [
        {
          "output_type": "execute_result",
          "data": {
            "text/plain": [
              "<matplotlib.axes._subplots.AxesSubplot at 0x7fd9cbc60710>"
            ]
          },
          "metadata": {},
          "execution_count": 312
        },
        {
          "output_type": "display_data",
          "data": {
            "image/png": "[encoded data removed]",
            "text/plain": [
              "<Figure size 432x288 with 1 Axes>"
            ]
          },
          "metadata": {}
        }
      ]
    },
    {
      "cell_type": "code",
      "metadata": {
        "colab": {
          "base_uri": "https://localhost:8080/",
          "height": 286
        },
        "id": "6v18X78Il06w",
        "outputId": "33217a5b-6f49-48b7-c757-251c9653a85d"
      },
      "source": [
        "plyta.locationY.hist()"
      ],
      "execution_count": 313,
      "outputs": [
        {
          "output_type": "execute_result",
          "data": {
            "text/plain": [
              "<matplotlib.axes._subplots.AxesSubplot at 0x7fd9cb4324d0>"
            ]
          },
          "metadata": {},
          "execution_count": 313
        },
        {
          "output_type": "display_data",
          "data": {
            "image/png": "[encoded data removed]",
            "text/plain": [
              "<Figure size 432x288 with 1 Axes>"
            ]
          },
          "metadata": {}
        }
      ]
    },
    {
      "cell_type": "code",
      "metadata": {
        "id": "IfNy9XsSc1c7"
      },
      "source": [
        ""
      ],
      "execution_count": 313,
      "outputs": []
    },
    {
      "cell_type": "code",
      "metadata": {
        "id": "_galefJ8d5Ai"
      },
      "source": [
        "final_plots['materialBudynku']=final_plots['materialBudynku'].fillna('brak info')\n",
        "final_plots['rodzajZabudowy']=final_plots['rodzajZabudowy'].fillna('brak info')"
      ],
      "execution_count": 314,
      "outputs": []
    },
    {
      "cell_type": "code",
      "metadata": {
        "id": "hSlIw3udez1q",
        "colab": {
          "base_uri": "https://localhost:8080/"
        },
        "outputId": "a67af87e-5e43-415b-ee62-75189a681341"
      },
      "source": [
        "final_plots['materialBudynku'].unique()"
      ],
      "execution_count": 315,
      "outputs": [
        {
          "output_type": "execute_result",
          "data": {
            "text/plain": [
              "array(['inne', 'brak info', 'pustak', 'wielka płyta', 'cegła', 'żelbet',\n",
              "       'beton', 'beton komórkowy', 'silikat', 'keramzyt', 'drewno'],\n",
              "      dtype=object)"
            ]
          },
          "metadata": {},
          "execution_count": 315
        }
      ]
    },
    {
      "cell_type": "code",
      "metadata": {
        "id": "Qvjgxkd-dvQj",
        "colab": {
          "base_uri": "https://localhost:8080/",
          "height": 883
        },
        "outputId": "7a39fda7-69de-4c28-9247-51e66db4e6d7"
      },
      "source": [
        "fig, ax = plt.subplots(figsize=(15,15))\n",
        "ax=sns.histplot(data=final_plots[(final_plots['materialBudynku']=='brak info')&(final_plots['rokBudowy_corr']>1900)&(final_plots['rokBudowy_corr']<2022)], x=\"rokBudowy_corr\")"
      ],
      "execution_count": 316,
      "outputs": [
        {
          "output_type": "display_data",
          "data": {
            "image/png": "[encoded data removed]",
            "text/plain": [
              "<Figure size 1080x1080 with 1 Axes>"
            ]
          },
          "metadata": {}
        }
      ]
    },
    {
      "cell_type": "code",
      "metadata": {
        "id": "ujRwPInTbz4K"
      },
      "source": [
        "final_plots_wp=final_plots[(final_plots['rokBudowy_corr']>1960)&(final_plots['rokBudowy_corr']<1990)&(final_plots['rynek']=='wtórny')]\n",
        "final_plots_wp1=final_plots[(final_plots['rokBudowy_corr']==0)&(final_plots['rynek']=='wtórny')]"
      ],
      "execution_count": 317,
      "outputs": []
    },
    {
      "cell_type": "code",
      "metadata": {
        "id": "-lrKAuoGbyvL",
        "colab": {
          "base_uri": "https://localhost:8080/"
        },
        "outputId": "477450a3-6a0f-46c4-9e1e-3d0592940460"
      },
      "source": [
        "print(final_plots_wp[final_plots_wp['materialBudynku']=='brak info'].shape[0]/final_plots_wp.shape[0])\n",
        "print(final_plots_wp[final_plots_wp['rodzajZabudowy']=='brak info'].shape[0]/final_plots_wp.shape[0])\n",
        "print(final_plots_wp1[final_plots_wp1['materialBudynku']=='brak info'].shape[0]/final_plots_wp1.shape[0])\n",
        "print(final_plots_wp1[final_plots_wp1['rodzajZabudowy']=='brak info'].shape[0]/final_plots_wp1.shape[0])"
      ],
      "execution_count": 318,
      "outputs": [
        {
          "output_type": "stream",
          "name": "stdout",
          "text": [
            "0.334025974025974\n",
            "0.14025974025974025\n",
            "0.6606765327695561\n",
            "0.3086680761099366\n"
          ]
        }
      ]
    },
    {
      "cell_type": "code",
      "metadata": {
        "id": "YfNAJp8DBmKQ",
        "colab": {
          "base_uri": "https://localhost:8080/",
          "height": 883
        },
        "outputId": "33f289d0-700b-45a2-896a-53932c5231de"
      },
      "source": [
        "fig, ax = plt.subplots(figsize=(15,15))\n",
        "ax=sns.histplot(data=final_plots, x=\"materialBudynku\")"
      ],
      "execution_count": 319,
      "outputs": [
        {
          "output_type": "display_data",
          "data": {
            "image/png": "[encoded data removed]",
            "text/plain": [
              "<Figure size 1080x1080 with 1 Axes>"
            ]
          },
          "metadata": {}
        }
      ]
    },
    {
      "cell_type": "code",
      "metadata": {
        "id": "DOXwGSf0Bt7X",
        "colab": {
          "base_uri": "https://localhost:8080/",
          "height": 883
        },
        "outputId": "be7e3278-564d-4704-8fbb-72d54a017b15"
      },
      "source": [
        "fig, ax = plt.subplots(figsize=(15,15))\n",
        "ax=sns.histplot(data=final_plots, x=\"rodzajZabudowy\")"
      ],
      "execution_count": 320,
      "outputs": [
        {
          "output_type": "display_data",
          "data": {
            "image/png": "[encoded data removed]",
            "text/plain": [
              "<Figure size 1080x1080 with 1 Axes>"
            ]
          },
          "metadata": {}
        }
      ]
    },
    {
      "cell_type": "code",
      "metadata": {
        "id": "ENMDdEqjCn2g",
        "colab": {
          "base_uri": "https://localhost:8080/",
          "height": 1000
        },
        "outputId": "c2c9ab5e-d7ef-4309-fb1f-eebf56a13f14"
      },
      "source": [
        "fig, ax = plt.subplots(figsize=(20,20))\n",
        "sns.set(font_scale = 1.2)\n",
        "ax=sns.histplot(y='materialBudynku',x=\"rodzajZabudowy\",data=final_plots[final_plots['rynek']=='pierwotny'],\n",
        "                 cbar_kws=dict(shrink=.75),cbar=True,palette='cmap')\n",
        "ax.set(ylabel='materiał budynku', xlabel='rodzaj zabudowy')\n",
        "plt.show() "
      ],
      "execution_count": 321,
      "outputs": [
        {
          "output_type": "display_data",
          "data": {
            "image/png": "[encoded data removed]",
            "text/plain": [
              "<Figure size 1440x1440 with 2 Axes>"
            ]
          },
          "metadata": {}
        }
      ]
    },
    {
      "cell_type": "code",
      "metadata": {
        "id": "9D5wFGIoDCWr",
        "colab": {
          "base_uri": "https://localhost:8080/",
          "height": 886
        },
        "outputId": "8fa0aa00-599b-4504-f4ff-47657742b74e"
      },
      "source": [
        "fig, ax = plt.subplots(figsize=(20,15))\n",
        "ax=sns.histplot(y='materialBudynku',x=\"rodzajZabudowy\",data=final_plots[final_plots['rynek']=='wtórny'],\n",
        "                 cbar_kws=dict(shrink=.75),cbar=True,palette='cmap')\n",
        "ax.set(ylabel='materiał budynku', xlabel='rodzaj zabudowy')\n",
        "plt.show() "
      ],
      "execution_count": 322,
      "outputs": [
        {
          "output_type": "display_data",
          "data": {
            "image/png": "[encoded data removed]",
            "text/plain": [
              "<Figure size 1440x1080 with 2 Axes>"
            ]
          },
          "metadata": {}
        }
      ]
    },
    {
      "cell_type": "code",
      "metadata": {
        "id": "CSwtkpfwQu5I",
        "colab": {
          "base_uri": "https://localhost:8080/",
          "height": 614
        },
        "outputId": "642df62c-fa60-4da8-d060-90a79604c265"
      },
      "source": [
        "fig, ax = plt.subplots(figsize=(10,10))\n",
        "sns.set(font_scale = 1)\n",
        "ax=sns.histplot(x=\"rokBudowy_corr\", hue ='rynek', data=final_plots[(final_plots['rokBudowy_corr']>1920)&(final_plots['rokBudowy_corr']<2023)],multiple=\"stack\")\n",
        "ax.set(xlabel='rok budowy', ylabel='liczba ofert')\n",
        "plt.show()"
      ],
      "execution_count": 323,
      "outputs": [
        {
          "output_type": "display_data",
          "data": {
            "image/png": "[encoded data removed]",
            "text/plain": [
              "<Figure size 720x720 with 1 Axes>"
            ]
          },
          "metadata": {}
        }
      ]
    },
    {
      "cell_type": "code",
      "metadata": {
        "id": "NwLhBVMlSeFb",
        "colab": {
          "base_uri": "https://localhost:8080/",
          "height": 611
        },
        "outputId": "eb91bf96-af83-4c0b-9a8b-de1d74e60965"
      },
      "source": [
        "fig, ax = plt.subplots(figsize=(10,10))\n",
        "ax=sns.set(font_scale = 1)\n",
        "ax=sns.set_style(\"white\")\n",
        "ax=sns.histplot(x=\"rokBudowy_corr\", y=\"cena/m\", hue ='rynek', data=final_plots[(final_plots['rokBudowy_corr']>1920)&(final_plots['rokBudowy_corr']<2023)],palette=['black','green'])\n",
        "ax.set(xlabel='rok budowy', ylabel='cena/m')\n",
        "plt.show()"
      ],
      "execution_count": 324,
      "outputs": [
        {
          "output_type": "display_data",
          "data": {
            "image/png": "[encoded data removed]",
            "text/plain": [
              "<Figure size 720x720 with 1 Axes>"
            ]
          },
          "metadata": {}
        }
      ]
    },
    {
      "cell_type": "markdown",
      "metadata": {
        "id": "XftcKB11XH7t"
      },
      "source": [
        "modyfikacja rynku pierwotnego-jeśli jest inny niż 0 i mniejszy niż 2010 to musi być wtórny"
      ]
    },
    {
      "cell_type": "code",
      "metadata": {
        "id": "KR8szZs7XG7E"
      },
      "source": [
        "final_plots.loc[(final_plots['rokBudowy_corr']>5)&(final_plots['rokBudowy_corr']<2010),'rynek']='wtórny'"
      ],
      "execution_count": 325,
      "outputs": []
    },
    {
      "cell_type": "code",
      "metadata": {
        "id": "SQKdCjCDoU0w"
      },
      "source": [
        "df=pd.DataFrame()"
      ],
      "execution_count": 326,
      "outputs": []
    },
    {
      "cell_type": "code",
      "metadata": {
        "id": "VIac6Sp3moBu"
      },
      "source": [
        "final_plots1=final_plots[['powierzchnia_corr','cena/m']].copy()#'lPokoi','lPieter_crr',,'powierzchniaDzialki_corr','rokBudowy_corr',,'locationX','locationY'\n",
        "#df['lPokoi']=final_plots.loc[:,'lPokoi']/10\n",
        "df[\"powierzchnia_corr\"]=np.log(final_plots1[\"powierzchnia_corr\"])/3-1\n",
        "#df[\"powierzchniaDzialki_corr\"]=np.log(final_plots[\"powierzchniaDzialki_corr\"]+1)/14\n",
        "#df[\"rokBudowy_corr\"]=np.power(final_plots[\"rokBudowy_corr\"]-1899,4)/3e8\n",
        "df[\"cena/m\"]=final_plots1[\"cena/m\"]/20000\n",
        "#df[\"locationX\"]=(final_plots[\"locationX\"]-21)/4\n",
        "#df[\"locationY\"]=(final_plots[\"locationY\"]-52)/4\n",
        "#df['lPieter_crr']=final_plots.loc[:,'lPieter_crr']/10"
      ],
      "execution_count": 327,
      "outputs": []
    },
    {
      "cell_type": "code",
      "metadata": {
        "id": "sgf7ugsATA3V"
      },
      "source": [
        "#values=[]\n",
        "#for i in [2,3,4,5,6,7,8,9,10,11,12,13,14]:\n",
        "#  kmeans = KMeans(n_clusters=i, random_state=0).fit(df.values)\n",
        "#  values.append(kmeans.score(df.values))"
      ],
      "execution_count": 328,
      "outputs": []
    },
    {
      "cell_type": "code",
      "metadata": {
        "id": "RFTGRTRosh84"
      },
      "source": [
        "#kmeans = KMeans(n_clusters=6, random_state=0).fit(df.values)\n"
      ],
      "execution_count": 329,
      "outputs": []
    },
    {
      "cell_type": "code",
      "metadata": {
        "id": "wmz9K2HfTao3"
      },
      "source": [
        "#kmeans = KMeans(n_clusters=6, random_state=0).fit(df.values)\n",
        "#final_plots['kmean']=kmeans.predict(df.values)"
      ],
      "execution_count": 330,
      "outputs": []
    },
    {
      "cell_type": "code",
      "metadata": {
        "id": "eO8yolhmlBu9"
      },
      "source": [
        "final_plots['rokBudowy_corr'].fillna(0,inplace=True)\n",
        "final_plots['rokBudowy_corr1']=final_plots['rokBudowy_corr']\n",
        "final_plots.loc[final_plots['rokBudowy_corr']<1900,'rokBudowy_corr1']=1900\n",
        "final_plots.loc[final_plots['rokBudowy_corr']>2030,'rokBudowy_corr1']=2021"
      ],
      "execution_count": null,
      "outputs": []
    },
    {
      "cell_type": "code",
      "metadata": {
        "id": "8qxJ4b5xmAyw"
      },
      "source": [
        "final_plots['powierzchnia_cat']=(final_plots['powierzchnia_corr']/50).astype(int)*50\n",
        "final_plots['powierzchniaDzialki_cat']=(final_plots['powierzchniaDzialki_corr']/500).astype(int)*500\n",
        "final_plots['rokBudowy_cat']=(final_plots['rokBudowy_corr1']/10).astype(int)*10"
      ],
      "execution_count": null,
      "outputs": []
    },
    {
      "cell_type": "code",
      "metadata": {
        "id": "iN6C6H6kQl4A"
      },
      "source": [
        "final_plots['locationX_cat']=(final_plots['locationX']).astype(int)\n",
        "final_plots['locationY_cat']=(final_plots['locationY']).astype(int)"
      ],
      "execution_count": null,
      "outputs": []
    },
    {
      "cell_type": "code",
      "metadata": {
        "id": "8Uu4hVBLUCTv"
      },
      "source": [
        "sns.set(font_scale = 1)\n",
        "ax=sns.catplot(x=\"rokBudowy_cat\", y=\"cena/m\", hue ='rynek',kind=\"violin\", data=final_plots,height=10,split=True)\n",
        "ax.set(xlabel='rok budowy', ylabel='cena/m')\n",
        "plt.show()"
      ],
      "execution_count": null,
      "outputs": []
    },
    {
      "cell_type": "code",
      "metadata": {
        "id": "EA4WKnyOFw1Y"
      },
      "source": [
        "fig, ax = plt.subplots(figsize=(15,10))\n",
        "sns.set(font_scale = 1)\n",
        "ax=sns.histplot(x=\"rokBudowy_cat\", hue ='rynek', data=final_plots,multiple=\"stack\")\n",
        "ax.set(xlabel='rok budowy', ylabel='liczba ofert')\n",
        "plt.show()"
      ],
      "execution_count": null,
      "outputs": []
    },
    {
      "cell_type": "code",
      "metadata": {
        "id": "0-1L6UDHFTfe"
      },
      "source": [
        "fig, ax = plt.subplots(figsize=(10,10))\n",
        "sns.set(font_scale = 1)\n",
        "ax=sns.histplot(x=\"rokBudowy_corr\", y=\"cena/m\", hue ='rynek', data=final_plots[(final_plots['rokBudowy_corr']>1900)&(final_plots['rokBudowy_corr']<2030)])\n",
        "ax.set(xlabel='rok budowy', ylabel='cena/m')\n",
        "plt.show()"
      ],
      "execution_count": null,
      "outputs": []
    },
    {
      "cell_type": "code",
      "metadata": {
        "id": "aNjvy-4mAn7-"
      },
      "source": [
        "final_plots_logic=final_plots.copy()"
      ],
      "execution_count": null,
      "outputs": []
    },
    {
      "cell_type": "code",
      "metadata": {
        "id": "Wf9wqxeU_Laj"
      },
      "source": [
        "final_plots_logic.loc[(final_plots_logic['rynek']=='pierwotny') & (final_plots_logic['rokBudowy_corr']<2010),'rynek']='wtórny'"
      ],
      "execution_count": null,
      "outputs": []
    },
    {
      "cell_type": "code",
      "metadata": {
        "id": "npuw7x5VBQIW"
      },
      "source": [
        "sns.set(font_scale = 1)\n",
        "ax=sns.catplot(x=\"rokBudowy_cat\", y=\"cena/m\", hue ='rynek',kind=\"violin\", data=final_plots_logic[final_plots_logic['rokBudowy_corr']>1910],height=10,split=True)\n",
        "ax.set(xlabel='rok budowy', ylabel='cena/m')\n",
        "plt.show()"
      ],
      "execution_count": null,
      "outputs": []
    },
    {
      "cell_type": "code",
      "metadata": {
        "id": "O9Jq5xEO-RoR"
      },
      "source": [
        "fig, ax = plt.subplots(figsize=(10,10))\n",
        "ax=sns.histplot(data=final_plots_logic, x=\"rokBudowy_corr\",hue='materialBudynku',multiple=\"stack\",\n",
        "                palette=['white','black','red','green','yellow','blue','gray','navy','orange'])\n",
        "ax.set(xlabel='rok budowy', ylabel='liczba')"
      ],
      "execution_count": null,
      "outputs": []
    },
    {
      "cell_type": "code",
      "metadata": {
        "id": "DI4WGhZEUQ55"
      },
      "source": [
        "fig, ax = plt.subplots(figsize=(15,15))\n",
        "ax=sns.histplot(data=final_plots_logic, x=\"rokBudowy_corr\",hue='rodzajZabudowy',palette=['white','black','red','green','yellow','blue'],multiple=\"stack\")\n",
        "ax.set(xlabel='rok budowy', ylabel='liczba')"
      ],
      "execution_count": null,
      "outputs": []
    },
    {
      "cell_type": "code",
      "metadata": {
        "id": "oRGtwaaESeig"
      },
      "source": [
        "fig, ax = plt.subplots(figsize=(10,10))\n",
        "ax=sns.histplot(data=final_plots_logic[final_plots_logic['materialBudynku']=='wielka płyta'], x=\"rokBudowy_corr\",palette='gist_rainbow')\n",
        "ax.set(xlabel='rok budowy', ylabel='liczba')"
      ],
      "execution_count": null,
      "outputs": []
    },
    {
      "cell_type": "code",
      "metadata": {
        "id": "hEnJ_wM3NpsM"
      },
      "source": [
        "fig, ax = plt.subplots(figsize=(15,15))\n",
        "ax=sns.histplot(data=final_plots_logic, x=\"materialBudynku\")\n",
        "ax.set(xlabel='rok budowy', ylabel='liczba')"
      ],
      "execution_count": null,
      "outputs": []
    },
    {
      "cell_type": "code",
      "metadata": {
        "id": "wclZ4aKgiRGt"
      },
      "source": [
        "trace0 = go.Box(\n",
        "    x=final_plots[final_plots['rynek']=='wtórny'].loc[:,'rokBudowy_cat'],\n",
        "    y=final_plots.loc[:,'cena/m'],\n",
        "    name = 'rynek wtórny',\n",
        "    marker = dict(\n",
        "        color = 'red',\n",
        "    \n",
        "    )\n",
        ")\n",
        "trace1 = go.Box(\n",
        "    x=final_plots[final_plots['rynek']=='pierwotny'].loc[:,'rokBudowy_cat'],\n",
        "    y=final_plots.loc[:,'cena/m'],\n",
        "    name = 'rynek pierwotny',\n",
        "    marker = dict(\n",
        "        color = 'blue',\n",
        "    \n",
        "    )\n",
        ")\n",
        "layout = go.Layout(\n",
        "    title = \"Przykład\"\n",
        ")\n",
        "data = [trace0,trace1]\n",
        "fig = go.Figure(data=data,layout=layout)\n",
        "fig.show(renderer=\"colab\")"
      ],
      "execution_count": null,
      "outputs": []
    },
    {
      "cell_type": "markdown",
      "metadata": {
        "id": "yn2BP-yzg5M4"
      },
      "source": [
        "nieruchomości z lat 60-90 jako rynek pierwotny???"
      ]
    },
    {
      "cell_type": "markdown",
      "metadata": {
        "id": "-rG2Yd_6g-8Y"
      },
      "source": [
        "powierzchnia dzialki ok 0 i to ma sens"
      ]
    },
    {
      "cell_type": "code",
      "metadata": {
        "id": "3GkHsZIbTG5P"
      },
      "source": [
        "ax=sns.catplot(y=\"stanWykonczenia\", x=\"cena/m\", kind=\"violin\", data=final_plots_logic[final_plots_logic['stanWykonczenia']!='0'],height=10,hue='rynek',split=True)\n",
        "ax.set(ylabel='stan wykończenia', xlabel='cena/m')\n",
        "plt.show()"
      ],
      "execution_count": null,
      "outputs": []
    },
    {
      "cell_type": "code",
      "metadata": {
        "id": "4poz8zZDpMnX"
      },
      "source": [
        "ax=sns.catplot(y=\"materialBudynku\", x=\"cena/m\", kind=\"violin\", data=final_plots_logic[final_plots_logic['materialBudynku']!='0'],height=10,hue='rynek',split=True)#hue=\"kmean\"\n",
        "ax.set(ylabel='material budynku', xlabel='cena/m')\n",
        "plt.show()"
      ],
      "execution_count": null,
      "outputs": []
    },
    {
      "cell_type": "code",
      "metadata": {
        "id": "1kOu12Y8VF4M"
      },
      "source": [
        "ax=sns.catplot(y=\"rodzajZabudowy\", x=\"cena/m\",  kind=\"violin\", data=final_plots_logic[final_plots_logic['rodzajZabudowy']!='0'],height=10,hue='rynek',split=True)\n",
        "ax.set(ylabel='rodzaj zabudowy', xlabel='cena/m')\n",
        "plt.show()"
      ],
      "execution_count": null,
      "outputs": []
    },
    {
      "cell_type": "code",
      "metadata": {
        "id": "lU_yojkF764l"
      },
      "source": [
        "fig, ax = plt.subplots(figsize=(15,15))\n",
        "ax=sns.histplot(y='materialBudynku',x=\"rodzajZabudowy\",data=final_plots[(final_plots['rodzajZabudowy']!='0') \n",
        "&(final_plots['materialBudynku']!='0')&(final_plots['materialBudynku']!='0')],\n",
        "                 cbar_kws=dict(shrink=.75),cbar=True,palette='cmap')\n",
        "ax.set(ylabel='materiał budynku', xlabel='rodzaj zabudowy')\n",
        "plt.show() "
      ],
      "execution_count": null,
      "outputs": []
    },
    {
      "cell_type": "code",
      "metadata": {
        "id": "I4g18I4YNxyu"
      },
      "source": [
        "fig, ax = plt.subplots(figsize=(15,15))\n",
        "ax=sns.histplot(y='materialBudynku',x=\"rodzajZabudowy\",data=final_plots_logic[(final_plots_logic['rodzajZabudowy']!='0') \n",
        "&(final_plots_logic['materialBudynku']!='0')&(final_plots_logic['materialBudynku']!='0')],\n",
        "                 cbar_kws=dict(shrink=.75),cbar=True,palette='cmap')\n",
        "ax.set(ylabel='materiał budynku', xlabel='rodzaj zabudowy')\n",
        "plt.show() "
      ],
      "execution_count": null,
      "outputs": []
    },
    {
      "cell_type": "code",
      "metadata": {
        "id": "mS5aBlUPTVUY"
      },
      "source": [
        "final_plots_logic['cena/m_cat']=(final_plots_logic['cena/m']/2000).astype(int)*2000"
      ],
      "execution_count": null,
      "outputs": []
    },
    {
      "cell_type": "code",
      "metadata": {
        "id": "_kC-WoPiSt5O"
      },
      "source": [
        "fig, ax = plt.subplots(figsize=(15,15))\n",
        "ax=sns.histplot(y='materialBudynku',x=\"rodzajZabudowy\",data=final_plots[(final_plots_logic['rodzajZabudowy']!='0') &(final_plots_logic['materialBudynku']!='inne') &(final_plots_logic['materialBudynku']!='0')],\n",
        "                 hue='cena/m_cat',palette='gist_rainbow')\n",
        "ax.set(ylabel='materiał budynku', xlabel='rodzaj zabudowy')\n",
        "plt.show() "
      ],
      "execution_count": null,
      "outputs": []
    },
    {
      "cell_type": "code",
      "metadata": {
        "id": "t3zB4qBB6klb"
      },
      "source": [
        "fig, ax = plt.subplots(figsize=(15,15))\n",
        "ax=sns.histplot(y='materialBudynku',x=\"rodzajZabudowy\",data=final_plots_logic[(final_plots_logic['rodzajZabudowy']!='0') &(final_plots_logic['materialBudynku']!='inne') \n",
        "&(final_plots_logic['materialBudynku']!='0')&(final_plots_logic['rynek']=='pierwotny')],\n",
        "                 hue='cena/m_cat',palette='gist_rainbow')\n",
        "ax.set(ylabel='materiał budynku', xlabel='rodzaj zabudowy')\n",
        "plt.show() "
      ],
      "execution_count": null,
      "outputs": []
    },
    {
      "cell_type": "code",
      "metadata": {
        "id": "ynobCzOG7G2b"
      },
      "source": [
        "fig, ax = plt.subplots(figsize=(15,15))\n",
        "ax=sns.histplot(y='materialBudynku',x=\"rodzajZabudowy\",data=final_plots_logic[(final_plots_logic['rodzajZabudowy']!='0') &(final_plots_logic['materialBudynku']!='inne') \n",
        "&(final_plots_logic['materialBudynku']!='0')&(final_plots_logic['rynek']=='wtórny')],\n",
        "                 hue='cena/m_cat',palette='gist_rainbow')\n",
        "ax.set(ylabel='materiał budynku', xlabel='rodzaj zabudowy')\n",
        "plt.show() "
      ],
      "execution_count": null,
      "outputs": []
    }
  ]
}